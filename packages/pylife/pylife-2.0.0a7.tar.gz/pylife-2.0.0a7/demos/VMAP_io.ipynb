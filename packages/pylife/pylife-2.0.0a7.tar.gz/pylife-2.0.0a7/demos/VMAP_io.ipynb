{
 "cells": [
  {
   "cell_type": "markdown",
   "metadata": {},
   "source": [
    "# VMAP IO Demo\n",
    "\n",
    "This demo shows the stress gradient calculation module. A gradient is calculated by fitting a plane into a node and its neighbor nodes of an FEM mesh.\n",
    "\n",
    "See [documentation](https://pylife.readthedocs.io/en/latest/mesh/gradient.html) for details on the module."
   ]
  },
  {
   "cell_type": "code",
   "execution_count": null,
   "metadata": {},
   "outputs": [],
   "source": [
    "import numpy as np\n",
    "import pandas as pd\n",
    "import pylife.vmap\n",
    "import pylife.mesh.meshsignal\n",
    "import pylife.stress.equistress\n",
    "import pyvista as pv\n",
    "\n",
    "pv.set_plot_theme('document')\n",
    "pv.set_jupyter_backend('panel')"
   ]
  },
  {
   "cell_type": "markdown",
   "metadata": {},
   "source": [
    "Read in demo data and add the stress tensor dimensions for the third dimension."
   ]
  },
  {
   "cell_type": "code",
   "execution_count": null,
   "metadata": {},
   "outputs": [],
   "source": [
    "vm_mesh = pylife.vmap.VMAPImport(\"plate_with_hole.vmap\")"
   ]
  },
  {
   "cell_type": "code",
   "execution_count": null,
   "metadata": {},
   "outputs": [],
   "source": [
    "pyLife_mesh = (vm_mesh.make_mesh('1', 'STATE-2')\n",
    "               .join_coordinates()\n",
    "               .join_variable('STRESS_CAUCHY')\n",
    "               .join_variable('DISPLACEMENT')\n",
    "               .to_frame())\n",
    "pyLife_mesh.sample(10)"
   ]
  },
  {
   "cell_type": "code",
   "execution_count": null,
   "metadata": {},
   "outputs": [],
   "source": [
    "pyLife_mesh['mises'] = pyLife_mesh.equistress.mises()"
   ]
  },
  {
   "cell_type": "markdown",
   "metadata": {},
   "source": [
    "## Plotting the structure using pyVista"
   ]
  },
  {
   "cell_type": "code",
   "execution_count": null,
   "metadata": {},
   "outputs": [],
   "source": [
    "grid = pv.UnstructuredGrid(*pyLife_mesh.mesh.vtk_data())\n",
    "plotter = pv.Plotter(window_size=[1920, 1080])\n",
    "plotter.add_mesh(grid, scalars=pyLife_mesh.groupby('element_id')['mises'].mean().to_numpy(),\n",
    "                show_edges=True, cmap='jet')\n",
    "plotter.add_scalar_bar()\n",
    "plotter.show()"
   ]
  },
  {
   "cell_type": "code",
   "execution_count": null,
   "metadata": {},
   "outputs": [],
   "source": []
  }
 ],
 "metadata": {
  "kernelspec": {
   "display_name": "Python 3",
   "language": "python",
   "name": "python3"
  },
  "language_info": {
   "codemirror_mode": {
    "name": "ipython",
    "version": 3
   },
   "file_extension": ".py",
   "mimetype": "text/x-python",
   "name": "python",
   "nbconvert_exporter": "python",
   "pygments_lexer": "ipython3"
  },
  "name": "VMAP_io.ipynb"
 },
 "nbformat": 4,
 "nbformat_minor": 4
}
