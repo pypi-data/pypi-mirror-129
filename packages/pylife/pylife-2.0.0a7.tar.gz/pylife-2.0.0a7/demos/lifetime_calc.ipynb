{
 "cells": [
  {
   "cell_type": "markdown",
   "metadata": {},
   "source": [
    "# Life time Calculation \n",
    "\n",
    "This Notebook shows a general calculation stream for a nominal and local stress reliability approach.\n",
    "\n",
    "#### Stress derivation #####\n",
    "First we read in different time signals (coming from a test bench or a vehicle measurement e.g.).\n",
    "\n",
    "1. Import the time series into a pandas Data Frame\n",
    "2. Resample the time series if necessary\n",
    "3. Filter the time series with a bandpass filter if necessary\n",
    "4. Edititing time series using Running Statistics methods\n",
    "5. Rainflow Calculation\n",
    "6. Mean stress correction\n",
    "7. Multiplication with repeating factor of every manoveur\n",
    "\n",
    "#### Damage Calculation ####\n",
    "1. Select the damage calculation method (Miner elementary, Miner-Haibach, ...)\n",
    "2. Calculate the damage for every load level and the damage sum\n",
    "3. Calculate the failure probability with or w/o field scatter\n",
    "\n",
    "#### Local stress approach ####\n",
    "1. Load the FE mesh\n",
    "2. Apply the load history to the FE mesh\n",
    "3. Calculate the damage\n"
   ]
  },
  {
   "cell_type": "code",
   "execution_count": null,
   "metadata": {},
   "outputs": [],
   "source": [
    "import numpy as np\n",
    "import pandas as pd\n",
    "\n",
    "from pylife.stress.histogram import *\n",
    "import pylife.stress.timesignal as ts\n",
    "from pylife.stress.rainflow import *\n",
    "import pylife.stress.equistress\n",
    "\n",
    "import pylife.stress.rainflow\n",
    "import pylife.strength.meanstress\n",
    "import pylife.strength.fatigue\n",
    "\n",
    "import pylife.mesh.meshsignal\n",
    "\n",
    "from pylife.strength import failure_probability as fp\n",
    "import pylife.vmap\n",
    "\n",
    "import pyvista as pv\n",
    "\n",
    "import matplotlib.pyplot as plt\n",
    "from mpl_toolkits.mplot3d import Axes3D\n",
    "from matplotlib import cm\n",
    "import matplotlib as mpl\n",
    "\n",
    "from scipy.stats import norm\n",
    "\n",
    "\n",
    "# mpl.style.use('seaborn')\n",
    "# mpl.style.use('seaborn-notebook')\n",
    "mpl.style.use('bmh')\n",
    "%matplotlib inline\n",
    "\n",
    "pv.set_plot_theme('document')\n",
    "pv.set_jupyter_backend('panel')"
   ]
  },
  {
   "cell_type": "markdown",
   "metadata": {},
   "source": [
    "### Time series signal ###\n",
    "import, filtering and so on. You can import your own signal with\n",
    "\n",
    "* [pd.read_csv()](https://pandas.pydata.org/pandas-docs/stable/reference/api/pandas.read_csv.html)\n",
    "* [pd.read_excel()](https://pandas.pydata.org/pandas-docs/stable/reference/api/pandas.read_excel.html)\n",
    "* [scipy.io.loadmat()](https://docs.scipy.org/doc/scipy/reference/generated/scipy.io.loadmat.html) for matlab files \n",
    "\n",
    "and so on"
   ]
  },
  {
   "cell_type": "code",
   "execution_count": null,
   "metadata": {},
   "outputs": [],
   "source": [
    "np.random.seed(4711)\n",
    "t = np.linspace(0,60,60*2048)\n",
    "\n",
    "signals = {\n",
    "    'wn': pd.DataFrame(index = t, columns = ['sensor_1'], data = 240*np.random.randn(len(t))),\n",
    "    'sine': pd.DataFrame(index = t, columns = ['sensor_1'], data = 160*np.sin(2*np.pi*50*t))\n",
    "}"
   ]
  },
  {
   "cell_type": "markdown",
   "metadata": {},
   "source": [
    "### Resampling ###"
   ]
  },
  {
   "cell_type": "code",
   "execution_count": null,
   "metadata": {},
   "outputs": [],
   "source": [
    "resampling_freq = 1024"
   ]
  },
  {
   "cell_type": "code",
   "execution_count": null,
   "metadata": {},
   "outputs": [],
   "source": [
    "meas_resample = {k: ts.TimeSignalPrep(signal).resample_acc(resampling_freq) for k, signal in signals.items()}"
   ]
  },
  {
   "cell_type": "code",
   "execution_count": null,
   "metadata": {},
   "outputs": [],
   "source": [
    "fig, ax = plt.subplots(len(meas_resample))\n",
    "fig.suptitle('Resampled input data')\n",
    "for ax, (key, signal) in zip(ax, meas_resample.items()):\n",
    "    ax.plot(signal.index, signal)"
   ]
  },
  {
   "cell_type": "markdown",
   "metadata": {},
   "source": [
    "### Filtering "
   ]
  },
  {
   "cell_type": "code",
   "execution_count": null,
   "metadata": {},
   "outputs": [],
   "source": [
    "f_min = 5.0  # Hz\n",
    "f_max = 100.0  #Hz"
   ]
  },
  {
   "cell_type": "code",
   "execution_count": null,
   "metadata": {},
   "outputs": [],
   "source": [
    "bandpass = {}\n",
    "for k, df_act in meas_resample.items():\n",
    "    bandpassDF = pd.DataFrame(index = df_act.index)\n",
    "    for col_act in df_act.columns:\n",
    "        bandpassDF[col_act] = ts.TimeSignalPrep(df_act[col_act]).butter_bandpass(f_min, f_max, resampling_freq, 5)\n",
    "    bandpass[k] = bandpassDF\n",
    "    \n",
    "display(bandpassDF)"
   ]
  },
  {
   "cell_type": "markdown",
   "metadata": {},
   "source": [
    "### Running statistics"
   ]
  },
  {
   "cell_type": "code",
   "execution_count": null,
   "metadata": {},
   "outputs": [],
   "source": [
    "statistics_method = 'rms'  # alternatively 'max', 'min', 'abs'\n",
    "\n",
    "run_statt = 'window_length' # alternatively 'buffer_overlap', 'limit'\n",
    "\n",
    "window_length = 800\n",
    "buffer_overlap = 0.1\n",
    "limit = 0.15"
   ]
  },
  {
   "cell_type": "code",
   "execution_count": null,
   "metadata": {},
   "outputs": [],
   "source": [
    "\"\"\" Running statistics to drop out zero values \"\"\"\n",
    "cleaned = {}\n",
    "for k, df_act in bandpass.items():\n",
    "    cleaned_df = ts.TimeSignalPrep(df_act).running_stats_filt(\n",
    "                            col=\"sensor_1\",\n",
    "                            window_length=window_length,\n",
    "                            buffer_overlap=buffer_overlap,\n",
    "                            limit=limit,\n",
    "                            method=statistics_method)\n",
    "    cleaned[k] = cleaned_df"
   ]
  },
  {
   "cell_type": "code",
   "execution_count": null,
   "metadata": {},
   "outputs": [],
   "source": [
    "fig, ax = plt.subplots(len(meas_resample))\n",
    "fig.suptitle('Cleaned input data')\n",
    "for ax, (k, df_act) in zip(ax, cleaned.items()):\n",
    "    ax.plot(df_act.index, df_act['sensor_1'])"
   ]
  },
  {
   "cell_type": "markdown",
   "metadata": {},
   "source": [
    "### Rainflow ###"
   ]
  },
  {
   "cell_type": "code",
   "execution_count": null,
   "metadata": {},
   "outputs": [],
   "source": [
    "rainflow_bins = 64"
   ]
  },
  {
   "cell_type": "code",
   "execution_count": null,
   "metadata": {},
   "outputs": [],
   "source": [
    "rainflow = {}\n",
    "for k, df_act in cleaned.items():\n",
    "    rfc = RainflowCounterFKM().process(df_act['sensor_1'].values)\n",
    "    rfm = rfc.get_rainflow_matrix_frame(rainflow_bins).loc[:, 0]\n",
    "    rainflow[k] = rfm"
   ]
  },
  {
   "cell_type": "code",
   "execution_count": null,
   "metadata": {
    "scrolled": true
   },
   "outputs": [],
   "source": [
    "colormap = cm.ScalarMappable()\n",
    "cmap = cm.get_cmap('PuRd')\n",
    "# fig, ax = plt.subplots(2,len(rainflow))\n",
    "fig = plt.figure(figsize = (8,11))\n",
    "fig.suptitle('Rainflow of Channel sensor_1')\n",
    "\n",
    "for i, (k, rf_act) in enumerate(rainflow.items()):\n",
    "    # 2D\n",
    "    ax = fig.add_subplot(3,2,2*(i+1)-1)\n",
    "    froms = rf_act.index.get_level_values('from').mid\n",
    "    tos = rf_act.index.get_level_values('to').mid\n",
    "    counts = np.flipud((rf_act.values.reshape(rf_act.index.levshape).T))#.ravel()\n",
    "    ax.set_xlabel('From')\n",
    "    ax.set_ylabel('To')\n",
    "    ax.imshow(np.log10(counts), extent=[froms.min(), froms.max(), tos.min(), tos.max()])\n",
    "    # 3D\n",
    "    ax = fig.add_subplot(3,2,2*(i+1), projection='3d')\n",
    "    bottom = np.zeros_like(counts.ravel())\n",
    "    width = rf_act.index.get_level_values('from').length.min()\n",
    "    depth = rf_act.index.get_level_values('to').length.min()\n",
    "    max_height = np.max(counts.ravel())   # get range of colorbars\n",
    "    min_height = np.min(counts.ravel())\n",
    "    rgba = [cmap((k-min_height)/max_height) for k in counts.ravel()] \n",
    "    ax.set_xlabel('From')\n",
    "    ax.set_ylabel('To')\n",
    "    ax.set_zlabel('Count')\n",
    "    ax.bar3d(froms.ravel(), tos.ravel(), bottom, width, depth, counts.ravel(), shade=True, color=rgba, zsort='average')"
   ]
  },
  {
   "cell_type": "markdown",
   "metadata": {},
   "source": [
    "### Meanstress transformation ###"
   ]
  },
  {
   "cell_type": "code",
   "execution_count": null,
   "metadata": {},
   "outputs": [],
   "source": [
    "meanstress_sensitivity = pd.Series({\n",
    "    'M': 0.3,\n",
    "    'M2': 0.2\n",
    "})"
   ]
  },
  {
   "cell_type": "code",
   "execution_count": null,
   "metadata": {},
   "outputs": [],
   "source": [
    "transformed = {k: rf_act.meanstress_hist.FKM_goodman(meanstress_sensitivity, R_goal=-1.) for k, rf_act in rainflow.items()}"
   ]
  },
  {
   "cell_type": "markdown",
   "metadata": {},
   "source": [
    "## Repeating factor"
   ]
  },
  {
   "cell_type": "code",
   "execution_count": null,
   "metadata": {},
   "outputs": [],
   "source": [
    "repeating = {\n",
    "    'wn': 50.0, \n",
    "    'sine': 25.0\n",
    "}"
   ]
  },
  {
   "cell_type": "code",
   "execution_count": null,
   "metadata": {},
   "outputs": [],
   "source": [
    "transformed['total'] = combine_hist([transformed[k] * repeating[k] for k in ['wn', 'sine']], method=\"sum\")"
   ]
  },
  {
   "cell_type": "code",
   "execution_count": null,
   "metadata": {},
   "outputs": [],
   "source": [
    "fig, ax = plt.subplots(nrows=1, ncols=2,figsize=(10, 5))\n",
    "\n",
    "for k, range_only in transformed.items():\n",
    "    amplitude = range_only.rainflow.amplitude[::-1]\n",
    "    cycles = range_only.values[::-1].ravel()\n",
    "    ax[0].step(cycles, amplitude, label=k)\n",
    "    ax[1].step(np.cumsum(cycles), amplitude, label=k)\n",
    "\n",
    "for title, ai in zip(['Count', 'Cumulated'], ax):\n",
    "    ai.set_title(title)\n",
    "    ai.xaxis.grid(True)\n",
    "    ai.legend()\n",
    "    ai.set_xlabel('count')\n",
    "    ai.set_ylabel('amplitude')\n",
    "    ai.set_ylim((0,max(amplitude)))  "
   ]
  },
  {
   "cell_type": "markdown",
   "metadata": {},
   "source": [
    "## Nominal stress approach ##"
   ]
  },
  {
   "cell_type": "markdown",
   "metadata": {},
   "source": [
    "### Material parameters ###\n",
    "You can create your own material data from Woeler tests using the Notebook woehler_analyzer"
   ]
  },
  {
   "cell_type": "code",
   "execution_count": null,
   "metadata": {},
   "outputs": [],
   "source": [
    "mat = pd.Series({\n",
    "    'k_1': 8.,\n",
    "    'ND': 1.0e6,\n",
    "    'SD': 300.0,\n",
    "    'TN': 12.,\n",
    "    'TS': 1.1\n",
    "})\n",
    "display(mat)"
   ]
  },
  {
   "cell_type": "markdown",
   "metadata": {},
   "source": [
    "### Damage Calculation ###"
   ]
  },
  {
   "cell_type": "code",
   "execution_count": null,
   "metadata": {},
   "outputs": [],
   "source": [
    "damage_miner_original = mat.fatigue.damage(transformed['total'].rainflow)\n",
    "damage_miner_elementary = mat.fatigue.miner_elementary().damage(transformed['total'].rainflow)\n",
    "damage_miner_haibach = mat.fatigue.miner_haibach().damage(transformed['total'].rainflow)\n",
    "damage_miner_original.sum(), damage_miner_elementary.sum(), damage_miner_haibach.sum()"
   ]
  },
  {
   "cell_type": "code",
   "execution_count": null,
   "metadata": {},
   "outputs": [],
   "source": [
    "wc = mat.woehler\n",
    "cyc = pd.Series(np.logspace(1, 12, 200))\n",
    "for pf, style in zip([0.1, 0.5, 0.9], ['--', '-', '--']):\n",
    "    load = wc.basquin_load(cyc, failure_probability=pf)\n",
    "    plt.plot(cyc, load, style)\n",
    "\n",
    "plt.step(np.cumsum(cycles), transformed['total'].rainflow.amplitude[::-1])\n",
    "\n",
    "plt.loglog()"
   ]
  },
  {
   "cell_type": "markdown",
   "metadata": {},
   "source": [
    "## Failure Probaility ##"
   ]
  },
  {
   "cell_type": "markdown",
   "metadata": {},
   "source": [
    "#### Without field scatter ####"
   ]
  },
  {
   "cell_type": "code",
   "execution_count": null,
   "metadata": {},
   "outputs": [],
   "source": [
    "D50 = 0.05\n",
    "\n",
    "damage = mat.fatigue.damage(transformed['total'].rainflow).sum()\n",
    "\n",
    "di = np.logspace(np.log10(1e-2*damage), np.log10(1e4*damage), 1000)\n",
    "std = pylife.utils.functions.scatteringRange2std(mat.TN)\n",
    "failprob = fp.FailureProbability(D50, std).pf_simple_load(di)\n",
    "\n",
    "fig, ax = plt.subplots()\n",
    "ax.semilogx(di, failprob, label='cdf')\n",
    "\n",
    "plt.xlabel(\"Damage\")\n",
    "plt.ylabel(\"cdf\")\n",
    "plt.title(\"Failure probability = %.2e\" %fp.FailureProbability(D50,std).pf_simple_load(damage))  \n",
    "plt.ylim(0,max(failprob))\n",
    "plt.xlim(min(di), max(di))\n",
    "\n",
    "fp.FailureProbability(D50, std).pf_simple_load(damage)"
   ]
  },
  {
   "cell_type": "markdown",
   "metadata": {},
   "source": [
    "#### With field scatter ####"
   ]
  },
  {
   "cell_type": "code",
   "execution_count": null,
   "metadata": {},
   "outputs": [],
   "source": [
    "field_std = 0.35\n",
    "fig, ax = plt.subplots()\n",
    "# plot pdf of material\n",
    "mat_pdf = norm.pdf(np.log10(di), loc=np.log10(D50), scale=std)\n",
    "ax.semilogx(di, mat_pdf, label='pdf_mat')\n",
    "# plot pdf of load\n",
    "field_pdf = norm.pdf(np.log10(di), loc=np.log10(damage), scale=field_std)\n",
    "ax.semilogx(di, field_pdf, label='pdf_load',color = 'r')\n",
    "plt.xlabel(\"Damage\")\n",
    "plt.ylabel(\"pdf\")\n",
    "plt.title(\"Failure probability = %.2e\" %fp.FailureProbability(D50, std).pf_norm_load(damage, field_std))  \n",
    "plt.legend()"
   ]
  },
  {
   "cell_type": "markdown",
   "metadata": {},
   "source": [
    "## Local stress approach ##\n",
    "#### FE based failure probability calculation"
   ]
  },
  {
   "cell_type": "markdown",
   "metadata": {},
   "source": [
    "#### FE Data"
   ]
  },
  {
   "cell_type": "code",
   "execution_count": null,
   "metadata": {},
   "outputs": [],
   "source": [
    "vm_mesh = pylife.vmap.VMAPImport(\"plate_with_hole.vmap\")\n",
    "pyLife_mesh = (vm_mesh.make_mesh('1', 'STATE-2')\n",
    "               .join_coordinates()\n",
    "               .join_variable('STRESS_CAUCHY')\n",
    "               .to_frame())\n"
   ]
  },
  {
   "cell_type": "code",
   "execution_count": null,
   "metadata": {},
   "outputs": [],
   "source": [
    "mises = pyLife_mesh.groupby('element_id')['S11', 'S22', 'S33', 'S12', 'S13', 'S23'].mean().equistress.mises()\n",
    "mises /= 200.0  # the nominal load level in the FEM analysis\n",
    "#mises"
   ]
  },
  {
   "cell_type": "markdown",
   "metadata": {},
   "source": [
    "#### Damage Calculation ####"
   ]
  },
  {
   "cell_type": "code",
   "execution_count": null,
   "metadata": {},
   "outputs": [],
   "source": [
    "scaled_rainflow = transformed['total'].rainflow.scale(mises)\n",
    "#scaled_rainflow.amplitude, scaled_rainflow.cycles"
   ]
  },
  {
   "cell_type": "code",
   "execution_count": null,
   "metadata": {},
   "outputs": [],
   "source": [
    "damage = mat.fatigue.damage(scaled_rainflow)\n",
    "#damage\n"
   ]
  },
  {
   "cell_type": "code",
   "execution_count": null,
   "metadata": {},
   "outputs": [],
   "source": [
    "damage = damage.groupby(['element_id']).sum()\n",
    "#damage"
   ]
  },
  {
   "cell_type": "code",
   "execution_count": null,
   "metadata": {},
   "outputs": [],
   "source": [
    "#pyLife_mesh = pyLife_mesh.join(damage)\n",
    "#display(pyLife_mesh)"
   ]
  },
  {
   "cell_type": "code",
   "execution_count": null,
   "metadata": {},
   "outputs": [],
   "source": [
    "grid = pv.UnstructuredGrid(*pyLife_mesh.mesh.vtk_data())\n",
    "plotter = pv.Plotter(window_size=[1920, 1080])\n",
    "plotter.add_mesh(grid, scalars=damage.to_numpy(),\n",
    "                show_edges=True, cmap='jet')\n",
    "plotter.add_scalar_bar()\n",
    "plotter.show()"
   ]
  },
  {
   "cell_type": "code",
   "execution_count": null,
   "metadata": {},
   "outputs": [],
   "source": [
    "print(\"Maximal damage sum: %f\" % damage.max())"
   ]
  }
 ],
 "metadata": {
  "kernelspec": {
   "display_name": "Python 3 (ipykernel)",
   "language": "python",
   "name": "python3"
  },
  "language_info": {
   "codemirror_mode": {
    "name": "ipython",
    "version": 3
   },
   "file_extension": ".py",
   "mimetype": "text/x-python",
   "name": "python",
   "nbconvert_exporter": "python",
   "pygments_lexer": "ipython3"
  }
 },
 "nbformat": 4,
 "nbformat_minor": 4
}
