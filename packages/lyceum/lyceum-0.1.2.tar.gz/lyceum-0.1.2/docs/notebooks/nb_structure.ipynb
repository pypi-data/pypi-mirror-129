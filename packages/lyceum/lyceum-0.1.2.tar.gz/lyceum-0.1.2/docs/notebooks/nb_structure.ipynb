{
 "cells": [
  {
   "cell_type": "markdown",
   "id": "71436cb4-71f9-4d14-b7e4-82c6b5739aaf",
   "metadata": {},
   "source": [
    "# Utilisation du module `structure`\n",
    "\n",
    "Ce modules contient les structures de données suivantes:\n",
    "\n",
    "- `Pile`\n",
    "- `File`"
   ]
  },
  {
   "cell_type": "code",
   "execution_count": 1,
   "id": "7cdca45c-a6a5-4257-9d47-9e9303f0d517",
   "metadata": {},
   "outputs": [
    {
     "ename": "ModuleNotFoundError",
     "evalue": "No module named 'lyceum'",
     "output_type": "error",
     "traceback": [
      "\u001b[0;31m---------------------------------------------------------------------------\u001b[0m",
      "\u001b[0;31mModuleNotFoundError\u001b[0m                       Traceback (most recent call last)",
      "\u001b[0;32m<ipython-input-1-694dec2d0570>\u001b[0m in \u001b[0;36m<module>\u001b[0;34m\u001b[0m\n\u001b[0;32m----> 1\u001b[0;31m \u001b[0;32mfrom\u001b[0m \u001b[0mlyceum\u001b[0m\u001b[0;34m.\u001b[0m\u001b[0mstructure\u001b[0m \u001b[0;32mimport\u001b[0m \u001b[0mPile\u001b[0m\u001b[0;34m,\u001b[0m \u001b[0mFile\u001b[0m\u001b[0;34m\u001b[0m\u001b[0;34m\u001b[0m\u001b[0m\n\u001b[0m",
      "\u001b[0;31mModuleNotFoundError\u001b[0m: No module named 'lyceum'"
     ]
    }
   ],
   "source": [
    "from lyceum.structure import File, Pile"
   ]
  },
  {
   "cell_type": "code",
   "execution_count": null,
   "id": "423ff059-4a2f-462c-a834-c065bb8482f0",
   "metadata": {},
   "outputs": [],
   "source": []
  }
 ],
 "metadata": {
  "kernelspec": {
   "display_name": "Python 3",
   "language": "python",
   "name": "python3"
  },
  "language_info": {
   "codemirror_mode": {
    "name": "ipython",
    "version": 3
   },
   "file_extension": ".py",
   "mimetype": "text/x-python",
   "name": "python",
   "nbconvert_exporter": "python",
   "pygments_lexer": "ipython3",
   "version": "3.9.9"
  }
 },
 "nbformat": 4,
 "nbformat_minor": 5
}
