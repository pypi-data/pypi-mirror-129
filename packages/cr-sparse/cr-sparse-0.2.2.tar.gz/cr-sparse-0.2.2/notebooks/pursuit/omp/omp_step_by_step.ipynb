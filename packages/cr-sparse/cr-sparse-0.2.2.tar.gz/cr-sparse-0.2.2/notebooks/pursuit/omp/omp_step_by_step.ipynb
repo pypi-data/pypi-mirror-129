{
 "cells": [
  {
   "cell_type": "code",
   "execution_count": 1,
   "id": "b0d2f93f",
   "metadata": {},
   "outputs": [],
   "source": [
    "%load_ext autoreload\n",
    "%autoreload 2"
   ]
  },
  {
   "cell_type": "code",
   "execution_count": 2,
   "id": "20bda51b",
   "metadata": {},
   "outputs": [],
   "source": [
    "import jax\n",
    "import jax.numpy as jnp\n",
    "import numpy as np\n",
    "from jax import random, jit, grad\n",
    "import scipy"
   ]
  },
  {
   "cell_type": "code",
   "execution_count": 3,
   "id": "b458d8c7",
   "metadata": {},
   "outputs": [],
   "source": [
    "import cr.sparse as crs\n",
    "from cr.sparse import la\n",
    "from cr.sparse import dict\n",
    "from cr.sparse import pursuit\n",
    "from cr.sparse import data"
   ]
  },
  {
   "cell_type": "markdown",
   "id": "ef955fa0",
   "metadata": {},
   "source": [
    "# Dictionary Setup"
   ]
  },
  {
   "cell_type": "code",
   "execution_count": 4,
   "id": "ce68d75d",
   "metadata": {},
   "outputs": [],
   "source": [
    "M = 32\n",
    "N = 64\n",
    "K = 3"
   ]
  },
  {
   "cell_type": "code",
   "execution_count": 5,
   "id": "00e326e6",
   "metadata": {},
   "outputs": [
    {
     "name": "stderr",
     "output_type": "stream",
     "text": [
      "WARNING:absl:No GPU/TPU found, falling back to CPU. (Set TF_CPP_MIN_LOG_LEVEL=0 and rerun for more info.)\n"
     ]
    }
   ],
   "source": [
    "key = random.PRNGKey(0)\n",
    "Phi = dict.gaussian_mtx(key, M,N)"
   ]
  },
  {
   "cell_type": "code",
   "execution_count": 6,
   "id": "36176c61",
   "metadata": {},
   "outputs": [
    {
     "data": {
      "text/plain": [
       "(32, 64)"
      ]
     },
     "execution_count": 6,
     "metadata": {},
     "output_type": "execute_result"
    }
   ],
   "source": [
    "Phi.shape"
   ]
  },
  {
   "cell_type": "code",
   "execution_count": 7,
   "id": "7b74fd7a",
   "metadata": {},
   "outputs": [
    {
     "data": {
      "text/plain": [
       "DeviceArray(0.5880293, dtype=float32)"
      ]
     },
     "execution_count": 7,
     "metadata": {},
     "output_type": "execute_result"
    }
   ],
   "source": [
    "dict.coherence(Phi)"
   ]
  },
  {
   "cell_type": "markdown",
   "id": "7234edee",
   "metadata": {},
   "source": [
    "# Signal Setup"
   ]
  },
  {
   "cell_type": "code",
   "execution_count": 8,
   "id": "e6b7452e",
   "metadata": {},
   "outputs": [
    {
     "data": {
      "text/plain": [
       "DeviceArray([ 0.        ,  0.        ,  0.        ,  0.        ,\n",
       "              0.        ,  0.        ,  0.        ,  0.        ,\n",
       "              1.8160858 ,  0.        ,  0.        ,  0.        ,\n",
       "              0.        ,  0.        ,  0.        ,  0.        ,\n",
       "              0.        ,  0.        ,  0.        ,  0.        ,\n",
       "              0.        ,  0.        ,  0.        ,  0.        ,\n",
       "              0.        , -0.48262328,  0.        ,  0.        ,\n",
       "              0.        ,  0.        ,  0.        ,  0.        ,\n",
       "              0.        ,  0.        ,  0.        ,  0.        ,\n",
       "              0.        ,  0.        ,  0.        ,  0.        ,\n",
       "              0.        ,  0.        ,  0.        ,  0.        ,\n",
       "              0.        ,  0.        ,  0.        ,  0.        ,\n",
       "              0.        ,  0.        ,  0.        ,  0.        ,\n",
       "              0.        ,  0.        ,  0.        ,  0.339889  ,\n",
       "              0.        ,  0.        ,  0.        ,  0.        ,\n",
       "              0.        ,  0.        ,  0.        ,  0.        ],            dtype=float32)"
      ]
     },
     "execution_count": 8,
     "metadata": {},
     "output_type": "execute_result"
    }
   ],
   "source": [
    "x, omega = data.sparse_normal_representations(key, N, K, 1)\n",
    "x = jnp.squeeze(x)\n",
    "x"
   ]
  },
  {
   "cell_type": "code",
   "execution_count": 9,
   "id": "fcd3a273",
   "metadata": {},
   "outputs": [
    {
     "data": {
      "text/plain": [
       "(DeviceArray([ 8, 25, 55], dtype=int32), (3,))"
      ]
     },
     "execution_count": 9,
     "metadata": {},
     "output_type": "execute_result"
    }
   ],
   "source": [
    "omega, omega.shape"
   ]
  },
  {
   "cell_type": "code",
   "execution_count": 10,
   "id": "d92d6767",
   "metadata": {},
   "outputs": [
    {
     "data": {
      "text/plain": [
       "DeviceArray([ 0.02390813, -0.1268274 , -0.4807552 ,  0.3702036 ,\n",
       "             -0.19832093, -0.32299417,  0.20099871,  0.61086226,\n",
       "              0.65007794,  0.31966653,  0.12593222, -0.20471574,\n",
       "             -0.5031531 ,  0.39456028, -0.37295896,  0.46000382,\n",
       "              0.5659018 ,  0.24554808, -0.08826719,  0.21251862,\n",
       "             -0.03524983, -0.04629171, -0.45931473,  0.15922827,\n",
       "             -0.18856226,  0.01440289, -0.04701412, -0.28536397,\n",
       "              0.3746668 , -0.11432485, -0.22904383,  0.2154006 ],            dtype=float32)"
      ]
     },
     "execution_count": 10,
     "metadata": {},
     "output_type": "execute_result"
    }
   ],
   "source": [
    "y = Phi @ x\n",
    "y"
   ]
  },
  {
   "cell_type": "markdown",
   "id": "c6dc5faa",
   "metadata": {},
   "source": [
    "# Development of OMP algorithm"
   ]
  },
  {
   "cell_type": "markdown",
   "id": "d62b5ced",
   "metadata": {},
   "source": [
    "## First iteration"
   ]
  },
  {
   "cell_type": "code",
   "execution_count": 11,
   "id": "ff28c260",
   "metadata": {},
   "outputs": [
    {
     "data": {
      "text/plain": [
       "DeviceArray(3.3290536, dtype=float32)"
      ]
     },
     "execution_count": 11,
     "metadata": {},
     "output_type": "execute_result"
    }
   ],
   "source": [
    "r = y\n",
    "norm_y_sqr = r.T @ r\n",
    "norm_r_sqr = norm_y_sqr\n",
    "norm_r_sqr"
   ]
  },
  {
   "cell_type": "code",
   "execution_count": 12,
   "id": "a84c878c",
   "metadata": {},
   "outputs": [
    {
     "data": {
      "text/plain": [
       "(DeviceArray([ 9.61995199e-02, -5.24857044e-01, -2.36030817e-02,\n",
       "               1.93185583e-01,  2.01418445e-01,  5.07771730e-01,\n",
       "              -6.01010323e-02, -4.06812727e-02,  1.71276557e+00,\n",
       "               2.37727642e-01, -5.69290996e-01,  4.15185690e-01,\n",
       "              -6.56433880e-01, -4.44442391e-01,  3.19987014e-02,\n",
       "              -5.34418464e-01, -1.63692579e-01,  5.11043012e-01,\n",
       "              -1.88053131e-01, -3.19571137e-01,  1.40016377e-01,\n",
       "              -3.31941187e-01,  2.24794447e-01,  2.18159825e-01,\n",
       "               5.78138232e-03, -1.53794974e-01, -1.93431973e-04,\n",
       "              -2.35534534e-01,  8.89518335e-02, -1.14321038e-01,\n",
       "              -4.75759268e-01, -2.76573420e-01, -4.11897033e-01,\n",
       "              -1.75503299e-01, -2.99649894e-01, -5.52226186e-01,\n",
       "               5.59622236e-02,  2.28143021e-01,  1.20019704e-01,\n",
       "               7.01376438e-01, -1.53217733e-01,  5.12092233e-01,\n",
       "               2.15275526e-01,  5.09653836e-02,  3.48680854e-01,\n",
       "               3.18339586e-01, -6.72459126e-01, -3.33737999e-01,\n",
       "               2.93586612e-01,  1.19084850e-01, -1.58233583e-01,\n",
       "              -2.43169129e-01, -1.71979964e-01, -6.85549825e-02,\n",
       "              -1.14663035e-01,  4.24549341e-01, -1.27483785e-01,\n",
       "              -3.02011013e-01,  1.77190170e-01, -1.82701871e-02,\n",
       "              -4.01329875e-01,  2.27738336e-01, -3.91530544e-01,\n",
       "               2.42369607e-01], dtype=float32),\n",
       " (64,))"
      ]
     },
     "execution_count": 12,
     "metadata": {},
     "output_type": "execute_result"
    }
   ],
   "source": [
    "p = Phi.T @ y\n",
    "p, p.shape"
   ]
  },
  {
   "cell_type": "code",
   "execution_count": 13,
   "id": "c1d4fc5b",
   "metadata": {},
   "outputs": [
    {
     "data": {
      "text/plain": [
       "(DeviceArray([ 9.61995199e-02, -5.24857044e-01, -2.36030817e-02,\n",
       "               1.93185583e-01,  2.01418445e-01,  5.07771730e-01,\n",
       "              -6.01010323e-02, -4.06812727e-02,  1.71276557e+00,\n",
       "               2.37727642e-01, -5.69290996e-01,  4.15185690e-01,\n",
       "              -6.56433880e-01, -4.44442391e-01,  3.19987014e-02,\n",
       "              -5.34418464e-01, -1.63692579e-01,  5.11043012e-01,\n",
       "              -1.88053131e-01, -3.19571137e-01,  1.40016377e-01,\n",
       "              -3.31941187e-01,  2.24794447e-01,  2.18159825e-01,\n",
       "               5.78138232e-03, -1.53794974e-01, -1.93431973e-04,\n",
       "              -2.35534534e-01,  8.89518335e-02, -1.14321038e-01,\n",
       "              -4.75759268e-01, -2.76573420e-01, -4.11897033e-01,\n",
       "              -1.75503299e-01, -2.99649894e-01, -5.52226186e-01,\n",
       "               5.59622236e-02,  2.28143021e-01,  1.20019704e-01,\n",
       "               7.01376438e-01, -1.53217733e-01,  5.12092233e-01,\n",
       "               2.15275526e-01,  5.09653836e-02,  3.48680854e-01,\n",
       "               3.18339586e-01, -6.72459126e-01, -3.33737999e-01,\n",
       "               2.93586612e-01,  1.19084850e-01, -1.58233583e-01,\n",
       "              -2.43169129e-01, -1.71979964e-01, -6.85549825e-02,\n",
       "              -1.14663035e-01,  4.24549341e-01, -1.27483785e-01,\n",
       "              -3.02011013e-01,  1.77190170e-01, -1.82701871e-02,\n",
       "              -4.01329875e-01,  2.27738336e-01, -3.91530544e-01,\n",
       "               2.42369607e-01], dtype=float32),\n",
       " (64,))"
      ]
     },
     "execution_count": 13,
     "metadata": {},
     "output_type": "execute_result"
    }
   ],
   "source": [
    "h = p\n",
    "h, h.shape"
   ]
  },
  {
   "cell_type": "code",
   "execution_count": 14,
   "id": "43ac59d3",
   "metadata": {},
   "outputs": [
    {
     "data": {
      "text/plain": [
       "DeviceArray(8, dtype=int32)"
      ]
     },
     "execution_count": 14,
     "metadata": {},
     "output_type": "execute_result"
    }
   ],
   "source": [
    "i = pursuit.abs_max_idx(h)\n",
    "i"
   ]
  },
  {
   "cell_type": "code",
   "execution_count": 15,
   "id": "1a521b7a",
   "metadata": {},
   "outputs": [
    {
     "data": {
      "text/plain": [
       "(DeviceArray([8], dtype=int32), (1,))"
      ]
     },
     "execution_count": 15,
     "metadata": {},
     "output_type": "execute_result"
    }
   ],
   "source": [
    "indices = jnp.array([i])\n",
    "indices, indices.shape"
   ]
  },
  {
   "cell_type": "code",
   "execution_count": 16,
   "id": "fafb4c02",
   "metadata": {},
   "outputs": [
    {
     "data": {
      "text/plain": [
       "(DeviceArray([-0.0452036 , -0.06064072, -0.2012354 ,  0.23969077,\n",
       "               0.02278345, -0.17967227,  0.1699537 ,  0.38612276,\n",
       "               0.33129993,  0.21025042,  0.09814752, -0.12776868,\n",
       "              -0.29690307,  0.18864553, -0.2137496 ,  0.0962122 ,\n",
       "               0.20104681,  0.16185828, -0.04153139,  0.2210582 ,\n",
       "              -0.08565383, -0.01555626, -0.24623081,  0.03879212,\n",
       "              -0.07559849,  0.11092736,  0.00262051, -0.14456683,\n",
       "               0.12789953, -0.07467625, -0.1764678 ,  0.21914414],            dtype=float32),\n",
       " (32,))"
      ]
     },
     "execution_count": 16,
     "metadata": {},
     "output_type": "execute_result"
    }
   ],
   "source": [
    "atom = Phi[:, i]\n",
    "atom, atom.shape"
   ]
  },
  {
   "cell_type": "code",
   "execution_count": 17,
   "id": "0a4a4183",
   "metadata": {},
   "outputs": [
    {
     "data": {
      "text/plain": [
       "(32, 1)"
      ]
     },
     "execution_count": 17,
     "metadata": {},
     "output_type": "execute_result"
    }
   ],
   "source": [
    "subdict = jnp.expand_dims(atom, axis=1)\n",
    "subdict.shape"
   ]
  },
  {
   "cell_type": "code",
   "execution_count": 18,
   "id": "7e9f3e09",
   "metadata": {},
   "outputs": [
    {
     "data": {
      "text/plain": [
       "(DeviceArray([[1.]], dtype=float32), (1, 1))"
      ]
     },
     "execution_count": 18,
     "metadata": {},
     "output_type": "execute_result"
    }
   ],
   "source": [
    "L = jnp.ones((1,1))\n",
    "L, L.shape"
   ]
  },
  {
   "cell_type": "code",
   "execution_count": 19,
   "id": "d648ddcb",
   "metadata": {},
   "outputs": [
    {
     "data": {
      "text/plain": [
       "(DeviceArray([1.7127656], dtype=float32), (1,))"
      ]
     },
     "execution_count": 19,
     "metadata": {},
     "output_type": "execute_result"
    }
   ],
   "source": [
    "p_I = p[indices]\n",
    "p_I, p_I.shape"
   ]
  },
  {
   "cell_type": "code",
   "execution_count": 20,
   "id": "93434ca6",
   "metadata": {},
   "outputs": [
    {
     "data": {
      "text/plain": [
       "(DeviceArray([1.7127656], dtype=float32), (1,))"
      ]
     },
     "execution_count": 20,
     "metadata": {},
     "output_type": "execute_result"
    }
   ],
   "source": [
    "x_I = p_I\n",
    "x_I, x_I.shape"
   ]
  },
  {
   "cell_type": "code",
   "execution_count": 21,
   "id": "21279274",
   "metadata": {},
   "outputs": [
    {
     "data": {
      "text/plain": [
       "(DeviceArray([ 0.10133129, -0.02296407, -0.13608614, -0.04033047,\n",
       "              -0.23734362, -0.01525769, -0.09009214, -0.05047554,\n",
       "               0.0826388 , -0.04044315, -0.04217148,  0.01412205,\n",
       "               0.00537229,  0.0714547 , -0.00685599,  0.2952149 ,\n",
       "               0.22155577, -0.0316772 , -0.01713365, -0.16610228,\n",
       "               0.1114551 , -0.01964747, -0.03757909,  0.09278646,\n",
       "              -0.05907978, -0.17558968, -0.05150243, -0.03775488,\n",
       "               0.1556049 ,  0.01357806,  0.07320414, -0.15994191],            dtype=float32),\n",
       " (32,))"
      ]
     },
     "execution_count": 21,
     "metadata": {},
     "output_type": "execute_result"
    }
   ],
   "source": [
    "r_new = y - subdict @ x_I\n",
    "r_new, r_new.shape"
   ]
  },
  {
   "cell_type": "code",
   "execution_count": 22,
   "id": "c6d0d627",
   "metadata": {},
   "outputs": [
    {
     "data": {
      "text/plain": [
       "DeviceArray(0.395488, dtype=float32)"
      ]
     },
     "execution_count": 22,
     "metadata": {},
     "output_type": "execute_result"
    }
   ],
   "source": [
    "norm_r_new_sqr = r_new.T @ r_new\n",
    "norm_r_new_sqr"
   ]
  },
  {
   "cell_type": "markdown",
   "id": "e847d8b2",
   "metadata": {},
   "source": [
    "## Second iteration"
   ]
  },
  {
   "cell_type": "code",
   "execution_count": 23,
   "id": "c8d73446",
   "metadata": {},
   "outputs": [],
   "source": [
    "r = r_new\n",
    "norm_r_sqr = norm_r_new_sqr"
   ]
  },
  {
   "cell_type": "code",
   "execution_count": 24,
   "id": "bc534e69",
   "metadata": {},
   "outputs": [
    {
     "data": {
      "text/plain": [
       "(DeviceArray([-1.4950220e-01, -4.0264491e-02,  2.9967882e-02,\n",
       "               5.4308653e-02, -2.5237434e-02, -2.0721941e-01,\n",
       "              -1.0321927e-01, -3.8601544e-02, -5.5879354e-09,\n",
       "               2.8200644e-01, -1.3619012e-01,  5.9649844e-02,\n",
       "              -4.2853419e-02, -6.0242899e-03,  1.8234587e-01,\n",
       "              -9.8339349e-02,  7.5748578e-02,  1.9492418e-02,\n",
       "              -2.1028575e-01, -1.6349390e-01,  1.1980817e-02,\n",
       "              -3.8731601e-02,  1.9039874e-01, -1.7291762e-02,\n",
       "              -6.0108759e-02, -5.2030534e-01,  6.0183473e-02,\n",
       "              -1.5187215e-02, -4.3200962e-03, -5.9144575e-02,\n",
       "              -2.8118880e-02,  7.6223135e-02,  1.1758726e-02,\n",
       "               9.9556088e-02, -2.0874816e-01, -6.7137294e-02,\n",
       "               2.6948545e-02, -1.1548560e-01,  6.2108980e-03,\n",
       "               1.6986775e-01, -1.2599348e-01,  2.0354834e-01,\n",
       "               1.1221175e-01,  4.9667105e-02,  4.2487707e-02,\n",
       "              -1.5251022e-02,  5.1390164e-02, -1.5082434e-01,\n",
       "              -1.8188886e-02, -4.6342514e-02, -4.5630306e-02,\n",
       "              -1.4834760e-01,  7.9743505e-02,  1.5797630e-01,\n",
       "               5.5792242e-02,  4.2477554e-01, -2.0155806e-02,\n",
       "              -1.2207928e-01, -2.4371818e-02,  1.5020618e-01,\n",
       "              -1.8722039e-02, -8.5795596e-02,  4.0799931e-02,\n",
       "               9.8465025e-02], dtype=float32),\n",
       " (64,))"
      ]
     },
     "execution_count": 24,
     "metadata": {},
     "output_type": "execute_result"
    }
   ],
   "source": [
    "h = Phi.T @ r\n",
    "h, h.shape"
   ]
  },
  {
   "cell_type": "code",
   "execution_count": 25,
   "id": "3e73c2db",
   "metadata": {},
   "outputs": [
    {
     "data": {
      "text/plain": [
       "DeviceArray(25, dtype=int32)"
      ]
     },
     "execution_count": 25,
     "metadata": {},
     "output_type": "execute_result"
    }
   ],
   "source": [
    "i = pursuit.abs_max_idx(h)\n",
    "i"
   ]
  },
  {
   "cell_type": "code",
   "execution_count": 26,
   "id": "947effe9",
   "metadata": {},
   "outputs": [],
   "source": [
    "indices = jnp.append(indices, i)"
   ]
  },
  {
   "cell_type": "code",
   "execution_count": 27,
   "id": "3b749a70",
   "metadata": {},
   "outputs": [
    {
     "data": {
      "text/plain": [
       "DeviceArray([ 8, 25], dtype=int32)"
      ]
     },
     "execution_count": 27,
     "metadata": {},
     "output_type": "execute_result"
    }
   ],
   "source": [
    "indices"
   ]
  },
  {
   "cell_type": "code",
   "execution_count": 28,
   "id": "d317f962",
   "metadata": {},
   "outputs": [
    {
     "data": {
      "text/plain": [
       "(DeviceArray([-7.1421169e-02, -1.0727050e-01,  1.4660509e-01,\n",
       "               2.1629900e-01,  1.9570568e-01, -6.9225013e-02,\n",
       "               1.6529614e-01,  8.8993214e-02,  2.3624465e-02,\n",
       "               1.7819779e-01, -1.0951436e-04, -1.3379590e-01,\n",
       "              -4.4796020e-02, -1.5135485e-01, -5.5924416e-02,\n",
       "              -3.1435499e-01, -3.9888123e-01,  5.5221118e-02,\n",
       "              -2.5144633e-02,  1.1392352e-01, -1.6872568e-01,\n",
       "               4.4980709e-02,  7.2892308e-03, -2.2424569e-03,\n",
       "              -4.5592640e-02,  1.9777423e-01,  1.2812763e-01,\n",
       "               1.9953127e-01, -2.8159457e-01, -6.0718294e-02,\n",
       "              -2.0496592e-01,  4.8059407e-01], dtype=float32),\n",
       " (32,))"
      ]
     },
     "execution_count": 28,
     "metadata": {},
     "output_type": "execute_result"
    }
   ],
   "source": [
    "atom = Phi[:, i]\n",
    "atom, atom.shape"
   ]
  },
  {
   "cell_type": "code",
   "execution_count": 29,
   "id": "d4cf916f",
   "metadata": {},
   "outputs": [
    {
     "data": {
      "text/plain": [
       "DeviceArray([0.21398745], dtype=float32)"
      ]
     },
     "execution_count": 29,
     "metadata": {},
     "output_type": "execute_result"
    }
   ],
   "source": [
    "b = subdict.T @ atom\n",
    "b"
   ]
  },
  {
   "cell_type": "code",
   "execution_count": 30,
   "id": "98dde606",
   "metadata": {},
   "outputs": [],
   "source": [
    "L = pursuit.gram_chol_update(L, b)"
   ]
  },
  {
   "cell_type": "code",
   "execution_count": 31,
   "id": "5b7fcbde",
   "metadata": {},
   "outputs": [
    {
     "data": {
      "text/plain": [
       "(DeviceArray([[1.        , 0.        ],\n",
       "              [0.21398745, 0.97683644]], dtype=float32),\n",
       " (2, 2))"
      ]
     },
     "execution_count": 31,
     "metadata": {},
     "output_type": "execute_result"
    }
   ],
   "source": [
    "L, L.shape"
   ]
  },
  {
   "cell_type": "code",
   "execution_count": 32,
   "id": "9a874e7c",
   "metadata": {},
   "outputs": [
    {
     "data": {
      "text/plain": [
       "(DeviceArray([[-4.5203600e-02, -7.1421169e-02],\n",
       "              [-6.0640719e-02, -1.0727050e-01],\n",
       "              [-2.0123540e-01,  1.4660509e-01],\n",
       "              [ 2.3969077e-01,  2.1629900e-01],\n",
       "              [ 2.2783445e-02,  1.9570568e-01],\n",
       "              [-1.7967227e-01, -6.9225013e-02],\n",
       "              [ 1.6995370e-01,  1.6529614e-01],\n",
       "              [ 3.8612276e-01,  8.8993214e-02],\n",
       "              [ 3.3129993e-01,  2.3624465e-02],\n",
       "              [ 2.1025042e-01,  1.7819779e-01],\n",
       "              [ 9.8147519e-02, -1.0951436e-04],\n",
       "              [-1.2776868e-01, -1.3379590e-01],\n",
       "              [-2.9690307e-01, -4.4796020e-02],\n",
       "              [ 1.8864553e-01, -1.5135485e-01],\n",
       "              [-2.1374960e-01, -5.5924416e-02],\n",
       "              [ 9.6212201e-02, -3.1435499e-01],\n",
       "              [ 2.0104681e-01, -3.9888123e-01],\n",
       "              [ 1.6185828e-01,  5.5221118e-02],\n",
       "              [-4.1531391e-02, -2.5144633e-02],\n",
       "              [ 2.2105820e-01,  1.1392352e-01],\n",
       "              [-8.5653827e-02, -1.6872568e-01],\n",
       "              [-1.5556264e-02,  4.4980709e-02],\n",
       "              [-2.4623081e-01,  7.2892308e-03],\n",
       "              [ 3.8792118e-02, -2.2424569e-03],\n",
       "              [-7.5598486e-02, -4.5592640e-02],\n",
       "              [ 1.1092736e-01,  1.9777423e-01],\n",
       "              [ 2.6205063e-03,  1.2812763e-01],\n",
       "              [-1.4456683e-01,  1.9953127e-01],\n",
       "              [ 1.2789953e-01, -2.8159457e-01],\n",
       "              [-7.4676253e-02, -6.0718294e-02],\n",
       "              [-1.7646781e-01, -2.0496592e-01],\n",
       "              [ 2.1914414e-01,  4.8059407e-01]], dtype=float32),\n",
       " (32, 2))"
      ]
     },
     "execution_count": 32,
     "metadata": {},
     "output_type": "execute_result"
    }
   ],
   "source": [
    "subdict = jnp.hstack((subdict, jnp.expand_dims(atom,1)))\n",
    "subdict, subdict.shape"
   ]
  },
  {
   "cell_type": "code",
   "execution_count": 33,
   "id": "f7305774",
   "metadata": {},
   "outputs": [
    {
     "data": {
      "text/plain": [
       "(DeviceArray([ 1.7127656 , -0.15379497], dtype=float32), (2,))"
      ]
     },
     "execution_count": 33,
     "metadata": {},
     "output_type": "execute_result"
    }
   ],
   "source": [
    "p_I = p[indices]\n",
    "p_I, p_I.shape"
   ]
  },
  {
   "cell_type": "code",
   "execution_count": 34,
   "id": "bb13fef9",
   "metadata": {},
   "outputs": [
    {
     "data": {
      "text/plain": [
       "(DeviceArray([ 1.8294473, -0.5452737], dtype=float32), (2,))"
      ]
     },
     "execution_count": 34,
     "metadata": {},
     "output_type": "execute_result"
    }
   ],
   "source": [
    "x_I = la.solve_spd_chol(L, p_I)\n",
    "x_I, x_I.shape"
   ]
  },
  {
   "cell_type": "code",
   "execution_count": 35,
   "id": "e5a2eaf2",
   "metadata": {},
   "outputs": [
    {
     "data": {
      "text/plain": [
       "((32, 2), (2,))"
      ]
     },
     "execution_count": 35,
     "metadata": {},
     "output_type": "execute_result"
    }
   ],
   "source": [
    "subdict.shape, x_I.shape"
   ]
  },
  {
   "cell_type": "code",
   "execution_count": 36,
   "id": "3cc90f6b",
   "metadata": {},
   "outputs": [
    {
     "data": {
      "text/plain": [
       "(DeviceArray([ 0.06766164, -0.07438019, -0.03266576,  0.04964414,\n",
       "              -0.13328886, -0.03203979, -0.01979099, -0.04700333,\n",
       "               0.05686402,  0.03219104, -0.05368321, -0.04392506,\n",
       "               0.01558936, -0.03308657, -0.01240945,  0.11257917,\n",
       "              -0.01940215, -0.02045245, -0.02599841, -0.1297762 ,\n",
       "               0.02944765,  0.00669446, -0.00487384,  0.08703738,\n",
       "              -0.07511929, -0.08069178,  0.01805644,  0.08791259,\n",
       "              -0.01286474, -0.01081669, -0.01796781,  0.07654329],            dtype=float32),\n",
       " (32,))"
      ]
     },
     "execution_count": 36,
     "metadata": {},
     "output_type": "execute_result"
    }
   ],
   "source": [
    "r_new = y - subdict @ x_I\n",
    "r_new, r_new.shape"
   ]
  },
  {
   "cell_type": "code",
   "execution_count": 37,
   "id": "1326f9db",
   "metadata": {},
   "outputs": [
    {
     "data": {
      "text/plain": [
       "DeviceArray(0.11177917, dtype=float32)"
      ]
     },
     "execution_count": 37,
     "metadata": {},
     "output_type": "execute_result"
    }
   ],
   "source": [
    "norm_r_new_sqr = r_new.T @ r_new\n",
    "norm_r_new_sqr"
   ]
  },
  {
   "cell_type": "markdown",
   "id": "0fa195bb",
   "metadata": {},
   "source": [
    "## 3rd iteration"
   ]
  },
  {
   "cell_type": "code",
   "execution_count": 38,
   "id": "9c5ba22d",
   "metadata": {},
   "outputs": [],
   "source": [
    "r = r_new\n",
    "norm_r_sqr = norm_r_new_sqr"
   ]
  },
  {
   "cell_type": "code",
   "execution_count": 39,
   "id": "476fe2f9",
   "metadata": {},
   "outputs": [
    {
     "data": {
      "text/plain": [
       "(DeviceArray([-3.31946202e-02,  5.75344227e-02,  5.59823290e-02,\n",
       "               9.25678760e-05, -9.62564629e-03, -1.04181372e-01,\n",
       "              -4.98393290e-02, -8.28084722e-03,  7.17118382e-08,\n",
       "               1.29959524e-01, -2.90520918e-02,  1.14879869e-02,\n",
       "               4.52624299e-02, -2.05479097e-03,  1.11361682e-01,\n",
       "              -2.27925349e-02, -4.38999683e-02, -9.57450196e-02,\n",
       "              -7.19629154e-02, -6.24810196e-02, -6.13001734e-02,\n",
       "               1.84691139e-02,  1.03331879e-02,  1.97156938e-03,\n",
       "              -6.55644909e-02, -1.49011612e-08,  8.26045573e-02,\n",
       "               6.91462308e-04, -2.74802223e-02, -4.61718291e-02,\n",
       "              -1.07698608e-02, -3.57095189e-02, -2.38384418e-02,\n",
       "               1.12424225e-01, -8.22637901e-02, -5.36019728e-02,\n",
       "               5.99750578e-02, -1.18175037e-01,  1.97170563e-02,\n",
       "               1.50790423e-01, -2.53476501e-02,  8.01033676e-02,\n",
       "               7.57712498e-02,  1.50741547e-01, -7.60149583e-03,\n",
       "              -7.99755752e-03,  8.34306479e-02,  7.49544427e-02,\n",
       "               3.00863385e-02,  1.39511554e-02,  5.28728850e-02,\n",
       "              -5.27143590e-02, -2.44692396e-02,  5.27062491e-02,\n",
       "               3.21237706e-02,  3.28869611e-01, -8.81581306e-02,\n",
       "              -1.04394332e-01,  2.83294208e-02,  1.17424484e-02,\n",
       "              -2.58044899e-02, -1.19111635e-01,  9.52892900e-02,\n",
       "               2.80992724e-02], dtype=float32),\n",
       " (64,))"
      ]
     },
     "execution_count": 39,
     "metadata": {},
     "output_type": "execute_result"
    }
   ],
   "source": [
    "h = Phi.T @ r\n",
    "h, h.shape"
   ]
  },
  {
   "cell_type": "code",
   "execution_count": 40,
   "id": "1297034f",
   "metadata": {},
   "outputs": [
    {
     "data": {
      "text/plain": [
       "DeviceArray(55, dtype=int32)"
      ]
     },
     "execution_count": 40,
     "metadata": {},
     "output_type": "execute_result"
    }
   ],
   "source": [
    "i = pursuit.abs_max_idx(h)\n",
    "i"
   ]
  },
  {
   "cell_type": "code",
   "execution_count": 41,
   "id": "9ec9ed6a",
   "metadata": {},
   "outputs": [
    {
     "data": {
      "text/plain": [
       "DeviceArray([ 8, 25, 55], dtype=int32)"
      ]
     },
     "execution_count": 41,
     "metadata": {},
     "output_type": "execute_result"
    }
   ],
   "source": [
    "indices = jnp.append(indices, i)\n",
    "indices"
   ]
  },
  {
   "cell_type": "code",
   "execution_count": 42,
   "id": "e8021445",
   "metadata": {},
   "outputs": [
    {
     "data": {
      "text/plain": [
       "(DeviceArray([ 0.21045762, -0.20144783, -0.13104105,  0.11561288,\n",
       "              -0.42733213, -0.08856863, -0.08201517, -0.13951491,\n",
       "               0.1759708 ,  0.07012922, -0.15406491, -0.10959424,\n",
       "               0.0424513 , -0.06203075, -0.03460468,  0.39294937,\n",
       "               0.02434387, -0.06398986, -0.07348871, -0.3941284 ,\n",
       "               0.1143724 ,  0.01079335, -0.02536266,  0.25801423,\n",
       "              -0.21557917, -0.26950052,  0.02961024,  0.2161889 ,\n",
       "               0.01908326, -0.02356782, -0.02202035,  0.14522955],            dtype=float32),\n",
       " (32,))"
      ]
     },
     "execution_count": 42,
     "metadata": {},
     "output_type": "execute_result"
    }
   ],
   "source": [
    "atom = Phi[:, i]\n",
    "atom, atom.shape"
   ]
  },
  {
   "cell_type": "code",
   "execution_count": 43,
   "id": "13b8d926",
   "metadata": {},
   "outputs": [
    {
     "data": {
      "text/plain": [
       "DeviceArray([-1.3205409e-04, -1.7591405e-01], dtype=float32)"
      ]
     },
     "execution_count": 43,
     "metadata": {},
     "output_type": "execute_result"
    }
   ],
   "source": [
    "b = subdict.T @ atom\n",
    "b"
   ]
  },
  {
   "cell_type": "code",
   "execution_count": 44,
   "id": "97e47f62",
   "metadata": {},
   "outputs": [
    {
     "data": {
      "text/plain": [
       "(DeviceArray([[ 1.0000000e+00,  0.0000000e+00,  0.0000000e+00],\n",
       "              [ 2.1398745e-01,  9.7683644e-01,  0.0000000e+00],\n",
       "              [-1.3205409e-04, -1.8005656e-01,  9.8365623e-01]],            dtype=float32),\n",
       " (3, 3))"
      ]
     },
     "execution_count": 44,
     "metadata": {},
     "output_type": "execute_result"
    }
   ],
   "source": [
    "L = pursuit.gram_chol_update(L, b)\n",
    "L, L.shape"
   ]
  },
  {
   "cell_type": "code",
   "execution_count": 45,
   "id": "a671ba42",
   "metadata": {},
   "outputs": [
    {
     "data": {
      "text/plain": [
       "(DeviceArray([[-4.5203600e-02, -7.1421169e-02,  2.1045762e-01],\n",
       "              [-6.0640719e-02, -1.0727050e-01, -2.0144783e-01],\n",
       "              [-2.0123540e-01,  1.4660509e-01, -1.3104105e-01],\n",
       "              [ 2.3969077e-01,  2.1629900e-01,  1.1561288e-01],\n",
       "              [ 2.2783445e-02,  1.9570568e-01, -4.2733213e-01],\n",
       "              [-1.7967227e-01, -6.9225013e-02, -8.8568628e-02],\n",
       "              [ 1.6995370e-01,  1.6529614e-01, -8.2015172e-02],\n",
       "              [ 3.8612276e-01,  8.8993214e-02, -1.3951491e-01],\n",
       "              [ 3.3129993e-01,  2.3624465e-02,  1.7597079e-01],\n",
       "              [ 2.1025042e-01,  1.7819779e-01,  7.0129216e-02],\n",
       "              [ 9.8147519e-02, -1.0951436e-04, -1.5406491e-01],\n",
       "              [-1.2776868e-01, -1.3379590e-01, -1.0959424e-01],\n",
       "              [-2.9690307e-01, -4.4796020e-02,  4.2451300e-02],\n",
       "              [ 1.8864553e-01, -1.5135485e-01, -6.2030748e-02],\n",
       "              [-2.1374960e-01, -5.5924416e-02, -3.4604684e-02],\n",
       "              [ 9.6212201e-02, -3.1435499e-01,  3.9294937e-01],\n",
       "              [ 2.0104681e-01, -3.9888123e-01,  2.4343871e-02],\n",
       "              [ 1.6185828e-01,  5.5221118e-02, -6.3989855e-02],\n",
       "              [-4.1531391e-02, -2.5144633e-02, -7.3488712e-02],\n",
       "              [ 2.2105820e-01,  1.1392352e-01, -3.9412841e-01],\n",
       "              [-8.5653827e-02, -1.6872568e-01,  1.1437240e-01],\n",
       "              [-1.5556264e-02,  4.4980709e-02,  1.0793352e-02],\n",
       "              [-2.4623081e-01,  7.2892308e-03, -2.5362661e-02],\n",
       "              [ 3.8792118e-02, -2.2424569e-03,  2.5801423e-01],\n",
       "              [-7.5598486e-02, -4.5592640e-02, -2.1557917e-01],\n",
       "              [ 1.1092736e-01,  1.9777423e-01, -2.6950052e-01],\n",
       "              [ 2.6205063e-03,  1.2812763e-01,  2.9610245e-02],\n",
       "              [-1.4456683e-01,  1.9953127e-01,  2.1618889e-01],\n",
       "              [ 1.2789953e-01, -2.8159457e-01,  1.9083256e-02],\n",
       "              [-7.4676253e-02, -6.0718294e-02, -2.3567820e-02],\n",
       "              [-1.7646781e-01, -2.0496592e-01, -2.2020347e-02],\n",
       "              [ 2.1914414e-01,  4.8059407e-01,  1.4522955e-01]],            dtype=float32),\n",
       " (32, 3))"
      ]
     },
     "execution_count": 45,
     "metadata": {},
     "output_type": "execute_result"
    }
   ],
   "source": [
    "subdict = jnp.hstack((subdict, jnp.expand_dims(atom,1)))\n",
    "subdict, subdict.shape"
   ]
  },
  {
   "cell_type": "code",
   "execution_count": 46,
   "id": "c97f3909",
   "metadata": {},
   "outputs": [
    {
     "data": {
      "text/plain": [
       "(DeviceArray([ 1.7127656 , -0.15379497,  0.42454934], dtype=float32), (3,))"
      ]
     },
     "execution_count": 46,
     "metadata": {},
     "output_type": "execute_result"
    }
   ],
   "source": [
    "p_I = p[indices]\n",
    "p_I, p_I.shape"
   ]
  },
  {
   "cell_type": "code",
   "execution_count": 47,
   "id": "85142939",
   "metadata": {},
   "outputs": [
    {
     "data": {
      "text/plain": [
       "(DeviceArray([ 1.8160858 , -0.48262328,  0.3398889 ], dtype=float32), (3,))"
      ]
     },
     "execution_count": 47,
     "metadata": {},
     "output_type": "execute_result"
    }
   ],
   "source": [
    "x_I = la.solve_spd_chol(L, p_I)\n",
    "x_I, x_I.shape"
   ]
  },
  {
   "cell_type": "code",
   "execution_count": 48,
   "id": "6ae63927",
   "metadata": {},
   "outputs": [
    {
     "data": {
      "text/plain": [
       "(DeviceArray([ 1.6763806e-08, -1.4901161e-08, -2.9802322e-08,\n",
       "               0.0000000e+00, -4.4703484e-08,  0.0000000e+00,\n",
       "               0.0000000e+00, -5.9604645e-08,  0.0000000e+00,\n",
       "               0.0000000e+00, -1.4901161e-08, -1.4901161e-08,\n",
       "               0.0000000e+00,  0.0000000e+00,  0.0000000e+00,\n",
       "               2.9802322e-08,  0.0000000e+00, -1.4901161e-08,\n",
       "              -7.4505806e-09, -2.9802322e-08,  1.1175871e-08,\n",
       "               3.7252903e-09,  0.0000000e+00,  1.4901161e-08,\n",
       "              -1.4901161e-08, -2.5145710e-08,  3.7252903e-09,\n",
       "               0.0000000e+00,  2.9802322e-08,  0.0000000e+00,\n",
       "              -1.4901161e-08,  1.4901161e-08], dtype=float32),\n",
       " (32,))"
      ]
     },
     "execution_count": 48,
     "metadata": {},
     "output_type": "execute_result"
    }
   ],
   "source": [
    "r_new = y - subdict @ x_I\n",
    "r_new, r_new.shape"
   ]
  },
  {
   "cell_type": "code",
   "execution_count": 49,
   "id": "9be1131c",
   "metadata": {},
   "outputs": [
    {
     "data": {
      "text/plain": [
       "DeviceArray(1.2001684e-14, dtype=float32)"
      ]
     },
     "execution_count": 49,
     "metadata": {},
     "output_type": "execute_result"
    }
   ],
   "source": [
    "norm_r_new_sqr = r_new.T @ r_new\n",
    "norm_r_new_sqr"
   ]
  },
  {
   "cell_type": "code",
   "execution_count": 58,
   "id": "fe6c550f",
   "metadata": {},
   "outputs": [],
   "source": [
    "from cr.sparse.pursuit import omp"
   ]
  },
  {
   "cell_type": "code",
   "execution_count": 59,
   "id": "6c4acedd",
   "metadata": {},
   "outputs": [],
   "source": [
    "solution =  omp.solve(Phi, y, K)"
   ]
  },
  {
   "cell_type": "code",
   "execution_count": 60,
   "id": "0cee9b87",
   "metadata": {},
   "outputs": [
    {
     "data": {
      "text/plain": [
       "DeviceArray([ 1.8160858 , -0.48262328,  0.3398889 ], dtype=float32)"
      ]
     },
     "execution_count": 60,
     "metadata": {},
     "output_type": "execute_result"
    }
   ],
   "source": [
    "solution.x_I"
   ]
  },
  {
   "cell_type": "code",
   "execution_count": 61,
   "id": "1329884e",
   "metadata": {},
   "outputs": [
    {
     "data": {
      "text/plain": [
       "DeviceArray([ 8, 25, 55], dtype=int32)"
      ]
     },
     "execution_count": 61,
     "metadata": {},
     "output_type": "execute_result"
    }
   ],
   "source": [
    "solution.I"
   ]
  },
  {
   "cell_type": "code",
   "execution_count": 62,
   "id": "a1340c8e",
   "metadata": {},
   "outputs": [
    {
     "data": {
      "text/plain": [
       "DeviceArray([ 1.6763806e-08, -1.4901161e-08, -2.9802322e-08,\n",
       "              0.0000000e+00, -4.4703484e-08,  0.0000000e+00,\n",
       "              0.0000000e+00, -5.9604645e-08,  0.0000000e+00,\n",
       "              0.0000000e+00, -1.4901161e-08, -1.4901161e-08,\n",
       "              0.0000000e+00,  0.0000000e+00,  0.0000000e+00,\n",
       "              2.9802322e-08,  0.0000000e+00, -1.4901161e-08,\n",
       "             -7.4505806e-09, -2.9802322e-08,  1.1175871e-08,\n",
       "              3.7252903e-09,  0.0000000e+00,  1.4901161e-08,\n",
       "             -1.4901161e-08, -2.5145710e-08,  3.7252903e-09,\n",
       "              0.0000000e+00,  2.9802322e-08,  0.0000000e+00,\n",
       "             -1.4901161e-08,  1.4901161e-08], dtype=float32)"
      ]
     },
     "execution_count": 62,
     "metadata": {},
     "output_type": "execute_result"
    }
   ],
   "source": [
    "solution.r"
   ]
  },
  {
   "cell_type": "code",
   "execution_count": 63,
   "id": "4c512a6a",
   "metadata": {},
   "outputs": [
    {
     "data": {
      "text/plain": [
       "DeviceArray(1.2001684e-14, dtype=float32)"
      ]
     },
     "execution_count": 63,
     "metadata": {},
     "output_type": "execute_result"
    }
   ],
   "source": [
    "solution.r_norm_sqr"
   ]
  },
  {
   "cell_type": "code",
   "execution_count": 64,
   "id": "afa18b2b",
   "metadata": {},
   "outputs": [
    {
     "data": {
      "text/plain": [
       "3"
      ]
     },
     "execution_count": 64,
     "metadata": {},
     "output_type": "execute_result"
    }
   ],
   "source": [
    "solution.iterations"
   ]
  },
  {
   "cell_type": "code",
   "execution_count": 67,
   "id": "355b642e",
   "metadata": {},
   "outputs": [],
   "source": [
    "def time_solve():\n",
    "    solution = omp.solve(Phi, y, K)\n",
    "    solution.x_I.block_until_ready()\n",
    "    solution.r.block_until_ready()\n",
    "    solution.I.block_until_ready()\n",
    "    solution.r_norm_sqr.block_until_ready()"
   ]
  },
  {
   "cell_type": "code",
   "execution_count": 68,
   "id": "64848d91",
   "metadata": {},
   "outputs": [
    {
     "name": "stdout",
     "output_type": "stream",
     "text": [
      "14.3 ms ± 77 µs per loop (mean ± std. dev. of 7 runs, 100 loops each)\n"
     ]
    }
   ],
   "source": [
    "%timeit time_solve()"
   ]
  },
  {
   "cell_type": "code",
   "execution_count": 69,
   "id": "0baf7ff6",
   "metadata": {},
   "outputs": [],
   "source": [
    "omp_solve  = jax.jit(omp.solve, static_argnums=(2))"
   ]
  },
  {
   "cell_type": "code",
   "execution_count": 71,
   "id": "190aabd3",
   "metadata": {},
   "outputs": [
    {
     "data": {
      "text/plain": [
       "DeviceArray(2.4747565e-14, dtype=float32)"
      ]
     },
     "execution_count": 71,
     "metadata": {},
     "output_type": "execute_result"
    }
   ],
   "source": [
    "sol = omp_solve(Phi, y, K)\n",
    "sol.r_norm_sqr"
   ]
  },
  {
   "cell_type": "code",
   "execution_count": 73,
   "id": "3daefa72",
   "metadata": {},
   "outputs": [],
   "source": [
    "def time_solve_jit():\n",
    "    solution = omp_solve(Phi, y, K)\n",
    "    solution.x_I.block_until_ready()\n",
    "    solution.r.block_until_ready()\n",
    "    solution.I.block_until_ready()\n",
    "    solution.r_norm_sqr.block_until_ready()"
   ]
  },
  {
   "cell_type": "code",
   "execution_count": 74,
   "id": "0bffef4b",
   "metadata": {},
   "outputs": [
    {
     "name": "stdout",
     "output_type": "stream",
     "text": [
      "49.3 µs ± 225 ns per loop (mean ± std. dev. of 7 runs, 10000 loops each)\n"
     ]
    }
   ],
   "source": [
    "%timeit time_solve_jit()"
   ]
  },
  {
   "cell_type": "code",
   "execution_count": 75,
   "id": "f5e0f082",
   "metadata": {},
   "outputs": [
    {
     "data": {
      "text/plain": [
       "290.0608519269777"
      ]
     },
     "execution_count": 75,
     "metadata": {},
     "output_type": "execute_result"
    }
   ],
   "source": [
    "14.3 * 1000 / 49.3"
   ]
  },
  {
   "cell_type": "code",
   "execution_count": null,
   "id": "e6709847",
   "metadata": {},
   "outputs": [],
   "source": []
  }
 ],
 "metadata": {
  "kernelspec": {
   "display_name": "Python 3",
   "language": "python",
   "name": "python3"
  },
  "language_info": {
   "codemirror_mode": {
    "name": "ipython",
    "version": 3
   },
   "file_extension": ".py",
   "mimetype": "text/x-python",
   "name": "python",
   "nbconvert_exporter": "python",
   "pygments_lexer": "ipython3",
   "version": "3.9.4"
  }
 },
 "nbformat": 4,
 "nbformat_minor": 5
}
