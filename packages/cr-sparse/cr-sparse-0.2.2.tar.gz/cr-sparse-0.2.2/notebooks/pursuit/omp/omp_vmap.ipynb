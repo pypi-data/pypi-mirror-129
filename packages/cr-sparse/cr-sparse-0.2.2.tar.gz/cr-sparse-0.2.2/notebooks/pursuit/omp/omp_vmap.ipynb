{
 "cells": [
  {
   "cell_type": "code",
   "execution_count": 34,
   "id": "ba5e93e8",
   "metadata": {},
   "outputs": [
    {
     "name": "stdout",
     "output_type": "stream",
     "text": [
      "The autoreload extension is already loaded. To reload it, use:\n",
      "  %reload_ext autoreload\n"
     ]
    }
   ],
   "source": [
    "%load_ext autoreload\n",
    "%autoreload 2"
   ]
  },
  {
   "cell_type": "code",
   "execution_count": 35,
   "id": "536dc0fa",
   "metadata": {},
   "outputs": [],
   "source": [
    "import jax\n",
    "import jax.numpy as jnp\n",
    "import numpy as np\n",
    "from jax import random, jit, grad\n",
    "import scipy"
   ]
  },
  {
   "cell_type": "code",
   "execution_count": 36,
   "id": "f5b01500",
   "metadata": {},
   "outputs": [],
   "source": [
    "import cr.sparse as crs\n",
    "from cr.sparse import la\n",
    "from cr.sparse import dict\n",
    "from cr.sparse import pursuit\n",
    "from cr.sparse import data"
   ]
  },
  {
   "cell_type": "code",
   "execution_count": 37,
   "id": "ad07cc52",
   "metadata": {},
   "outputs": [],
   "source": [
    "from cr.sparse.pursuit import omp"
   ]
  },
  {
   "cell_type": "code",
   "execution_count": 38,
   "id": "65431700",
   "metadata": {},
   "outputs": [],
   "source": [
    "M = 256\n",
    "N = 1024\n",
    "K = 16\n",
    "S = 32"
   ]
  },
  {
   "cell_type": "code",
   "execution_count": 39,
   "id": "614b5fab",
   "metadata": {},
   "outputs": [],
   "source": [
    "key = random.PRNGKey(0)\n",
    "Phi = dict.gaussian_mtx(key, M,N)"
   ]
  },
  {
   "cell_type": "code",
   "execution_count": 40,
   "id": "c0379bea",
   "metadata": {},
   "outputs": [
    {
     "data": {
      "text/plain": [
       "DeviceArray(0.30067617, dtype=float32)"
      ]
     },
     "execution_count": 40,
     "metadata": {},
     "output_type": "execute_result"
    }
   ],
   "source": [
    "dict.coherence(Phi)"
   ]
  },
  {
   "cell_type": "code",
   "execution_count": 41,
   "id": "f0c688d0",
   "metadata": {},
   "outputs": [
    {
     "data": {
      "text/plain": [
       "(1024, 32)"
      ]
     },
     "execution_count": 41,
     "metadata": {},
     "output_type": "execute_result"
    }
   ],
   "source": [
    "X, omega = data.sparse_normal_representations(key, N, K, S)\n",
    "X.shape"
   ]
  },
  {
   "cell_type": "code",
   "execution_count": 42,
   "id": "5576da46",
   "metadata": {},
   "outputs": [
    {
     "data": {
      "text/plain": [
       "DeviceArray([  9,  12, 102, 121, 136, 199, 257, 291, 306, 352, 531, 556,\n",
       "             596, 749, 760, 902], dtype=int32)"
      ]
     },
     "execution_count": 42,
     "metadata": {},
     "output_type": "execute_result"
    }
   ],
   "source": [
    "omega"
   ]
  },
  {
   "cell_type": "code",
   "execution_count": 43,
   "id": "7031c08a",
   "metadata": {},
   "outputs": [
    {
     "data": {
      "text/plain": [
       "(256, 32)"
      ]
     },
     "execution_count": 43,
     "metadata": {},
     "output_type": "execute_result"
    }
   ],
   "source": [
    "Y = Phi @ X\n",
    "Y.shape"
   ]
  },
  {
   "cell_type": "code",
   "execution_count": 44,
   "id": "65005c52",
   "metadata": {},
   "outputs": [],
   "source": [
    "solution = omp.solve_multi(Phi, Y, K)"
   ]
  },
  {
   "cell_type": "code",
   "execution_count": 45,
   "id": "ecaaf45e",
   "metadata": {},
   "outputs": [
    {
     "data": {
      "text/plain": [
       "DeviceArray(3.2312356e-12, dtype=float32)"
      ]
     },
     "execution_count": 45,
     "metadata": {},
     "output_type": "execute_result"
    }
   ],
   "source": [
    "jnp.max(solution.r_norm_sqr)"
   ]
  },
  {
   "cell_type": "code",
   "execution_count": 46,
   "id": "a2096a37",
   "metadata": {},
   "outputs": [],
   "source": [
    "def time_solve_multi():\n",
    "    solution = omp.solve_multi(Phi, Y, K)\n",
    "    solution.x_I.block_until_ready()\n",
    "    solution.r.block_until_ready()\n",
    "    solution.I.block_until_ready()\n",
    "    solution.r_norm_sqr.block_until_ready()"
   ]
  },
  {
   "cell_type": "code",
   "execution_count": 47,
   "id": "3c8412d4",
   "metadata": {},
   "outputs": [
    {
     "name": "stdout",
     "output_type": "stream",
     "text": [
      "270 ms ± 2.9 ms per loop (mean ± std. dev. of 7 runs, 1 loop each)\n"
     ]
    }
   ],
   "source": [
    "%timeit time_solve_multi()"
   ]
  },
  {
   "cell_type": "code",
   "execution_count": 48,
   "id": "33182165",
   "metadata": {},
   "outputs": [],
   "source": [
    "solve_multi = jax.jit(omp.solve_multi, static_argnums=(2,))"
   ]
  },
  {
   "cell_type": "code",
   "execution_count": 49,
   "id": "6609d991",
   "metadata": {},
   "outputs": [],
   "source": [
    "def time_solve_multi_jit():\n",
    "    solution = solve_multi(Phi, Y, K)\n",
    "    solution.x_I.block_until_ready()\n",
    "    solution.r.block_until_ready()\n",
    "    solution.I.block_until_ready()\n",
    "    solution.r_norm_sqr.block_until_ready()"
   ]
  },
  {
   "cell_type": "code",
   "execution_count": 52,
   "id": "41f1a1fc",
   "metadata": {},
   "outputs": [
    {
     "name": "stdout",
     "output_type": "stream",
     "text": [
      "6.11 ms ± 72.5 µs per loop (mean ± std. dev. of 7 runs, 100 loops each)\n"
     ]
    }
   ],
   "source": [
    "%timeit time_solve_multi_jit()"
   ]
  },
  {
   "cell_type": "code",
   "execution_count": null,
   "id": "eeebce23",
   "metadata": {},
   "outputs": [],
   "source": []
  }
 ],
 "metadata": {
  "kernelspec": {
   "display_name": "Python 3",
   "language": "python",
   "name": "python3"
  },
  "language_info": {
   "codemirror_mode": {
    "name": "ipython",
    "version": 3
   },
   "file_extension": ".py",
   "mimetype": "text/x-python",
   "name": "python",
   "nbconvert_exporter": "python",
   "pygments_lexer": "ipython3",
   "version": "3.9.4"
  }
 },
 "nbformat": 4,
 "nbformat_minor": 5
}
