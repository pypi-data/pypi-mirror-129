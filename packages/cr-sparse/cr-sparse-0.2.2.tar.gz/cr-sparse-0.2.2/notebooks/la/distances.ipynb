{
 "cells": [
  {
   "cell_type": "code",
   "execution_count": 1,
   "id": "52709409",
   "metadata": {},
   "outputs": [],
   "source": [
    "%load_ext autoreload\n",
    "%autoreload 2"
   ]
  },
  {
   "cell_type": "code",
   "execution_count": 2,
   "id": "9ac94f94",
   "metadata": {},
   "outputs": [],
   "source": [
    "import jax\n",
    "import jax.numpy as jnp"
   ]
  },
  {
   "cell_type": "code",
   "execution_count": 3,
   "id": "55bccde2",
   "metadata": {},
   "outputs": [],
   "source": [
    "import cr"
   ]
  },
  {
   "cell_type": "code",
   "execution_count": 4,
   "id": "2cde83f0",
   "metadata": {},
   "outputs": [],
   "source": [
    "M = 10\n",
    "p = 3\n",
    "N = 5"
   ]
  },
  {
   "cell_type": "code",
   "execution_count": 5,
   "id": "3c27ad83",
   "metadata": {},
   "outputs": [
    {
     "name": "stderr",
     "output_type": "stream",
     "text": [
      "WARNING:absl:No GPU/TPU found, falling back to CPU. (Set TF_CPP_MIN_LOG_LEVEL=0 and rerun for more info.)\n"
     ]
    },
    {
     "data": {
      "text/plain": [
       "DeviceArray([[0., 0., 0.],\n",
       "             [0., 0., 0.],\n",
       "             [0., 0., 0.],\n",
       "             [0., 0., 0.],\n",
       "             [0., 0., 0.],\n",
       "             [0., 0., 0.],\n",
       "             [0., 0., 0.],\n",
       "             [0., 0., 0.],\n",
       "             [0., 0., 0.],\n",
       "             [0., 0., 0.]], dtype=float32)"
      ]
     },
     "execution_count": 5,
     "metadata": {},
     "output_type": "execute_result"
    }
   ],
   "source": [
    "A = jnp.zeros([M, p])\n",
    "A"
   ]
  },
  {
   "cell_type": "code",
   "execution_count": 6,
   "id": "0c373a18",
   "metadata": {},
   "outputs": [
    {
     "data": {
      "text/plain": [
       "DeviceArray([[1., 1., 1.],\n",
       "             [1., 1., 1.],\n",
       "             [1., 1., 1.],\n",
       "             [1., 1., 1.],\n",
       "             [1., 1., 1.]], dtype=float32)"
      ]
     },
     "execution_count": 6,
     "metadata": {},
     "output_type": "execute_result"
    }
   ],
   "source": [
    "B = jnp.ones([N, p])\n",
    "B"
   ]
  },
  {
   "cell_type": "code",
   "execution_count": 7,
   "id": "99c08f7a",
   "metadata": {},
   "outputs": [],
   "source": [
    "import cr.sparse as crs"
   ]
  },
  {
   "cell_type": "code",
   "execution_count": 8,
   "id": "6a4b220a",
   "metadata": {},
   "outputs": [
    {
     "data": {
      "text/plain": [
       "DeviceArray([[3., 3., 3., 3., 3.],\n",
       "             [3., 3., 3., 3., 3.],\n",
       "             [3., 3., 3., 3., 3.],\n",
       "             [3., 3., 3., 3., 3.],\n",
       "             [3., 3., 3., 3., 3.],\n",
       "             [3., 3., 3., 3., 3.],\n",
       "             [3., 3., 3., 3., 3.],\n",
       "             [3., 3., 3., 3., 3.],\n",
       "             [3., 3., 3., 3., 3.],\n",
       "             [3., 3., 3., 3., 3.]], dtype=float32)"
      ]
     },
     "execution_count": 8,
     "metadata": {},
     "output_type": "execute_result"
    }
   ],
   "source": [
    "crs.pairwise_sqr_l2_distances_rw(A, B)"
   ]
  },
  {
   "cell_type": "code",
   "execution_count": 9,
   "id": "a9e7ca39",
   "metadata": {},
   "outputs": [],
   "source": [
    "A = 3*jnp.ones([M, p])"
   ]
  },
  {
   "cell_type": "code",
   "execution_count": 10,
   "id": "caba091c",
   "metadata": {},
   "outputs": [],
   "source": [
    "B = 5*jnp.ones([N, p])"
   ]
  },
  {
   "cell_type": "code",
   "execution_count": 11,
   "id": "afd74516",
   "metadata": {},
   "outputs": [
    {
     "data": {
      "text/plain": [
       "DeviceArray([[12., 12., 12., 12., 12.],\n",
       "             [12., 12., 12., 12., 12.],\n",
       "             [12., 12., 12., 12., 12.],\n",
       "             [12., 12., 12., 12., 12.],\n",
       "             [12., 12., 12., 12., 12.],\n",
       "             [12., 12., 12., 12., 12.],\n",
       "             [12., 12., 12., 12., 12.],\n",
       "             [12., 12., 12., 12., 12.],\n",
       "             [12., 12., 12., 12., 12.],\n",
       "             [12., 12., 12., 12., 12.]], dtype=float32)"
      ]
     },
     "execution_count": 11,
     "metadata": {},
     "output_type": "execute_result"
    }
   ],
   "source": [
    "crs.pairwise_sqr_l2_distances_rw(A, B)"
   ]
  },
  {
   "cell_type": "code",
   "execution_count": 12,
   "id": "c32e0eb7",
   "metadata": {},
   "outputs": [
    {
     "data": {
      "text/plain": [
       "DeviceArray([[ 1.,  2.,  3.,  4.,  5.,  6.,  7.,  8.,  9., 10.],\n",
       "             [ 1.,  2.,  3.,  4.,  5.,  6.,  7.,  8.,  9., 10.],\n",
       "             [ 1.,  2.,  3.,  4.,  5.,  6.,  7.,  8.,  9., 10.]],            dtype=float32)"
      ]
     },
     "execution_count": 12,
     "metadata": {},
     "output_type": "execute_result"
    }
   ],
   "source": [
    "A = jnp.arange(1, M+1) * jnp.ones((p, 1))\n",
    "A"
   ]
  },
  {
   "cell_type": "code",
   "execution_count": 13,
   "id": "e2b91203",
   "metadata": {},
   "outputs": [
    {
     "data": {
      "text/plain": [
       "DeviceArray([[2., 3., 4., 5., 6.],\n",
       "             [2., 3., 4., 5., 6.],\n",
       "             [2., 3., 4., 5., 6.]], dtype=float32)"
      ]
     },
     "execution_count": 13,
     "metadata": {},
     "output_type": "execute_result"
    }
   ],
   "source": [
    "B = jnp.arange(2, N+2) * jnp.ones((p, 1))\n",
    "B"
   ]
  },
  {
   "cell_type": "code",
   "execution_count": 14,
   "id": "621d9e08",
   "metadata": {},
   "outputs": [
    {
     "data": {
      "text/plain": [
       "DeviceArray([[  3.,  12.,  27.,  48.,  75.],\n",
       "             [  0.,   3.,  12.,  27.,  48.],\n",
       "             [  3.,   0.,   3.,  12.,  27.],\n",
       "             [ 12.,   3.,   0.,   3.,  12.],\n",
       "             [ 27.,  12.,   3.,   0.,   3.],\n",
       "             [ 48.,  27.,  12.,   3.,   0.],\n",
       "             [ 75.,  48.,  27.,  12.,   3.],\n",
       "             [108.,  75.,  48.,  27.,  12.],\n",
       "             [147., 108.,  75.,  48.,  27.],\n",
       "             [192., 147., 108.,  75.,  48.]], dtype=float32)"
      ]
     },
     "execution_count": 14,
     "metadata": {},
     "output_type": "execute_result"
    }
   ],
   "source": [
    "crs.pairwise_sqr_l2_distances_rw(A.T, B.T)"
   ]
  },
  {
   "cell_type": "code",
   "execution_count": 15,
   "id": "5f457a82",
   "metadata": {},
   "outputs": [
    {
     "data": {
      "text/plain": [
       "DeviceArray([[  3.,  12.,  27.,  48.,  75.],\n",
       "             [  0.,   3.,  12.,  27.,  48.],\n",
       "             [  3.,   0.,   3.,  12.,  27.],\n",
       "             [ 12.,   3.,   0.,   3.,  12.],\n",
       "             [ 27.,  12.,   3.,   0.,   3.],\n",
       "             [ 48.,  27.,  12.,   3.,   0.],\n",
       "             [ 75.,  48.,  27.,  12.,   3.],\n",
       "             [108.,  75.,  48.,  27.,  12.],\n",
       "             [147., 108.,  75.,  48.,  27.],\n",
       "             [192., 147., 108.,  75.,  48.]], dtype=float32)"
      ]
     },
     "execution_count": 15,
     "metadata": {},
     "output_type": "execute_result"
    }
   ],
   "source": [
    "crs.pairwise_sqr_l2_distances_cw(A, B)"
   ]
  },
  {
   "cell_type": "code",
   "execution_count": 16,
   "id": "0cfa7e0a",
   "metadata": {},
   "outputs": [
    {
     "data": {
      "text/plain": [
       "DeviceArray([[  3.,  12.,  27.,  48.,  75.],\n",
       "             [  0.,   3.,  12.,  27.,  48.],\n",
       "             [  3.,   0.,   3.,  12.,  27.],\n",
       "             [ 12.,   3.,   0.,   3.,  12.],\n",
       "             [ 27.,  12.,   3.,   0.,   3.],\n",
       "             [ 48.,  27.,  12.,   3.,   0.],\n",
       "             [ 75.,  48.,  27.,  12.,   3.],\n",
       "             [108.,  75.,  48.,  27.,  12.],\n",
       "             [147., 108.,  75.,  48.,  27.],\n",
       "             [192., 147., 108.,  75.,  48.]], dtype=float32)"
      ]
     },
     "execution_count": 16,
     "metadata": {},
     "output_type": "execute_result"
    }
   ],
   "source": [
    "cr.sparse.pairwise_sqr_l2_distances_cw(A, B)"
   ]
  },
  {
   "cell_type": "code",
   "execution_count": 17,
   "id": "3aca30d0",
   "metadata": {},
   "outputs": [
    {
     "data": {
      "text/plain": [
       "DeviceArray([[ 1.,  2.,  3.,  4.,  5.,  6.,  7.,  8.,  9., 10.],\n",
       "             [ 1.,  2.,  3.,  4.,  5.,  6.,  7.,  8.,  9., 10.],\n",
       "             [ 1.,  2.,  3.,  4.,  5.,  6.,  7.,  8.,  9., 10.]],            dtype=float32)"
      ]
     },
     "execution_count": 17,
     "metadata": {},
     "output_type": "execute_result"
    }
   ],
   "source": [
    "A"
   ]
  },
  {
   "cell_type": "code",
   "execution_count": 18,
   "id": "ef390786",
   "metadata": {},
   "outputs": [
    {
     "data": {
      "text/plain": [
       "DeviceArray([[2., 3., 4., 5., 6.],\n",
       "             [2., 3., 4., 5., 6.],\n",
       "             [2., 3., 4., 5., 6.]], dtype=float32)"
      ]
     },
     "execution_count": 18,
     "metadata": {},
     "output_type": "execute_result"
    }
   ],
   "source": [
    "B"
   ]
  },
  {
   "cell_type": "code",
   "execution_count": 19,
   "id": "3733d8d1",
   "metadata": {},
   "outputs": [],
   "source": [
    "C = A.T"
   ]
  },
  {
   "cell_type": "code",
   "execution_count": 20,
   "id": "7987432c",
   "metadata": {},
   "outputs": [
    {
     "data": {
      "text/plain": [
       "DeviceArray([[ 1.,  1.,  1.],\n",
       "             [ 2.,  2.,  2.],\n",
       "             [ 3.,  3.,  3.],\n",
       "             [ 4.,  4.,  4.],\n",
       "             [ 5.,  5.,  5.],\n",
       "             [ 6.,  6.,  6.],\n",
       "             [ 7.,  7.,  7.],\n",
       "             [ 8.,  8.,  8.],\n",
       "             [ 9.,  9.,  9.],\n",
       "             [10., 10., 10.]], dtype=float32)"
      ]
     },
     "execution_count": 20,
     "metadata": {},
     "output_type": "execute_result"
    }
   ],
   "source": [
    "C"
   ]
  },
  {
   "cell_type": "code",
   "execution_count": 21,
   "id": "e44b1fa7",
   "metadata": {},
   "outputs": [],
   "source": [
    "D = B.T"
   ]
  },
  {
   "cell_type": "code",
   "execution_count": 22,
   "id": "d54b4ede",
   "metadata": {},
   "outputs": [
    {
     "data": {
      "text/plain": [
       "DeviceArray([[2., 2., 2.],\n",
       "             [3., 3., 3.],\n",
       "             [4., 4., 4.],\n",
       "             [5., 5., 5.],\n",
       "             [6., 6., 6.]], dtype=float32)"
      ]
     },
     "execution_count": 22,
     "metadata": {},
     "output_type": "execute_result"
    }
   ],
   "source": [
    "D"
   ]
  },
  {
   "cell_type": "code",
   "execution_count": 23,
   "id": "ed0d4dc4",
   "metadata": {},
   "outputs": [
    {
     "data": {
      "text/plain": [
       "DeviceArray([[ 3.,  6.,  9., 12., 15.],\n",
       "             [ 0.,  3.,  6.,  9., 12.],\n",
       "             [ 3.,  0.,  3.,  6.,  9.],\n",
       "             [ 6.,  3.,  0.,  3.,  6.],\n",
       "             [ 9.,  6.,  3.,  0.,  3.],\n",
       "             [12.,  9.,  6.,  3.,  0.],\n",
       "             [15., 12.,  9.,  6.,  3.],\n",
       "             [18., 15., 12.,  9.,  6.],\n",
       "             [21., 18., 15., 12.,  9.],\n",
       "             [24., 21., 18., 15., 12.]], dtype=float32)"
      ]
     },
     "execution_count": 23,
     "metadata": {},
     "output_type": "execute_result"
    }
   ],
   "source": [
    "crs.pairwise_l1_distances_rw(C, D)"
   ]
  },
  {
   "cell_type": "code",
   "execution_count": 24,
   "id": "d025f1d2",
   "metadata": {},
   "outputs": [
    {
     "data": {
      "text/plain": [
       "DeviceArray([[ 3.,  6.,  9., 12., 15.],\n",
       "             [ 0.,  3.,  6.,  9., 12.],\n",
       "             [ 3.,  0.,  3.,  6.,  9.],\n",
       "             [ 6.,  3.,  0.,  3.,  6.],\n",
       "             [ 9.,  6.,  3.,  0.,  3.],\n",
       "             [12.,  9.,  6.,  3.,  0.],\n",
       "             [15., 12.,  9.,  6.,  3.],\n",
       "             [18., 15., 12.,  9.,  6.],\n",
       "             [21., 18., 15., 12.,  9.],\n",
       "             [24., 21., 18., 15., 12.]], dtype=float32)"
      ]
     },
     "execution_count": 24,
     "metadata": {},
     "output_type": "execute_result"
    }
   ],
   "source": [
    "crs.pairwise_l1_distances_cw(A, B)"
   ]
  },
  {
   "cell_type": "code",
   "execution_count": 33,
   "id": "ba46e456",
   "metadata": {},
   "outputs": [
    {
     "data": {
      "text/plain": [
       "DeviceArray([[ 0.,  3.,  6.,  9., 12., 15., 18., 21., 24., 27.],\n",
       "             [ 3.,  0.,  3.,  6.,  9., 12., 15., 18., 21., 24.],\n",
       "             [ 6.,  3.,  0.,  3.,  6.,  9., 12., 15., 18., 21.],\n",
       "             [ 9.,  6.,  3.,  0.,  3.,  6.,  9., 12., 15., 18.],\n",
       "             [12.,  9.,  6.,  3.,  0.,  3.,  6.,  9., 12., 15.],\n",
       "             [15., 12.,  9.,  6.,  3.,  0.,  3.,  6.,  9., 12.],\n",
       "             [18., 15., 12.,  9.,  6.,  3.,  0.,  3.,  6.,  9.],\n",
       "             [21., 18., 15., 12.,  9.,  6.,  3.,  0.,  3.,  6.],\n",
       "             [24., 21., 18., 15., 12.,  9.,  6.,  3.,  0.,  3.],\n",
       "             [27., 24., 21., 18., 15., 12.,  9.,  6.,  3.,  0.]],            dtype=float32)"
      ]
     },
     "execution_count": 33,
     "metadata": {},
     "output_type": "execute_result"
    }
   ],
   "source": [
    "crs.pdist_l1_rw(C)"
   ]
  },
  {
   "cell_type": "code",
   "execution_count": 34,
   "id": "832011f7",
   "metadata": {},
   "outputs": [
    {
     "data": {
      "text/plain": [
       "DeviceArray([[ 0.,  3.,  6.,  9., 12., 15., 18., 21., 24., 27.],\n",
       "             [ 3.,  0.,  3.,  6.,  9., 12., 15., 18., 21., 24.],\n",
       "             [ 6.,  3.,  0.,  3.,  6.,  9., 12., 15., 18., 21.],\n",
       "             [ 9.,  6.,  3.,  0.,  3.,  6.,  9., 12., 15., 18.],\n",
       "             [12.,  9.,  6.,  3.,  0.,  3.,  6.,  9., 12., 15.],\n",
       "             [15., 12.,  9.,  6.,  3.,  0.,  3.,  6.,  9., 12.],\n",
       "             [18., 15., 12.,  9.,  6.,  3.,  0.,  3.,  6.,  9.],\n",
       "             [21., 18., 15., 12.,  9.,  6.,  3.,  0.,  3.,  6.],\n",
       "             [24., 21., 18., 15., 12.,  9.,  6.,  3.,  0.,  3.],\n",
       "             [27., 24., 21., 18., 15., 12.,  9.,  6.,  3.,  0.]],            dtype=float32)"
      ]
     },
     "execution_count": 34,
     "metadata": {},
     "output_type": "execute_result"
    }
   ],
   "source": [
    "crs.pdist_l1_cw(A)"
   ]
  },
  {
   "cell_type": "code",
   "execution_count": 35,
   "id": "ef3488c8",
   "metadata": {},
   "outputs": [
    {
     "data": {
      "text/plain": [
       "DeviceArray([[ 1.,  2.,  3.,  4.,  5.,  6.,  7.,  8.,  9., 10.],\n",
       "             [ 1.,  2.,  3.,  4.,  5.,  6.,  7.,  8.,  9., 10.],\n",
       "             [ 1.,  2.,  3.,  4.,  5.,  6.,  7.,  8.,  9., 10.]],            dtype=float32)"
      ]
     },
     "execution_count": 35,
     "metadata": {},
     "output_type": "execute_result"
    }
   ],
   "source": [
    "A"
   ]
  },
  {
   "cell_type": "code",
   "execution_count": 36,
   "id": "3ce53f35",
   "metadata": {},
   "outputs": [
    {
     "data": {
      "text/plain": [
       "DeviceArray([[1., 2., 3., 4., 5.],\n",
       "             [0., 1., 2., 3., 4.],\n",
       "             [1., 0., 1., 2., 3.],\n",
       "             [2., 1., 0., 1., 2.],\n",
       "             [3., 2., 1., 0., 1.],\n",
       "             [4., 3., 2., 1., 0.],\n",
       "             [5., 4., 3., 2., 1.],\n",
       "             [6., 5., 4., 3., 2.],\n",
       "             [7., 6., 5., 4., 3.],\n",
       "             [8., 7., 6., 5., 4.]], dtype=float32)"
      ]
     },
     "execution_count": 36,
     "metadata": {},
     "output_type": "execute_result"
    }
   ],
   "source": [
    "crs.pairwise_linf_distances_rw(C, D)"
   ]
  },
  {
   "cell_type": "code",
   "execution_count": 39,
   "id": "a587b980",
   "metadata": {},
   "outputs": [
    {
     "data": {
      "text/plain": [
       "DeviceArray([[1., 2., 3., 4., 5.],\n",
       "             [0., 1., 2., 3., 4.],\n",
       "             [1., 0., 1., 2., 3.],\n",
       "             [2., 1., 0., 1., 2.],\n",
       "             [3., 2., 1., 0., 1.],\n",
       "             [4., 3., 2., 1., 0.],\n",
       "             [5., 4., 3., 2., 1.],\n",
       "             [6., 5., 4., 3., 2.],\n",
       "             [7., 6., 5., 4., 3.],\n",
       "             [8., 7., 6., 5., 4.]], dtype=float32)"
      ]
     },
     "execution_count": 39,
     "metadata": {},
     "output_type": "execute_result"
    }
   ],
   "source": [
    "crs.pairwise_linf_distances_cw(A, B)"
   ]
  },
  {
   "cell_type": "code",
   "execution_count": 40,
   "id": "b76c35ac",
   "metadata": {},
   "outputs": [
    {
     "data": {
      "text/plain": [
       "DeviceArray([[0., 1., 2., 3., 4., 5., 6., 7., 8., 9.],\n",
       "             [1., 0., 1., 2., 3., 4., 5., 6., 7., 8.],\n",
       "             [2., 1., 0., 1., 2., 3., 4., 5., 6., 7.],\n",
       "             [3., 2., 1., 0., 1., 2., 3., 4., 5., 6.],\n",
       "             [4., 3., 2., 1., 0., 1., 2., 3., 4., 5.],\n",
       "             [5., 4., 3., 2., 1., 0., 1., 2., 3., 4.],\n",
       "             [6., 5., 4., 3., 2., 1., 0., 1., 2., 3.],\n",
       "             [7., 6., 5., 4., 3., 2., 1., 0., 1., 2.],\n",
       "             [8., 7., 6., 5., 4., 3., 2., 1., 0., 1.],\n",
       "             [9., 8., 7., 6., 5., 4., 3., 2., 1., 0.]], dtype=float32)"
      ]
     },
     "execution_count": 40,
     "metadata": {},
     "output_type": "execute_result"
    }
   ],
   "source": [
    "crs.pdist_linf_rw(C)"
   ]
  },
  {
   "cell_type": "code",
   "execution_count": 41,
   "id": "b1e8c379",
   "metadata": {},
   "outputs": [
    {
     "data": {
      "text/plain": [
       "DeviceArray([[0., 1., 2., 3., 4.],\n",
       "             [1., 0., 1., 2., 3.],\n",
       "             [2., 1., 0., 1., 2.],\n",
       "             [3., 2., 1., 0., 1.],\n",
       "             [4., 3., 2., 1., 0.]], dtype=float32)"
      ]
     },
     "execution_count": 41,
     "metadata": {},
     "output_type": "execute_result"
    }
   ],
   "source": [
    "crs.pdist_linf_cw(B)"
   ]
  },
  {
   "cell_type": "code",
   "execution_count": 44,
   "id": "7fc8e464",
   "metadata": {},
   "outputs": [
    {
     "data": {
      "text/plain": [
       "DeviceArray([ True,  True, False, False,  True,  True], dtype=bool)"
      ]
     },
     "execution_count": 44,
     "metadata": {},
     "output_type": "execute_result"
    }
   ],
   "source": [
    "jnp.mod(jnp.array([1, 2, 2.1, 2.3, 1.0, 3.0]), 1) == 0"
   ]
  },
  {
   "cell_type": "code",
   "execution_count": 57,
   "id": "9e757ca4",
   "metadata": {},
   "outputs": [],
   "source": [
    "x = jnp.array([1, -2, -2.1, 2.3, 1.0, 3.0, 2.0, -1])"
   ]
  },
  {
   "cell_type": "code",
   "execution_count": 51,
   "id": "f8e31895",
   "metadata": {},
   "outputs": [
    {
     "data": {
      "text/plain": [
       "DeviceArray([ True, False, False, False,  True,  True], dtype=bool)"
      ]
     },
     "execution_count": 51,
     "metadata": {},
     "output_type": "execute_result"
    }
   ],
   "source": [
    "jnp.logical_and(x > 0, jnp.mod(x, 1) == 0)"
   ]
  },
  {
   "cell_type": "code",
   "execution_count": 53,
   "id": "4058c79a",
   "metadata": {},
   "outputs": [
    {
     "data": {
      "text/plain": [
       "DeviceArray([ True, False, False, False,  True,  True], dtype=bool)"
      ]
     },
     "execution_count": 53,
     "metadata": {},
     "output_type": "execute_result"
    }
   ],
   "source": [
    "jnp.mod(x, 2) == 1"
   ]
  },
  {
   "cell_type": "code",
   "execution_count": 54,
   "id": "cef872c4",
   "metadata": {},
   "outputs": [
    {
     "data": {
      "text/plain": [
       "DeviceArray([False,  True, False, False, False, False], dtype=bool)"
      ]
     },
     "execution_count": 54,
     "metadata": {},
     "output_type": "execute_result"
    }
   ],
   "source": [
    "jnp.mod(x, 2) == 0"
   ]
  },
  {
   "cell_type": "code",
   "execution_count": 58,
   "id": "71e934f6",
   "metadata": {},
   "outputs": [
    {
     "data": {
      "text/plain": [
       "DeviceArray([ True, False, False, False,  True,  True, False, False], dtype=bool)"
      ]
     },
     "execution_count": 58,
     "metadata": {},
     "output_type": "execute_result"
    }
   ],
   "source": [
    "jnp.logical_and(x > 0, jnp.mod(x, 2) == 1)"
   ]
  },
  {
   "cell_type": "code",
   "execution_count": 59,
   "id": "dc21745d",
   "metadata": {},
   "outputs": [],
   "source": [
    "x = 2"
   ]
  },
  {
   "cell_type": "code",
   "execution_count": 60,
   "id": "257eeb3b",
   "metadata": {},
   "outputs": [
    {
     "data": {
      "text/plain": [
       "DeviceArray(False, dtype=bool)"
      ]
     },
     "execution_count": 60,
     "metadata": {},
     "output_type": "execute_result"
    }
   ],
   "source": [
    "jnp.logical_and(x > 0, jnp.mod(x, 2) == 1)"
   ]
  },
  {
   "cell_type": "code",
   "execution_count": 62,
   "id": "a8a76612",
   "metadata": {},
   "outputs": [
    {
     "data": {
      "text/plain": [
       "DeviceArray(True, dtype=bool)"
      ]
     },
     "execution_count": 62,
     "metadata": {},
     "output_type": "execute_result"
    }
   ],
   "source": [
    "jnp.logical_not(jnp.bitwise_and(x, x - 1))"
   ]
  },
  {
   "cell_type": "code",
   "execution_count": 65,
   "id": "067b87f8",
   "metadata": {},
   "outputs": [],
   "source": [
    "x = jnp.arange(1, 17)"
   ]
  },
  {
   "cell_type": "code",
   "execution_count": 66,
   "id": "094e6cc8",
   "metadata": {},
   "outputs": [
    {
     "data": {
      "text/plain": [
       "DeviceArray([ True,  True, False,  True, False, False, False,  True,\n",
       "             False, False, False, False, False, False, False,  True],            dtype=bool)"
      ]
     },
     "execution_count": 66,
     "metadata": {},
     "output_type": "execute_result"
    }
   ],
   "source": [
    "jnp.logical_not(jnp.bitwise_and(x, x - 1))"
   ]
  },
  {
   "cell_type": "code",
   "execution_count": 67,
   "id": "fcf5aa2f",
   "metadata": {},
   "outputs": [
    {
     "data": {
      "text/plain": [
       "DeviceArray([ 1.,  2.,  3.,  4.,  5.,  6.,  7.,  8.,  9., 10., 11., 12.,\n",
       "             13., 14., 15., 16.], dtype=float32)"
      ]
     },
     "execution_count": 67,
     "metadata": {},
     "output_type": "execute_result"
    }
   ],
   "source": [
    "jnp.floor(x)"
   ]
  },
  {
   "cell_type": "code",
   "execution_count": 69,
   "id": "3df51adb",
   "metadata": {},
   "outputs": [
    {
     "data": {
      "text/plain": [
       "<function jax._src.numpy.lax_numpy.remainder(x1, x2)>"
      ]
     },
     "execution_count": 69,
     "metadata": {},
     "output_type": "execute_result"
    }
   ],
   "source": [
    "jnp.mod"
   ]
  },
  {
   "cell_type": "code",
   "execution_count": 70,
   "id": "6843e5e5",
   "metadata": {},
   "outputs": [
    {
     "data": {
      "text/plain": [
       "DeviceArray([ True,  True,  True,  True,  True,  True,  True,  True,\n",
       "              True,  True,  True,  True,  True,  True,  True,  True],            dtype=bool)"
      ]
     },
     "execution_count": 70,
     "metadata": {},
     "output_type": "execute_result"
    }
   ],
   "source": [
    "crs.is_integer(x)"
   ]
  },
  {
   "cell_type": "code",
   "execution_count": 78,
   "id": "5f854f7e",
   "metadata": {},
   "outputs": [
    {
     "data": {
      "text/plain": [
       "(DeviceArray(4, dtype=int32), DeviceArray(4, dtype=int32))"
      ]
     },
     "execution_count": 78,
     "metadata": {},
     "output_type": "execute_result"
    }
   ],
   "source": [
    "crs.integer_factors_close_to_sqr_root(16)"
   ]
  },
  {
   "cell_type": "code",
   "execution_count": 74,
   "id": "bd48133c",
   "metadata": {},
   "outputs": [
    {
     "data": {
      "text/plain": [
       "DeviceArray([ 1,  2,  3,  4,  5,  6,  7,  8,  9, 10, 11, 12, 13, 14, 15,\n",
       "             16], dtype=int32)"
      ]
     },
     "execution_count": 74,
     "metadata": {},
     "output_type": "execute_result"
    }
   ],
   "source": []
  },
  {
   "cell_type": "code",
   "execution_count": 79,
   "id": "a34a52d6",
   "metadata": {},
   "outputs": [
    {
     "name": "stderr",
     "output_type": "stream",
     "text": [
      "[autoreload of cr.sparse._src.discrete.number failed: Traceback (most recent call last):\n",
      "  File \"/opt/anaconda3/envs/jax/lib/python3.9/site-packages/IPython/extensions/autoreload.py\", line 245, in check\n",
      "    superreload(m, reload, self.old_objects)\n",
      "  File \"/opt/anaconda3/envs/jax/lib/python3.9/site-packages/IPython/extensions/autoreload.py\", line 394, in superreload\n",
      "    module = reload(module)\n",
      "  File \"/opt/anaconda3/envs/jax/lib/python3.9/imp.py\", line 314, in reload\n",
      "    return importlib.reload(module)\n",
      "  File \"/opt/anaconda3/envs/jax/lib/python3.9/importlib/__init__.py\", line 169, in reload\n",
      "    _bootstrap._exec(spec, module)\n",
      "  File \"<frozen importlib._bootstrap>\", line 613, in _exec\n",
      "  File \"<frozen importlib._bootstrap_external>\", line 790, in exec_module\n",
      "  File \"<frozen importlib._bootstrap>\", line 228, in _call_with_frames_removed\n",
      "  File \"/Users/shailesh/work/carnot/lib/cr-sparse/src/cr/sparse/_src/discrete/number.py\", line 17, in <module>\n",
      "    from sympy.ntheory import factorint\n",
      "ModuleNotFoundError: No module named 'sympy'\n",
      "]\n"
     ]
    },
    {
     "ename": "NameError",
     "evalue": "name 'sqrt' is not defined",
     "output_type": "error",
     "traceback": [
      "\u001b[0;31m---------------------------------------------------------------------------\u001b[0m",
      "\u001b[0;31mNameError\u001b[0m                                 Traceback (most recent call last)",
      "\u001b[0;32m<ipython-input-79-66e338417901>\u001b[0m in \u001b[0;36m<module>\u001b[0;34m\u001b[0m\n\u001b[0;32m----> 1\u001b[0;31m \u001b[0msqrt\u001b[0m\u001b[0;34m(\u001b[0m\u001b[0;36m2\u001b[0m\u001b[0;34m)\u001b[0m\u001b[0;34m\u001b[0m\u001b[0;34m\u001b[0m\u001b[0m\n\u001b[0m",
      "\u001b[0;31mNameError\u001b[0m: name 'sqrt' is not defined"
     ]
    }
   ],
   "source": [
    "sqrt(2)"
   ]
  },
  {
   "cell_type": "code",
   "execution_count": null,
   "id": "01fd1d70",
   "metadata": {},
   "outputs": [],
   "source": []
  }
 ],
 "metadata": {
  "kernelspec": {
   "display_name": "Python 3",
   "language": "python",
   "name": "python3"
  },
  "language_info": {
   "codemirror_mode": {
    "name": "ipython",
    "version": 3
   },
   "file_extension": ".py",
   "mimetype": "text/x-python",
   "name": "python",
   "nbconvert_exporter": "python",
   "pygments_lexer": "ipython3",
   "version": "3.9.4"
  }
 },
 "nbformat": 4,
 "nbformat_minor": 5
}
