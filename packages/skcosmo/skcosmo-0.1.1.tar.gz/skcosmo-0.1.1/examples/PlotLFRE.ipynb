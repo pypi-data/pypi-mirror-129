{
 "cells": [
  {
   "cell_type": "markdown",
   "metadata": {
    "toc": true
   },
   "source": [
    "<h1>Table of Contents<span class=\"tocSkip\"></span></h1>\n",
    "<div class=\"toc\"><ul class=\"toc-item\"><li><span><a href=\"#Pointwise-Local-Reconstruction-Error\" data-toc-modified-id=\"Pointwise-Local-Reconstruction-Error-1\"><span class=\"toc-item-num\">1&nbsp;&nbsp;</span>Pointwise Local Reconstruction Error</a></span></li></ul></div>"
   ]
  },
  {
   "cell_type": "markdown",
   "metadata": {},
   "source": [
    "Pointwise Local Reconstruction Error\n",
    "===================================="
   ]
  },
  {
   "cell_type": "markdown",
   "metadata": {},
   "source": [
    "Example for the usage of the `skcosmo.metrics.pointwise_local_reconstruction_error` as pointwise local reconstruction error (LFRE) on the degenerate CH4 manifold. We apply the local reconstruction measure on the degenerate CH4 manifold dataset. This dataset was specifically constructed to be representable by a 4-body features (bispectrum) but not by a 3-body features (power spectrum). In other words the dataset contains environments which are different, but have the same 3-body features. For more details about the dataset please refer to [Pozdnyakov 2020](https://doi.org/10.1103/PhysRevLett.125.166001) .\n",
    "\n",
    "The skcosmo dataset already contains the 3 and 4-body features computed with [librascal](https://github.com/cosmo-epfl/librascal) so we can load it and compare it with the LFRE."
   ]
  },
  {
   "cell_type": "code",
   "execution_count": null,
   "metadata": {},
   "outputs": [],
   "source": [
    "import numpy as np\n",
    "import matplotlib.pyplot as plt\n",
    "import matplotlib as mpl\n",
    "\n",
    "mpl.rc('font', size=20)\n",
    "\n",
    "from skcosmo.datasets import load_degenerate_CH4_manifold\n",
    "from skcosmo.metrics import pointwise_local_reconstruction_error\n",
    "\n",
    "# load features\n",
    "degenerate_manifold = load_degenerate_CH4_manifold()\n",
    "power_spectrum_features = degenerate_manifold.data.SOAP_power_spectrum\n",
    "bispectrum_features = degenerate_manifold.data.SOAP_bispectrum"
   ]
  },
  {
   "cell_type": "code",
   "execution_count": null,
   "metadata": {},
   "outputs": [],
   "source": [
    "print(degenerate_manifold.DESCR)"
   ]
  },
  {
   "cell_type": "code",
   "execution_count": null,
   "metadata": {},
   "outputs": [],
   "source": [
    "n_local_points = 20\n",
    "\n",
    "print(\"Computing pointwise LFRE...\")\n",
    "\n",
    "# local reconstruction error of power spectrum features using bispectrum features\n",
    "power_spectrum_to_bispectrum_pointwise_lfre = pointwise_local_reconstruction_error(\n",
    "    power_spectrum_features,\n",
    "    bispectrum_features,\n",
    "    n_local_points,\n",
    "    train_idx = np.arange(0, len(power_spectrum_features), 2),\n",
    "    test_idx = np.arange(0, len(power_spectrum_features)),\n",
    "    estimator=None,\n",
    "    n_jobs=4,\n",
    ")\n",
    "\n",
    "# local reconstruction error of bispectrum features using power spectrum features\n",
    "bispectrum_to_power_spectrum_pointwise_lfre = pointwise_local_reconstruction_error(\n",
    "    bispectrum_features,\n",
    "    power_spectrum_features,\n",
    "    n_local_points,\n",
    "    train_idx = np.arange(0, len(power_spectrum_features), 2),\n",
    "    test_idx = np.arange(0, len(power_spectrum_features)),    \n",
    "    estimator=None,\n",
    "    n_jobs=4,\n",
    ")\n",
    "\n",
    "print(\"Computing pointwise LFRE finished.\")\n",
    "\n",
    "print(\n",
    "    \"LFRE(3-body, 4-body) = \",\n",
    "    np.linalg.norm(power_spectrum_to_bispectrum_pointwise_lfre)/np.sqrt(len(power_spectrum_to_bispectrum_pointwise_lfre))\n",
    ")\n",
    "\n",
    "print(\n",
    "    \"LFRE(4-body, 3-body) = \",\n",
    "    np.linalg.norm(bispectrum_to_power_spectrum_pointwise_lfre)/np.sqrt(len(power_spectrum_to_bispectrum_pointwise_lfre))\n",
    ")"
   ]
  },
  {
   "cell_type": "code",
   "execution_count": null,
   "metadata": {},
   "outputs": [],
   "source": [
    "fig, (ax34, ax43) = plt.subplots(\n",
    "    1, 2, constrained_layout=True, figsize=(16, 7.5), sharey=\"row\", sharex=True\n",
    ")\n",
    "\n",
    "vmax = 0.5\n",
    "\n",
    "X, Y = np.meshgrid(np.linspace(0.7, 0.9, 9), np.linspace(-0.1, 0.1, 9))\n",
    "pcm = ax34.contourf(\n",
    "    X,\n",
    "    Y,\n",
    "    power_spectrum_to_bispectrum_pointwise_lfre[81:].reshape(9, 9).T,\n",
    "    vmin=0,\n",
    "    vmax=vmax,\n",
    ")\n",
    "\n",
    "ax43.contourf(\n",
    "    X,\n",
    "    Y,\n",
    "    bispectrum_to_power_spectrum_pointwise_lfre[81:].reshape(9, 9).T,\n",
    "    vmin=0,\n",
    "    vmax=vmax,\n",
    ")\n",
    "\n",
    "ax34.axhline(y=0, color=\"red\", linewidth=5)\n",
    "ax43.axhline(y=0, color=\"red\", linewidth=5)\n",
    "ax34.set_ylabel(r\"v/$\\pi$\")\n",
    "ax34.set_xlabel(r\"u/$\\pi$\")\n",
    "ax43.set_xlabel(r\"u/$\\pi$\")\n",
    "\n",
    "ax34.set_title(r\"$X^-$ LFRE(3-body, 4-body)\")\n",
    "ax43.set_title(r\"$X^-$ LFRE(4-body, 3-body)\")\n",
    "\n",
    "cbar = fig.colorbar(pcm, ax=(ax34, ax43), label=\"LFRE\", location=\"bottom\")\n",
    "\n",
    "plt.show()"
   ]
  },
  {
   "cell_type": "markdown",
   "metadata": {},
   "source": [
    "The environments span a manifold which is described by the coordinates $v/\\pi$ and $u/\\pi$ (please refer to [Pozdnyakov 2020](https://doi.org/10.1103/PhysRevLett.125.166001) for a concrete understanding of the manifold). The LFRE is presented for each environment in the manifold in the two contour plots. It can be seen that the reconstruction error of 4-body features using 3-body features (the left plot) is most significant along the degenerate line (the horizontal red line). This agrees with the fact that the 3-body features remain the same on the degenerate line and can therefore not reconstruct the 4-body features. On the other hand the 4-body features can perfectly reconstruct the 3-body features as seen in the right plot."
   ]
  }
 ],
 "metadata": {
  "kernelspec": {
   "display_name": "Python 3",
   "language": "python",
   "name": "python3"
  },
  "language_info": {
   "codemirror_mode": {
    "name": "ipython",
    "version": 3
   },
   "file_extension": ".py",
   "mimetype": "text/x-python",
   "name": "python",
   "nbconvert_exporter": "python",
   "pygments_lexer": "ipython3",
   "version": "3.7.6"
  },
  "toc": {
   "base_numbering": 1,
   "nav_menu": {},
   "number_sections": true,
   "sideBar": true,
   "skip_h1_title": false,
   "title_cell": "Table of Contents",
   "title_sidebar": "Contents",
   "toc_cell": true,
   "toc_position": {},
   "toc_section_display": true,
   "toc_window_display": false
  }
 },
 "nbformat": 4,
 "nbformat_minor": 4
}
