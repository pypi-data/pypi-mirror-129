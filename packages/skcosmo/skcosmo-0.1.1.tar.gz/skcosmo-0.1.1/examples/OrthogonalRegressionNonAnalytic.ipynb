{
 "cells": [
  {
   "cell_type": "markdown",
   "metadata": {},
   "source": [
    "Regression with orthogonal projector/matrices\n",
    "================================================================"
   ]
  },
  {
   "cell_type": "markdown",
   "metadata": {},
   "source": [
    "In this example, we explain how when using `skcosmo.linear_model.OrthogonalRegression` the option `use_orthogonal_projector` can result in non-analytic behavior.\n",
    "In `skcosmo.linear_model.OrthogonalRegression`, we solve the linear regression problem assuming an orthogonal weighting matrix $\\Omega$ to project from the feature space $X$ to the target space $y$.\n",
    "\n",
    "$$\\min_\\Omega ||y - X\\Omega\\||_F$$\n",
    "\n",
    "This assumes that $X$ and $y$ contain the same number of features.\n",
    "If `use_orthogonal_projector=False`, the smaller of $X$ and $y$ is padded with null features, i.e. columns of zeros.\n",
    "However, when `use_orthogonal_projector=True`, we begin with the weights $W$ determined by the linear regression problem\n",
    "\n",
    "$$ \\min_W ||y - XW\\||F,$$\n",
    "\n",
    "and solve the orthogonal Procrustes problem for\n",
    "\n",
    "$$\\min\\Omega' ||yV - XU\\Omega'\\||_F\\quad \\Omega'^T\\Omega'=I,$$\n",
    "\n",
    "where the SVD of $W = USV^T$. The final orthogonal projector is then $\\Omega = U\\Omega' V^T$.\n",
    "In this notebook, we demonstrate a problem that may arise with this solution, as changing the number of features can result in non-analytic behavior of the reconstruction matrix and therefore also in the predictions."
   ]
  },
  {
   "cell_type": "code",
   "execution_count": null,
   "metadata": {},
   "outputs": [],
   "source": [
    "import numpy as np\n",
    "import matplotlib as mpl\n",
    "\n",
    "import matplotlib.pyplot as plt\n",
    "from mpl_toolkits.axes_grid1 import make_axes_locatable\n",
    "from skcosmo.linear_model import OrthogonalRegression\n",
    "\n",
    "mpl.rc('font', size=16)\n",
    "\n",
    "# These are coordinates of a 3-dimensional cube. We treat the points of the cube as samples\n",
    "# and the 3 dimensions as features x y z\n",
    "cube = np.array(\n",
    "    [\n",
    "        #x  y  z\n",
    "        [0, 0, 0],\n",
    "        [1, 0, 0],\n",
    "        [0, 1, 0],\n",
    "        [1, 1, 0],\n",
    "        [0, 0, 1],\n",
    "        [0, 1, 1],\n",
    "        [1, 0, 1],\n",
    "        [1, 1, 1],\n",
    "    ]\n",
    ")\n",
    "\n",
    "\n",
    "# the x y coordinates of the cube\n",
    "xy_plane_projected_cube = cube[:, [0, 1]]\n",
    "\n",
    "# a square prism with a scaling applied on the z axis\n",
    "def z_scaled_square_prism(z_scaling):\n",
    "    return np.array(\n",
    "        [\n",
    "            [0, 0, 0],\n",
    "            [1, 0, 0],\n",
    "            [0, 1, 0],\n",
    "            [1, 1, 0],\n",
    "            [0, 0, z_scaling],\n",
    "            [0, 1, z_scaling],\n",
    "            [1, 0, z_scaling],\n",
    "            [1, 1, z_scaling],\n",
    "        ]\n",
    "    )\n",
    "\n",
    "# In terms of information retrievable by regression analysis `xy_plane_projected_cube` is equivalent\n",
    "# to `z_scaled_square_prism` with z_scaling = 0, since adding features containing only zero values\n",
    "# to your dataset should not change the prediction quality of the regression analysis."
   ]
  },
  {
   "cell_type": "markdown",
   "metadata": {},
   "source": [
    "We now compute the orthogonal regression error fitting on the square prism to predict the cube. In the case of a zero z-scaling, the error is computed once with a third dimension and once without it (using `xy_plane_projected_cube`). The regression is done with `skcosmo.linear_model.OrthogonalRegression`  `use_orthogonal_projector` set to True."
   ]
  },
  {
   "cell_type": "code",
   "execution_count": null,
   "metadata": {},
   "outputs": [],
   "source": [
    "z_scalings = np.linspace(0, 1, 11)\n",
    "\n",
    "regression_errors_for_z_scaled_square_prism_using_orthogonal_projector = []\n",
    "orth_reg_pred_cube = len(z_scalings) * [0]\n",
    "orth_reg_using_orthogonal_projector = OrthogonalRegression(use_orthogonal_projector=True)\n",
    "for i, z in enumerate(z_scalings):\n",
    "    orth_reg_using_orthogonal_projector.fit(cube, z_scaled_square_prism(z))\n",
    "    orth_reg_pred_cube[i] = orth_reg_using_orthogonal_projector.predict(cube)\n",
    "    regression_error = np.linalg.norm(z_scaled_square_prism(z) - orth_reg_pred_cube[i])\n",
    "    regression_errors_for_z_scaled_square_prism_using_orthogonal_projector.append(regression_error)\n",
    "\n",
    "\n",
    "orth_reg_using_orthogonal_projector.fit(cube, xy_plane_projected_cube)\n",
    "orth_reg_use_projector_xy_plane_pred_cube = orth_reg_using_orthogonal_projector.predict(cube)\n",
    "regression_error_for_xy_plane_projected_cube_using_orthogonal_projector = (\n",
    "        np.linalg.norm(xy_plane_projected_cube - orth_reg_use_projector_xy_plane_pred_cube)\n",
    "    )"
   ]
  },
  {
   "cell_type": "markdown",
   "metadata": {},
   "source": [
    "In the next cell we plot a visualization of the reconstruction of the square prism for different z scalings. We plot the projections of the xy, xz and yz planes."
   ]
  },
  {
   "cell_type": "code",
   "execution_count": null,
   "metadata": {},
   "outputs": [],
   "source": [
    "fig, (ax_xy, ax_xz, ax_yz) = plt.subplots(1, 3, figsize=(12, 4))\n",
    "cmap = mpl.cm.Blues\n",
    "colors = cmap(np.linspace(0, 1, 11))\n",
    "for i in range(len(orth_reg_pred_cube) - 1):\n",
    "    ax_xy.scatter(\n",
    "        orth_reg_pred_cube[i][:, 0], orth_reg_pred_cube[i][:, 1], color=colors[i]\n",
    "    )\n",
    "    ax_xz.scatter(\n",
    "        orth_reg_pred_cube[i][:, 0], orth_reg_pred_cube[i][:, 2], color=colors[i]\n",
    "    )\n",
    "    ax_yz.scatter(\n",
    "        orth_reg_pred_cube[i][:, 1], orth_reg_pred_cube[i][:, 2], color=colors[i]\n",
    "    )\n",
    "\n",
    "i = len(orth_reg_pred_cube) - 1\n",
    "ax_xy.scatter(\n",
    "    orth_reg_pred_cube[i][:, 0],\n",
    "    orth_reg_pred_cube[i][:, 1],\n",
    "    color=colors[i],\n",
    "    label=\"orth. reconstruction\",\n",
    ")\n",
    "ax_xz.scatter(orth_reg_pred_cube[i][:, 0], orth_reg_pred_cube[i][:, 2], color=colors[i])\n",
    "ax_yz.scatter(orth_reg_pred_cube[i][:, 1], orth_reg_pred_cube[i][:, 2], color=colors[i])\n",
    "\n",
    "ax_xy.scatter(cube[:, 0], cube[:, 1], c=\"r\", label=\"cube\")\n",
    "ax_xz.scatter(cube[:, 0], cube[:, 2], c=\"r\")\n",
    "ax_yz.scatter(cube[:, 1], cube[:, 2], c=\"r\")\n",
    "\n",
    "ax_xy.legend(fontsize=14, loc=\"center\")\n",
    "\n",
    "divider = make_axes_locatable(plt.gca())\n",
    "ax_cb = divider.new_horizontal(size=\"5%\", pad=0.05)\n",
    "cb1 = mpl.colorbar.ColorbarBase(\n",
    "    ax_cb, cmap=cmap, orientation=\"vertical\", ticks=z_scalings\n",
    ")\n",
    "\n",
    "plt.gcf().add_axes(ax_cb)\n",
    "ax_cb.set_ylabel(\"z scaling\")\n",
    "\n",
    "ax_xy.set_title(\"xy plane\")\n",
    "ax_xz.set_title(\"xz plane\")\n",
    "ax_yz.set_title(\"yz plane\")\n",
    "\n",
    "plt.show()"
   ]
  },
  {
   "cell_type": "markdown",
   "metadata": {},
   "source": [
    "Now we set `use_orthogonal_projector` to False and repeat the above regression."
   ]
  },
  {
   "cell_type": "code",
   "execution_count": null,
   "metadata": {},
   "outputs": [],
   "source": [
    "orth_reg = OrthogonalRegression(use_orthogonal_projector=False)\n",
    "orth_reg_pred_cube = len(z_scalings) * [0]\n",
    "regression_errors_for_z_scaled_square_prism_zero_padded = []\n",
    "for i, z in enumerate(z_scalings):\n",
    "    orth_reg.fit(cube, z_scaled_square_prism(z))\n",
    "    orth_reg_pred_cube[i] = orth_reg.predict(cube)\n",
    "    regression_error = np.linalg.norm(z_scaled_square_prism(z) - orth_reg_pred_cube[i])\n",
    "    regression_errors_for_z_scaled_square_prism_zero_padded.append(regression_error)"
   ]
  },
  {
   "cell_type": "markdown",
   "metadata": {},
   "source": [
    "Setting the `use_orthogonal_projector` option to False pads automatically input and output data to the same dimension with zeros. Therefore we pad `xy_plane_projected_cube` to three dimensions with zeros to compute the error. If we ignore the third dimension, the regression error will also not change smoothly."
   ]
  },
  {
   "cell_type": "code",
   "execution_count": null,
   "metadata": {},
   "outputs": [],
   "source": [
    "orth_reg.fit(cube, xy_plane_projected_cube)\n",
    "orth_reg_xy_plane_pred_cube = orth_reg.predict(cube)\n",
    "zero_padded_xy_plane_projected_cube = np.pad(xy_plane_projected_cube, [(0, 0), (0, 1)])\n",
    "\n",
    "print(\"zero_padded_xy_plane_projected_cube:\\n\", zero_padded_xy_plane_projected_cube)\n",
    "print(\"orth_reg_xy_plane_pred_cube:\\n\", orth_reg_xy_plane_pred_cube)\n",
    "\n",
    "regression_error_for_xy_plane_projected_cube_zero_padded = np.linalg.norm(\n",
    "    zero_padded_xy_plane_projected_cube - orth_reg_xy_plane_pred_cube\n",
    ")"
   ]
  },
  {
   "cell_type": "markdown",
   "metadata": {},
   "source": [
    "The projection allows an optimal reconstruction of the cube while when not using a projection the orthogonal condition does not allow the same reconstruction"
   ]
  },
  {
   "cell_type": "code",
   "execution_count": null,
   "metadata": {},
   "outputs": [],
   "source": [
    "fig, (ax_xy) = plt.subplots(1, 1, figsize=(5, 4))\n",
    "\n",
    "ax_xy.scatter(\n",
    "    xy_plane_projected_cube[:, 0],\n",
    "    xy_plane_projected_cube[:, 1],\n",
    "    s=70,\n",
    "    c=\"r\",\n",
    "    label=\"cube\",\n",
    ")\n",
    "\n",
    "ax_xy.scatter(\n",
    "    orth_reg_use_projector_xy_plane_pred_cube[:, 0],\n",
    "    orth_reg_use_projector_xy_plane_pred_cube[:, 1],\n",
    "    c=\"b\",\n",
    "    label=\"orth. reconstruction\\n use projector=True\",\n",
    ")\n",
    "\n",
    "ax_xy.scatter(\n",
    "    orth_reg_xy_plane_pred_cube[:, 0],\n",
    "    orth_reg_xy_plane_pred_cube[:, 1],\n",
    "    c=\"g\",\n",
    "    label=\"orth. reconstruction\\n use projector=False\",\n",
    ")\n",
    "\n",
    "ax_xy.set_title(\"xy plane\")\n",
    "\n",
    "plt.legend(bbox_to_anchor=(1, 1), loc=\"upper left\")\n",
    "\n",
    "plt.show()"
   ]
  },
  {
   "cell_type": "markdown",
   "metadata": {},
   "source": [
    "The three dimensional cubic structure can be seen when no projector is used (`use_orthogonal_projector` is False). Now we plot the prediction error."
   ]
  },
  {
   "cell_type": "code",
   "execution_count": null,
   "metadata": {},
   "outputs": [],
   "source": [
    "fig, (ax_with_orth, ax_wo_orth) = plt.subplots(1, 2, figsize=(10, 3.8), sharey=True)\n",
    "\n",
    "ax_with_orth.scatter(\n",
    "    z_scalings,\n",
    "    regression_errors_for_z_scaled_square_prism_using_orthogonal_projector,\n",
    "    label=\"Regression error for z-scaled cube\",\n",
    ")\n",
    "ax_with_orth.scatter(\n",
    "    0,\n",
    "    regression_error_for_xy_plane_projected_cube_using_orthogonal_projector,\n",
    "    label=\"Regression error for xy_plane_projected_cube\",\n",
    ")\n",
    "ax_with_orth.set_title(\n",
    "    \"Orthogonal regression error for\\n features using orthogonal projector\\n (use_orthogonal_projector=True)\",\n",
    "    fontsize=14,\n",
    ")\n",
    "ax_with_orth.set_xlabel(\"scaling in z direction\", fontsize=16)\n",
    "ax_with_orth.set_ylabel(\"orthogonal regression error\", fontsize=14)\n",
    "\n",
    "ax_wo_orth.scatter(\n",
    "    z_scalings,\n",
    "    regression_errors_for_z_scaled_square_prism_zero_padded,\n",
    "    label=\"Regression error for z-scaled square prism\",\n",
    ")\n",
    "ax_wo_orth.scatter(\n",
    "    0,\n",
    "    regression_error_for_xy_plane_projected_cube_zero_padded,\n",
    "    label=\"Regression error for xy_plane_projected_cube\",\n",
    ")\n",
    "ax_wo_orth.set_title(\n",
    "    \"Orthogonal regression error for\\n zero padded features\\n (use_orthogonal_projector=False) \",\n",
    ")\n",
    "ax_wo_orth.set_xlabel(\"scaling in z direction\")\n",
    "ax_wo_orth.legend(loc=\"upper right\", bbox_to_anchor=(0.7, -0.2))\n",
    "plt.show()"
   ]
  },
  {
   "cell_type": "markdown",
   "metadata": {},
   "source": [
    "It can be seen that if `use_orthogonal_projector` is set to True, the regression error of `xy_plane_projected_cube` has an abrupt jump in contrast to retaining the third dimension with 0 values. When `use_orthogonal_projector` is set to False this non-analytic behavior is not present, since it uses the padding solution. Both methods have valid reasons to be applied and have their advantages and disadvantages depending on the use case."
   ]
  },
  {
   "cell_type": "code",
   "execution_count": null,
   "metadata": {},
   "outputs": [],
   "source": []
  }
 ],
 "metadata": {
  "kernelspec": {
   "display_name": "Python 3",
   "language": "python",
   "name": "python3"
  },
  "language_info": {
   "codemirror_mode": {
    "name": "ipython",
    "version": 3
   },
   "file_extension": ".py",
   "mimetype": "text/x-python",
   "name": "python",
   "nbconvert_exporter": "python",
   "pygments_lexer": "ipython3",
   "version": "3.6.11"
  }
 },
 "nbformat": 4,
 "nbformat_minor": 4
}
