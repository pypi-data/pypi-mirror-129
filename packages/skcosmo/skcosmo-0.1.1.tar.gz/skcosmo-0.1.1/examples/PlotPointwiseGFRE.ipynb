{
 "cells": [
  {
   "cell_type": "markdown",
   "metadata": {
    "toc": true
   },
   "source": [
    "<h1>Table of Contents<span class=\"tocSkip\"></span></h1>\n",
    "<div class=\"toc\"><ul class=\"toc-item\"><li><span><a href=\"#Pointwise-Global-Feature-Reconstruction-Error-(pointwise-GFRE)\" data-toc-modified-id=\"Pointwise-Global-Feature-Reconstruction-Error-(pointwise-GFRE)-1\"><span class=\"toc-item-num\">1&nbsp;&nbsp;</span>Powintwise Global Feature Reconstruction Error (pointwise GFRE) applied on RKHS features</a></span></li></ul></div>"
   ]
  },
  {
   "cell_type": "markdown",
   "metadata": {},
   "source": [
    "Pointwise GFRE applied on RKHS features\n",
    "================================================================"
   ]
  },
  {
   "cell_type": "markdown",
   "metadata": {},
   "source": [
    "Example for the usage of the `skcosmo.metrics.pointwise_global_reconstruction_error` as the pointwise global feature reconstruction error (pointwise GFRE). We apply the pointwise global feature reconstruction error on the degenerate CH4 manifold dataset containing 3 and 4-body features computed with [librascal](https://github.com/cosmo-epfl/librascal). We will show that using reproducing kernel Hilbert space (RKHS) features can improve the quality of the reconstruction with the downside of being less general."
   ]
  },
  {
   "cell_type": "code",
   "execution_count": null,
   "metadata": {},
   "outputs": [],
   "source": [
    "import numpy as np\n",
    "import matplotlib.pyplot as plt\n",
    "import matplotlib as mpl\n",
    "\n",
    "mpl.rc('font', size=20)\n",
    "\n",
    "from skcosmo.datasets import load_degenerate_CH4_manifold\n",
    "from skcosmo.metrics import (\n",
    "    global_reconstruction_error,\n",
    "    pointwise_global_reconstruction_error,\n",
    ")\n",
    "from skcosmo.preprocessing import StandardFlexibleScaler\n",
    "from sklearn.preprocessing._data import KernelCenterer\n",
    "from sklearn.model_selection import train_test_split\n",
    "\n",
    "# load features\n",
    "degenerate_manifold = load_degenerate_CH4_manifold()\n",
    "power_spectrum_features = degenerate_manifold.data.SOAP_power_spectrum\n",
    "bispectrum_features = degenerate_manifold.data.SOAP_bispectrum"
   ]
  },
  {
   "cell_type": "markdown",
   "metadata": {},
   "source": [
    "We compare 3-body features with their mapping to the reproducing kernel Hilbert space (RKHS) projected to the sample space using the nonlinear radial basis function (RBF) kernel\n",
    "\n",
    "$$ k^{\\textrm{RBF}}(\\mathbf{x},\\mathbf{x}') = \\exp(-\\gamma \\|\\mathbf{x}-\\mathbf{x}'\\|^2),\\quad \\gamma\\in\\mathbb{R}_+ $$\n",
    "\n",
    "The projected RKHS features are computed using the eigendecomposition of the positive-definite kernel matrix $K$\n",
    "\n",
    "$$ K = ADA^T = AD^{\\frac12}(AD^{\\frac12})^T = \\Phi\\Phi^T$$"
   ]
  },
  {
   "cell_type": "code",
   "execution_count": null,
   "metadata": {},
   "outputs": [],
   "source": [
    "def compute_standardized_rbf_rkhs_features(features, gamma):\n",
    "    # standardize features\n",
    "    features = StandardFlexibleScaler().fit_transform(features)\n",
    "    \n",
    "    # compute \\|x - x\\|^2\n",
    "    squared_distance = (\n",
    "        np.sum(features ** 2, axis=1)[:, np.newaxis]\n",
    "        + np.sum(features ** 2, axis=1)[np.newaxis, :] \n",
    "        - 2 * features.dot(features.T)\n",
    "    )\n",
    "    # computer rbf kernel\n",
    "    kernel = np.exp(-gamma * squared_distance)\n",
    "    \n",
    "    # center kernel\n",
    "    kernel = KernelCenterer().fit_transform(kernel)\n",
    "    \n",
    "    # compute D and A\n",
    "    D, A = np.linalg.eigh(kernel)\n",
    "    \n",
    "    # retain features associated with an eigenvalue above 1e-9 for denoising\n",
    "    select_idx = np.where(D > 1e-9)[0]\n",
    "    \n",
    "    # compute rkhs features\n",
    "    rbf_rkhs_features = A[:, select_idx] @ np.diag(np.sqrt(D[select_idx]))\n",
    "    \n",
    "    # standardize rkhs features,\n",
    "    # this step could be omitted since it is done by the reconstruction measure by default\n",
    "    standardized_rbf_rkhs_features = StandardFlexibleScaler().fit_transform(rbf_rkhs_features)\n",
    "    return standardized_rbf_rkhs_features\n",
    "    \n",
    "\n",
    "gamma = 1\n",
    "rbf_power_spectrum_features = compute_standardized_rbf_rkhs_features(power_spectrum_features, gamma=gamma)"
   ]
  },
  {
   "cell_type": "code",
   "execution_count": null,
   "metadata": {},
   "outputs": [],
   "source": [
    "# some split into train and test idx\n",
    "idx = np.arange(len(power_spectrum_features))\n",
    "\n",
    "train_idx, test_idx = train_test_split(idx, random_state=42)\n",
    "\n",
    "print(\"Computing pointwise GFRE...\")\n",
    "\n",
    "# pointwise global reconstruction error of bispectrum features using power spectrum features\n",
    "power_spectrum_to_bispectrum_pointwise_gfre = pointwise_global_reconstruction_error(\n",
    "    power_spectrum_features,\n",
    "    bispectrum_features,\n",
    "    train_idx=train_idx,\n",
    "    test_idx=test_idx\n",
    ")\n",
    "\n",
    "# pointwise global reconstruction error of bispectrum features using power spectrum features mapped to the RKHS\n",
    "power_spectrum_rbf_to_bispectrum_pointwise_gfre = pointwise_global_reconstruction_error(\n",
    "    rbf_power_spectrum_features,\n",
    "    bispectrum_features,\n",
    "    train_idx=train_idx,\n",
    "    test_idx=test_idx\n",
    ")\n",
    "\n",
    "print(\"Computing pointwise GFRE finished.\")\n",
    "\n",
    "print(\"Computing GFRE...\")\n",
    "\n",
    "# global reconstruction error of bispectrum features using power spectrum features\n",
    "power_spectrum_to_bispectrum_gfre = global_reconstruction_error(\n",
    "    power_spectrum_features,\n",
    "    bispectrum_features,\n",
    "    train_idx=train_idx,\n",
    "    test_idx=test_idx\n",
    ")\n",
    "\n",
    "# global reconstruction error of bispectrum features using power spectrum features mapped to the RKHS\n",
    "power_spectrum_rbf_to_bispectrum_gfre = global_reconstruction_error(\n",
    "    rbf_power_spectrum_features,\n",
    "    bispectrum_features,\n",
    "    train_idx=train_idx,\n",
    "    test_idx=test_idx\n",
    ")\n",
    "\n",
    "print(\"Computing GFRE finished.\")"
   ]
  },
  {
   "cell_type": "code",
   "execution_count": null,
   "metadata": {},
   "outputs": [],
   "source": [
    "fig, axes = plt.subplots(1,1, figsize=(12,7))\n",
    "\n",
    "bins = np.linspace(0, 0.5, 10)\n",
    "axes.hist(power_spectrum_to_bispectrum_pointwise_gfre, bins, alpha=0.5, label=\"pointwise GFRE(3-body, 4-body)\")\n",
    "axes.hist(power_spectrum_rbf_to_bispectrum_pointwise_gfre, bins, color='r', alpha=0.5, label=\"pointwise GFRE(3-body RBF, 4-body)\")\n",
    "axes.axvline(power_spectrum_to_bispectrum_gfre, color='darkblue', label=\"GFRE(3-body, 4-body)\", linewidth=4)\n",
    "axes.axvline(power_spectrum_rbf_to_bispectrum_gfre, color='darkred', label=\"GFRE(3-body RBF RKHS, 4-body)\", linewidth=4)\n",
    "axes.set_title(f\"3-body vs 4-body RBF gamma={gamma} comparison\")\n",
    "axes.set_xlabel(\"pointwise GFRE\")\n",
    "axes.set_ylabel(\"number of samples\")\n",
    "axes.legend(fontsize=13)\n",
    "plt.show()"
   ]
  },
  {
   "cell_type": "code",
   "execution_count": null,
   "metadata": {},
   "outputs": [],
   "source": [
    "print(\"GFRE(3-body, 4-body) =\", power_spectrum_to_bispectrum_gfre)\n",
    "print(\"GFRE(3-body RBF RKHS, 4-body) = \", power_spectrum_rbf_to_bispectrum_gfre)"
   ]
  },
  {
   "cell_type": "markdown",
   "metadata": {},
   "source": [
    "It can be seen that RBF RKHS features improve the linear reconstruction of the 4-body features (~0.22 in contrast to ~0.19) while also spreading the error for individual samples across a wider span of [0, 0.45] in contrast to [0.17, 0.32]. This indicates that the reconstruction using the RBF RKHS is less generally applicable but instead specific to this dataset"
   ]
  }
 ],
 "metadata": {
  "kernelspec": {
   "display_name": "Python 3",
   "language": "python",
   "name": "python3"
  },
  "language_info": {
   "codemirror_mode": {
    "name": "ipython",
    "version": 3
   },
   "file_extension": ".py",
   "mimetype": "text/x-python",
   "name": "python",
   "nbconvert_exporter": "python",
   "pygments_lexer": "ipython3",
   "version": "3.7.6"
  },
  "toc": {
   "base_numbering": 1,
   "nav_menu": {},
   "number_sections": true,
   "sideBar": true,
   "skip_h1_title": false,
   "title_cell": "Table of Contents",
   "title_sidebar": "Contents",
   "toc_cell": true,
   "toc_position": {},
   "toc_section_display": true,
   "toc_window_display": false
  }
 },
 "nbformat": 4,
 "nbformat_minor": 4
}
