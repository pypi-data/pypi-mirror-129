{
 "cells": [
  {
   "cell_type": "markdown",
   "metadata": {
    "toc": true
   },
   "source": [
    "<h1>Table of Contents<span class=\"tocSkip\"></span></h1>\n",
    "<div class=\"toc\"><ul class=\"toc-item\"><li><span><a href=\"#Global-Feature-Reconstruction-Error-(GFRE)-and-Distortion-(GFRD)\" data-toc-modified-id=\"Global-Feature-Reconstruction-Error-(GFRE)-and-Distortion-(GFRD)-1\"><span class=\"toc-item-num\">1&nbsp;&nbsp;</span>Global Feature Reconstruction Error (GFRE) and Distortion (GFRD)</a></span></li></ul></div>"
   ]
  },
  {
   "cell_type": "markdown",
   "metadata": {},
   "source": [
    "Global Feature Reconstruction Error (GFRE) and Distortion (GFRD)\n",
    "================================================================"
   ]
  },
  {
   "cell_type": "markdown",
   "metadata": {},
   "source": [
    "Example for the usage of the `skcosmo.metrics.global_reconstruction_error` as global feature reconstruction error (GFRE) and `skcosmo.metrics.global_reconstruction_distortion` global feature reconstruction distortion (GFRD). We apply the global reconstruction measures on the degenerate CH4 manifold dataset. This dataset was specifically constructed to be representable by a 4-body features (bispectrum) but not by a 3-body features (power spectrum). In other words the dataset contains environments which are different, but have the same 3-body features. For more details about the dataset please refer to [Pozdnyakov 2020](https://doi.org/10.1103/PhysRevLett.125.166001) .\n",
    "\n",
    "The skcosmo dataset already contains the 3 and 4-body features computed with [librascal](https://github.com/cosmo-epfl/librascal) so we can load it and compare it with the GFRE/GFRD."
   ]
  },
  {
   "cell_type": "code",
   "execution_count": null,
   "metadata": {},
   "outputs": [],
   "source": [
    "import numpy as np\n",
    "import matplotlib.pyplot as plt\n",
    "import matplotlib as mpl\n",
    "\n",
    "mpl.rc('font', size=20)\n",
    "\n",
    "from skcosmo.datasets import load_degenerate_CH4_manifold\n",
    "from skcosmo.metrics import (\n",
    "    global_reconstruction_error,\n",
    "    global_reconstruction_distortion,\n",
    ")\n",
    "\n",
    "# load features\n",
    "degenerate_manifold = load_degenerate_CH4_manifold()\n",
    "power_spectrum_features = degenerate_manifold.data.SOAP_power_spectrum\n",
    "bispectrum_features = degenerate_manifold.data.SOAP_bispectrum"
   ]
  },
  {
   "cell_type": "code",
   "execution_count": null,
   "metadata": {},
   "outputs": [],
   "source": [
    "gfre_matrix = np.zeros((2, 2))\n",
    "print(\"Computing GFRE...\")\n",
    "\n",
    "# reconstruction error of power spectrum features using power spectrum features\n",
    "gfre_matrix[0, 0] = global_reconstruction_error(power_spectrum_features, power_spectrum_features)\n",
    "\n",
    "# reconstruction error of bispectrum features using power spectrum features\n",
    "gfre_matrix[0, 1] = global_reconstruction_error(power_spectrum_features, bispectrum_features)\n",
    "\n",
    "# reconstruction error of power spectrum features using bispectrum features\n",
    "gfre_matrix[1, 0] = global_reconstruction_error(bispectrum_features, power_spectrum_features)\n",
    "\n",
    "# reconstruction error of bispectrum features using bispectrum features\n",
    "gfre_matrix[1, 1] = global_reconstruction_error(bispectrum_features, bispectrum_features)\n",
    "\n",
    "print(\"Computing GFRE finished.\")"
   ]
  },
  {
   "cell_type": "code",
   "execution_count": null,
   "metadata": {},
   "outputs": [],
   "source": [
    "gfrd_matrix = np.zeros((2, 2))\n",
    "print(\"Computing GFRD...\")\n",
    "\n",
    "# reconstruction distortion of power spectrum features using power spectrum features\n",
    "gfrd_matrix[0, 0] = global_reconstruction_distortion(power_spectrum_features, power_spectrum_features)\n",
    "\n",
    "# reconstruction distortion of power spectrum features using bispectrum features\n",
    "gfrd_matrix[0, 1] = global_reconstruction_distortion(power_spectrum_features, bispectrum_features)\n",
    "\n",
    "# reconstruction distortion of bispectrum features using power spectrum features\n",
    "gfrd_matrix[1, 0] = global_reconstruction_distortion(bispectrum_features, power_spectrum_features)\n",
    "\n",
    "# reconstruction distortion of bipsectrum features using bispectrum features\n",
    "gfrd_matrix[1, 1] = global_reconstruction_distortion(bispectrum_features, bispectrum_features)\n",
    "\n",
    "print(\"Computing GFRD finished.\")"
   ]
  },
  {
   "cell_type": "code",
   "execution_count": null,
   "metadata": {},
   "outputs": [],
   "source": [
    "fig, (axGFRE, axGFRD, cbar_ax) = plt.subplots(\n",
    "    1,\n",
    "    3,\n",
    "    figsize=(10, 4),\n",
    "    gridspec_kw=dict(width_ratios=(1, 1, 0.2)),\n",
    ")\n",
    "\n",
    "\n",
    "pcm1 = axGFRE.imshow(gfre_matrix, vmin=0, vmax=0.25)\n",
    "axGFRE.set_ylabel(\"F\")\n",
    "axGFRE.set_xlabel(\"F'\")\n",
    "axGFRE.set_title(\"GFRE(F, F')\")\n",
    "\n",
    "axGFRE.set_xticks([0, 1])\n",
    "axGFRE.set_xticklabels([\"3-body\", \"4-body\"])\n",
    "axGFRE.set_yticks([0, 1])\n",
    "axGFRE.set_yticklabels([\"3-body\", \"4-body\"])\n",
    "\n",
    "pcm2 = axGFRD.imshow(gfrd_matrix, vmin=0, vmax=0.25)\n",
    "axGFRD.set_xlabel(\"F'\")\n",
    "axGFRD.set_title(\"GFRD(F, F')\")\n",
    "\n",
    "axGFRD.set_xticks([0, 1])\n",
    "axGFRD.set_xticklabels([\"3-body\", \"4-body\"])\n",
    "axGFRD.set_yticks([0, 1])\n",
    "axGFRD.set_yticklabels([\"\", \"\"])\n",
    "\n",
    "cbar = fig.colorbar(pcm2, cax=cbar_ax, label='GFRE or GFRD')\n",
    "plt.show()"
   ]
  },
  {
   "cell_type": "markdown",
   "metadata": {},
   "source": [
    "It can be seen that the reconstruction error of 4-body features with 3-body features in the left plot in the upper right corner is large, expressing that the dataset contains 4-body information that cannot be well linearly reconstructed using 3-body information. This is expected, since the dataset was specifically designed for this purpose (for more information please read [Pozdnyakov 2020](https://doi.org/10.1103/PhysRevLett.125.166001)). On the other hand the 3-body features can be perfectly reconstructed from the 4-body features as seen in the left plot in the lower left corner. However, this reconstruction distorts the 4-body features significantly as seen in the right plot in the lower left corner which is a typical behaviour of higher order features and can be also observed for polynomial kernel features."
   ]
  }
 ],
 "metadata": {
  "kernelspec": {
   "display_name": "Python 3",
   "language": "python",
   "name": "python3"
  },
  "language_info": {
   "codemirror_mode": {
    "name": "ipython",
    "version": 3
   },
   "file_extension": ".py",
   "mimetype": "text/x-python",
   "name": "python",
   "nbconvert_exporter": "python",
   "pygments_lexer": "ipython3",
   "version": "3.7.6"
  },
  "toc": {
   "base_numbering": 1,
   "nav_menu": {},
   "number_sections": true,
   "sideBar": true,
   "skip_h1_title": false,
   "title_cell": "Table of Contents",
   "title_sidebar": "Contents",
   "toc_cell": true,
   "toc_position": {},
   "toc_section_display": true,
   "toc_window_display": false
  }
 },
 "nbformat": 4,
 "nbformat_minor": 4
}
