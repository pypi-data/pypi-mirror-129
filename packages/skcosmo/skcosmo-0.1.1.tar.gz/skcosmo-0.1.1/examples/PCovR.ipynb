{
 "cells": [
  {
   "cell_type": "markdown",
   "metadata": {},
   "source": [
    "Construct a PCovR Map\n",
    "==================="
   ]
  },
  {
   "cell_type": "code",
   "execution_count": null,
   "metadata": {},
   "outputs": [],
   "source": [
    "from sklearn.datasets import load_boston\n",
    "\n",
    "from matplotlib import pyplot as plt\n",
    "from matplotlib import cm\n",
    "from tqdm.notebook import tqdm\n",
    "\n",
    "import numpy as np\n",
    "\n",
    "from skcosmo.decomposition import PCovR\n",
    "from sklearn.preprocessing import StandardScaler\n",
    "from sklearn.linear_model import Ridge\n",
    "from sklearn.kernel_ridge import KernelRidge\n",
    "\n",
    "cmapX = cm.plasma\n",
    "cmapy = cm.Greys"
   ]
  },
  {
   "cell_type": "markdown",
   "metadata": {},
   "source": [
    "For this, we will use the boston housing data provided by scikit-learn."
   ]
  },
  {
   "cell_type": "code",
   "execution_count": null,
   "metadata": {},
   "outputs": [],
   "source": [
    "X, y = load_boston(return_X_y=True)\n",
    "y = y.reshape(X.shape[0], -1)\n",
    "\n",
    "X_scaler = StandardScaler()\n",
    "X_scaled = X_scaler.fit_transform(X)\n",
    "\n",
    "y_scaler = StandardScaler()\n",
    "y_scaled = y_scaler.fit_transform(y)"
   ]
  },
  {
   "cell_type": "markdown",
   "metadata": {},
   "source": [
    "Computing a simple PCovR and making a fancy plot of the results"
   ]
  },
  {
   "cell_type": "code",
   "execution_count": null,
   "metadata": {},
   "outputs": [],
   "source": [
    "mixing = 0.5\n",
    "pcovr = PCovR(mixing=mixing, \n",
    "              regressor=Ridge(alpha=1E-8, fit_intercept=False, tol=1E-12),\n",
    "              n_components=2, )\n",
    "pcovr.fit(X_scaled, y_scaled)\n",
    "T = pcovr.transform(X_scaled)\n",
    "yp = y_scaler.inverse_transform(pcovr.predict(X_scaled))\n",
    "\n",
    "fig, ((axT, axy), (caxT, caxy)) = plt.subplots(\n",
    "    2, 2, figsize=(8, 5), gridspec_kw=dict(height_ratios=(1, 0.1))\n",
    ")\n",
    "\n",
    "scatT = axT.scatter(T[:, 0], T[:, 1], s=50, alpha=0.8, c=y, cmap=cmapX, edgecolor=\"k\")\n",
    "axT.set_xlabel(r\"$PC_1$\")\n",
    "axT.set_ylabel(r\"$PC_2$\")\n",
    "fig.colorbar(scatT, cax=caxT, label=\"True home value [$1000]\", orientation=\"horizontal\")\n",
    "\n",
    "scaty = axy.scatter(y, yp, s=50, alpha=0.8, c=np.abs(y - yp), cmap=cmapy, edgecolor=\"k\")\n",
    "axy.plot(axy.get_xlim(), axy.get_xlim(), 'r--')\n",
    "fig.suptitle(r\"$\\alpha=$\" + str(mixing))\n",
    "\n",
    "axy.set_xlabel(r\"True home value [$1000]\")\n",
    "axy.set_ylabel(r\"Predicted home value [$1000]\")\n",
    "fig.colorbar(scaty, cax=caxy, label=\"Error in home value [$1000]\", orientation=\"horizontal\")\n",
    "\n",
    "fig.tight_layout()"
   ]
  },
  {
   "cell_type": "markdown",
   "metadata": {},
   "source": [
    "Surveying Many Mixing Parameters"
   ]
  },
  {
   "cell_type": "code",
   "execution_count": null,
   "metadata": {},
   "outputs": [],
   "source": [
    "n_alpha = 5\n",
    "\n",
    "fig, axes = plt.subplots(2, n_alpha, \n",
    "                         figsize=(4*n_alpha, 10),\n",
    "                         sharey='row'\n",
    "                        )\n",
    "\n",
    "for i, mixing in enumerate(np.linspace(0, 1, n_alpha)):\n",
    "    \n",
    "\n",
    "    pcovr = PCovR(mixing=mixing, \n",
    "                      regressor=Ridge(alpha=1E-8, fit_intercept=False, tol=1E-12),\n",
    "                      n_components=2, )\n",
    "    pcovr.fit(X_scaled, y_scaled)\n",
    "    T = pcovr.transform(X_scaled)\n",
    "    yp = y_scaler.inverse_transform(pcovr.predict(X_scaled))\n",
    "\n",
    "    axes[0, i].scatter(T[:, 0], \n",
    "                       T[:, 1], \n",
    "                       s=50, \n",
    "                       alpha=0.8,\n",
    "                       c=y, \n",
    "                       cmap=cmapX,  \n",
    "                       edgecolor='k'\n",
    "                      )\n",
    "    axes[0,i].set_title(r\"$\\alpha=$\" + str(mixing))\n",
    "    axes[0,i].set_xlabel(r\"$PC_1$\")\n",
    "    axes[0,i].set_xticks([])\n",
    "    axes[0,i].set_yticks([])\n",
    "\n",
    "    axes[1, i].scatter(y, \n",
    "                       yp, \n",
    "                       s=50, \n",
    "                       alpha=0.8,\n",
    "                       c=np.abs(y-yp), \n",
    "                       cmap=cmapy, \n",
    "                       edgecolor='k')\n",
    "    axes[1,i].set_title(r\"$\\alpha=$\" + str(mixing))\n",
    "    axes[1,i].set_xlabel(\"y\")\n",
    "    \n",
    "axes[0,0].set_ylabel(r\"$PC_2$\")\n",
    "axes[1,0].set_ylabel(\"Predicted y\")\n",
    "\n",
    "fig.subplots_adjust(wspace=0, hspace=0.25)\n",
    "plt.show()"
   ]
  },
  {
   "cell_type": "markdown",
   "metadata": {},
   "source": [
    "Construct a Kernel PCovR Map\n",
    "=========================\n",
    "\n",
    "Moving from PCovR to KernelPCovR is much like moving from PCA to KernelPCA in `sklearn`. Like KernelPCA, KernelPCovR can compute any pairwise kernel supported by `sklearn` or operate on a precomputed kernel."
   ]
  },
  {
   "cell_type": "code",
   "execution_count": null,
   "metadata": {},
   "outputs": [],
   "source": [
    "from skcosmo.decomposition import KernelPCovR"
   ]
  },
  {
   "cell_type": "code",
   "execution_count": null,
   "metadata": {},
   "outputs": [],
   "source": [
    "mixing = 0.5\n",
    "kpcovr = KernelPCovR(\n",
    "    mixing=mixing,\n",
    "    regressor=KernelRidge(\n",
    "        alpha=1e-8,\n",
    "        kernel=\"rbf\",\n",
    "        gamma=0.1,\n",
    "    ),\n",
    "    kernel=\"rbf\",\n",
    "    gamma=0.1,\n",
    "    n_components=2,\n",
    ")\n",
    "kpcovr.fit(X_scaled, y_scaled)\n",
    "T = kpcovr.transform(X_scaled)\n",
    "yp = y_scaler.inverse_transform(kpcovr.predict(X_scaled))\n",
    "\n",
    "fig, ((axT, axy), (caxT, caxy)) = plt.subplots(\n",
    "    2, 2, figsize=(8, 5), gridspec_kw=dict(height_ratios=(1, 0.1))\n",
    ")\n",
    "\n",
    "scatT = axT.scatter(T[:, 0], T[:, 1], s=50, alpha=0.8, c=y, cmap=cmapX, edgecolor=\"k\")\n",
    "axT.set_xlabel(r\"$PC_1$\")\n",
    "axT.set_ylabel(r\"$PC_2$\")\n",
    "fig.colorbar(scatT, cax=caxT, label=\"y\", orientation=\"horizontal\")\n",
    "\n",
    "scaty = axy.scatter(y, yp, s=50, alpha=0.8, c=np.abs(y - yp), cmap=cmapy, edgecolor=\"k\")\n",
    "axy.plot(axy.get_xlim(), axy.get_xlim(), \"r--\")\n",
    "fig.suptitle(r\"$\\alpha=$\" + str(mixing))\n",
    "\n",
    "axy.set_xlabel(r\"$y$\")\n",
    "axy.set_ylabel(r\"Predicted $y$\")\n",
    "fig.colorbar(scaty, cax=caxy, label=\"Error in y\", orientation=\"horizontal\")\n",
    "\n",
    "fig.tight_layout()"
   ]
  },
  {
   "cell_type": "markdown",
   "metadata": {},
   "source": [
    "As you can see, the regression error has decreased considerably from the linear case, meaning that the map on the left can, and will, better correlate with the target values."
   ]
  },
  {
   "cell_type": "markdown",
   "metadata": {},
   "source": [
    "Note on KernelPCovR for Atoms, Molecules, and Structures\n",
    "-----------------------------------------------------------------\n",
    "\n",
    "Applying this to datasets involving collections of atoms and their atomic descriptors, it's important to consider the nature of the property you are learning and the samples you are comparing before constructing a kernel, for example, whether the analysis is to be based on whole structures or individual atomic environments. For more detail, see Appendix C of [Helfrecht 2020](https://iopscience.iop.org/article/10.1088/2632-2153/aba9ef) or regarding kernels involving gradients [Musil 2021](https://arxiv.org/pdf/2101.08814.pdf)."
   ]
  },
  {
   "cell_type": "code",
   "execution_count": null,
   "metadata": {},
   "outputs": [],
   "source": []
  }
 ],
 "metadata": {
  "kernelspec": {
   "display_name": "Python 3",
   "language": "python",
   "name": "python3"
  },
  "language_info": {
   "codemirror_mode": {
    "name": "ipython",
    "version": 3
   },
   "file_extension": ".py",
   "mimetype": "text/x-python",
   "name": "python",
   "nbconvert_exporter": "python",
   "pygments_lexer": "ipython3",
   "version": "3.8.5"
  },
  "toc": {
   "base_numbering": 1,
   "nav_menu": {},
   "number_sections": true,
   "sideBar": true,
   "skip_h1_title": false,
   "title_cell": "Table of Contents",
   "title_sidebar": "Contents",
   "toc_cell": false,
   "toc_position": {},
   "toc_section_display": true,
   "toc_window_display": false
  }
 },
 "nbformat": 4,
 "nbformat_minor": 4
}
