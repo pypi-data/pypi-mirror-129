{
 "cells": [
  {
   "cell_type": "code",
   "execution_count": null,
   "id": "c8fdd7e0",
   "metadata": {},
   "outputs": [],
   "source": [
    "from emobpy import Mobility, Consumption, HeatInsulation, BEVspecs, DataBase, Export\n",
    "from emobpy.plot import NBplot\n",
    "\n",
    "# Initialize seed\n",
    "from emobpy.tools import set_seed\n",
    "set_seed()"
   ]
  },
  {
   "cell_type": "code",
   "execution_count": null,
   "id": "87089bd8",
   "metadata": {},
   "outputs": [],
   "source": [
    "# # Read the docstrings of function copy_to_user_data_dir\n",
    "# from emobpy.init import copy_to_user_data_dir; copy_to_user_data_dir()"
   ]
  },
  {
   "cell_type": "markdown",
   "id": "32cb9cc3",
   "metadata": {},
   "source": [
    "## Create Mobility Profile"
   ]
  },
  {
   "cell_type": "markdown",
   "id": "da9aa070",
   "metadata": {},
   "source": [
    "### Init"
   ]
  },
  {
   "cell_type": "code",
   "execution_count": null,
   "id": "58d261b0",
   "metadata": {},
   "outputs": [],
   "source": [
    "hrs = 168 # one week\n",
    "steps = 0.25 # 15 minutes\n",
    "\n",
    "# Create single profile of an fulltime commuter\n",
    "m = Mobility()\n",
    "m.set_params(\"Commuter_fulltime\", hrs, steps, \"commuter\", \"01/01/2020\")\n",
    "m.set_stats(\n",
    "    \"TripsPerDay.csv\",\n",
    "    \"DepartureDestinationTrip_Worker.csv\",\n",
    "    \"DistanceDurationTrip.csv\"\n",
    ")\n",
    "m.set_rules(\"fulltime\")\n",
    "m.run()\n",
    "m.save_profile(\"db\")"
   ]
  },
  {
   "cell_type": "markdown",
   "id": "d51c7d54",
   "metadata": {},
   "source": [
    "### Vizualisation of the Mobility Profile"
   ]
  },
  {
   "cell_type": "code",
   "execution_count": null,
   "id": "dd7ee25f",
   "metadata": {},
   "outputs": [],
   "source": [
    "DBm = DataBase('db')\n",
    "DBm.loadfiles_batch(kind=\"driving\")\n",
    "\n",
    "mname = list(DBm.db.keys())[0]\n",
    "vizm = NBplot(DBm)\n",
    "figm = vizm.sgplot_dp(mname)"
   ]
  },
  {
   "cell_type": "markdown",
   "id": "21bb90c4",
   "metadata": {},
   "source": [
    "## Create Consumption Profiles"
   ]
  },
  {
   "cell_type": "markdown",
   "id": "eb46e73a",
   "metadata": {},
   "source": [
    "### Configurations"
   ]
  },
  {
   "cell_type": "code",
   "execution_count": null,
   "id": "subject-sussex",
   "metadata": {},
   "outputs": [],
   "source": [
    "DB = DataBase('db')  # Instance of profiles' database whose input is the pickle files' folder\n",
    "DB.loadfiles_batch(kind=\"driving\")  # loading mobility pickle files to the database\n",
    "mname = list(DB.db.keys())[0]  # getting the id of the first mobility profile\n",
    "\n",
    "HI = HeatInsulation(True)  # Creating the heat insulation configuration by copying the default configuration\n",
    "BEVS = BEVspecs()  # Database that contains BEV models"
   ]
  },
  {
   "cell_type": "markdown",
   "id": "7090b9ae",
   "metadata": {},
   "source": [
    "### Init of first car: Volkswagen ID.3"
   ]
  },
  {
   "cell_type": "code",
   "execution_count": null,
   "id": "level-lightning",
   "metadata": {},
   "outputs": [],
   "source": [
    "VW_ID3 = BEVS.model(('Volkswagen', 'ID.3', 2020))  # Model instance that contains vehicle parameters\n",
    "c = Consumption(mname, VW_ID3)\n",
    "c.load_setting_mobility(DB)\n",
    "c.run(\n",
    "    heat_insulation=HI,\n",
    "    weather_country='DE',\n",
    "    weather_year=2016,\n",
    "    passenger_mass=75,  # kg\n",
    "    passenger_sensible_heat=70,  # W\n",
    "    passenger_nr=1.5,\n",
    "    air_cabin_heat_transfer_coef=20,  # W/(m2K)\n",
    "    air_flow=0.02,  # m3/s\n",
    "    driving_cycle_type='WLTC',\n",
    "    road_type=0,\n",
    "    road_slope=0\n",
    ")\n",
    "c.save_profile('db')"
   ]
  },
  {
   "cell_type": "markdown",
   "id": "fb15192c",
   "metadata": {},
   "source": [
    "### Init of second car: Tesla Model S"
   ]
  },
  {
   "cell_type": "code",
   "execution_count": null,
   "id": "level-friday",
   "metadata": {},
   "outputs": [],
   "source": [
    "MODEL_3 = BEVS.model(('Tesla', 'Model S 60D', 2017))  # Model instance that contains vehicle parameters\n",
    "c = Consumption(mname, MODEL_3)\n",
    "c.load_setting_mobility(DB)\n",
    "c.run(\n",
    "    heat_insulation=HI,\n",
    "    weather_country='DE',\n",
    "    weather_year=2016,\n",
    "    passenger_mass=75,  # kg\n",
    "    passenger_sensible_heat=70,  # W\n",
    "    passenger_nr=1.5,\n",
    "    air_cabin_heat_transfer_coef=20,  # W/(m2K)\n",
    "    air_flow=0.02,  # m3/s\n",
    "    driving_cycle_type='WLTC',\n",
    "    road_type=0,\n",
    "    road_slope=0\n",
    ")\n",
    "c.save_profile('db')"
   ]
  },
  {
   "cell_type": "markdown",
   "id": "3d652524",
   "metadata": {},
   "source": [
    "### Init of third car: Renault Zoe Q90"
   ]
  },
  {
   "cell_type": "code",
   "execution_count": null,
   "id": "discrete-tower",
   "metadata": {},
   "outputs": [],
   "source": [
    "ZOE = BEVS.model(('Renault', 'Zoe Q90', 2019))  # Model instance that contains vehicle parameters\n",
    "c = Consumption(mname, ZOE)\n",
    "c.load_setting_mobility(DB)\n",
    "c.run(\n",
    "    heat_insulation=HI,\n",
    "    weather_country='DE',\n",
    "    weather_year=2016,\n",
    "    passenger_mass=75,  # kg\n",
    "    passenger_sensible_heat=70,  # W\n",
    "    passenger_nr=1.5,\n",
    "    air_cabin_heat_transfer_coef=20,  # W/(m2K)\n",
    "    air_flow=0.02,  # m3/s\n",
    "    driving_cycle_type='WLTC',\n",
    "    road_type=0,\n",
    "    road_slope=0\n",
    ")\n",
    "c.save_profile('db')"
   ]
  },
  {
   "cell_type": "markdown",
   "id": "2a469c62",
   "metadata": {},
   "source": [
    "### Load created profiles"
   ]
  },
  {
   "cell_type": "code",
   "execution_count": null,
   "id": "empty-elite",
   "metadata": {},
   "outputs": [],
   "source": [
    "DBc = DataBase('db')\n",
    "DBc.loadfiles_batch(kind=\"consumption\", add_variables=['Trips'])"
   ]
  },
  {
   "cell_type": "markdown",
   "id": "a9474d43",
   "metadata": {},
   "source": [
    "### Vizualization of first car: Volkswagen ID.3"
   ]
  },
  {
   "cell_type": "code",
   "execution_count": null,
   "id": "neural-haiti",
   "metadata": {},
   "outputs": [],
   "source": [
    "vw_id3 = [ev for ev in list(DBc.db.keys()) if 'Volkswagen' in ev][0]\n",
    "vw_id3"
   ]
  },
  {
   "cell_type": "code",
   "execution_count": null,
   "id": "245bb226",
   "metadata": {},
   "outputs": [],
   "source": [
    "vizc = NBplot(DBc)\n",
    "figc = vizc.sankey(vw_id3, include=None, to_html=False, path='sankey.html')"
   ]
  },
  {
   "cell_type": "code",
   "execution_count": null,
   "id": "beneficial-today",
   "metadata": {},
   "outputs": [],
   "source": [
    "figc.show()"
   ]
  },
  {
   "cell_type": "markdown",
   "id": "ab24ea67",
   "metadata": {},
   "source": [
    "### Vizualization of second car: Tesla Model S"
   ]
  },
  {
   "cell_type": "code",
   "execution_count": null,
   "id": "a4ab5202",
   "metadata": {},
   "outputs": [],
   "source": [
    "tesla_model3 = [ev for ev in list(DBc.db.keys()) if 'Tesla' in ev][0]\n",
    "tesla_model3"
   ]
  },
  {
   "cell_type": "code",
   "execution_count": null,
   "id": "7fc36868",
   "metadata": {},
   "outputs": [],
   "source": [
    "vizc = NBplot(DBc)\n",
    "figc = vizc.sankey(tesla_model3, include=None, to_html=False, path='sankey.html')"
   ]
  },
  {
   "cell_type": "code",
   "execution_count": null,
   "id": "65cbf6f9",
   "metadata": {
    "scrolled": false
   },
   "outputs": [],
   "source": [
    "figc.show()"
   ]
  },
  {
   "cell_type": "markdown",
   "id": "47343dd7",
   "metadata": {},
   "source": [
    "### Vizualization of third car: Renault Zoe Q90"
   ]
  },
  {
   "cell_type": "code",
   "execution_count": null,
   "id": "2bbcc57c",
   "metadata": {},
   "outputs": [],
   "source": [
    "renault_zoe = [ev for ev in list(DBc.db.keys()) if 'Renault' in ev][0]\n",
    "renault_zoe"
   ]
  },
  {
   "cell_type": "code",
   "execution_count": null,
   "id": "fe000e66",
   "metadata": {
    "scrolled": true
   },
   "outputs": [],
   "source": [
    "vizc = NBplot(DBc)\n",
    "figc = vizc.sankey(renault_zoe, include=None, to_html=False, path='sankey.html')"
   ]
  },
  {
   "cell_type": "code",
   "execution_count": null,
   "id": "69c1d247",
   "metadata": {
    "scrolled": false
   },
   "outputs": [],
   "source": [
    "figc.show()"
   ]
  },
  {
   "cell_type": "code",
   "execution_count": null,
   "id": "33aba08d",
   "metadata": {},
   "outputs": [],
   "source": []
  }
 ],
 "metadata": {
  "kernelspec": {
   "display_name": "Python 3 (ipykernel)",
   "language": "python",
   "name": "python3"
  },
  "language_info": {
   "codemirror_mode": {
    "name": "ipython",
    "version": 3
   },
   "file_extension": ".py",
   "mimetype": "text/x-python",
   "name": "python",
   "nbconvert_exporter": "python",
   "pygments_lexer": "ipython3",
   "version": "3.9.7"
  }
 },
 "nbformat": 4,
 "nbformat_minor": 5
}
