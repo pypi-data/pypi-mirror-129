{
 "cells": [
  {
   "cell_type": "code",
   "execution_count": 1,
   "id": "13fd24a7-5a8d-4045-a04f-245702201dce",
   "metadata": {},
   "outputs": [],
   "source": [
    "%gui qt\n",
    "%load_ext autoreload\n",
    "%autoreload 2"
   ]
  },
  {
   "cell_type": "code",
   "execution_count": 3,
   "id": "9f21e8b2-a442-40ae-8b3b-6243bdd71fdd",
   "metadata": {},
   "outputs": [],
   "source": [
    "import numpy as np"
   ]
  },
  {
   "cell_type": "code",
   "execution_count": 12,
   "id": "ed548577-e45b-4819-9c10-31c474441e06",
   "metadata": {},
   "outputs": [],
   "source": [
    "from plottr.data.datadict import DataDict\n",
    "from plottr.apps.autoplot import autoplot"
   ]
  },
  {
   "cell_type": "code",
   "execution_count": null,
   "id": "700404b6-962f-4ae4-8826-322cf8d6605a",
   "metadata": {},
   "outputs": [],
   "source": []
  },
  {
   "cell_type": "code",
   "execution_count": 13,
   "id": "aa0f36e4-f67e-4a38-bbfb-ab4bf640e54d",
   "metadata": {},
   "outputs": [
    {
     "data": {
      "text/plain": [
       "True"
      ]
     },
     "execution_count": 13,
     "metadata": {},
     "output_type": "execute_result"
    }
   ],
   "source": [
    "data = DataDict(\n",
    "    x = dict(values=np.arange(10)),\n",
    "    y = dict(values=np.arange(10)**2, axes=['x'])\n",
    ")\n",
    "data.validate()"
   ]
  },
  {
   "cell_type": "code",
   "execution_count": 15,
   "id": "e68d4a50-7929-4ffa-b584-131603c6b395",
   "metadata": {},
   "outputs": [],
   "source": [
    "fc, win = autoplot(data)"
   ]
  },
  {
   "cell_type": "code",
   "execution_count": null,
   "id": "53bd54e4-e1f3-4cb1-be29-c79a9ad1e3c1",
   "metadata": {},
   "outputs": [],
   "source": []
  }
 ],
 "metadata": {
  "kernelspec": {
   "display_name": "Python [conda env:msmt-pyqt5]",
   "language": "python",
   "name": "conda-env-msmt-pyqt5-py"
  },
  "language_info": {
   "codemirror_mode": {
    "name": "ipython",
    "version": 3
   },
   "file_extension": ".py",
   "mimetype": "text/x-python",
   "name": "python",
   "nbconvert_exporter": "python",
   "pygments_lexer": "ipython3",
   "version": "3.9.6"
  }
 },
 "nbformat": 4,
 "nbformat_minor": 5
}
