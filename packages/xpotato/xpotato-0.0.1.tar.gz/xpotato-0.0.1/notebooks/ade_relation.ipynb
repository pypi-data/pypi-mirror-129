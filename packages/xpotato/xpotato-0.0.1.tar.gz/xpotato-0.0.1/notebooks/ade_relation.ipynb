{
 "cells": [
  {
   "cell_type": "code",
   "execution_count": 1,
   "id": "face4aaa-a155-4ddf-9fbc-833323eff9d0",
   "metadata": {},
   "outputs": [],
   "source": [
    "from datasets import list_datasets, load_dataset, list_metrics, load_metric"
   ]
  },
  {
   "cell_type": "code",
   "execution_count": 30,
   "id": "6ce0629e-9fea-40f4-baf8-ec90260fdd55",
   "metadata": {},
   "outputs": [
    {
     "name": "stderr",
     "output_type": "stream",
     "text": [
      "Reusing dataset ade_corpus_v2 (/Users/adamkovacs/.cache/huggingface/datasets/ade_corpus_v2/Ade_corpus_v2_classification/1.0.0/940d61334dbfac6b01ac5d00286a2122608b8dc79706ee7e9206a1edb172c559)\n"
     ]
    },
    {
     "data": {
      "application/vnd.jupyter.widget-view+json": {
       "model_id": "d3f30673d26b461794075c34ebedc90f",
       "version_major": 2,
       "version_minor": 0
      },
      "text/plain": [
       "  0%|          | 0/1 [00:00<?, ?it/s]"
      ]
     },
     "metadata": {},
     "output_type": "display_data"
    }
   ],
   "source": [
    "ade_corpus = load_dataset('ade_corpus_v2', 'Ade_corpus_v2_classification')"
   ]
  },
  {
   "cell_type": "code",
   "execution_count": 32,
   "id": "293f0b6b-b4ff-4816-9b3c-f8ada020d949",
   "metadata": {},
   "outputs": [],
   "source": [
    "ade_corpus['train']\n",
    "\n",
    "labels = []\n",
    "\n",
    "for row in ade_corpus['train']:\n",
    "    labels.append(row['label'])"
   ]
  },
  {
   "cell_type": "code",
   "execution_count": 33,
   "id": "1af9c1c4-bab6-4023-a929-1392fcf4a6d5",
   "metadata": {},
   "outputs": [
    {
     "data": {
      "text/plain": [
       "6821"
      ]
     },
     "execution_count": 33,
     "metadata": {},
     "output_type": "execute_result"
    }
   ],
   "source": [
    "labels.count(1)"
   ]
  },
  {
   "cell_type": "code",
   "execution_count": null,
   "id": "e202700e-6aa0-4990-aeb9-528fcb9e0038",
   "metadata": {},
   "outputs": [],
   "source": []
  },
  {
   "cell_type": "code",
   "execution_count": null,
   "id": "b4f524de-dbda-4549-8d8d-5911d6a047f4",
   "metadata": {},
   "outputs": [],
   "source": []
  }
 ],
 "metadata": {
  "kernelspec": {
   "display_name": "Python 3 (ipykernel)",
   "language": "python",
   "name": "python3"
  },
  "language_info": {
   "codemirror_mode": {
    "name": "ipython",
    "version": 3
   },
   "file_extension": ".py",
   "mimetype": "text/x-python",
   "name": "python",
   "nbconvert_exporter": "python",
   "pygments_lexer": "ipython3",
   "version": "3.9.5"
  }
 },
 "nbformat": 4,
 "nbformat_minor": 5
}
