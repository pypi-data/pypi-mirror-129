{
  "nbformat": 4,
  "nbformat_minor": 0,
  "metadata": {
    "colab": {
      "name": "Examples - 5. The Store.ipynb",
      "provenance": [],
      "collapsed_sections": []
    },
    "kernelspec": {
      "name": "python3",
      "display_name": "Python 3"
    },
    "language_info": {
      "name": "python"
    },
    "nteract": {
      "version": "0.28.0"
    }
  },
  "cells": [
    {
      "cell_type": "code",
      "metadata": {
        "id": "MZGCjgra6z91"
      },
      "source": [
        "# DON'T FORGET TO ACTIVATE THE GPU when on google colab (Edit > Notebook settings)\n",
        "from os import environ\n",
        "GOOGLE_COLAB = True if \"COLAB_GPU\" in environ else False\n",
        "if GOOGLE_COLAB:\n",
        "    !pip install git+https://github.com/undark-lab/swyft.git"
      ],
      "execution_count": null,
      "outputs": []
    },
    {
      "cell_type": "markdown",
      "metadata": {
        "nteract": {
          "transient": {
            "deleting": false
          }
        },
        "id": "qNX0GA1AEzwK"
      },
      "source": [
        "# The Store - Caching and (re-)using simulator results with SWYFT\n",
        "\n",
        "The caching and (re-)use of simulator results is central to the working of SWYFT, with reuse possible both within the context of a single inferrence problem, as well as between different experiments -- provided the simulator used (including **all** its setings) is the same. \n",
        "**It is the responsibility of the user to ensure the employed simulator is consistent between experiments using the same store.** \n",
        "\n",
        "To this end SWYFT incorporates a `store` class with two distinct subclasses the `Memorystore` and the `DirectoryStore`. Here we demonstrate the use of these stores.\n"
      ]
    },
    {
      "cell_type": "code",
      "metadata": {
        "id": "F4qPfUYOE0YY"
      },
      "source": [
        "import numpy as np\n",
        "import pylab as plt\n",
        "import swyft"
      ],
      "execution_count": null,
      "outputs": []
    },
    {
      "cell_type": "markdown",
      "metadata": {
        "id": "YmljDpCXSxDe"
      },
      "source": [
        "We again begin by defining some parameters, a toy simulator, and a prior."
      ]
    },
    {
      "cell_type": "code",
      "metadata": {
        "id": "DgK78OA5FKVt"
      },
      "source": [
        "DEVICE = 'cpu'\n",
        "Ntrain =3000\n",
        "Npars = 2"
      ],
      "execution_count": null,
      "outputs": []
    },
    {
      "cell_type": "code",
      "metadata": {
        "id": "F480HEa4qTcq"
      },
      "source": [
        "def model(v, sigma = 0.2):\n",
        "    x = v + np.random.randn(Npars)*sigma\n",
        "    return dict(x=x)"
      ],
      "execution_count": null,
      "outputs": []
    },
    {
      "cell_type": "code",
      "metadata": {
        "id": "n7Y2BqzRqU7f"
      },
      "source": [
        "import os\n",
        "cwd = os.getcwd()\n"
      ],
      "execution_count": null,
      "outputs": []
    },
    {
      "cell_type": "code",
      "metadata": {
        "id": "gbFvZVmgqbxx"
      },
      "source": [
        "simulator = swyft.Simulator(model, Npars, sim_shapes = {\"x\": (Npars,)})"
      ],
      "execution_count": null,
      "outputs": []
    },
    {
      "cell_type": "code",
      "metadata": {
        "id": "R7ImnYuXJwCh"
      },
      "source": [
        "prior = swyft.Prior(lambda u: u*2-1, Npars)"
      ],
      "execution_count": null,
      "outputs": []
    },
    {
      "cell_type": "markdown",
      "metadata": {
        "id": "1u3eyPuNTOQ3"
      },
      "source": [
        "## The memory store\n",
        "\n",
        "The `MemorySore` class, which, intuitively, stores all results in active memory using `zarr`, provides  `SWYFT`'s simplest store option.\n",
        "\n",
        "An empty store can be instantiated as follows, requiring only the specification of an associated simulator."
      ]
    },
    {
      "cell_type": "code",
      "metadata": {
        "id": "4m3z0Dt8JGHv"
      },
      "source": [
        "store = swyft.MemoryStore(simulator)"
      ],
      "execution_count": null,
      "outputs": []
    },
    {
      "cell_type": "markdown",
      "metadata": {
        "id": "LxlcUe_8V1tc"
      },
      "source": [
        "Subsequently, parameters, drawn according to the specified prior, can be added to the store as"
      ]
    },
    {
      "cell_type": "code",
      "metadata": {
        "id": "nH84gCfwKNEN"
      },
      "source": [
        "store.add(Ntrain, prior=prior)"
      ],
      "execution_count": null,
      "outputs": []
    },
    {
      "cell_type": "markdown",
      "metadata": {
        "id": "B3yU1pABV9mW"
      },
      "source": [
        "and it is possible to check whether entries in the store require simulator runs using"
      ]
    },
    {
      "cell_type": "code",
      "metadata": {
        "id": "jTmK3CeSKNLx"
      },
      "source": [
        "needs_sim = store.requires_sim()\n",
        "needs_sim"
      ],
      "execution_count": null,
      "outputs": []
    },
    {
      "cell_type": "markdown",
      "metadata": {
        "id": "bjb48Xpiqedy"
      },
      "source": [
        "Similarly, an overview of the exact simulation staus of all entries can be obtained using "
      ]
    },
    {
      "cell_type": "code",
      "metadata": {
        "id": "rkbmEZjaKNZc"
      },
      "source": [
        "store.get_simulation_status()\n"
      ],
      "execution_count": null,
      "outputs": []
    },
    {
      "cell_type": "markdown",
      "metadata": {
        "id": "W6_rj2j0Xc-w"
      },
      "source": [
        "Where a value of 0 corresponds to not yet simulated ."
      ]
    },
    {
      "cell_type": "markdown",
      "metadata": {
        "id": "p0WMPNrDYF4p"
      },
      "source": [
        "The reqired simulations can then be run using the store's `simulate` method."
      ]
    },
    {
      "cell_type": "code",
      "metadata": {
        "id": "wl5jlbwXLhuW"
      },
      "source": [
        "store.simulate()"
      ],
      "execution_count": null,
      "outputs": []
    },
    {
      "cell_type": "markdown",
      "metadata": {
        "id": "D3OEsZDAYcZz"
      },
      "source": [
        "Afterwards, all simulations have been run, and their status in the store has been updated (2 corresponds to successfully simulated)."
      ]
    },
    {
      "cell_type": "code",
      "metadata": {
        "id": "ZHP10bDjLhzn"
      },
      "source": [
        "store.requires_sim()"
      ],
      "execution_count": null,
      "outputs": []
    },
    {
      "cell_type": "code",
      "metadata": {
        "id": "ImQvK_VVLh4x"
      },
      "source": [
        "store.get_simulation_status()"
      ],
      "execution_count": null,
      "outputs": []
    },
    {
      "cell_type": "markdown",
      "metadata": {
        "id": "behWzMHxZTm1"
      },
      "source": [
        "### Sample re-use and coverage\n",
        "`SWYFT`'s store enables reuse of simulations. In order to check which fraction of a required number of samples can be reused, the coverge of the store for the desired prior, i.e. which fraction of the desired nuumber of samples to be drawn from the specified prior is already available in the store, can he inspected as follows."
      ]
    },
    {
      "cell_type": "code",
      "metadata": {
        "id": "DGVWsYJmLxpG"
      },
      "source": [
        "store.coverage(2*Ntrain,prior=prior) "
      ],
      "execution_count": null,
      "outputs": []
    },
    {
      "cell_type": "markdown",
      "metadata": {
        "id": "Ryf69Gr7afMq"
      },
      "source": [
        "Adding a specified number of samples to the store then becomes a question of adding the missing number. "
      ]
    },
    {
      "cell_type": "code",
      "metadata": {
        "id": "v8J2F3JOLxuL"
      },
      "source": [
        "store.add(2*Ntrain,prior=prior)"
      ],
      "execution_count": null,
      "outputs": []
    },
    {
      "cell_type": "markdown",
      "metadata": {
        "id": "Hi9wZNVKbEEh"
      },
      "source": [
        "These, however, do not yet have associated simulation results."
      ]
    },
    {
      "cell_type": "code",
      "metadata": {
        "id": "hVTOuef3LxzR"
      },
      "source": [
        "store.requires_sim()"
      ],
      "execution_count": null,
      "outputs": []
    },
    {
      "cell_type": "code",
      "metadata": {
        "id": "I2AJSYSHeZ4r"
      },
      "source": [
        "store._get_indices_to_simulate()"
      ],
      "execution_count": null,
      "outputs": []
    },
    {
      "cell_type": "markdown",
      "metadata": {
        "id": "bSjleIINcPOW"
      },
      "source": [
        "#### Saving and loading\n",
        "A memory store can also be saved, i.e. serialized to disk as a DirectoryStore, using the `save` method which takes the desired path as an argument,"
      ]
    },
    {
      "cell_type": "code",
      "metadata": {
        "id": "YMqHcimtMdNQ"
      },
      "source": [
        "store.save(cwd+'/SavedStore')"
      ],
      "execution_count": null,
      "outputs": []
    },
    {
      "cell_type": "markdown",
      "metadata": {
        "id": "PCaEwkowdIyQ"
      },
      "source": [
        "and be loaded into memory by specifying the path to a directory store and a simulator"
      ]
    },
    {
      "cell_type": "code",
      "metadata": {
        "id": "CNT5USwmNkf9"
      },
      "source": [
        "store2 = swyft.MemoryStore.load(cwd+'/SavedStore',simulator=simulator)"
      ],
      "execution_count": null,
      "outputs": []
    },
    {
      "cell_type": "code",
      "metadata": {
        "id": "AtABTpUlOUBr"
      },
      "source": [
        "store2._get_indices_to_simulate()"
      ],
      "execution_count": null,
      "outputs": []
    },
    {
      "cell_type": "markdown",
      "metadata": {
        "id": "NPLCp-0ogdXv"
      },
      "source": [
        "## The directory store\n",
        "In many cases, running an instance of a simulator may be quite computationally expensive. For such simulators `SWYFT`'s ability to support reuse of simulations across different experiments is of paramount importance.\n",
        "\n",
        "`Swyft` provides this capability in the form of the `DirectoryStore` class, which serializes the store to disk using `zarr`and keeps it up-to-date with regard to requested samples and parameters.\n",
        "\n",
        "All methods demonstrated for the `MemoryStore`, with the excepttion of `load` and `save`, are also implemented for the `DirectoryStore`.\n",
        "\n",
        "A directory store can be instantiated by invoking the `DirectoryStore` class and providing a path as argument. Should store with this path already exist, then `SWYFT` will connect to the existing store, otherwise an empty store will be created.\n",
        "\n"
      ]
    },
    {
      "cell_type": "code",
      "metadata": {
        "id": "_qc4J1YMPhrb"
      },
      "source": [
        "dirStore = swyft.DirectoryStore(cwd+'/SavedStore')"
      ],
      "execution_count": null,
      "outputs": []
    },
    {
      "cell_type": "markdown",
      "metadata": {
        "id": "wFZls7OcjEPv"
      },
      "source": [
        "While it is posssible to specify the simulator to be associated with a directory store upon instantiation by passing the `simulator` keyword, it is also possible, in contrast to the case of the memory store, to instantiate the store without specifying a simulator and set the simulator later/afterwards."
      ]
    },
    {
      "cell_type": "code",
      "metadata": {
        "id": "E2fxegpDPvOJ"
      },
      "source": [
        "dirStore.set_simulator(simulator)"
      ],
      "execution_count": null,
      "outputs": []
    },
    {
      "cell_type": "markdown",
      "metadata": {
        "id": "ukYnDrpMlGih"
      },
      "source": [
        "### Updating on disk\n",
        "We now briefly demonstrate the difference between a directory store and a memory store which has been loaded from an existing directory store.\n",
        "\n",
        "In the example above, both the `dirStor` and `store2` are currenlty equivalent in content. In the `dirStore` we will now add simulations for half of the currently present samples lacking simulations, "
      ]
    },
    {
      "cell_type": "code",
      "metadata": {
        "id": "p_OKCYFKP-YQ"
      },
      "source": [
        "all_to_sim = dirStore._get_indices_to_simulate()\n",
        "sim_now = all_to_sim[0:int(len(all_to_sim)/2)]\n",
        "dirStore.simulate(sim_now)"
      ],
      "execution_count": null,
      "outputs": []
    },
    {
      "cell_type": "markdown",
      "metadata": {
        "id": "eDdqLY1Tmph6"
      },
      "source": [
        "Where we have made use of the ability to explicitly specify the indices of samples to be simulated.\n",
        "\n",
        "The remaining samples lacking simulation results in the `dirStore` are now"
      ]
    },
    {
      "cell_type": "code",
      "metadata": {
        "id": "YSJmqbjcQ2qB"
      },
      "source": [
        "dirStore._get_indices_to_simulate()"
      ],
      "execution_count": null,
      "outputs": []
    },
    {
      "cell_type": "markdown",
      "metadata": {
        "id": "7B2EUVH_nayL"
      },
      "source": [
        "i.e. the store has been updated on disk, while in comparison the samples lacking simulation results in `store2` are still"
      ]
    },
    {
      "cell_type": "code",
      "metadata": {
        "id": "sjJnCemsRHYV"
      },
      "source": [
        "store2._get_indices_to_simulate()"
      ],
      "execution_count": null,
      "outputs": []
    },
    {
      "cell_type": "markdown",
      "metadata": {
        "id": "44ZINZPNn0ax"
      },
      "source": [
        "## asynchronous usage\n",
        "\n",
        "In contrast to the `MemoryStore`, the `DirectoryStore` also supports asynchronous usage, i.e. when simulations are requested control immediately returns, with the simulations and updating of the store happening in the background.\n",
        "\n",
        "This is particularly relevant for long-running simulators and parallelization using Dask, as is showcased in a separate notebook.\n",
        "\n",
        "Here, as a small example, we simply add further samples to the store and then execute the associated simulations without waiting for the results.\n"
      ]
    },
    {
      "cell_type": "code",
      "metadata": {
        "id": "eTsEcKj8RHqR"
      },
      "source": [
        "dirStore.add(5*Ntrain,prior=prior)"
      ],
      "execution_count": null,
      "outputs": []
    },
    {
      "cell_type": "code",
      "metadata": {
        "id": "eyvej4GdRtMt"
      },
      "source": [
        "dirStore.simulate(wait_for_results=False)"
      ],
      "execution_count": null,
      "outputs": []
    },
    {
      "cell_type": "code",
      "metadata": {
        "id": "tEHjFJc0U31F"
      },
      "source": [
        "print('control returned')"
      ],
      "execution_count": null,
      "outputs": []
    }
  ]
}