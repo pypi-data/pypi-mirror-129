{
 "cells": [
  {
   "cell_type": "markdown",
   "metadata": {},
   "source": [
    "# `SanUnit` (basic) <a class=\"anchor\" id=\"top\"></a>\n",
    "\n",
    "- **Prepared by:**\n",
    "    \n",
    "    - [Yalin Li](https://qsdsan.readthedocs.io/en/latest/authors/Yalin_Li.html)\n",
    "\n",
    "- **Covered topics:**\n",
    "\n",
    "    - [1. Understanding SanUnit/sanunits/Unit](#s1)\n",
    "    - [2. Using existing SanUnit subclasses](#s2)\n",
    "    \n",
    "- **Video demo:**\n",
    "\n",
    "    - [Tori Morgan](https://qsdsan.readthedocs.io/en/latest/authors/Tori_Morgan.html)\n",
    "    \n",
    "To run tutorials in your browser, go to this [Binder page](https://mybinder.org/v2/gh/QSD-Group/QSDsan/main?filepath=%2Fdocs%2Fsource%2Ftutorials).\n",
    "\n",
    "You can also watch a video demo on [YouTube](https://youtu.be/s9zr0rCX3UY) (subscriptions & likes appreciated!)."
   ]
  },
  {
   "cell_type": "code",
   "execution_count": 1,
   "metadata": {},
   "outputs": [
    {
     "name": "stdout",
     "output_type": "stream",
     "text": [
      "This tutorial was made with qsdsan v0.3.5.\n"
     ]
    }
   ],
   "source": [
    "import qsdsan as qs\n",
    "print(f'This tutorial was made with qsdsan v{qs.__version__}.')"
   ]
  },
  {
   "cell_type": "markdown",
   "metadata": {},
   "source": [
    "## 1. Understanding `SanUnit`/`sanunits`/`Unit` <a class=\"anchor\" id=\"s1\"></a>\n",
    "The `SanUnit` class is used to model the design and operation of a unit operation through default or user-implemented algorithms. Upon simulation, it will generate the influent/effluent mass/energy flows and construction/operation inventories. It is (imo) the most extensible class in `qsdsan` and most directly relevant to new technologies.\n",
    "\n",
    "In this tutorial, we will focus on how to use existing `SanUnit` classes, creation of new `SanUnit` subclasses will be covered in the [next tutorial](https://qsdsan.readthedocs.io/en/latest/tutorials/5_SanUnit_advanced.html)."
   ]
  },
  {
   "cell_type": "markdown",
   "metadata": {},
   "source": [
    "### 1.1. `SanUnit` and `sanunits`"
   ]
  },
  {
   "cell_type": "code",
   "execution_count": 2,
   "metadata": {},
   "outputs": [
    {
     "data": {
      "text/plain": [
       "qsdsan._sanunit.SanUnit"
      ]
     },
     "execution_count": 2,
     "metadata": {},
     "output_type": "execute_result"
    }
   ],
   "source": [
    "# In qsdsan's top-level diretory, you will see two entries related to SanUnit:\n",
    "qs.SanUnit"
   ]
  },
  {
   "cell_type": "markdown",
   "metadata": {},
   "source": [
    "This means that `SanUnit` is a class in the `_sanunit` module (i.e., there is a file called `_sanunit.py` within the folder `qsdsan`).\n",
    "\n",
    "`_sanunit.py` is the script that contains the codes used to develop the class `SanUnit`."
   ]
  },
  {
   "cell_type": "markdown",
   "metadata": {},
   "source": [
    "In `qsdsan`, `Equipment`/`equipments` (used to add equipment to a unit operation, discussed later in the advanced `SanUnit` tutorial) and `Process`/`processes` (used for dynamic simulation, will be discussed in a separate tutorial) also follow the same structure."
   ]
  },
  {
   "cell_type": "code",
   "execution_count": 3,
   "metadata": {},
   "outputs": [
    {
     "data": {
      "text/plain": [
       "<module 'qsdsan.sanunits' from '/Users/yalinli_cabbi/opt/anaconda3/envs/demo/lib/python3.8/site-packages/qsdsan/sanunits/__init__.py'>"
      ]
     },
     "execution_count": 3,
     "metadata": {},
     "output_type": "execute_result"
    }
   ],
   "source": [
    "# If you check\n",
    "qs.sanunits"
   ]
  },
  {
   "cell_type": "markdown",
   "metadata": {},
   "source": [
    "As shown in the output, `sanunits` is actually a folder. This folder contains the unit operations (i.e., subclasses of `SanUint`) that have already been developed using `qsdsan`, and you can access them through `qs.sanunits.<SanUnitName>`\n",
    "\n",
    "**Note:**\n",
    "\n",
    "Usually, `<Hint>` are used to let readers know that they are supposed to replace whatever in the `<>` with their own inputs. So what I meant above is just that you'll want to replace the `<SanUnitName>` with the actual name of the unit operation, e.g., `qs.sanunits.PitLatrine`"
   ]
  },
  {
   "cell_type": "markdown",
   "metadata": {},
   "source": [
    "---\n",
    "### Tip\n",
    "How did I know that `_sanunit.py` is a file/script but `sanunits` is a folder (other than the reason that I made them XD)?"
   ]
  },
  {
   "cell_type": "code",
   "execution_count": 4,
   "metadata": {},
   "outputs": [
    {
     "data": {
      "text/plain": [
       "<module 'qsdsan._sanunit' from '/Users/yalinli_cabbi/opt/anaconda3/envs/demo/lib/python3.8/site-packages/qsdsan/_sanunit.py'>"
      ]
     },
     "execution_count": 4,
     "metadata": {},
     "output_type": "execute_result"
    }
   ],
   "source": [
    "# Because when you do\n",
    "qs._sanunit"
   ]
  },
  {
   "cell_type": "markdown",
   "metadata": {},
   "source": [
    "It ends with `_sanunits.py`, but for `qs.sanunits`, it ends with `.../sanunits/__init__.py`"
   ]
  },
  {
   "cell_type": "markdown",
   "metadata": {},
   "source": [
    "The `__init__.py` is a script used in Python to initialize the importing of other scripts within this folder (and you can also add some other codes in it, and those codes would be executed when you import the folder)."
   ]
  },
  {
   "cell_type": "markdown",
   "metadata": {},
   "source": [
    "---"
   ]
  },
  {
   "cell_type": "code",
   "execution_count": 5,
   "metadata": {},
   "outputs": [
    {
     "data": {
      "text/plain": [
       "['AnaerobicBaffledReactor',\n",
       " 'AnaerobicDigestion',\n",
       " 'BiogasCombustion',\n",
       " 'CSTR',\n",
       " 'ComponentSplitter',\n",
       " 'CropApplication',\n",
       " 'Decay',\n",
       " 'DryingBed',\n",
       " 'ElectrochemicalCell',\n",
       " 'Excretion',\n",
       " 'FakeSplitter',\n",
       " 'FlatBottomCircularClarifier',\n",
       " 'HXprocess',\n",
       " 'HXutility',\n",
       " 'Lagoon',\n",
       " 'LiquidTreatmentBed',\n",
       " 'LumpedCost',\n",
       " 'MixTank',\n",
       " 'Mixer',\n",
       " 'PitLatrine',\n",
       " 'Pump',\n",
       " 'ReversedSplitter',\n",
       " 'SBR',\n",
       " 'SedimentationTank',\n",
       " 'SludgeSeparator',\n",
       " 'Splitter',\n",
       " 'StorageTank',\n",
       " 'Tank',\n",
       " 'Toilet',\n",
       " 'Trucking',\n",
       " 'UDDT',\n",
       " '__all__',\n",
       " '__builtins__',\n",
       " '__cached__',\n",
       " '__doc__',\n",
       " '__file__',\n",
       " '__loader__',\n",
       " '__name__',\n",
       " '__package__',\n",
       " '__path__',\n",
       " '__spec__',\n",
       " '_anaerobic_baffled_reactor',\n",
       " '_anaerobic_digestion',\n",
       " '_biogas_combustion',\n",
       " '_bst_units',\n",
       " '_clarifier',\n",
       " '_component_splitter',\n",
       " '_crop_application',\n",
       " '_decay',\n",
       " '_drying_bed',\n",
       " '_electrochemical_cell',\n",
       " '_excretion',\n",
       " '_lagoon',\n",
       " '_liquid_treatment_bed',\n",
       " '_lumped_cost',\n",
       " '_pit_latrine',\n",
       " '_sedimentation_tank',\n",
       " '_sludge_separator',\n",
       " '_suspended_growth_bioreactor',\n",
       " '_toilet',\n",
       " '_trucking',\n",
       " '_uddt']"
      ]
     },
     "execution_count": 5,
     "metadata": {},
     "output_type": "execute_result"
    }
   ],
   "source": [
    "# If you put in `qs.sanunits.` in the cell/console and hit the tab key on your keyboard,\n",
    "# you will see a list of the available unit operations you can use\n",
    "# (all of them have been added as attributes to the `sanunits` module upon importing)\n",
    "\n",
    "# Sometimes the list won't show up (e.g., your console is busy and takes a while to load),\n",
    "# you can directly access the list by the `dir` function\n",
    "dir(qs.sanunits)"
   ]
  },
  {
   "cell_type": "markdown",
   "metadata": {},
   "source": [
    "Note that there's more to how `dir` works, to know more, check the [documentation](https://docs.python.org/3/library/functions.html#dir)."
   ]
  },
  {
   "cell_type": "markdown",
   "metadata": {},
   "source": [
    "---\n",
    "### Tip\n",
    "Now you might be wondering about the other entries are. Attributes with leading and trailing double underscores (`dunder`) are Python builtin attributes, for example"
   ]
  },
  {
   "cell_type": "code",
   "execution_count": 6,
   "metadata": {},
   "outputs": [
    {
     "data": {
      "text/plain": [
       "['/Users/yalinli_cabbi/opt/anaconda3/envs/demo/lib/python3.8/site-packages/qsdsan/sanunits']"
      ]
     },
     "execution_count": 6,
     "metadata": {},
     "output_type": "execute_result"
    }
   ],
   "source": [
    "# Recall that in previous tutorials we used the `__path__` attribute to look at\n",
    "# where the imported qsdsan was\n",
    "qs.sanunits.__path__"
   ]
  },
  {
   "cell_type": "markdown",
   "metadata": {},
   "source": [
    "Attributes that start with one underscore are private attributes and by default \"hidden\", (i.e., if you hit the tab key, they won't be included in the list).\n",
    "\n",
    "These are the attributes that developers don't think user need to/want users to know, that's why the script that contains the codes used to develop the `SanUnit` class is named `_sanunit.py` with a leading underscore - the users don't need to know about the existence of this module, they can just use the `SanUnit` class."
   ]
  },
  {
   "cell_type": "markdown",
   "metadata": {},
   "source": [
    "---"
   ]
  },
  {
   "cell_type": "markdown",
   "metadata": {},
   "source": [
    "## 1.2. `SanUnit` and `Unit`"
   ]
  },
  {
   "cell_type": "code",
   "execution_count": 7,
   "metadata": {},
   "outputs": [],
   "source": [
    "# As always, we learn how to use a class by looking at its documentation\n",
    "?qs.SanUnit"
   ]
  },
  {
   "cell_type": "markdown",
   "metadata": {},
   "source": [
    "You can see that `SanUnit` is a subclass with the `Unit` class in `biosteam`, like we mentioned in the previous tutorials, this means it inherits the attributes of the `Unit` class while having some new features (e.g., enables dynamic simulation, supports comprehensive LCA)."
   ]
  },
  {
   "cell_type": "markdown",
   "metadata": {},
   "source": [
    "In `qsdsan`, if a class is inherited from a `biosteam` (e.g., `SanUnit` from `Unit`)/`thermosteam` (e.g., `WasteStream` from `Stream`) class, the class-level document will only display the new features, but the documentation of the attributes from the superclasses is still accessible."
   ]
  },
  {
   "cell_type": "code",
   "execution_count": 8,
   "metadata": {},
   "outputs": [],
   "source": [
    "# E.g., `simulation` is a method inherited from the `Unit` class and you can still see the documentation\n",
    "# you can actually see the hint on whether the attribute is inherited in the documentation\n",
    "?qs.SanUnit.simulate"
   ]
  },
  {
   "cell_type": "code",
   "execution_count": 9,
   "metadata": {},
   "outputs": [
    {
     "data": {
      "text/plain": [
       "(biosteam._unit.Unit,)"
      ]
     },
     "execution_count": 9,
     "metadata": {},
     "output_type": "execute_result"
    }
   ],
   "source": [
    "# In the case you can't remember what the superclass is, you can do\n",
    "qs.SanUnit.__bases__"
   ]
  },
  {
   "cell_type": "markdown",
   "metadata": {},
   "source": [
    "Note that the `__bases__` attribute is a tuple, this is because one class can have multiple superclasses, in the case of `SanUnit`, there is only one"
   ]
  },
  {
   "cell_type": "code",
   "execution_count": 10,
   "metadata": {},
   "outputs": [
    {
     "data": {
      "text/plain": [
       "(qsdsan._sanunit.SanUnit, qsdsan.sanunits._decay.Decay)"
      ]
     },
     "execution_count": 10,
     "metadata": {},
     "output_type": "execute_result"
    }
   ],
   "source": [
    "# But in the case of the `Toilet` class, there are two\n",
    "qs.sanunits.Toilet.__bases__"
   ]
  },
  {
   "cell_type": "markdown",
   "metadata": {},
   "source": [
    "[Back to top](#top)"
   ]
  },
  {
   "cell_type": "markdown",
   "metadata": {},
   "source": [
    "## 2. Using existing `SanUnit` subclasses <a class=\"anchor\" id=\"s2\"></a>\n",
    "In Python terms, the \"use\" here means creating instances of a `SanUnit` subclass."
   ]
  },
  {
   "cell_type": "markdown",
   "metadata": {},
   "source": [
    "### 2.1. Instance initialization (creation) and simulation"
   ]
  },
  {
   "cell_type": "code",
   "execution_count": 11,
   "metadata": {},
   "outputs": [
    {
     "name": "stdout",
     "output_type": "stream",
     "text": [
      "CompiledComponents([S_H2, S_CH4, S_CH3OH, S_Ac, S_Prop, S_F, S_U_Inf, S_U_E, C_B_Subst, C_B_BAP, C_B_UAP, C_U_Inf, X_B_Subst, X_OHO_PHA, X_GAO_PHA, X_PAO_PHA, X_GAO_Gly, X_PAO_Gly, X_OHO, X_AOO, X_NOO, X_AMO, X_PAO, X_MEOLO, X_FO, X_ACO, X_HMO, X_PRO, X_U_Inf, X_U_OHO_E, X_U_PAO_E, X_Ig_ISS, X_MgCO3, X_CaCO3, X_MAP, X_HAP, X_HDP, X_FePO4, X_AlPO4, X_AlOH, X_FeOH, X_PAO_PP_Lo, X_PAO_PP_Hi, S_NH4, S_NO2, S_NO3, S_PO4, S_K, S_Ca, S_Mg, S_CO3, S_N2, S_O2, S_CAT, S_AN, H2O])\n"
     ]
    }
   ],
   "source": [
    "# Like always, we need to firstly tell `qsdsan` what components we will be working with,\n",
    "# for demo purpose we will just use the default ones\n",
    "cmps = qs.Components.load_default()\n",
    "qs.set_thermo(cmps)\n",
    "cmps"
   ]
  },
  {
   "cell_type": "markdown",
   "metadata": {},
   "source": [
    "Let's firstly try using a `Mixer`, it is one of the most basic units, it takes N numbers of influents and the effluent is the mixture of all influents."
   ]
  },
  {
   "cell_type": "code",
   "execution_count": 12,
   "metadata": {
    "scrolled": true
   },
   "outputs": [
    {
     "name": "stderr",
     "output_type": "stream",
     "text": [
      "/Users/yalinli_cabbi/opt/anaconda3/envs/demo/lib/python3.8/site-packages/qsdsan/_waste_stream.py:857: UserWarning: ignored concentration specified for H2O:0.0\n",
      "  warn(f'ignored concentration specified for {bulk_liquid_ID}:{C_h2o}')\n"
     ]
    }
   ],
   "source": [
    "# Make three random influents, I'm deliberately using different ways to make these streams\n",
    "# as a recap previous tutorials\n",
    "\n",
    "# Method 1: by directly providing the flow rates of select components\n",
    "ins1 = qs.WasteStream(H2O=100)\n",
    "\n",
    "# Method 2: using `copy` and adjust flow rates later\n",
    "ins2 = ins1.copy()\n",
    "ins2.imol['X_GAO_Gly'] = ins2.imol['X_GAO_PHA'] = 0.01\n",
    "\n",
    "# Method 3: using default models\n",
    "ins3 = qs.WasteStream.codstates_inf_model('', flow_tot=50)"
   ]
  },
  {
   "cell_type": "code",
   "execution_count": 13,
   "metadata": {},
   "outputs": [],
   "source": [
    "# Use a shorthand to make our lives easier\n",
    "su = qs.sanunits\n",
    "\n",
    "# This is the actual line used to initialize the instance,\n",
    "# and we can pass the influents through the `ins` argument\n",
    "M1 = su.Mixer(ins=(ins1, ins2, ins3))"
   ]
  },
  {
   "cell_type": "code",
   "execution_count": 14,
   "metadata": {},
   "outputs": [
    {
     "name": "stdout",
     "output_type": "stream",
     "text": [
      "Mixer: M1\n",
      "ins...\n",
      "[0] ws1\n",
      "    phase: 'l', T: 298.15 K, P: 101325 Pa\n",
      "    flow (g/hr): H2O  1e+05\n",
      "    WasteStream-specific properties:\n",
      "     pH         : 7.0\n",
      "[1] ws2\n",
      "    phase: 'l', T: 298.15 K, P: 101325 Pa\n",
      "    flow (g/hr): X_GAO_PHA  10\n",
      "                 X_GAO_Gly  10\n",
      "                 H2O        1e+05\n",
      "    WasteStream-specific properties:\n",
      "     pH         : 7.0\n",
      "     COD        : 198.9 mg/L\n",
      "     BOD        : 115.4 mg/L\n",
      "     TC         : 70.5 mg/L\n",
      "     TOC        : 70.5 mg/L\n",
      "[2] ws3\n",
      "    phase: 'l', T: 298.15 K, P: 101325 Pa\n",
      "    flow (g/hr): S_F        4.3\n",
      "                 S_U_Inf    1.08\n",
      "                 C_B_Subst  2\n",
      "                 X_B_Subst  11.3\n",
      "                 X_U_Inf    2.79\n",
      "                 X_Ig_ISS   2.62\n",
      "                 S_NH4      1.25\n",
      "                 S_PO4      0.4\n",
      "                 S_K        1.4\n",
      "                 S_Ca       7\n",
      "                 S_Mg       2.5\n",
      "                 S_CO3      6\n",
      "                 S_N2       0.9\n",
      "                 S_CAT      0.15\n",
      "                 S_AN       0.6\n",
      "                 ...\n",
      "    WasteStream-specific properties:\n",
      "     pH         : 7.0\n",
      "     COD        : 430.0 mg/L\n",
      "     BOD        : 221.8 mg/L\n",
      "     TC         : 265.0 mg/L\n",
      "     TOC        : 137.6 mg/L\n",
      "     TN         : 40.0 mg/L\n",
      "     TKN        : 40.0 mg/L\n",
      "     TP         : 10.0 mg/L\n",
      "     TK         : 28.0 mg/L\n",
      "outs...\n",
      "[0] ws4\n",
      "    phase: 'l', T: 298.15 K, P: 101325 Pa\n",
      "    flow: 0\n",
      "    WasteStream-specific properties: None for empty waste streams\n"
     ]
    }
   ],
   "source": [
    "# Like many other classes, there is a `show` method\n",
    "M1.show()"
   ]
  },
  {
   "cell_type": "markdown",
   "metadata": {},
   "source": [
    "**Hold on a second, why the effluent is empty?!!!** 😱😱😱"
   ]
  },
  {
   "cell_type": "code",
   "execution_count": 15,
   "metadata": {},
   "outputs": [
    {
     "name": "stdout",
     "output_type": "stream",
     "text": [
      "Mixer: M1\n",
      "ins...\n",
      "[0] ws1\n",
      "    phase: 'l', T: 298.15 K, P: 101325 Pa\n",
      "    flow (g/hr): H2O  1e+05\n",
      "    WasteStream-specific properties:\n",
      "     pH         : 7.0\n",
      "[1] ws2\n",
      "    phase: 'l', T: 298.15 K, P: 101325 Pa\n",
      "    flow (g/hr): X_GAO_PHA  10\n",
      "                 X_GAO_Gly  10\n",
      "                 H2O        1e+05\n",
      "    WasteStream-specific properties:\n",
      "     pH         : 7.0\n",
      "     COD        : 198.9 mg/L\n",
      "     BOD        : 115.4 mg/L\n",
      "     TC         : 70.5 mg/L\n",
      "     TOC        : 70.5 mg/L\n",
      "[2] ws3\n",
      "    phase: 'l', T: 298.15 K, P: 101325 Pa\n",
      "    flow (g/hr): S_F        4.3\n",
      "                 S_U_Inf    1.08\n",
      "                 C_B_Subst  2\n",
      "                 X_B_Subst  11.3\n",
      "                 X_U_Inf    2.79\n",
      "                 X_Ig_ISS   2.62\n",
      "                 S_NH4      1.25\n",
      "                 S_PO4      0.4\n",
      "                 S_K        1.4\n",
      "                 S_Ca       7\n",
      "                 S_Mg       2.5\n",
      "                 S_CO3      6\n",
      "                 S_N2       0.9\n",
      "                 S_CAT      0.15\n",
      "                 S_AN       0.6\n",
      "                 ...\n",
      "    WasteStream-specific properties:\n",
      "     pH         : 7.0\n",
      "     COD        : 430.0 mg/L\n",
      "     BOD        : 221.8 mg/L\n",
      "     TC         : 265.0 mg/L\n",
      "     TOC        : 137.6 mg/L\n",
      "     TN         : 40.0 mg/L\n",
      "     TKN        : 40.0 mg/L\n",
      "     TP         : 10.0 mg/L\n",
      "     TK         : 28.0 mg/L\n",
      "outs...\n",
      "[0] ws4\n",
      "    phase: 'l', T: 298.15 K, P: 101325 Pa\n",
      "    flow (g/hr): S_F        4.3\n",
      "                 S_U_Inf    1.08\n",
      "                 C_B_Subst  2\n",
      "                 X_B_Subst  11.3\n",
      "                 X_GAO_PHA  10\n",
      "                 X_GAO_Gly  10\n",
      "                 X_U_Inf    2.79\n",
      "                 X_Ig_ISS   2.62\n",
      "                 S_NH4      1.25\n",
      "                 S_PO4      0.4\n",
      "                 S_K        1.4\n",
      "                 S_Ca       7\n",
      "                 S_Mg       2.5\n",
      "                 S_CO3      6\n",
      "                 S_N2       0.9\n",
      "                 ...\n",
      "    WasteStream-specific properties:\n",
      "     pH         : 7.0\n",
      "     COD        : 165.4 mg/L\n",
      "     BOD        : 90.4 mg/L\n",
      "     TC         : 81.1 mg/L\n",
      "     TOC        : 55.7 mg/L\n",
      "     TN         : 8.0 mg/L\n",
      "     TKN        : 8.0 mg/L\n",
      "     TP         : 2.0 mg/L\n",
      "     TK         : 5.6 mg/L\n"
     ]
    }
   ],
   "source": [
    "# Well, we have to simulate the unit first\n",
    "M1.simulate()\n",
    "M1.show()"
   ]
  },
  {
   "cell_type": "markdown",
   "metadata": {},
   "source": [
    "Aha! Now we are seeing the effluent being simulated."
   ]
  },
  {
   "cell_type": "code",
   "execution_count": 16,
   "metadata": {},
   "outputs": [],
   "source": [
    "# If you recall the `mix_from` method of `WasteStream`,\n",
    "# effluent of the `Mixer` is actually generated by it\n",
    "ws4 = qs.WasteStream()\n",
    "ws4.mix_from(M1.ins)"
   ]
  },
  {
   "cell_type": "code",
   "execution_count": 17,
   "metadata": {},
   "outputs": [
    {
     "data": {
      "text/plain": [
       "property_array([ True,  True,  True,  True,  True,  True,  True,  True,\n",
       "                 True,  True,  True,  True,  True,  True,  True,  True,\n",
       "                 True,  True,  True,  True,  True,  True,  True,  True,\n",
       "                 True,  True,  True,  True,  True,  True,  True,  True,\n",
       "                 True,  True,  True,  True,  True,  True,  True,  True,\n",
       "                 True,  True,  True,  True,  True,  True,  True,  True,\n",
       "                 True,  True,  True,  True,  True,  True,  True,  True]))"
      ]
     },
     "execution_count": 17,
     "metadata": {},
     "output_type": "execute_result"
    }
   ],
   "source": [
    "# We can check if the flow rate of ws4 is the same as the effluent of the mixer M1\n",
    "ws4.mass == M1.outs[0].mass"
   ]
  },
  {
   "cell_type": "code",
   "execution_count": 18,
   "metadata": {},
   "outputs": [
    {
     "data": {
      "image/png": "[encoded data removed]",
      "text/plain": [
       "<IPython.core.display.Image object>"
      ]
     },
     "metadata": {},
     "output_type": "display_data"
    }
   ],
   "source": [
    "# As you can see in the above examples,\n",
    "# I use `ins` and `outs` to set/retrieve the influents and effluents of a unit\n",
    "# Alternatively, there is the `diagram` method for a more intuitive look\n",
    "M1.diagram()"
   ]
  },
  {
   "cell_type": "markdown",
   "metadata": {},
   "source": [
    "---\n",
    "### HUGE Tip\n",
    "If you cannot get a diagram from the `diagram` method, you probably don't have the `graphviz` package, which is used to generate the diagram, for more information, check QSDsan's documentation on [this issue](https://qsdsan.readthedocs.io/en/latest/FAQ.html#graphviz)"
   ]
  },
  {
   "cell_type": "code",
   "execution_count": 19,
   "metadata": {},
   "outputs": [
    {
     "data": {
      "image/png": "[encoded data removed]",
      "text/plain": [
       "<IPython.core.display.Image object>"
      ]
     },
     "metadata": {},
     "output_type": "display_data"
    }
   ],
   "source": [
    "# Do the following to confirm that it is indeed `graphviz` causing the problem\n",
    "import biosteam as bst\n",
    "bst.RAISE_GRAPHVIZ_EXCEPTION = True\n",
    "M1.diagram()\n",
    "\n",
    "# If you can see error message now, then it's definitely `graphvize`, check the link above to fix it"
   ]
  },
  {
   "cell_type": "markdown",
   "metadata": {},
   "source": [
    "---"
   ]
  },
  {
   "cell_type": "markdown",
   "metadata": {},
   "source": [
    "### 2.2. Retrieving design and cost"
   ]
  },
  {
   "cell_type": "code",
   "execution_count": 20,
   "metadata": {},
   "outputs": [
    {
     "name": "stderr",
     "output_type": "stream",
     "text": [
      "/var/folders/m0/nkxljwvx1nlg1hw9npshjgm40000gn/T/ipykernel_25930/3311111030.py:4: RuntimeWarning: undocked inlet stream ws1 from unit M1; ws1 is now docked at M2\n",
      "  M2 = su.MixTank('M2', ins=(ins1, ins2, ins3), outs='M2out', # init_with='WasteStream',\n",
      "/var/folders/m0/nkxljwvx1nlg1hw9npshjgm40000gn/T/ipykernel_25930/3311111030.py:4: RuntimeWarning: undocked inlet stream ws2 from unit M1; ws2 is now docked at M2\n",
      "  M2 = su.MixTank('M2', ins=(ins1, ins2, ins3), outs='M2out', # init_with='WasteStream',\n",
      "/var/folders/m0/nkxljwvx1nlg1hw9npshjgm40000gn/T/ipykernel_25930/3311111030.py:4: RuntimeWarning: undocked inlet stream ws3 from unit M1; ws3 is now docked at M2\n",
      "  M2 = su.MixTank('M2', ins=(ins1, ins2, ins3), outs='M2out', # init_with='WasteStream',\n"
     ]
    },
    {
     "name": "stdout",
     "output_type": "stream",
     "text": [
      "MixTank: M2\n",
      "ins...\n",
      "[0] ws1\n",
      "    phase: 'l', T: 298.15 K, P: 101325 Pa\n",
      "    flow (g/hr): H2O  1e+05\n",
      "    WasteStream-specific properties:\n",
      "     pH         : 7.0\n",
      "[1] ws2\n",
      "    phase: 'l', T: 298.15 K, P: 101325 Pa\n",
      "    flow (g/hr): X_GAO_PHA  10\n",
      "                 X_GAO_Gly  10\n",
      "                 H2O        1e+05\n",
      "    WasteStream-specific properties:\n",
      "     pH         : 7.0\n",
      "     COD        : 198.9 mg/L\n",
      "     BOD        : 115.4 mg/L\n",
      "     TC         : 70.5 mg/L\n",
      "     TOC        : 70.5 mg/L\n",
      "[2] ws3\n",
      "    phase: 'l', T: 298.15 K, P: 101325 Pa\n",
      "    flow (g/hr): S_F        4.3\n",
      "                 S_U_Inf    1.08\n",
      "                 C_B_Subst  2\n",
      "                 X_B_Subst  11.3\n",
      "                 X_U_Inf    2.79\n",
      "                 X_Ig_ISS   2.62\n",
      "                 S_NH4      1.25\n",
      "                 S_PO4      0.4\n",
      "                 S_K        1.4\n",
      "                 S_Ca       7\n",
      "                 S_Mg       2.5\n",
      "                 S_CO3      6\n",
      "                 S_N2       0.9\n",
      "                 S_CAT      0.15\n",
      "                 S_AN       0.6\n",
      "                 ...\n",
      "    WasteStream-specific properties:\n",
      "     pH         : 7.0\n",
      "     COD        : 430.0 mg/L\n",
      "     BOD        : 221.8 mg/L\n",
      "     TC         : 265.0 mg/L\n",
      "     TOC        : 137.6 mg/L\n",
      "     TN         : 40.0 mg/L\n",
      "     TKN        : 40.0 mg/L\n",
      "     TP         : 10.0 mg/L\n",
      "     TK         : 28.0 mg/L\n",
      "outs...\n",
      "[0] M2out\n",
      "    phase: 'l', T: 298.15 K, P: 101325 Pa\n",
      "    flow: \n"
     ]
    }
   ],
   "source": [
    "# Note that `Mixer` does nothing other than mix the influents,\n",
    "# let's using another example\n",
    "qs.set_thermo(cmps) # here we need to reset the `cmps` since I introduced the `biosteam` environment\n",
    "M2 = su.MixTank('M2', ins=(ins1, ins2, ins3), outs='M2out', # init_with='WasteStream',\n",
    "                tau=1, kW_per_m3=1)\n",
    "M2.show()"
   ]
  },
  {
   "cell_type": "markdown",
   "metadata": {},
   "source": [
    "Two things to take note of in the example above:\n",
    "- By setting `outs='M2out'`, I set the ID of the effluent to be `M2out`\n",
    "    - You can also make a stream ahead of time and set the effluent to that stream (e.g., `outs=qs.WasteStream('M2out')`\n",
    "    - If the unit has multiple effluents, then you'll want to use an Iterable (e.g., tuple, list), e.g., `outs=['M2out1', qs.WasteStream('M2out2')]`\n",
    "    - This is applicable to `ins` as well\n",
    "- You will see warnings about streams being undocked from the previous unit and docked at the new unit, this is because we set the `ins` of `M2` to be the same as the `ins` of `M1`. Since one stream can only go to one unit, these streams will be taken away from `M1` and connect to `M2`"
   ]
  },
  {
   "cell_type": "code",
   "execution_count": 21,
   "metadata": {},
   "outputs": [
    {
     "data": {
      "text/html": [
       "<div>\n",
       "<style scoped>\n",
       "    .dataframe tbody tr th:only-of-type {\n",
       "        vertical-align: middle;\n",
       "    }\n",
       "\n",
       "    .dataframe tbody tr th {\n",
       "        vertical-align: top;\n",
       "    }\n",
       "\n",
       "    .dataframe thead th {\n",
       "        text-align: right;\n",
       "    }\n",
       "</style>\n",
       "<table border=\"1\" class=\"dataframe\">\n",
       "  <thead>\n",
       "    <tr style=\"text-align: right;\">\n",
       "      <th></th>\n",
       "      <th>Mix tank</th>\n",
       "      <th>Units</th>\n",
       "      <th>M2</th>\n",
       "    </tr>\n",
       "  </thead>\n",
       "  <tbody>\n",
       "    <tr>\n",
       "      <th rowspan=\"2\" valign=\"top\">Power</th>\n",
       "      <th>Rate</th>\n",
       "      <td>kW</td>\n",
       "      <td>0.314</td>\n",
       "    </tr>\n",
       "    <tr>\n",
       "      <th>Cost</th>\n",
       "      <td>USD/hr</td>\n",
       "      <td>0.0245</td>\n",
       "    </tr>\n",
       "    <tr>\n",
       "      <th rowspan=\"3\" valign=\"top\">Design</th>\n",
       "      <th>Residence time</th>\n",
       "      <td>hr</td>\n",
       "      <td>1</td>\n",
       "    </tr>\n",
       "    <tr>\n",
       "      <th>Total volume</th>\n",
       "      <td>m^3</td>\n",
       "      <td>0.314</td>\n",
       "    </tr>\n",
       "    <tr>\n",
       "      <th>Number of tanks</th>\n",
       "      <td></td>\n",
       "      <td>1</td>\n",
       "    </tr>\n",
       "    <tr>\n",
       "      <th>Purchase cost</th>\n",
       "      <th>Tanks</th>\n",
       "      <td>USD</td>\n",
       "      <td>7.1e+03</td>\n",
       "    </tr>\n",
       "    <tr>\n",
       "      <th>Total purchase cost</th>\n",
       "      <th></th>\n",
       "      <td>USD</td>\n",
       "      <td>7.1e+03</td>\n",
       "    </tr>\n",
       "    <tr>\n",
       "      <th>Utility cost</th>\n",
       "      <th></th>\n",
       "      <td>USD/hr</td>\n",
       "      <td>0.0245</td>\n",
       "    </tr>\n",
       "    <tr>\n",
       "      <th>Additional OPEX</th>\n",
       "      <th></th>\n",
       "      <td>USD/hr</td>\n",
       "      <td>0</td>\n",
       "    </tr>\n",
       "  </tbody>\n",
       "</table>\n",
       "</div>"
      ],
      "text/plain": [
       "Mix tank                              Units      M2\n",
       "Power               Rate                 kW   0.314\n",
       "                    Cost             USD/hr  0.0245\n",
       "Design              Residence time       hr       1\n",
       "                    Total volume        m^3   0.314\n",
       "                    Number of tanks               1\n",
       "Purchase cost       Tanks               USD 7.1e+03\n",
       "Total purchase cost                     USD 7.1e+03\n",
       "Utility cost                         USD/hr  0.0245\n",
       "Additional OPEX                      USD/hr       0"
      ]
     },
     "execution_count": 21,
     "metadata": {},
     "output_type": "execute_result"
    }
   ],
   "source": [
    "# Because `M2` is a `MixTank`, we can look at its design\n",
    "M2.simulate() # don't forget this!\n",
    "M2.results() # you can see the design and capital/power cost"
   ]
  },
  {
   "cell_type": "code",
   "execution_count": 22,
   "metadata": {},
   "outputs": [
    {
     "data": {
      "text/html": [
       "<div>\n",
       "<style scoped>\n",
       "    .dataframe tbody tr th:only-of-type {\n",
       "        vertical-align: middle;\n",
       "    }\n",
       "\n",
       "    .dataframe tbody tr th {\n",
       "        vertical-align: top;\n",
       "    }\n",
       "\n",
       "    .dataframe thead th {\n",
       "        text-align: right;\n",
       "    }\n",
       "</style>\n",
       "<table border=\"1\" class=\"dataframe\">\n",
       "  <thead>\n",
       "    <tr style=\"text-align: right;\">\n",
       "      <th></th>\n",
       "      <th>HXutility</th>\n",
       "      <th>Units</th>\n",
       "      <th>U1</th>\n",
       "    </tr>\n",
       "  </thead>\n",
       "  <tbody>\n",
       "    <tr>\n",
       "      <th rowspan=\"3\" valign=\"top\">Low pressure steam</th>\n",
       "      <th>Duty</th>\n",
       "      <td>kJ/hr</td>\n",
       "      <td>1.48e+03</td>\n",
       "    </tr>\n",
       "    <tr>\n",
       "      <th>Flow</th>\n",
       "      <td>kmol/hr</td>\n",
       "      <td>0.0382</td>\n",
       "    </tr>\n",
       "    <tr>\n",
       "      <th>Cost</th>\n",
       "      <td>USD/hr</td>\n",
       "      <td>0.00909</td>\n",
       "    </tr>\n",
       "    <tr>\n",
       "      <th rowspan=\"8\" valign=\"top\">Design</th>\n",
       "      <th>Area</th>\n",
       "      <td>ft^2</td>\n",
       "      <td>0.0223</td>\n",
       "    </tr>\n",
       "    <tr>\n",
       "      <th>Overall heat transfer coefficient</th>\n",
       "      <td>kW/m^2/K</td>\n",
       "      <td>0.5</td>\n",
       "    </tr>\n",
       "    <tr>\n",
       "      <th>Log-mean temperature difference</th>\n",
       "      <td>K</td>\n",
       "      <td>377</td>\n",
       "    </tr>\n",
       "    <tr>\n",
       "      <th>Fouling correction factor</th>\n",
       "      <td></td>\n",
       "      <td>1</td>\n",
       "    </tr>\n",
       "    <tr>\n",
       "      <th>Tube side pressure drop</th>\n",
       "      <td>psi</td>\n",
       "      <td>1.5</td>\n",
       "    </tr>\n",
       "    <tr>\n",
       "      <th>Shell side pressure drop</th>\n",
       "      <td>psi</td>\n",
       "      <td>5</td>\n",
       "    </tr>\n",
       "    <tr>\n",
       "      <th>Operating pressure</th>\n",
       "      <td>psi</td>\n",
       "      <td>50</td>\n",
       "    </tr>\n",
       "    <tr>\n",
       "      <th>Total tube length</th>\n",
       "      <td>ft</td>\n",
       "      <td>20</td>\n",
       "    </tr>\n",
       "    <tr>\n",
       "      <th>Purchase cost</th>\n",
       "      <th>Double pipe</th>\n",
       "      <td>USD</td>\n",
       "      <td>28.9</td>\n",
       "    </tr>\n",
       "    <tr>\n",
       "      <th>Total purchase cost</th>\n",
       "      <th></th>\n",
       "      <td>USD</td>\n",
       "      <td>28.9</td>\n",
       "    </tr>\n",
       "    <tr>\n",
       "      <th>Utility cost</th>\n",
       "      <th></th>\n",
       "      <td>USD/hr</td>\n",
       "      <td>0.00909</td>\n",
       "    </tr>\n",
       "    <tr>\n",
       "      <th>Additional OPEX</th>\n",
       "      <th></th>\n",
       "      <td>USD/hr</td>\n",
       "      <td>0</td>\n",
       "    </tr>\n",
       "  </tbody>\n",
       "</table>\n",
       "</div>"
      ],
      "text/plain": [
       "HXutility                                                 Units       U1\n",
       "Low pressure steam  Duty                                  kJ/hr 1.48e+03\n",
       "                    Flow                                kmol/hr   0.0382\n",
       "                    Cost                                 USD/hr  0.00909\n",
       "Design              Area                                   ft^2   0.0223\n",
       "                    Overall heat transfer coefficient  kW/m^2/K      0.5\n",
       "                    Log-mean temperature difference           K      377\n",
       "                    Fouling correction factor                          1\n",
       "                    Tube side pressure drop                 psi      1.5\n",
       "                    Shell side pressure drop                psi        5\n",
       "                    Operating pressure                      psi       50\n",
       "                    Total tube length                        ft       20\n",
       "Purchase cost       Double pipe                             USD     28.9\n",
       "Total purchase cost                                         USD     28.9\n",
       "Utility cost                                             USD/hr  0.00909\n",
       "Additional OPEX                                          USD/hr        0"
      ]
     },
     "execution_count": 22,
     "metadata": {},
     "output_type": "execute_result"
    }
   ],
   "source": [
    "# If there is utility usage, it will be shown in the results as well\n",
    "ws5 = qs.WasteStream(H2O=10, T=20)\n",
    "H1 = su.HXutility(ins=ws5, T=50)\n",
    "H1.simulate()\n",
    "H1.results()"
   ]
  },
  {
   "cell_type": "code",
   "execution_count": 23,
   "metadata": {},
   "outputs": [
    {
     "data": {
      "text/plain": [
       "7097.428271221226"
      ]
     },
     "execution_count": 23,
     "metadata": {},
     "output_type": "execute_result"
    }
   ],
   "source": [
    "# You can also retrieve information such as\n",
    "M2.purchase_cost # this is the sum"
   ]
  },
  {
   "cell_type": "code",
   "execution_count": 24,
   "metadata": {},
   "outputs": [
    {
     "data": {
      "text/plain": [
       "{'Tanks': 7097.428271221226}"
      ]
     },
     "execution_count": 24,
     "metadata": {},
     "output_type": "execute_result"
    }
   ],
   "source": [
    "M2.purchase_costs # this is a `dict` contains all the entries"
   ]
  },
  {
   "cell_type": "code",
   "execution_count": 25,
   "metadata": {},
   "outputs": [
    {
     "name": "stdout",
     "output_type": "stream",
     "text": [
      "M2 contains the following cost items:\n",
      "    Tanks costs 11711\n",
      "The sum of all these cost items is 11711.\n"
     ]
    }
   ],
   "source": [
    "# Well, I probably should choose one with more cost items, but you get what I meant\n",
    "print(f'{M2.ID} contains the following cost items:')\n",
    "for item_name, item_cost in M2.installed_costs.items():\n",
    "    print(f'    {item_name} costs {item_cost:.0f}')\n",
    "print(f'The sum of all these cost items is {M2.installed_cost:.0f}.')"
   ]
  },
  {
   "cell_type": "markdown",
   "metadata": {},
   "source": [
    "---\n",
    "### Tip\n",
    "Some units may require specific components or certain number of influents, for example"
   ]
  },
  {
   "cell_type": "code",
   "execution_count": 26,
   "metadata": {},
   "outputs": [],
   "source": [
    "# You'll receive an `UndefinedComponent` error\n",
    "# bad_su = su.Excretion()\n",
    "# bad_su.simulate()"
   ]
  },
  {
   "cell_type": "markdown",
   "metadata": {},
   "source": [
    "For those units, the best way is to look at the documentation/examples (e.g., for the above case, check the `bwaise` system in the link of the documentation)."
   ]
  },
  {
   "cell_type": "markdown",
   "metadata": {},
   "source": [
    "[Back to top](#top)"
   ]
  }
 ],
 "metadata": {
  "kernelspec": {
   "display_name": "Python 3 (ipykernel)",
   "language": "python",
   "name": "python3"
  },
  "language_info": {
   "codemirror_mode": {
    "name": "ipython",
    "version": 3
   },
   "file_extension": ".py",
   "mimetype": "text/x-python",
   "name": "python",
   "nbconvert_exporter": "python",
   "pygments_lexer": "ipython3",
   "version": "3.8.2"
  }
 },
 "nbformat": 4,
 "nbformat_minor": 4
}
