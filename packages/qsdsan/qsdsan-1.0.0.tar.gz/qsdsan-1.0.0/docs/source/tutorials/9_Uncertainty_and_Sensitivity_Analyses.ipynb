{
 "cells": [
  {
   "cell_type": "markdown",
   "id": "72695384",
   "metadata": {},
   "source": [
    "# Uncertainty and Sensitivity Analyses <a class=\"anchor\" id=\"top\"></a>\n",
    "\n",
    "* **Prepared by:**\n",
    "\n",
    "    - [Yalin Li](https://qsdsan.readthedocs.io/en/latest/authors/Yalin_Li.html)\n",
    "\n",
    "* **Covered topics:**\n",
    "\n",
    "    - [1. Model, Parameter, and Metric](#s1)\n",
    "    - [2. Perform Uncertainty and Sensitivity Analyses](#s2)\n",
    "    \n",
    "- **Video demo:**\n",
    "\n",
    "    - [Hannah Lohman](https://qsdsan.readthedocs.io/en/latest/authors/Hannah_Lohman.html)\n",
    "\n",
    "To run tutorials in your browser, go to this [Binder page](https://mybinder.org/v2/gh/QSD-Group/QSDsan/main?filepath=%2Fdocs%2Fsource%2Ftutorials).\n",
    "\n",
    "You can also watch a video demo on [YouTube](https://youtu.be/_pIfUEda2jc) (subscriptions & likes appreciated!)."
   ]
  },
  {
   "cell_type": "code",
   "execution_count": 1,
   "id": "10f22a45",
   "metadata": {},
   "outputs": [
    {
     "name": "stdout",
     "output_type": "stream",
     "text": [
      "This tutorial was made with qsdsan v0.3.11.\n"
     ]
    }
   ],
   "source": [
    "import qsdsan as qs\n",
    "print(f'This tutorial was made with qsdsan v{qs.__version__}.')"
   ]
  },
  {
   "cell_type": "markdown",
   "id": "2aae4f13",
   "metadata": {},
   "source": [
    "## 1. `Model`, `Parameter`, and `Metric` <a class=\"anchor\" id=\"s1\"></a>\n",
    "To perform uncertainty and sensitivity analyses, we firstly need to use the `Model` class to establish a system model and link it to the system we are interested in."
   ]
  },
  {
   "cell_type": "markdown",
   "id": "071eb251",
   "metadata": {},
   "source": [
    "### 1.1. Create a simple system with TEA and LCA\n",
    "Let's make a very simple system with a splitter, a heat exchanger, and a mixing tank"
   ]
  },
  {
   "cell_type": "code",
   "execution_count": 2,
   "id": "a277eee6",
   "metadata": {},
   "outputs": [
    {
     "name": "stderr",
     "output_type": "stream",
     "text": [
      "/Users/yalinli_cabbi/opt/anaconda3/envs/demo/lib/python3.8/site-packages/qsdsan/_waste_stream.py:945: UserWarning: ignored concentration specified for H2O:0.0\n",
      "  warn(f'ignored concentration specified for {bulk_liquid_ID}:{C_bulk}')\n"
     ]
    }
   ],
   "source": [
    "from qsdsan import PowerUtility, Model # for prior v0.3.10, import from `biosteam`\n",
    "cmps = qs.Components.load_default()\n",
    "qs.set_thermo(cmps)\n",
    "ww1 = qs.WasteStream.codstates_inf_model('ww1', 1000)\n",
    "ww2 = qs.WasteStream.bodbased_inf_model('ww2', 100)"
   ]
  },
  {
   "cell_type": "code",
   "execution_count": 3,
   "id": "c3be03d1",
   "metadata": {
    "scrolled": false
   },
   "outputs": [
    {
     "data": {
      "image/png": "[encoded data removed]",
      "text/plain": [
       "<IPython.core.display.Image object>"
      ]
     },
     "metadata": {},
     "output_type": "display_data"
    }
   ],
   "source": [
    "su = qs.sanunits\n",
    "S1 = su.Splitter('S1', ins=ww1, outs=('to_HX', 'to_mixer'), split=0.2)\n",
    "H1 = su.HXutility('H1', ins=S1-0, T=273.15+50)\n",
    "M1 = su.MixTank('M1', ins=(S1-1, ww2), tau=2)\n",
    "sys = qs.System('sys', path=(S1, H1, M1))\n",
    "sys.simulate()\n",
    "sys.diagram()"
   ]
  },
  {
   "cell_type": "code",
   "execution_count": 4,
   "id": "5205defc",
   "metadata": {},
   "outputs": [],
   "source": [
    "# Add some stream costs for TEA\n",
    "ww1.price = ww2.price = 0.1\n",
    "tea = qs.SimpleTEA(sys, lifetime=10)"
   ]
  },
  {
   "cell_type": "code",
   "execution_count": 5,
   "id": "1d199e0a",
   "metadata": {},
   "outputs": [],
   "source": [
    "# Add some stream impacts for LCA\n",
    "GWP = qs.ImpactIndicator('GWP', unit='kg CO2')\n",
    "ww_item1 = qs.StreamImpactItem('ww_item1', linked_stream=ww1, GWP=0.1)\n",
    "ww_item2 = ww_item1.copy('ww_item2', stream=ww2)"
   ]
  },
  {
   "cell_type": "code",
   "execution_count": 6,
   "id": "829199f2",
   "metadata": {},
   "outputs": [],
   "source": [
    "# Let's also consider some construction impacts,\n",
    "# assume we need 5000 kg of stainless steel per m3 of reactor,\n",
    "# and the impact of is 4 kg CO2/kg stainless steel\n",
    "StainlessSteel = qs.ImpactItem('StainlessSteel', functional_unit='kg', GWP=4)\n",
    "M1_ss = qs.Construction('M1_ss', item=StainlessSteel)\n",
    "M1.construction = (M1_ss,)"
   ]
  },
  {
   "cell_type": "code",
   "execution_count": 7,
   "id": "9e0a29ff",
   "metadata": {},
   "outputs": [],
   "source": [
    "# Instead of making a subclass of `MixTank` to add the impacts,\n",
    "# we can do so on the fly\n",
    "old_M1_design = M1._design\n",
    "def new_M1_design():\n",
    "    old_M1_design() # we firstly call the origin design method\n",
    "    M1_ss.quantity = M1.design_results['Total volume'] * 5000 # 5000 is just the assumed density\n",
    "    M1.add_construction()\n",
    "M1._design = new_M1_design # in this line we pass the new design method to M1"
   ]
  },
  {
   "cell_type": "markdown",
   "id": "1eaf5350",
   "metadata": {},
   "source": [
    "---\n",
    "### Serious digression\n",
    "\n",
    "Since I havent' thrown in a joke for a while..."
   ]
  },
  {
   "cell_type": "code",
   "execution_count": 8,
   "id": "27e0d817",
   "metadata": {},
   "outputs": [
    {
     "data": {
      "text/html": [
       "<img src=\"https://thesaurus.plus/img/synonyms/183/do_on_the_fly.png\"/>"
      ],
      "text/plain": [
       "<IPython.core.display.Image object>"
      ]
     },
     "execution_count": 8,
     "metadata": {},
     "output_type": "execute_result"
    }
   ],
   "source": [
    "# I was trying to find a good meme for \"on the fly\"\n",
    "# expecting some funny versin of\n",
    "from IPython.display import Image\n",
    "Image(url='https://thesaurus.plus/img/synonyms/183/do_on_the_fly.png')"
   ]
  },
  {
   "cell_type": "code",
   "execution_count": 9,
   "id": "f002ee8b",
   "metadata": {},
   "outputs": [
    {
     "data": {
      "text/html": [
       "<img src=\"https://images-na.ssl-images-amazon.com/images/I/910v4vftdcL.jpg\" width=\"400\"/>"
      ],
      "text/plain": [
       "<IPython.core.display.Image object>"
      ]
     },
     "execution_count": 9,
     "metadata": {},
     "output_type": "execute_result"
    }
   ],
   "source": [
    "# But for some reason I found tons of, but the actual animal that we\n",
    "# well... don't really like\n",
    "Image(url='https://images-na.ssl-images-amazon.com/images/I/910v4vftdcL.jpg', width=400)"
   ]
  },
  {
   "cell_type": "code",
   "execution_count": 10,
   "id": "c77ef0b1",
   "metadata": {},
   "outputs": [],
   "source": [
    "# So I tried something more straightforward,\n",
    "# typed in \"on the fly meme\" in the almighty Google\n",
    "# and... (see it on your own if you want, and no comments from me)\n",
    "# Image(url='https://i2.wp.com/comicsandmemes.com/wp-content/uploads/fly-on-vice-president-mike-pences-head-debate-meme-who-wore-it-best-hillary-clinton-mike-pence-debate-fly.jpg?resize=768%2C576&ssl=1', width=400)"
   ]
  },
  {
   "cell_type": "markdown",
   "id": "5bc66a44",
   "metadata": {},
   "source": [
    "---"
   ]
  },
  {
   "cell_type": "code",
   "execution_count": 11,
   "id": "ffe79344",
   "metadata": {},
   "outputs": [],
   "source": [
    "# Also let's add in the impacts for electricity\n",
    "Electricity = qs.ImpactItem('Electricity', functional_unit='kWh', GWP=0.1)"
   ]
  },
  {
   "cell_type": "code",
   "execution_count": 12,
   "id": "a55b02c0",
   "metadata": {},
   "outputs": [
    {
     "name": "stderr",
     "output_type": "stream",
     "text": [
      "/Users/yalinli_cabbi/opt/anaconda3/envs/demo/lib/python3.8/site-packages/biosteam/_unit.py:604: RuntimeWarning: the purchase cost item, 'StainlessSteel', has no defined bare-module factor in the 'MixTank.F_BM' dictionary; bare-module factor now has a default value of 1\n",
      "  warn(warning)\n"
     ]
    }
   ],
   "source": [
    "# Finally the LCA\n",
    "lca = qs.LCA(sys, lifetime=10,\n",
    "             # The electricity is in kWh/yr, so multiply by the lifetime\n",
    "             Electricity=lambda:sys.get_electricity_consumption()*10)"
   ]
  },
  {
   "cell_type": "markdown",
   "id": "c598ed3c",
   "metadata": {},
   "source": [
    "### 1.2. Create a system model and add uncertainty parameters and metrics\n",
    "The `Model` class is used to enable uncertainty and sensitivity analyses, so we need to firstly create a model for our system."
   ]
  },
  {
   "cell_type": "code",
   "execution_count": 13,
   "id": "8eaeecd2",
   "metadata": {},
   "outputs": [],
   "source": [
    "model = Model(sys)"
   ]
  },
  {
   "cell_type": "markdown",
   "id": "571449c3",
   "metadata": {},
   "source": [
    "Uncertainty parameters can be added using the `model.parameter` method. Let's assume we are unsure of the price of wastewater, electricity, the impact characterization factor of stainless steel and electricity, as well as the split ratio of the splitter and temperature of the heat exchanger."
   ]
  },
  {
   "cell_type": "code",
   "execution_count": 14,
   "id": "1a28dd29",
   "metadata": {},
   "outputs": [],
   "source": [
    "# We use the package `chaospy` to create distributions\n",
    "from chaospy import distributions as shape"
   ]
  },
  {
   "cell_type": "code",
   "execution_count": 15,
   "id": "6017316e",
   "metadata": {},
   "outputs": [],
   "source": [
    "# There are multiple ways we can use the `parameter` method,\n",
    "# but I like the following one most\n",
    "param = model.parameter\n",
    "\n",
    "dist = shape.Uniform(lower=0.05, upper=0.15)\n",
    "@param(name='Wastewater price',\n",
    "       element='TEA', # `element` determine which portion of the system will be simulated\n",
    "       # `kind` determines whether the value will be included in simulation\n",
    "       kind='isolated', \n",
    "       units='USD/kg',\n",
    "       baseline=ww1.price, distribution=dist)\n",
    "def set_ww_price(i): # here this `set_ww_price` is the `setter` function that will update the price\n",
    "    ww1.price = ww2.price = i"
   ]
  },
  {
   "cell_type": "code",
   "execution_count": 16,
   "id": "37749565",
   "metadata": {},
   "outputs": [
    {
     "data": {
      "text/plain": [
       "<Parameter: [TEA] Electricity price (USD/kWh)>"
      ]
     },
     "execution_count": 16,
     "metadata": {},
     "output_type": "execute_result"
    }
   ],
   "source": [
    "# This will be another way to add parameters\n",
    "baseline = PowerUtility.price\n",
    "dist = shape.Triangle(lower=baseline*0.9, midpoint=baseline, upper=baseline*1.1)\n",
    "\n",
    "# The setter function\n",
    "def e_setter(i):\n",
    "    PowerUtility.price = i\n",
    "    \n",
    "param(setter=e_setter, name='Electricity price', kind='isolated', element='TEA',\n",
    "      units='USD/kWh', baseline=baseline, distribution=dist)"
   ]
  },
  {
   "cell_type": "code",
   "execution_count": 17,
   "id": "74d6bd47",
   "metadata": {},
   "outputs": [],
   "source": [
    "# Then impact factors\n",
    "baseline = StainlessSteel.CFs['GWP']\n",
    "dist = shape.Uniform(lower=baseline*0.9, upper=baseline*1.1)\n",
    "@param(name='Stainless steel GWP', element='LCA', kind='isolated', \n",
    "       units='kg CO2/kg', baseline=baseline, distribution=dist)\n",
    "def set_ss_GWP(i):\n",
    "    StainlessSteel.CFs['GWP'] = i\n",
    "    \n",
    "baseline = Electricity.CFs['GWP']\n",
    "dist = shape.Uniform(lower=baseline*0.9, upper=baseline*1.1)\n",
    "@param(name='Electricity GWP', element='LCA', kind='isolated', \n",
    "       units='kg CO2/kg', baseline=baseline, distribution=dist)\n",
    "def set_e_GWP(i):\n",
    "    Electricity.CFs['GWP'] = i"
   ]
  },
  {
   "cell_type": "code",
   "execution_count": 18,
   "id": "645c9bb0",
   "metadata": {},
   "outputs": [],
   "source": [
    "# And finally the split ratio and heat exchanger temperature,\n",
    "# `kind` need to be \"coupled\" for them because these two parameters\n",
    "# would affect mass/energy balance (e.g., they are used in the `_run` method)\n",
    "dist = shape.Triangle(lower=0.1, midpoint=0.2, upper=0.3)\n",
    "@param(name='S1 split', element=S1, kind='coupled', \n",
    "       units='-', baseline=0.2, distribution=dist)\n",
    "def set_S1_split(i):\n",
    "    S1.split = i\n",
    "\n",
    "baseline = H1.T\n",
    "# `midpoint` doesn't need to be the same as the baseline\n",
    "dist = shape.Triangle(lower=baseline-5, midpoint=baseline+1, upper=baseline*1.1)\n",
    "@param(name='H1 temperature', element=H1, kind='coupled', \n",
    "       units='°C', baseline=baseline, distribution=dist)\n",
    "def set_H1_T(i):\n",
    "    H1.T = i"
   ]
  },
  {
   "cell_type": "code",
   "execution_count": 19,
   "id": "bf841033",
   "metadata": {},
   "outputs": [
    {
     "data": {
      "text/plain": [
       "<Metric: [LCA] GWP (kg CO2/yr)>"
      ]
     },
     "execution_count": 19,
     "metadata": {},
     "output_type": "execute_result"
    }
   ],
   "source": [
    "# Now it's time to add metrics!\n",
    "# Of course we are interested in the net earnings and total GWP,\n",
    "# again showing two ways to add metrics\n",
    "metric = model.metric\n",
    "@metric(name='Net earning', units='USD/yr', element='TEA')\n",
    "def get_annual_net_earnings():\n",
    "    return tea.net_earnings\n",
    "\n",
    "# Again two ways to do so\n",
    "def get_annual_GWP():\n",
    "    return lca.total_impacts['GWP']/lca.lifetime\n",
    "metric(getter=get_annual_GWP, name='GWP', units='kg CO2/yr', element='LCA')"
   ]
  },
  {
   "cell_type": "code",
   "execution_count": 20,
   "id": "6f1b1935",
   "metadata": {},
   "outputs": [
    {
     "name": "stdout",
     "output_type": "stream",
     "text": [
      "Model: TEA net earning [USD/yr]\n",
      "       LCA GWP [kg CO2/yr]\n",
      " Element:      Parameter:\n",
      " Splitter-S1   S1 split\n",
      " HXutility-H1  H1 temperature\n",
      " TEA           Wastewater price\n",
      "               Electricity price\n",
      " LCA           Stainless steel GWP\n",
      "               Electricity GWP\n"
     ]
    }
   ],
   "source": [
    "model"
   ]
  },
  {
   "cell_type": "markdown",
   "id": "d3b8f3e1",
   "metadata": {},
   "source": [
    "[Back to top](#top)"
   ]
  },
  {
   "cell_type": "markdown",
   "id": "48c14149",
   "metadata": {},
   "source": [
    "## 2. Perform uncertainty and sensitivity analyses <a class=\"anchor\" id=\"s2\"></a>"
   ]
  },
  {
   "cell_type": "markdown",
   "id": "387ff3df",
   "metadata": {},
   "source": [
    "### 2.1. Uncertainty analysis"
   ]
  },
  {
   "cell_type": "code",
   "execution_count": 21,
   "id": "867d766d",
   "metadata": {},
   "outputs": [],
   "source": [
    "# Once we have the model, Monte Carlo would be a breeze\n",
    "import numpy as np\n",
    "np.random.seed(3221) # setting the seed ensures you getting the same sample\n",
    "\n",
    "# Let's say we want to perform 100 simulations\n",
    "samples = model.sample(N=100, rule='L')\n",
    "model.load_samples(samples)"
   ]
  },
  {
   "cell_type": "code",
   "execution_count": 22,
   "id": "6df46b22",
   "metadata": {},
   "outputs": [],
   "source": [
    "# Let's do the simulation!\n",
    "model.evaluate()"
   ]
  },
  {
   "cell_type": "code",
   "execution_count": 23,
   "id": "eff2cc52",
   "metadata": {
    "scrolled": false
   },
   "outputs": [
    {
     "data": {
      "text/html": [
       "<div>\n",
       "<style scoped>\n",
       "    .dataframe tbody tr th:only-of-type {\n",
       "        vertical-align: middle;\n",
       "    }\n",
       "\n",
       "    .dataframe tbody tr th {\n",
       "        vertical-align: top;\n",
       "    }\n",
       "\n",
       "    .dataframe thead tr th {\n",
       "        text-align: left;\n",
       "    }\n",
       "</style>\n",
       "<table border=\"1\" class=\"dataframe\">\n",
       "  <thead>\n",
       "    <tr>\n",
       "      <th>Element</th>\n",
       "      <th>Splitter-S1</th>\n",
       "      <th>HXutility-H1</th>\n",
       "      <th colspan=\"2\" halign=\"left\">TEA</th>\n",
       "      <th colspan=\"2\" halign=\"left\">LCA</th>\n",
       "      <th>TEA</th>\n",
       "      <th>LCA</th>\n",
       "    </tr>\n",
       "    <tr>\n",
       "      <th>Variable</th>\n",
       "      <th>S1 split [-]</th>\n",
       "      <th>H1 temperature [°C]</th>\n",
       "      <th>Wastewater price [USD/kg]</th>\n",
       "      <th>Electricity price [USD/kWh]</th>\n",
       "      <th>Stainless steel GWP [kg CO2/kg]</th>\n",
       "      <th>Electricity GWP [kg CO2/kg]</th>\n",
       "      <th>Net earning [USD/yr]</th>\n",
       "      <th>GWP [kg CO2/yr]</th>\n",
       "    </tr>\n",
       "  </thead>\n",
       "  <tbody>\n",
       "    <tr>\n",
       "      <th>0</th>\n",
       "      <td>0.188</td>\n",
       "      <td>335</td>\n",
       "      <td>0.0612</td>\n",
       "      <td>0.0793</td>\n",
       "      <td>4.12</td>\n",
       "      <td>0.107</td>\n",
       "      <td>-5.82e+05</td>\n",
       "      <td>9.53e+05</td>\n",
       "    </tr>\n",
       "    <tr>\n",
       "      <th>1</th>\n",
       "      <td>0.208</td>\n",
       "      <td>326</td>\n",
       "      <td>0.122</td>\n",
       "      <td>0.074</td>\n",
       "      <td>4.35</td>\n",
       "      <td>0.0967</td>\n",
       "      <td>-1.16e+06</td>\n",
       "      <td>9.53e+05</td>\n",
       "    </tr>\n",
       "    <tr>\n",
       "      <th>2</th>\n",
       "      <td>0.166</td>\n",
       "      <td>323</td>\n",
       "      <td>0.12</td>\n",
       "      <td>0.0811</td>\n",
       "      <td>4.03</td>\n",
       "      <td>0.0979</td>\n",
       "      <td>-1.14e+06</td>\n",
       "      <td>9.53e+05</td>\n",
       "    </tr>\n",
       "    <tr>\n",
       "      <th>3</th>\n",
       "      <td>0.185</td>\n",
       "      <td>324</td>\n",
       "      <td>0.105</td>\n",
       "      <td>0.0777</td>\n",
       "      <td>3.64</td>\n",
       "      <td>0.0999</td>\n",
       "      <td>-9.99e+05</td>\n",
       "      <td>9.53e+05</td>\n",
       "    </tr>\n",
       "    <tr>\n",
       "      <th>4</th>\n",
       "      <td>0.177</td>\n",
       "      <td>344</td>\n",
       "      <td>0.0949</td>\n",
       "      <td>0.0817</td>\n",
       "      <td>4.2</td>\n",
       "      <td>0.108</td>\n",
       "      <td>-9.02e+05</td>\n",
       "      <td>9.53e+05</td>\n",
       "    </tr>\n",
       "    <tr>\n",
       "      <th>...</th>\n",
       "      <td>...</td>\n",
       "      <td>...</td>\n",
       "      <td>...</td>\n",
       "      <td>...</td>\n",
       "      <td>...</td>\n",
       "      <td>...</td>\n",
       "      <td>...</td>\n",
       "      <td>...</td>\n",
       "    </tr>\n",
       "    <tr>\n",
       "      <th>95</th>\n",
       "      <td>0.217</td>\n",
       "      <td>322</td>\n",
       "      <td>0.0778</td>\n",
       "      <td>0.0806</td>\n",
       "      <td>3.73</td>\n",
       "      <td>0.0942</td>\n",
       "      <td>-7.39e+05</td>\n",
       "      <td>9.53e+05</td>\n",
       "    </tr>\n",
       "    <tr>\n",
       "      <th>96</th>\n",
       "      <td>0.136</td>\n",
       "      <td>339</td>\n",
       "      <td>0.146</td>\n",
       "      <td>0.0803</td>\n",
       "      <td>4.08</td>\n",
       "      <td>0.0927</td>\n",
       "      <td>-1.39e+06</td>\n",
       "      <td>9.53e+05</td>\n",
       "    </tr>\n",
       "    <tr>\n",
       "      <th>97</th>\n",
       "      <td>0.269</td>\n",
       "      <td>324</td>\n",
       "      <td>0.125</td>\n",
       "      <td>0.0771</td>\n",
       "      <td>4.33</td>\n",
       "      <td>0.0976</td>\n",
       "      <td>-1.19e+06</td>\n",
       "      <td>9.53e+05</td>\n",
       "    </tr>\n",
       "    <tr>\n",
       "      <th>98</th>\n",
       "      <td>0.183</td>\n",
       "      <td>327</td>\n",
       "      <td>0.146</td>\n",
       "      <td>0.0766</td>\n",
       "      <td>4.26</td>\n",
       "      <td>0.105</td>\n",
       "      <td>-1.39e+06</td>\n",
       "      <td>9.53e+05</td>\n",
       "    </tr>\n",
       "    <tr>\n",
       "      <th>99</th>\n",
       "      <td>0.206</td>\n",
       "      <td>330</td>\n",
       "      <td>0.0699</td>\n",
       "      <td>0.0718</td>\n",
       "      <td>4.04</td>\n",
       "      <td>0.108</td>\n",
       "      <td>-6.64e+05</td>\n",
       "      <td>9.53e+05</td>\n",
       "    </tr>\n",
       "  </tbody>\n",
       "</table>\n",
       "<p>100 rows × 8 columns</p>\n",
       "</div>"
      ],
      "text/plain": [
       "Element   Splitter-S1        HXutility-H1                       TEA  \\\n",
       "Variable S1 split [-] H1 temperature [°C] Wastewater price [USD/kg]   \n",
       "0               0.188                 335                    0.0612   \n",
       "1               0.208                 326                     0.122   \n",
       "2               0.166                 323                      0.12   \n",
       "3               0.185                 324                     0.105   \n",
       "4               0.177                 344                    0.0949   \n",
       "..                ...                 ...                       ...   \n",
       "95              0.217                 322                    0.0778   \n",
       "96              0.136                 339                     0.146   \n",
       "97              0.269                 324                     0.125   \n",
       "98              0.183                 327                     0.146   \n",
       "99              0.206                 330                    0.0699   \n",
       "\n",
       "Element                                                          LCA  \\\n",
       "Variable Electricity price [USD/kWh] Stainless steel GWP [kg CO2/kg]   \n",
       "0                             0.0793                            4.12   \n",
       "1                              0.074                            4.35   \n",
       "2                             0.0811                            4.03   \n",
       "3                             0.0777                            3.64   \n",
       "4                             0.0817                             4.2   \n",
       "..                               ...                             ...   \n",
       "95                            0.0806                            3.73   \n",
       "96                            0.0803                            4.08   \n",
       "97                            0.0771                            4.33   \n",
       "98                            0.0766                            4.26   \n",
       "99                            0.0718                            4.04   \n",
       "\n",
       "Element                                               TEA             LCA  \n",
       "Variable Electricity GWP [kg CO2/kg] Net earning [USD/yr] GWP [kg CO2/yr]  \n",
       "0                              0.107            -5.82e+05        9.53e+05  \n",
       "1                             0.0967            -1.16e+06        9.53e+05  \n",
       "2                             0.0979            -1.14e+06        9.53e+05  \n",
       "3                             0.0999            -9.99e+05        9.53e+05  \n",
       "4                              0.108            -9.02e+05        9.53e+05  \n",
       "..                               ...                  ...             ...  \n",
       "95                            0.0942            -7.39e+05        9.53e+05  \n",
       "96                            0.0927            -1.39e+06        9.53e+05  \n",
       "97                            0.0976            -1.19e+06        9.53e+05  \n",
       "98                             0.105            -1.39e+06        9.53e+05  \n",
       "99                             0.108            -6.64e+05        9.53e+05  \n",
       "\n",
       "[100 rows x 8 columns]"
      ]
     },
     "execution_count": 23,
     "metadata": {},
     "output_type": "execute_result"
    }
   ],
   "source": [
    "# Parameter values and metric results are stored in the `table` attribute\n",
    "model.table"
   ]
  },
  {
   "cell_type": "code",
   "execution_count": 24,
   "id": "913e1074",
   "metadata": {},
   "outputs": [],
   "source": [
    "# Here are some codes I often use to clean up the results\n",
    "import pandas as pd\n",
    "def organize_results(model, path):\n",
    "    idx = len(model.parameters)\n",
    "    parameters = model.table.iloc[:, :idx]\n",
    "    results = model.table.iloc[:, idx:]\n",
    "    percentiles = results.quantile([0, 0.05, 0.25, 0.5, 0.75, 0.95, 1])\n",
    "    with pd.ExcelWriter(path) as writer:\n",
    "        parameters.to_excel(writer, sheet_name='Parameters')\n",
    "        results.to_excel(writer, sheet_name='Results')\n",
    "        percentiles.to_excel(writer, sheet_name='Percentiles')"
   ]
  },
  {
   "cell_type": "code",
   "execution_count": 25,
   "id": "9b08c787",
   "metadata": {},
   "outputs": [],
   "source": [
    "# You can run this to save the results\n",
    "# organize_results(model, 'example_model.xlsx')"
   ]
  },
  {
   "cell_type": "code",
   "execution_count": 26,
   "id": "49f93272",
   "metadata": {},
   "outputs": [
    {
     "data": {
      "image/png": "[encoded data removed]",
      "text/plain": [
       "<Figure size 432x288 with 1 Axes>"
      ]
     },
     "execution_count": 26,
     "metadata": {},
     "output_type": "execute_result"
    }
   ],
   "source": [
    "# You can have a quick look of the results by using the handy functions in the `stats` module\n",
    "fig, ax = qs.stats.plot_uncertainties(model)\n",
    "fig"
   ]
  },
  {
   "cell_type": "code",
   "execution_count": 27,
   "id": "fad0fede",
   "metadata": {
    "scrolled": false
   },
   "outputs": [
    {
     "data": {
      "image/png": "[encoded data removed]",
      "text/plain": [
       "<Figure size 432x432 with 3 Axes>"
      ]
     },
     "execution_count": 27,
     "metadata": {},
     "output_type": "execute_result"
    }
   ],
   "source": [
    "# There are some fancy plots\n",
    "fig, ax = qs.stats.plot_uncertainties(model, x_axis=model.metrics[0], y_axis=model.metrics[1],\n",
    "                                      kind='kde-kde', center_kws={'fill': True})\n",
    "fig"
   ]
  },
  {
   "cell_type": "markdown",
   "id": "ec8bbece",
   "metadata": {},
   "source": [
    "### 2.2. Sensitivity analysis\n",
    "\n",
    "QSDsan current has the following functions for sensitivity analysis:\n",
    "\n",
    "- `get_correlations`\n",
    "\n",
    "    - Spearman\n",
    "    - Person\n",
    "    - Kendall\n",
    "    - Kolmogorov–Smirnov (KS)\n",
    "    \n",
    "- `morris_analysis`\n",
    "\n",
    "    - There's also `morris_till_convergence` to increase the trajectory number until the results reach the set criterion or the trajectory number reaches the set maximum\n",
    "    \n",
    "- `fast_analysis` for Fourier amplitude sensitivity test (Saltelli's extended FAST) or random balance design (RBD) FAST\n",
    "- `sobol_analysis`\n",
    "\n",
    "For each of these methods, there is a corresponding `plot_XXX` (e.g., `plot_correlations` for `get_correlations`) method for visualization of the results."
   ]
  },
  {
   "cell_type": "code",
   "execution_count": 28,
   "id": "432ad373",
   "metadata": {},
   "outputs": [],
   "source": [
    "# The documentation page of `stats` has some quite good examples,\n",
    "# but let's just do a quick one here\n",
    "# `r_df` and `p_df` are dataframes containing the sensitivity indices\n",
    "# and p-values\n",
    "r_df, p_df = qs.stats.get_correlations(model, kind='Spearman')"
   ]
  },
  {
   "cell_type": "code",
   "execution_count": 29,
   "id": "eba2f39c",
   "metadata": {},
   "outputs": [
    {
     "data": {
      "text/html": [
       "<div>\n",
       "<style scoped>\n",
       "    .dataframe tbody tr th:only-of-type {\n",
       "        vertical-align: middle;\n",
       "    }\n",
       "\n",
       "    .dataframe tbody tr th {\n",
       "        vertical-align: top;\n",
       "    }\n",
       "\n",
       "    .dataframe thead tr th {\n",
       "        text-align: left;\n",
       "    }\n",
       "\n",
       "    .dataframe thead tr:last-of-type th {\n",
       "        text-align: right;\n",
       "    }\n",
       "</style>\n",
       "<table border=\"1\" class=\"dataframe\">\n",
       "  <thead>\n",
       "    <tr>\n",
       "      <th></th>\n",
       "      <th>Element</th>\n",
       "      <th>TEA</th>\n",
       "      <th>LCA</th>\n",
       "    </tr>\n",
       "    <tr>\n",
       "      <th></th>\n",
       "      <th>Input y</th>\n",
       "      <th>Net earning [USD/yr]</th>\n",
       "      <th>GWP [kg CO2/yr]</th>\n",
       "    </tr>\n",
       "    <tr>\n",
       "      <th>Element</th>\n",
       "      <th>Input x</th>\n",
       "      <th></th>\n",
       "      <th></th>\n",
       "    </tr>\n",
       "  </thead>\n",
       "  <tbody>\n",
       "    <tr>\n",
       "      <th>Splitter-S1</th>\n",
       "      <th>S1 split [-]</th>\n",
       "      <td>0.0802</td>\n",
       "      <td>-0.652</td>\n",
       "    </tr>\n",
       "    <tr>\n",
       "      <th>HXutility-H1</th>\n",
       "      <th>H1 temperature [°C]</th>\n",
       "      <td>-0.0351</td>\n",
       "      <td>-0.088</td>\n",
       "    </tr>\n",
       "    <tr>\n",
       "      <th rowspan=\"2\" valign=\"top\">TEA</th>\n",
       "      <th>Wastewater price [USD/kg]</th>\n",
       "      <td>-1</td>\n",
       "      <td>0.0686</td>\n",
       "    </tr>\n",
       "    <tr>\n",
       "      <th>Electricity price [USD/kWh]</th>\n",
       "      <td>0.177</td>\n",
       "      <td>-0.0347</td>\n",
       "    </tr>\n",
       "    <tr>\n",
       "      <th rowspan=\"2\" valign=\"top\">LCA</th>\n",
       "      <th>Stainless steel GWP [kg CO2/kg]</th>\n",
       "      <td>-0.0166</td>\n",
       "      <td>0.771</td>\n",
       "    </tr>\n",
       "    <tr>\n",
       "      <th>Electricity GWP [kg CO2/kg]</th>\n",
       "      <td>-0.092</td>\n",
       "      <td>0.185</td>\n",
       "    </tr>\n",
       "  </tbody>\n",
       "</table>\n",
       "</div>"
      ],
      "text/plain": [
       "Element                                                       TEA  \\\n",
       "Input y                                      Net earning [USD/yr]   \n",
       "Element      Input x                                                \n",
       "Splitter-S1  S1 split [-]                                  0.0802   \n",
       "HXutility-H1 H1 temperature [°C]                          -0.0351   \n",
       "TEA          Wastewater price [USD/kg]                         -1   \n",
       "             Electricity price [USD/kWh]                    0.177   \n",
       "LCA          Stainless steel GWP [kg CO2/kg]              -0.0166   \n",
       "             Electricity GWP [kg CO2/kg]                   -0.092   \n",
       "\n",
       "Element                                                  LCA  \n",
       "Input y                                      GWP [kg CO2/yr]  \n",
       "Element      Input x                                          \n",
       "Splitter-S1  S1 split [-]                             -0.652  \n",
       "HXutility-H1 H1 temperature [°C]                      -0.088  \n",
       "TEA          Wastewater price [USD/kg]                0.0686  \n",
       "             Electricity price [USD/kWh]             -0.0347  \n",
       "LCA          Stainless steel GWP [kg CO2/kg]           0.771  \n",
       "             Electricity GWP [kg CO2/kg]               0.185  "
      ]
     },
     "metadata": {},
     "output_type": "display_data"
    },
    {
     "data": {
      "text/html": [
       "<div>\n",
       "<style scoped>\n",
       "    .dataframe tbody tr th:only-of-type {\n",
       "        vertical-align: middle;\n",
       "    }\n",
       "\n",
       "    .dataframe tbody tr th {\n",
       "        vertical-align: top;\n",
       "    }\n",
       "\n",
       "    .dataframe thead tr th {\n",
       "        text-align: left;\n",
       "    }\n",
       "\n",
       "    .dataframe thead tr:last-of-type th {\n",
       "        text-align: right;\n",
       "    }\n",
       "</style>\n",
       "<table border=\"1\" class=\"dataframe\">\n",
       "  <thead>\n",
       "    <tr>\n",
       "      <th></th>\n",
       "      <th>Element</th>\n",
       "      <th>TEA</th>\n",
       "      <th>LCA</th>\n",
       "    </tr>\n",
       "    <tr>\n",
       "      <th></th>\n",
       "      <th>Input y</th>\n",
       "      <th>Net earning [USD/yr]</th>\n",
       "      <th>GWP [kg CO2/yr]</th>\n",
       "    </tr>\n",
       "    <tr>\n",
       "      <th>Element</th>\n",
       "      <th>Input x</th>\n",
       "      <th></th>\n",
       "      <th></th>\n",
       "    </tr>\n",
       "  </thead>\n",
       "  <tbody>\n",
       "    <tr>\n",
       "      <th>Splitter-S1</th>\n",
       "      <th>S1 split [-]</th>\n",
       "      <td>0.428</td>\n",
       "      <td>1.91e-13</td>\n",
       "    </tr>\n",
       "    <tr>\n",
       "      <th>HXutility-H1</th>\n",
       "      <th>H1 temperature [°C]</th>\n",
       "      <td>0.729</td>\n",
       "      <td>0.384</td>\n",
       "    </tr>\n",
       "    <tr>\n",
       "      <th rowspan=\"2\" valign=\"top\">TEA</th>\n",
       "      <th>Wastewater price [USD/kg]</th>\n",
       "      <td>0</td>\n",
       "      <td>0.498</td>\n",
       "    </tr>\n",
       "    <tr>\n",
       "      <th>Electricity price [USD/kWh]</th>\n",
       "      <td>0.0775</td>\n",
       "      <td>0.731</td>\n",
       "    </tr>\n",
       "    <tr>\n",
       "      <th rowspan=\"2\" valign=\"top\">LCA</th>\n",
       "      <th>Stainless steel GWP [kg CO2/kg]</th>\n",
       "      <td>0.87</td>\n",
       "      <td>6.99e-21</td>\n",
       "    </tr>\n",
       "    <tr>\n",
       "      <th>Electricity GWP [kg CO2/kg]</th>\n",
       "      <td>0.363</td>\n",
       "      <td>0.0653</td>\n",
       "    </tr>\n",
       "  </tbody>\n",
       "</table>\n",
       "</div>"
      ],
      "text/plain": [
       "Element                                                       TEA  \\\n",
       "Input y                                      Net earning [USD/yr]   \n",
       "Element      Input x                                                \n",
       "Splitter-S1  S1 split [-]                                   0.428   \n",
       "HXutility-H1 H1 temperature [°C]                            0.729   \n",
       "TEA          Wastewater price [USD/kg]                          0   \n",
       "             Electricity price [USD/kWh]                   0.0775   \n",
       "LCA          Stainless steel GWP [kg CO2/kg]                 0.87   \n",
       "             Electricity GWP [kg CO2/kg]                    0.363   \n",
       "\n",
       "Element                                                  LCA  \n",
       "Input y                                      GWP [kg CO2/yr]  \n",
       "Element      Input x                                          \n",
       "Splitter-S1  S1 split [-]                           1.91e-13  \n",
       "HXutility-H1 H1 temperature [°C]                       0.384  \n",
       "TEA          Wastewater price [USD/kg]                 0.498  \n",
       "             Electricity price [USD/kWh]               0.731  \n",
       "LCA          Stainless steel GWP [kg CO2/kg]        6.99e-21  \n",
       "             Electricity GWP [kg CO2/kg]              0.0653  "
      ]
     },
     "metadata": {},
     "output_type": "display_data"
    }
   ],
   "source": [
    "# You can see the price of wastewater drives the cost\n",
    "# while the characterization factor of stainless steel drives the impacts\n",
    "display(r_df, p_df)"
   ]
  },
  {
   "cell_type": "code",
   "execution_count": 30,
   "id": "def1f45d",
   "metadata": {},
   "outputs": [
    {
     "data": {
      "image/png": "[encoded data removed]",
      "text/plain": [
       "<Figure size 457.475x384 with 1 Axes>"
      ]
     },
     "execution_count": 30,
     "metadata": {},
     "output_type": "execute_result"
    }
   ],
   "source": [
    "# The figure just makes it so much easier to grasp the results :p\n",
    "fig, ax = qs.stats.plot_correlations(r_df)\n",
    "fig"
   ]
  },
  {
   "cell_type": "markdown",
   "id": "eb9f4a38",
   "metadata": {},
   "source": [
    "[Back to top](#top)"
   ]
  }
 ],
 "metadata": {
  "kernelspec": {
   "display_name": "Python 3 (ipykernel)",
   "language": "python",
   "name": "python3"
  },
  "language_info": {
   "codemirror_mode": {
    "name": "ipython",
    "version": 3
   },
   "file_extension": ".py",
   "mimetype": "text/x-python",
   "name": "python",
   "nbconvert_exporter": "python",
   "pygments_lexer": "ipython3",
   "version": "3.8.2"
  }
 },
 "nbformat": 4,
 "nbformat_minor": 5
}
