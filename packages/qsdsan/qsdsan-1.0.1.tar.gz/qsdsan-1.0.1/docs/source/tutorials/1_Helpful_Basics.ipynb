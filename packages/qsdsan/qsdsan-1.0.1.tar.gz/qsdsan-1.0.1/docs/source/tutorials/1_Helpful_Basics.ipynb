{
 "cells": [
  {
   "cell_type": "markdown",
   "id": "28c4658c",
   "metadata": {},
   "source": [
    "# Helpful Basics <a class=\"anchor\" id=\"top\"></a>\n",
    "\n",
    "- **Prepared by:**\n",
    "    \n",
    "    - [Yalin Li](https://qsdsan.readthedocs.io/en/latest/authors/Yalin_Li.html)\n",
    "    - [Joy Zhang](https://qsdsan.readthedocs.io/en/latest/authors/Joy_Zhang.html)\n",
    "    \n",
    "- **Covered topics:**\n",
    "\n",
    "    - [1. Python and Jupyter Notebook](#s1)\n",
    "    - [2. import qsdsan](#s2)\n",
    "    \n",
    "- **Video demo:**\n",
    "\n",
    "    - [Yalin Li](https://qsdsan.readthedocs.io/en/latest/authors/Yalin_Li.html)\n",
    "    \n",
    "To run tutorials in your browser, go to this [Binder page](https://mybinder.org/v2/gh/QSD-Group/QSDsan/main?filepath=%2Fdocs%2Fsource%2Ftutorials).\n",
    "    \n",
    "You can also watch a video demo on [YouTube](https://www.youtube.com/watch?v=g8mXWycdi4E) (subscriptions & likes appreciated!)."
   ]
  },
  {
   "cell_type": "markdown",
   "id": "b7f9ccfc",
   "metadata": {},
   "source": [
    "## 1. Python and Jupyter Notebook <a class=\"anchor\" id=\"s1\"></a>"
   ]
  },
  {
   "cell_type": "markdown",
   "id": "9d8b3c77",
   "metadata": {},
   "source": [
    "- Launching Python through Jupyter Notebook\n",
    "    - Tutorial from [Software Carpentry](https://swcarpentry.github.io/python-novice-inflammation/setup.html)\n",
    "    - For people who are using PyCharm, follow this [post](https://www.caitlincasar.com/post/pycharm/) to install and run Jupyter Notebook (either in PyCharm or in your browser)\n",
    "        - You can certainly [install Jupyter Notebook individually](https://jupyter.org/install), but you might need to adjust your system path to ensure packages can be properly loaded.\n",
    "- Make new notebooks\n",
    "- Code vs. Markdown cells\n",
    "    - Edit/escape, copy/cut, insert, delete\n",
    "    - Simple Markdown syntax\n",
    "    - For more cheatsheets on Markdown (and markup languages), check out the Supplementary Material module of [QSDedu](https://github.com/QSD-Group/QSDedu)\n",
    "- Close notebook and quit Jupyter Notebook"
   ]
  },
  {
   "cell_type": "markdown",
   "id": "53f25b2d",
   "metadata": {},
   "source": [
    "---\n",
    "### Note\n",
    "It's OK if you don't have Jupyter Notebook, you can launch Python through IDEs like PyCharm or [Spyder](http://spyder-ide.org) (or just terminal/command prompt if you prefer) and follow the tutorials."
   ]
  },
  {
   "cell_type": "markdown",
   "id": "945100dd",
   "metadata": {},
   "source": [
    "---"
   ]
  },
  {
   "cell_type": "markdown",
   "id": "f53faf8f",
   "metadata": {},
   "source": [
    "[Back to top](#top)"
   ]
  },
  {
   "cell_type": "markdown",
   "id": "b6a928f2",
   "metadata": {},
   "source": [
    "## 2. `import qsdsan` <a class=\"anchor\" id=\"#s2\"></a>"
   ]
  },
  {
   "cell_type": "code",
   "execution_count": 1,
   "id": "a420a152",
   "metadata": {},
   "outputs": [
    {
     "name": "stdout",
     "output_type": "stream",
     "text": [
      "Path for the first qsdsan package is ['/Users/yalinli_cabbi/opt/anaconda3/envs/demo/lib/python3.8/site-packages/qsdsan'].\n"
     ]
    }
   ],
   "source": [
    "# When I do `import qsdsan`, how does Python know where to look for qsdsan?\n",
    "# This is the same as `import qsdsan`, then `qs1 = qsdsan`\n",
    "import qsdsan as qs1\n",
    "print(f'Path for the first qsdsan package is {qs1.__path__}.')"
   ]
  },
  {
   "cell_type": "markdown",
   "id": "dcc0b4b7",
   "metadata": {},
   "source": [
    "---\n",
    "### Tip\n",
    "The 'f' prefix stands for \"fancy print\", it allows the plain print function to look nicer. It's a feature of newer Python, before this, you either have to do:"
   ]
  },
  {
   "cell_type": "code",
   "execution_count": 2,
   "id": "32137d56",
   "metadata": {},
   "outputs": [
    {
     "name": "stdout",
     "output_type": "stream",
     "text": [
      "Path for the first qsdsan package is ['/Users/yalinli_cabbi/opt/anaconda3/envs/demo/lib/python3.8/site-packages/qsdsan'].\n"
     ]
    }
   ],
   "source": [
    "info = 'Path for the first qsdsan package is ' + str(qs1.__path__) + '.'\n",
    "print(info)\n",
    "# `print('Path for the first qsdsan package is', qs1.__path__, '.')` works as well"
   ]
  },
  {
   "cell_type": "markdown",
   "id": "5424c182",
   "metadata": {},
   "source": [
    "Or use something like this:"
   ]
  },
  {
   "cell_type": "code",
   "execution_count": 3,
   "id": "f8d00e49",
   "metadata": {},
   "outputs": [
    {
     "name": "stdout",
     "output_type": "stream",
     "text": [
      "Path for the first qsdsan package is ['/Users/yalinli_cabbi/opt/anaconda3/envs/demo/lib/python3.8/site-packages/qsdsan'].\n"
     ]
    }
   ],
   "source": [
    "print('Path for the first qsdsan package is {}.'.format(qs1.__path__))"
   ]
  },
  {
   "cell_type": "markdown",
   "id": "02bc4264",
   "metadata": {},
   "source": [
    "Or this:"
   ]
  },
  {
   "cell_type": "code",
   "execution_count": 4,
   "id": "dd99ddde",
   "metadata": {},
   "outputs": [
    {
     "name": "stdout",
     "output_type": "stream",
     "text": [
      "Path for the first qsdsan package is ['/Users/yalinli_cabbi/opt/anaconda3/envs/demo/lib/python3.8/site-packages/qsdsan'].\n"
     ]
    }
   ],
   "source": [
    "print('Path for the first qsdsan package is %s.' % qs1.__path__)"
   ]
  },
  {
   "cell_type": "markdown",
   "id": "cfbd4adf",
   "metadata": {},
   "source": [
    "---"
   ]
  },
  {
   "cell_type": "code",
   "execution_count": 5,
   "id": "4e9a256d",
   "metadata": {},
   "outputs": [
    {
     "name": "stdout",
     "output_type": "stream",
     "text": [
      "['/Users/yalinli_cabbi/OneDrive/Coding/qs/docs/source/tutorials', '/Users/yalinli_cabbi/opt/anaconda3/envs/demo/lib/python38.zip', '/Users/yalinli_cabbi/opt/anaconda3/envs/demo/lib/python3.8', '/Users/yalinli_cabbi/opt/anaconda3/envs/demo/lib/python3.8/lib-dynload', '', '/Users/yalinli_cabbi/opt/anaconda3/envs/demo/lib/python3.8/site-packages', '/Users/yalinli_cabbi/opt/anaconda3/envs/demo/lib/python3.8/site-packages/aeosa', '/Users/yalinli_cabbi/opt/anaconda3/envs/demo/lib/python3.8/site-packages/locket-0.2.1-py3.8.egg', '/Users/yalinli_cabbi/opt/anaconda3/envs/demo/lib/python3.8/site-packages/pypardiso-0.3.1-py3.9.egg', '/Users/yalinli_cabbi/opt/anaconda3/envs/demo/lib/python3.8/site-packages/IPython/extensions', '/Users/yalinli_cabbi/.ipython']\n"
     ]
    }
   ],
   "source": [
    "# When doing importing, Python will look into the directories (i.e., folders) in the order of the `sys.path` list\n",
    "import os, sys\n",
    "print(sys.path)"
   ]
  },
  {
   "cell_type": "code",
   "execution_count": 6,
   "id": "0ab1dfcc",
   "metadata": {},
   "outputs": [
    {
     "name": "stdout",
     "output_type": "stream",
     "text": [
      "/Users/yalinli_cabbi/OneDrive/Coding/qs/docs/source/tutorials\n",
      "/Users/yalinli_cabbi/opt/anaconda3/envs/demo/lib/python38.zip\n",
      "/Users/yalinli_cabbi/opt/anaconda3/envs/demo/lib/python3.8\n",
      "/Users/yalinli_cabbi/opt/anaconda3/envs/demo/lib/python3.8/lib-dynload\n",
      "\n",
      "/Users/yalinli_cabbi/opt/anaconda3/envs/demo/lib/python3.8/site-packages\n",
      "/Users/yalinli_cabbi/opt/anaconda3/envs/demo/lib/python3.8/site-packages/aeosa\n",
      "/Users/yalinli_cabbi/opt/anaconda3/envs/demo/lib/python3.8/site-packages/locket-0.2.1-py3.8.egg\n",
      "/Users/yalinli_cabbi/opt/anaconda3/envs/demo/lib/python3.8/site-packages/pypardiso-0.3.1-py3.9.egg\n",
      "/Users/yalinli_cabbi/opt/anaconda3/envs/demo/lib/python3.8/site-packages/IPython/extensions\n",
      "/Users/yalinli_cabbi/.ipython\n"
     ]
    }
   ],
   "source": [
    "# That's way too ugly, let's do it in a nicer way\n",
    "for i in sys.path:\n",
    "    print(i)"
   ]
  },
  {
   "cell_type": "code",
   "execution_count": 7,
   "id": "f7a049d0",
   "metadata": {},
   "outputs": [],
   "source": [
    "# If Python cannot find the package from any of those directories, it will complain something like\n",
    "# uncomment the following to try\n",
    "# import happy_wednesday"
   ]
  },
  {
   "cell_type": "markdown",
   "id": "ff0e27c1",
   "metadata": {},
   "source": [
    "If you're a developer of qsdsan, you probably have cloned the qsdsan repository on Github to a local folder (let's say, `cloned_path`). So if you want to import the cloned/local version of qsdsan (i.e., the one you're developing rather than the stable version released on [pypi](https://pypi.org/project/qsdsan/)), you need to ensure that: \n",
    "\n",
    "1. `cloned_path` is in `sys.path`\n",
    "2. `cloned_path` is of higher priority (e.g., in front of) the pip-installed path, which is usually the one that has \"site-packages\")"
   ]
  },
  {
   "cell_type": "code",
   "execution_count": 8,
   "id": "7669dea1",
   "metadata": {},
   "outputs": [],
   "source": [
    "# Currently cloned_path is not in `sys.path`, so we will use the `insert` function to insert it\n",
    "# but what if I don't know how to use that function?\n",
    "# then try this\n",
    "sys.path.insert?"
   ]
  },
  {
   "cell_type": "code",
   "execution_count": 9,
   "id": "fd751965",
   "metadata": {},
   "outputs": [
    {
     "name": "stdout",
     "output_type": "stream",
     "text": [
      "Help on built-in function insert:\n",
      "\n",
      "insert(index, object, /) method of builtins.list instance\n",
      "    Insert object before index.\n",
      "\n"
     ]
    }
   ],
   "source": [
    "# Or this (which is more verbose)\n",
    "help(sys.path.insert)"
   ]
  },
  {
   "cell_type": "markdown",
   "id": "aa48038c",
   "metadata": {},
   "source": [
    "---\n",
    "### Tip\n",
    "If you look closer, you'll find that the help info says \"insert(index, object, /) method of **builtins.list** instance\", not \"insert(index, object, /) method of **sys.path**\".\n",
    "\n",
    "This is because `sys.path` is an instance of the `list` class, and so it automatically \"inherits\" all the methods (i.e., functions) that are associated with a `list` object, and that is (imo) one of the biggest feature/advantage of object orientated programming (OOP)."
   ]
  },
  {
   "cell_type": "markdown",
   "id": "e76f6259",
   "metadata": {},
   "source": [
    "You may note that I sometimes refer list as a \"class\" but sometimes as an \"object\". Both are correct, because in OOP languages everything is an object.\n",
    "\n",
    "But \"instance\" and \"class\" cannot be used interchangably, \"instance\" is, as the name suggests, a practical example of the \"class\".\n",
    "\n",
    "E.g., you can think of me as a postdoc, since I have the common attributes of a postdoc (have a Ph.D. degree thus permanent head damage, etc.), but you cannot equate me to the entire postdoc \"class\"."
   ]
  },
  {
   "cell_type": "markdown",
   "id": "c883461b",
   "metadata": {},
   "source": [
    "There is much more to \"class\", e.g., one subclass (and instances of that subclass) can inherit attributes from all of its super classes (sub/super sometimes referred to as child/parent). Just like I can also belong to another class called \"cat-owner\", the \"instances\" (i.e., member) of which all have cat(s) and suffer from grumpy litter-generator creatures like this:"
   ]
  },
  {
   "cell_type": "code",
   "execution_count": 10,
   "id": "9c09c31e",
   "metadata": {},
   "outputs": [
    {
     "data": {
      "text/html": [
       "<img src=\"https://upload.wikimedia.org/wikipedia/commons/d/dc/Grumpy_Cat_%2814556024763%29_%28cropped%29.jpg\" width=\"200\"/>"
      ],
      "text/plain": [
       "<IPython.core.display.Image object>"
      ]
     },
     "execution_count": 10,
     "metadata": {},
     "output_type": "execute_result"
    }
   ],
   "source": [
    "from IPython.display import Image\n",
    "Image(url='https://upload.wikimedia.org/wikipedia/commons/d/dc/Grumpy_Cat_%2814556024763%29_%28cropped%29.jpg', width=200)"
   ]
  },
  {
   "cell_type": "code",
   "execution_count": 11,
   "id": "53759cc2",
   "metadata": {},
   "outputs": [
    {
     "data": {
      "text/plain": [
       "list"
      ]
     },
     "execution_count": 11,
     "metadata": {},
     "output_type": "execute_result"
    }
   ],
   "source": [
    "# So how do I know `sys.path` is a list?\n",
    "type(sys.path)"
   ]
  },
  {
   "cell_type": "code",
   "execution_count": 12,
   "id": "9d7eda2a",
   "metadata": {},
   "outputs": [
    {
     "data": {
      "text/plain": [
       "True"
      ]
     },
     "execution_count": 12,
     "metadata": {},
     "output_type": "execute_result"
    }
   ],
   "source": [
    "# And another built-in function we often use in `if` statement is\n",
    "isinstance(sys.path, list)"
   ]
  },
  {
   "cell_type": "code",
   "execution_count": 13,
   "id": "c1de82d1",
   "metadata": {},
   "outputs": [
    {
     "name": "stdout",
     "output_type": "stream",
     "text": [
      "sys.path is a list.\n"
     ]
    }
   ],
   "source": [
    "# E.g.\n",
    "if isinstance(sys.path, list):\n",
    "    print('sys.path is a list.')\n",
    "else:\n",
    "    print('sys path is NOT a list')"
   ]
  },
  {
   "cell_type": "code",
   "execution_count": 14,
   "id": "b9010f40",
   "metadata": {},
   "outputs": [
    {
     "name": "stdout",
     "output_type": "stream",
     "text": [
      "sys.path is a list.\n"
     ]
    }
   ],
   "source": [
    "# To make it fancier, (and show off some advanced Python tips), we can change it to a one-liner,\n",
    "# this is exactly the same as the `if... else...` statement above\n",
    "info = 'sys.path is a list.' if isinstance(sys.path, list) else 'sys.path is NOT a list.' \n",
    "print(info)"
   ]
  },
  {
   "cell_type": "code",
   "execution_count": 15,
   "id": "3cfcc050",
   "metadata": {},
   "outputs": [
    {
     "name": "stdout",
     "output_type": "stream",
     "text": [
      "The statement that \"sys.path is a list\" is True.\n"
     ]
    }
   ],
   "source": [
    "# Since we have gone into the rabbit hole, why not use fancy print?\n",
    "print(f'The statement that \"sys.path is a list\" is {isinstance(sys.path, list)}.')"
   ]
  },
  {
   "cell_type": "markdown",
   "id": "0ba8775b",
   "metadata": {},
   "source": [
    "Then there are another whole set of issues related to method resolution order (`mro`, i.e., which of the super classes' attributes take priority over others), etc., but that's for advanced Python, and we'll skip this topic now."
   ]
  },
  {
   "cell_type": "markdown",
   "id": "4f8f9dec",
   "metadata": {},
   "source": [
    "---"
   ]
  },
  {
   "cell_type": "markdown",
   "id": "6ef4b6f4",
   "metadata": {},
   "source": [
    "**Note:**\n",
    "\n",
    "We need to restart the kernel at this moment, or the already imported, pip-installed `qsdsan` will always be there."
   ]
  },
  {
   "cell_type": "code",
   "execution_count": 1,
   "id": "734f1fa0",
   "metadata": {},
   "outputs": [],
   "source": [
    "# Now I'll attempt to import another qsdsan (cloned the GitHub version) on my computer,\n",
    "# firstly you need to figure out where that is (i.e., where you cloned it to)\n",
    "# demo on how to find it\n",
    "cloned_path = '/Users/yalinli_cabbi/onedrive/coding/qs'"
   ]
  },
  {
   "cell_type": "code",
   "execution_count": 2,
   "id": "3a2ae84e",
   "metadata": {},
   "outputs": [
    {
     "data": {
      "text/plain": [
       "['/Users/yalinli_cabbi/onedrive/coding/qs',\n",
       " '/Users/yalinli_cabbi/OneDrive/Coding/qs/docs/source/tutorials',\n",
       " '/Users/yalinli_cabbi/opt/anaconda3/envs/demo/lib/python38.zip',\n",
       " '/Users/yalinli_cabbi/opt/anaconda3/envs/demo/lib/python3.8',\n",
       " '/Users/yalinli_cabbi/opt/anaconda3/envs/demo/lib/python3.8/lib-dynload',\n",
       " '',\n",
       " '/Users/yalinli_cabbi/opt/anaconda3/envs/demo/lib/python3.8/site-packages',\n",
       " '/Users/yalinli_cabbi/opt/anaconda3/envs/demo/lib/python3.8/site-packages/aeosa',\n",
       " '/Users/yalinli_cabbi/opt/anaconda3/envs/demo/lib/python3.8/site-packages/locket-0.2.1-py3.8.egg',\n",
       " '/Users/yalinli_cabbi/opt/anaconda3/envs/demo/lib/python3.8/site-packages/pypardiso-0.3.1-py3.9.egg',\n",
       " '/Users/yalinli_cabbi/opt/anaconda3/envs/demo/lib/python3.8/site-packages/IPython/extensions',\n",
       " '/Users/yalinli_cabbi/.ipython']"
      ]
     },
     "execution_count": 2,
     "metadata": {},
     "output_type": "execute_result"
    }
   ],
   "source": [
    "# Then let's insert the cloned path into our system path\n",
    "# remember to restart the kernel\n",
    "import sys\n",
    "sys.path.insert(0, cloned_path)\n",
    "sys.path"
   ]
  },
  {
   "cell_type": "markdown",
   "id": "b7b85f85",
   "metadata": {},
   "source": [
    "You can see that the first path is the cloned path"
   ]
  },
  {
   "cell_type": "code",
   "execution_count": 3,
   "id": "965b473f",
   "metadata": {},
   "outputs": [
    {
     "name": "stdout",
     "output_type": "stream",
     "text": [
      "Path for the second qsdsan package is ['/Users/yalinli_cabbi/onedrive/coding/qs/qsdsan'].\n"
     ]
    }
   ],
   "source": [
    "# So now let's try this importing again\n",
    "import qsdsan as qs2\n",
    "print(f'Path for the second qsdsan package is {qs2.__path__}.')"
   ]
  },
  {
   "cell_type": "markdown",
   "id": "d7cc0843",
   "metadata": {},
   "source": [
    "So we successfully import qsdsan from another place"
   ]
  },
  {
   "cell_type": "markdown",
   "id": "b1f268fb",
   "metadata": {},
   "source": [
    "**Note:**\n",
    "\n",
    "The changes to `sys.path` is temporary, so if we restart the kernel and recheck the path:"
   ]
  },
  {
   "cell_type": "code",
   "execution_count": 1,
   "id": "f5a0c618",
   "metadata": {},
   "outputs": [
    {
     "data": {
      "text/plain": [
       "['/Users/yalinli_cabbi/OneDrive/Coding/qs/docs/source/tutorials',\n",
       " '/Users/yalinli_cabbi/opt/anaconda3/envs/demo/lib/python38.zip',\n",
       " '/Users/yalinli_cabbi/opt/anaconda3/envs/demo/lib/python3.8',\n",
       " '/Users/yalinli_cabbi/opt/anaconda3/envs/demo/lib/python3.8/lib-dynload',\n",
       " '',\n",
       " '/Users/yalinli_cabbi/opt/anaconda3/envs/demo/lib/python3.8/site-packages',\n",
       " '/Users/yalinli_cabbi/opt/anaconda3/envs/demo/lib/python3.8/site-packages/aeosa',\n",
       " '/Users/yalinli_cabbi/opt/anaconda3/envs/demo/lib/python3.8/site-packages/locket-0.2.1-py3.8.egg',\n",
       " '/Users/yalinli_cabbi/opt/anaconda3/envs/demo/lib/python3.8/site-packages/pypardiso-0.3.1-py3.9.egg',\n",
       " '/Users/yalinli_cabbi/opt/anaconda3/envs/demo/lib/python3.8/site-packages/IPython/extensions',\n",
       " '/Users/yalinli_cabbi/.ipython']"
      ]
     },
     "execution_count": 1,
     "metadata": {},
     "output_type": "execute_result"
    }
   ],
   "source": [
    "# Our previous added cloned_path is gone\n",
    "import sys\n",
    "sys.path"
   ]
  },
  {
   "cell_type": "code",
   "execution_count": 2,
   "id": "6ed9cb91",
   "metadata": {},
   "outputs": [
    {
     "data": {
      "text/plain": [
       "<module 'qsdsan' from '/Users/yalinli_cabbi/opt/anaconda3/envs/demo/lib/python3.8/site-packages/qsdsan/__init__.py'>"
      ]
     },
     "execution_count": 2,
     "metadata": {},
     "output_type": "execute_result"
    }
   ],
   "source": [
    "# If we try to import again\n",
    "import qsdsan as qs3\n",
    "qs3"
   ]
  },
  {
   "cell_type": "markdown",
   "id": "8cd8e4e3",
   "metadata": {},
   "source": [
    "We are now back to the pip-installed `qsdsan` :)"
   ]
  },
  {
   "cell_type": "code",
   "execution_count": 3,
   "id": "43653153",
   "metadata": {},
   "outputs": [
    {
     "data": {
      "text/plain": [
       "'0.3.2'"
      ]
     },
     "execution_count": 3,
     "metadata": {},
     "output_type": "execute_result"
    }
   ],
   "source": [
    "# Finally, if you want to see which version of the qsdsan you are running\n",
    "qs3.__version__"
   ]
  },
  {
   "cell_type": "markdown",
   "id": "9d9a485a",
   "metadata": {},
   "source": [
    "[Back to top](#top)"
   ]
  }
 ],
 "metadata": {
  "kernelspec": {
   "display_name": "Python 3 (ipykernel)",
   "language": "python",
   "name": "python3"
  },
  "language_info": {
   "codemirror_mode": {
    "name": "ipython",
    "version": 3
   },
   "file_extension": ".py",
   "mimetype": "text/x-python",
   "name": "python",
   "nbconvert_exporter": "python",
   "pygments_lexer": "ipython3",
   "version": "3.8.2"
  }
 },
 "nbformat": 4,
 "nbformat_minor": 5
}
