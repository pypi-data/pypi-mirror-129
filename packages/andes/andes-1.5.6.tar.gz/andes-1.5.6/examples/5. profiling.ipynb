{
 "cells": [
  {
   "cell_type": "markdown",
   "metadata": {},
   "source": [
    "# Profiling ANDES in Notebook"
   ]
  },
  {
   "cell_type": "markdown",
   "metadata": {},
   "source": [
    "## Profiling with Python CProfiler"
   ]
  },
  {
   "cell_type": "markdown",
   "metadata": {},
   "source": [
    "Before getting started, this example requires the config flag `PFlow.init_tds` to be `0`, which is the default value."
   ]
  },
  {
   "cell_type": "code",
   "execution_count": 1,
   "metadata": {
    "ExecuteTime": {
     "end_time": "2021-03-18T00:45:01.143169Z",
     "start_time": "2021-03-18T00:45:00.625170Z"
    },
    "execution": {
     "iopub.execute_input": "2021-09-26T22:41:51.284759Z",
     "iopub.status.busy": "2021-09-26T22:41:51.284343Z",
     "iopub.status.idle": "2021-09-26T22:41:51.870015Z",
     "shell.execute_reply": "2021-09-26T22:41:51.870533Z"
    }
   },
   "outputs": [],
   "source": [
    "import andes\n",
    "from andes.utils.paths import get_case\n",
    "\n",
    "case_path = get_case('kundur/kundur_full.xlsx')"
   ]
  },
  {
   "cell_type": "markdown",
   "metadata": {},
   "source": [
    "Passing `profile=True, no_output = True` to `run` will enable the profiler and have the results printed."
   ]
  },
  {
   "cell_type": "code",
   "execution_count": 2,
   "metadata": {
    "ExecuteTime": {
     "end_time": "2021-03-18T00:45:04.746020Z",
     "start_time": "2021-03-18T00:45:01.145480Z"
    },
    "execution": {
     "iopub.execute_input": "2021-09-26T22:41:51.873974Z",
     "iopub.status.busy": "2021-09-26T22:41:51.872776Z",
     "iopub.status.idle": "2021-09-26T22:41:55.836681Z",
     "shell.execute_reply": "2021-09-26T22:41:55.837403Z"
    }
   },
   "outputs": [
    {
     "name": "stderr",
     "output_type": "stream",
     "text": [
      "Working directory: \"/home/hcui7/repos/andes/examples\"\n"
     ]
    },
    {
     "name": "stderr",
     "output_type": "stream",
     "text": [
      "Loaded config from file \"/home/hcui7/.andes/andes.rc\"\n"
     ]
    },
    {
     "name": "stderr",
     "output_type": "stream",
     "text": [
      "Loaded generated Python code in \"~/.andes/pycode\".\n"
     ]
    },
    {
     "name": "stderr",
     "output_type": "stream",
     "text": [
      "Parsing input file \"/home/hcui7/repos/andes/andes/cases/kundur/kundur_full.xlsx\"...\n"
     ]
    },
    {
     "name": "stderr",
     "output_type": "stream",
     "text": [
      "Input file parsed in 0.5330 seconds.\n"
     ]
    },
    {
     "name": "stderr",
     "output_type": "stream",
     "text": [
      "System internal structure set up in 0.0857 seconds.\n"
     ]
    },
    {
     "name": "stderr",
     "output_type": "stream",
     "text": [
      "-> System connectivity check results:\n"
     ]
    },
    {
     "name": "stderr",
     "output_type": "stream",
     "text": [
      "  No islanded bus detected.\n"
     ]
    },
    {
     "name": "stderr",
     "output_type": "stream",
     "text": [
      "  A total of 1 island(s) detected.\n"
     ]
    },
    {
     "name": "stderr",
     "output_type": "stream",
     "text": [
      "  Each island has a slack bus correctly defined and enabled.\n"
     ]
    },
    {
     "name": "stderr",
     "output_type": "stream",
     "text": [
      "\n",
      "-> Power flow calculation\n",
      "   Sparse solver: KLU\n",
      " Solution method: NR method\n",
      " Sparse addition: Fast in-place (kvxopt)\n"
     ]
    },
    {
     "name": "stderr",
     "output_type": "stream",
     "text": [
      "Power flow initialized.\n"
     ]
    },
    {
     "name": "stderr",
     "output_type": "stream",
     "text": [
      "0: |F(x)| = 14.9282832\n"
     ]
    },
    {
     "name": "stderr",
     "output_type": "stream",
     "text": [
      "1: |F(x)| = 3.608627841\n"
     ]
    },
    {
     "name": "stderr",
     "output_type": "stream",
     "text": [
      "2: |F(x)| = 0.1701107882\n"
     ]
    },
    {
     "name": "stderr",
     "output_type": "stream",
     "text": [
      "3: |F(x)| = 0.002038626956\n"
     ]
    },
    {
     "name": "stderr",
     "output_type": "stream",
     "text": [
      "4: |F(x)| = 3.745103977e-07\n"
     ]
    },
    {
     "name": "stderr",
     "output_type": "stream",
     "text": [
      "Converged in 5 iterations in 0.0078 seconds.\n"
     ]
    },
    {
     "name": "stderr",
     "output_type": "stream",
     "text": [
      "\n",
      "-> Time Domain Simulation Summary:\n",
      "Sparse Solver: KLU\n",
      "Simulation time: 0-20.0 s.\n",
      "Fixed step size: h=33.33 ms. Shrink if not converged.\n"
     ]
    },
    {
     "name": "stderr",
     "output_type": "stream",
     "text": [
      "Initialization for dynamics was successful in 0.0280 seconds.\n"
     ]
    },
    {
     "name": "stdout",
     "output_type": "stream",
     "text": [
      "\r",
      "  0%|                                          | 0/100 [00:00<?, ?%/s]"
     ]
    },
    {
     "name": "stdout",
     "output_type": "stream",
     "text": [
      "\r",
      "                                                                      "
     ]
    },
    {
     "name": "stdout",
     "output_type": "stream",
     "text": [
      "\r"
     ]
    },
    {
     "name": "stdout",
     "output_type": "stream",
     "text": [
      "<Toggler 1>: Line.Line_8 status changed to 0 at t=2.0 sec.\n",
      "\r",
      " 10%|███▎                             | 10/100 [00:00<00:00, 93.40%/s]"
     ]
    },
    {
     "name": "stdout",
     "output_type": "stream",
     "text": [
      "\r",
      " 11%|███▋                             | 11/100 [00:00<00:00, 90.40%/s]"
     ]
    },
    {
     "name": "stdout",
     "output_type": "stream",
     "text": [
      "\r",
      " 21%|██████▉                          | 21/100 [00:00<00:01, 45.68%/s]"
     ]
    },
    {
     "name": "stdout",
     "output_type": "stream",
     "text": [
      "\r",
      " 27%|████████▉                        | 27/100 [00:00<00:01, 42.78%/s]"
     ]
    },
    {
     "name": "stdout",
     "output_type": "stream",
     "text": [
      "\r",
      " 32%|██████████▌                      | 32/100 [00:00<00:01, 39.72%/s]"
     ]
    },
    {
     "name": "stdout",
     "output_type": "stream",
     "text": [
      "\r",
      " 37%|████████████▏                    | 37/100 [00:00<00:01, 36.67%/s]"
     ]
    },
    {
     "name": "stdout",
     "output_type": "stream",
     "text": [
      "\r",
      " 42%|█████████████▊                   | 42/100 [00:01<00:01, 37.86%/s]"
     ]
    },
    {
     "name": "stdout",
     "output_type": "stream",
     "text": [
      "\r",
      " 46%|███████████████▏                 | 46/100 [00:01<00:01, 36.15%/s]"
     ]
    },
    {
     "name": "stdout",
     "output_type": "stream",
     "text": [
      "\r",
      " 50%|████████████████▌                | 50/100 [00:01<00:01, 36.81%/s]"
     ]
    },
    {
     "name": "stdout",
     "output_type": "stream",
     "text": [
      "\r",
      " 54%|█████████████████▊               | 54/100 [00:01<00:01, 33.84%/s]"
     ]
    },
    {
     "name": "stdout",
     "output_type": "stream",
     "text": [
      "\r",
      " 58%|███████████████████▏             | 58/100 [00:01<00:01, 33.84%/s]"
     ]
    },
    {
     "name": "stdout",
     "output_type": "stream",
     "text": [
      "\r",
      " 62%|████████████████████▍            | 62/100 [00:01<00:01, 31.17%/s]"
     ]
    },
    {
     "name": "stdout",
     "output_type": "stream",
     "text": [
      "\r",
      " 66%|█████████████████████▊           | 66/100 [00:01<00:01, 32.89%/s]"
     ]
    },
    {
     "name": "stdout",
     "output_type": "stream",
     "text": [
      "\r",
      " 71%|███████████████████████▍         | 71/100 [00:01<00:00, 35.46%/s]"
     ]
    },
    {
     "name": "stdout",
     "output_type": "stream",
     "text": [
      "\r",
      " 75%|████████████████████████▊        | 75/100 [00:02<00:00, 34.95%/s]"
     ]
    },
    {
     "name": "stdout",
     "output_type": "stream",
     "text": [
      "\r",
      " 80%|██████████████████████████▍      | 80/100 [00:02<00:00, 33.56%/s]"
     ]
    },
    {
     "name": "stdout",
     "output_type": "stream",
     "text": [
      "\r",
      " 84%|███████████████████████████▋     | 84/100 [00:02<00:00, 32.77%/s]"
     ]
    },
    {
     "name": "stdout",
     "output_type": "stream",
     "text": [
      "\r",
      " 88%|█████████████████████████████    | 88/100 [00:02<00:00, 33.55%/s]"
     ]
    },
    {
     "name": "stdout",
     "output_type": "stream",
     "text": [
      "\r",
      " 92%|██████████████████████████████▎  | 92/100 [00:02<00:00, 31.20%/s]"
     ]
    },
    {
     "name": "stdout",
     "output_type": "stream",
     "text": [
      "\r",
      " 96%|███████████████████████████████▋ | 96/100 [00:02<00:00, 25.96%/s]"
     ]
    },
    {
     "name": "stdout",
     "output_type": "stream",
     "text": [
      "\r",
      "100%|████████████████████████████████| 100/100 [00:02<00:00, 34.58%/s]"
     ]
    },
    {
     "name": "stderr",
     "output_type": "stream",
     "text": [
      "Simulation completed in 2.8943 seconds.\n"
     ]
    },
    {
     "name": "stdout",
     "output_type": "stream",
     "text": [
      "\n",
      "         1852891 function calls (1838465 primitive calls) in 3.840 seconds\n",
      "\n",
      "   Ordered by: cumulative time\n",
      "   List reduced from 4776 to 40 due to restriction <40>\n",
      "\n",
      "   ncalls  tottime  percall  cumtime  percall filename:lineno(function)\n",
      "        1    0.011    0.011    2.951    2.951 /home/hcui7/repos/andes/andes/routines/tds.py:248(run)\n",
      "      603    0.155    0.000    2.681    0.004 /home/hcui7/repos/andes/andes/routines/tds.py:382(itm_step)"
     ]
    },
    {
     "name": "stderr",
     "output_type": "stream",
     "text": [
      "\n"
     ]
    },
    {
     "name": "stdout",
     "output_type": "stream",
     "text": [
      "\n",
      "     2323    0.035    0.000    2.082    0.001 /home/hcui7/repos/andes/andes/routines/tds.py:797(fg_update)\n",
      "    11674    0.163    0.000    1.969    0.000 /home/hcui7/repos/andes/andes/system.py:1525(call_models)\n",
      "     2328    0.003    0.000    1.181    0.001 /home/hcui7/repos/andes/andes/system.py:892(g_update)\n",
      "    23260    0.257    0.000    1.133    0.000 /home/hcui7/repos/andes/andes/core/model.py:1225(g_update)\n",
      "        1    0.000    0.000    0.868    0.868 /home/hcui7/repos/andes/andes/main.py:268(load)\n",
      "  855/172    0.003    0.000    0.540    0.003 <frozen importlib._bootstrap>:1002(_find_and_load)\n",
      "  791/109    0.002    0.000    0.537    0.005 <frozen importlib._bootstrap>:967(_find_and_load_unlocked)\n",
      "   693/30    0.001    0.000    0.536    0.018 <frozen importlib._bootstrap_external>:844(exec_module)\n",
      "        1    0.000    0.000    0.534    0.534 /home/hcui7/repos/andes/andes/io/__init__.py:98(parse)\n",
      "   709/31    0.001    0.000    0.533    0.017 {built-in method builtins.exec}\n",
      "        1    0.000    0.000    0.532    0.532 /home/hcui7/repos/andes/andes/io/xlsx.py:87(read)\n",
      "  1015/30    0.001    0.000    0.532    0.018 <frozen importlib._bootstrap>:220(_call_with_frames_removed)\n",
      "  767/109    0.003    0.000    0.532    0.005 <frozen importlib._bootstrap>:659(_load_unlocked)\n",
      "    91/90    0.000    0.000    0.395    0.004 /home/hcui7/mambaforge/envs/a/lib/python3.9/importlib/__init__.py:109(import_module)\n",
      "    91/90    0.000    0.000    0.395    0.004 <frozen importlib._bootstrap>:1018(_gcd_import)\n",
      "       11    0.000    0.000    0.388    0.035 /home/hcui7/mambaforge/envs/a/lib/python3.9/site-packages/pandas/util/_decorators.py:302(wrapper)\n",
      "        1    0.000    0.000    0.369    0.369 /home/hcui7/mambaforge/envs/a/lib/python3.9/site-packages/pandas/io/excel/_base.py:330(read_excel)\n",
      "        1    0.000    0.000    0.311    0.311 /home/hcui7/mambaforge/envs/a/lib/python3.9/site-packages/pandas/io/excel/_base.py:1166(__init__)\n",
      "        1    0.000    0.000    0.307    0.307 /home/hcui7/mambaforge/envs/a/lib/python3.9/site-packages/pandas/io/excel/_openpyxl.py:506(__init__)\n",
      "        4    0.000    0.000    0.285    0.071 /home/hcui7/mambaforge/envs/a/lib/python3.9/site-packages/pandas/compat/_optional.py:64(import_optional_dependency)\n",
      "        1    0.000    0.000    0.280    0.280 /home/hcui7/mambaforge/envs/a/lib/python3.9/site-packages/openpyxl/__init__.py:4(<module>)\n",
      "     2328    0.002    0.000    0.264    0.000 /home/hcui7/repos/andes/andes/system.py:878(f_update)\n",
      "     2323    0.263    0.000    0.263    0.000 /home/hcui7/.andes/pycode/GENROU.py:18(g_update)\n",
      "        1    0.000    0.000    0.256    0.256 /home/hcui7/mambaforge/envs/a/lib/python3.9/site-packages/openpyxl/workbook/__init__.py:4(<module>)\n",
      "        1    0.000    0.000    0.255    0.255 /home/hcui7/mambaforge/envs/a/lib/python3.9/site-packages/openpyxl/workbook/workbook.py:3(<module>)\n",
      "    23260    0.108    0.000    0.226    0.000 /home/hcui7/repos/andes/andes/core/model.py:1197(f_update)\n",
      "        1    0.000    0.000    0.220    0.220 /home/hcui7/repos/andes/andes/system.py:90(__init__)\n",
      "     2327    0.002    0.000    0.219    0.000 /home/hcui7/repos/andes/andes/core/solver.py:39(solve)\n",
      "     2327    0.012    0.000    0.217    0.000 /home/hcui7/repos/andes/andes/core/solver.py:161(solve)\n",
      "        1    0.000    0.000    0.205    0.205 /home/hcui7/mambaforge/envs/a/lib/python3.9/site-packages/openpyxl/worksheet/worksheet.py:3(<module>)\n",
      "     2328    0.002    0.000    0.193    0.000 /home/hcui7/repos/andes/andes/system.py:834(l_update_eq)\n",
      "        1    0.001    0.001    0.178    0.178 /home/hcui7/repos/andes/andes/system.py:1634(import_models)\n",
      "    23260    0.018    0.000    0.167    0.000 /home/hcui7/repos/andes/andes/core/model.py:996(l_check_eq)\n",
      "     2328    0.006    0.000    0.166    0.000 /home/hcui7/repos/andes/andes/system.py:860(fg_to_dae)\n",
      "     2328    0.166    0.000    0.166    0.000 /home/hcui7/.andes/pycode/Line.py:16(g_update)\n",
      "17179/14175    0.044    0.000    0.164    0.000 {built-in method numpy.core._multiarray_umath.implement_array_function}\n",
      "     2328    0.025    0.000    0.158    0.000 /home/hcui7/repos/andes/andes/system.py:1243(_e_to_dae)\n",
      "     2328    0.004    0.000    0.154    0.000 /home/hcui7/repos/andes/andes/system.py:825(l_update_var)\n",
      "\n",
      "\n",
      "-> Single process finished in 3.9395 seconds.\n"
     ]
    }
   ],
   "source": [
    "ss = andes.run(case_path, profile=True, routine='tds', no_output=True)"
   ]
  },
  {
   "cell_type": "markdown",
   "metadata": {},
   "source": [
    "## Profiling with `line_profiler`."
   ]
  },
  {
   "cell_type": "markdown",
   "metadata": {},
   "source": [
    "`line_profiler` provides line-based profiling results for functions. \n",
    "\n",
    "Install with `pip install line_profiler` and restart the notebook."
   ]
  },
  {
   "cell_type": "code",
   "execution_count": 3,
   "metadata": {
    "ExecuteTime": {
     "end_time": "2021-03-18T00:45:04.755264Z",
     "start_time": "2021-03-18T00:45:04.751789Z"
    },
    "execution": {
     "iopub.execute_input": "2021-09-26T22:41:55.842268Z",
     "iopub.status.busy": "2021-09-26T22:41:55.841760Z",
     "iopub.status.idle": "2021-09-26T22:41:55.845264Z",
     "shell.execute_reply": "2021-09-26T22:41:55.844565Z"
    }
   },
   "outputs": [],
   "source": [
    "import andes\n",
    "from andes.utils.paths import get_case\n",
    "\n",
    "case_path = get_case('kundur/kundur_full.xlsx')"
   ]
  },
  {
   "cell_type": "markdown",
   "metadata": {},
   "source": [
    "### Profile power flow "
   ]
  },
  {
   "cell_type": "markdown",
   "metadata": {},
   "source": [
    "Pass the function name to profile to the magic `%lprun`, followed by a call to the function itself or an upper-level function.\n",
    "\n",
    "Results will be shown in a popup window."
   ]
  },
  {
   "cell_type": "code",
   "execution_count": 4,
   "metadata": {
    "ExecuteTime": {
     "end_time": "2021-03-18T00:45:05.289558Z",
     "start_time": "2021-03-18T00:45:04.756814Z"
    },
    "execution": {
     "iopub.execute_input": "2021-09-26T22:41:55.853967Z",
     "iopub.status.busy": "2021-09-26T22:41:55.853488Z",
     "iopub.status.idle": "2021-09-26T22:41:56.483582Z",
     "shell.execute_reply": "2021-09-26T22:41:56.486239Z"
    }
   },
   "outputs": [
    {
     "name": "stderr",
     "output_type": "stream",
     "text": [
      "Working directory: \"/home/hcui7/repos/andes/examples\"\n"
     ]
    },
    {
     "name": "stderr",
     "output_type": "stream",
     "text": [
      "Loaded generated Python code in \"~/.andes/pycode\".\n"
     ]
    },
    {
     "name": "stderr",
     "output_type": "stream",
     "text": [
      "Parsing input file \"/home/hcui7/repos/andes/andes/cases/kundur/kundur_full.xlsx\"...\n"
     ]
    },
    {
     "name": "stderr",
     "output_type": "stream",
     "text": [
      "Input file parsed in 0.1856 seconds.\n"
     ]
    },
    {
     "name": "stderr",
     "output_type": "stream",
     "text": [
      "System internal structure set up in 0.0638 seconds.\n"
     ]
    },
    {
     "name": "stderr",
     "output_type": "stream",
     "text": [
      "-> System connectivity check results:\n"
     ]
    },
    {
     "name": "stderr",
     "output_type": "stream",
     "text": [
      "  No islanded bus detected.\n"
     ]
    },
    {
     "name": "stderr",
     "output_type": "stream",
     "text": [
      "  A total of 1 island(s) detected.\n"
     ]
    },
    {
     "name": "stderr",
     "output_type": "stream",
     "text": [
      "  Each island has a slack bus correctly defined and enabled.\n"
     ]
    },
    {
     "name": "stderr",
     "output_type": "stream",
     "text": [
      "\n",
      "-> Power flow calculation\n",
      "   Sparse solver: KLU\n",
      " Solution method: NR method\n",
      " Sparse addition: Fast in-place (kvxopt)\n"
     ]
    },
    {
     "name": "stderr",
     "output_type": "stream",
     "text": [
      "Power flow initialized.\n"
     ]
    },
    {
     "name": "stderr",
     "output_type": "stream",
     "text": [
      "0: |F(x)| = 14.9282832\n"
     ]
    },
    {
     "name": "stderr",
     "output_type": "stream",
     "text": [
      "1: |F(x)| = 3.608627841\n"
     ]
    },
    {
     "name": "stderr",
     "output_type": "stream",
     "text": [
      "2: |F(x)| = 0.1701107882\n"
     ]
    },
    {
     "name": "stderr",
     "output_type": "stream",
     "text": [
      "3: |F(x)| = 0.002038626956\n"
     ]
    },
    {
     "name": "stderr",
     "output_type": "stream",
     "text": [
      "4: |F(x)| = 3.745103977e-07\n"
     ]
    },
    {
     "name": "stderr",
     "output_type": "stream",
     "text": [
      "Converged in 5 iterations in 0.0139 seconds.\n"
     ]
    },
    {
     "name": "stdout",
     "output_type": "stream",
     "text": [
      "-> Single process finished in 0.6131 seconds.\n"
     ]
    }
   ],
   "source": [
    "%load_ext line_profiler\n",
    "\n",
    "%lprun -f andes.routines.pflow.PFlow.run andes.run(case_path, no_output=True, default_config=True)"
   ]
  },
  {
   "cell_type": "markdown",
   "metadata": {},
   "source": [
    "Alternatively, do"
   ]
  },
  {
   "cell_type": "code",
   "execution_count": 5,
   "metadata": {
    "ExecuteTime": {
     "end_time": "2021-03-18T00:45:05.550955Z",
     "start_time": "2021-03-18T00:45:05.292174Z"
    },
    "execution": {
     "iopub.execute_input": "2021-09-26T22:41:56.489675Z",
     "iopub.status.busy": "2021-09-26T22:41:56.489252Z",
     "iopub.status.idle": "2021-09-26T22:41:56.714187Z",
     "shell.execute_reply": "2021-09-26T22:41:56.714794Z"
    }
   },
   "outputs": [
    {
     "name": "stderr",
     "output_type": "stream",
     "text": [
      "Working directory: \"/home/hcui7/repos/andes/examples\"\n"
     ]
    },
    {
     "name": "stderr",
     "output_type": "stream",
     "text": [
      "Loaded generated Python code in \"~/.andes/pycode\".\n"
     ]
    },
    {
     "name": "stderr",
     "output_type": "stream",
     "text": [
      "Parsing input file \"/home/hcui7/repos/andes/andes/cases/kundur/kundur_full.xlsx\"...\n"
     ]
    },
    {
     "name": "stderr",
     "output_type": "stream",
     "text": [
      "Input file parsed in 0.0772 seconds.\n"
     ]
    },
    {
     "name": "stderr",
     "output_type": "stream",
     "text": [
      "System internal structure set up in 0.0321 seconds.\n"
     ]
    },
    {
     "name": "stderr",
     "output_type": "stream",
     "text": [
      "-> System connectivity check results:\n"
     ]
    },
    {
     "name": "stderr",
     "output_type": "stream",
     "text": [
      "  No islanded bus detected.\n"
     ]
    },
    {
     "name": "stderr",
     "output_type": "stream",
     "text": [
      "  A total of 1 island(s) detected.\n"
     ]
    },
    {
     "name": "stderr",
     "output_type": "stream",
     "text": [
      "  Each island has a slack bus correctly defined and enabled.\n"
     ]
    },
    {
     "name": "stderr",
     "output_type": "stream",
     "text": [
      "\n",
      "-> Power flow calculation\n",
      "   Sparse solver: KLU\n",
      " Solution method: NR method\n",
      " Sparse addition: Fast in-place (kvxopt)\n"
     ]
    },
    {
     "name": "stderr",
     "output_type": "stream",
     "text": [
      "Power flow initialized.\n"
     ]
    },
    {
     "name": "stderr",
     "output_type": "stream",
     "text": [
      "0: |F(x)| = 14.9282832\n"
     ]
    },
    {
     "name": "stderr",
     "output_type": "stream",
     "text": [
      "1: |F(x)| = 3.608627841\n"
     ]
    },
    {
     "name": "stderr",
     "output_type": "stream",
     "text": [
      "2: |F(x)| = 0.1701107882\n"
     ]
    },
    {
     "name": "stderr",
     "output_type": "stream",
     "text": [
      "3: |F(x)| = 0.002038626956\n"
     ]
    },
    {
     "name": "stderr",
     "output_type": "stream",
     "text": [
      "4: |F(x)| = 3.745103977e-07\n"
     ]
    },
    {
     "name": "stderr",
     "output_type": "stream",
     "text": [
      "Converged in 5 iterations in 0.0100 seconds.\n"
     ]
    },
    {
     "name": "stdout",
     "output_type": "stream",
     "text": [
      "-> Single process finished in 0.2206 seconds.\n"
     ]
    }
   ],
   "source": [
    "ss = andes.run(case_path, no_output=True, default_config=True)"
   ]
  },
  {
   "cell_type": "code",
   "execution_count": 6,
   "metadata": {
    "ExecuteTime": {
     "end_time": "2021-03-18T00:45:05.643255Z",
     "start_time": "2021-03-18T00:45:05.555237Z"
    },
    "execution": {
     "iopub.execute_input": "2021-09-26T22:41:56.717630Z",
     "iopub.status.busy": "2021-09-26T22:41:56.716839Z",
     "iopub.status.idle": "2021-09-26T22:41:56.794287Z",
     "shell.execute_reply": "2021-09-26T22:41:56.794895Z"
    }
   },
   "outputs": [
    {
     "name": "stderr",
     "output_type": "stream",
     "text": [
      "System internal structure set up in 0.0285 seconds.\n"
     ]
    },
    {
     "name": "stderr",
     "output_type": "stream",
     "text": [
      "-> System connectivity check results:\n"
     ]
    },
    {
     "name": "stderr",
     "output_type": "stream",
     "text": [
      "  No islanded bus detected.\n"
     ]
    },
    {
     "name": "stderr",
     "output_type": "stream",
     "text": [
      "  A total of 1 island(s) detected.\n"
     ]
    },
    {
     "name": "stderr",
     "output_type": "stream",
     "text": [
      "  Each island has a slack bus correctly defined and enabled.\n"
     ]
    },
    {
     "name": "stderr",
     "output_type": "stream",
     "text": [
      "\n",
      "-> Power flow calculation\n",
      "   Sparse solver: KLU\n",
      " Solution method: NR method\n",
      " Sparse addition: Fast in-place (kvxopt)\n"
     ]
    },
    {
     "name": "stderr",
     "output_type": "stream",
     "text": [
      "Power flow initialized.\n"
     ]
    },
    {
     "name": "stderr",
     "output_type": "stream",
     "text": [
      "0: |F(x)| = 14.9282832\n"
     ]
    },
    {
     "name": "stderr",
     "output_type": "stream",
     "text": [
      "1: |F(x)| = 3.608627841\n"
     ]
    },
    {
     "name": "stderr",
     "output_type": "stream",
     "text": [
      "2: |F(x)| = 0.1701107882\n"
     ]
    },
    {
     "name": "stderr",
     "output_type": "stream",
     "text": [
      "3: |F(x)| = 0.002038626956\n"
     ]
    },
    {
     "name": "stderr",
     "output_type": "stream",
     "text": [
      "4: |F(x)| = 3.745103977e-07\n"
     ]
    },
    {
     "name": "stderr",
     "output_type": "stream",
     "text": [
      "Converged in 5 iterations in 0.0129 seconds.\n"
     ]
    }
   ],
   "source": [
    "ss.reset()\n",
    "%lprun -f ss.PFlow.run ss.PFlow.run()"
   ]
  },
  {
   "cell_type": "markdown",
   "metadata": {},
   "source": [
    "To dig into the Newton Raphson iteration steps, profile each step instead with:"
   ]
  },
  {
   "cell_type": "code",
   "execution_count": 7,
   "metadata": {
    "ExecuteTime": {
     "end_time": "2021-03-18T00:45:05.736950Z",
     "start_time": "2021-03-18T00:45:05.648221Z"
    },
    "execution": {
     "iopub.execute_input": "2021-09-26T22:41:56.797548Z",
     "iopub.status.busy": "2021-09-26T22:41:56.796772Z",
     "iopub.status.idle": "2021-09-26T22:41:56.879205Z",
     "shell.execute_reply": "2021-09-26T22:41:56.879818Z"
    }
   },
   "outputs": [
    {
     "name": "stderr",
     "output_type": "stream",
     "text": [
      "System internal structure set up in 0.0319 seconds.\n"
     ]
    },
    {
     "name": "stderr",
     "output_type": "stream",
     "text": [
      "-> System connectivity check results:\n"
     ]
    },
    {
     "name": "stderr",
     "output_type": "stream",
     "text": [
      "  No islanded bus detected.\n"
     ]
    },
    {
     "name": "stderr",
     "output_type": "stream",
     "text": [
      "  A total of 1 island(s) detected.\n"
     ]
    },
    {
     "name": "stderr",
     "output_type": "stream",
     "text": [
      "  Each island has a slack bus correctly defined and enabled.\n"
     ]
    },
    {
     "name": "stderr",
     "output_type": "stream",
     "text": [
      "\n",
      "-> Power flow calculation\n",
      "   Sparse solver: KLU\n",
      " Solution method: NR method\n",
      " Sparse addition: Fast in-place (kvxopt)\n"
     ]
    },
    {
     "name": "stderr",
     "output_type": "stream",
     "text": [
      "Power flow initialized.\n"
     ]
    },
    {
     "name": "stderr",
     "output_type": "stream",
     "text": [
      "0: |F(x)| = 14.9282832\n"
     ]
    },
    {
     "name": "stderr",
     "output_type": "stream",
     "text": [
      "1: |F(x)| = 3.608627841\n"
     ]
    },
    {
     "name": "stderr",
     "output_type": "stream",
     "text": [
      "2: |F(x)| = 0.1701107882\n"
     ]
    },
    {
     "name": "stderr",
     "output_type": "stream",
     "text": [
      "3: |F(x)| = 0.002038626956\n"
     ]
    },
    {
     "name": "stderr",
     "output_type": "stream",
     "text": [
      "4: |F(x)| = 3.745103977e-07\n"
     ]
    },
    {
     "name": "stderr",
     "output_type": "stream",
     "text": [
      "Converged in 5 iterations in 0.0129 seconds.\n"
     ]
    }
   ],
   "source": [
    "ss.reset()\n",
    "%lprun -f ss.PFlow.nr_step ss.PFlow.run()"
   ]
  },
  {
   "cell_type": "markdown",
   "metadata": {},
   "source": [
    "### Profile time-domain simulation"
   ]
  },
  {
   "cell_type": "code",
   "execution_count": 8,
   "metadata": {
    "ExecuteTime": {
     "end_time": "2021-03-18T00:45:09.446492Z",
     "start_time": "2021-03-18T00:45:05.743150Z"
    },
    "execution": {
     "iopub.execute_input": "2021-09-26T22:41:56.882500Z",
     "iopub.status.busy": "2021-09-26T22:41:56.881761Z",
     "iopub.status.idle": "2021-09-26T22:41:59.789202Z",
     "shell.execute_reply": "2021-09-26T22:41:59.788931Z"
    }
   },
   "outputs": [
    {
     "name": "stderr",
     "output_type": "stream",
     "text": [
      "\n",
      "-> Time Domain Simulation Summary:\n",
      "Sparse Solver: KLU\n",
      "Simulation time: 0-20.0 s.\n",
      "Fixed step size: h=33.33 ms. Shrink if not converged.\n"
     ]
    },
    {
     "name": "stderr",
     "output_type": "stream",
     "text": [
      "Initialization for dynamics was successful in 0.0505 seconds.\n"
     ]
    },
    {
     "name": "stdout",
     "output_type": "stream",
     "text": [
      "\r",
      "  0%|                                          | 0/100 [00:00<?, ?%/s]"
     ]
    },
    {
     "name": "stdout",
     "output_type": "stream",
     "text": [
      "\r",
      "                                                                      "
     ]
    },
    {
     "name": "stdout",
     "output_type": "stream",
     "text": [
      "\r"
     ]
    },
    {
     "name": "stdout",
     "output_type": "stream",
     "text": [
      "<Toggler 1>: Line.Line_8 status changed to 0 at t=2.0 sec.\n",
      "\r",
      " 10%|███▏                            | 10/100 [00:00<00:00, 110.24%/s]"
     ]
    },
    {
     "name": "stdout",
     "output_type": "stream",
     "text": [
      "\r",
      " 11%|███▋                             | 11/100 [00:00<00:00, 94.19%/s]"
     ]
    },
    {
     "name": "stdout",
     "output_type": "stream",
     "text": [
      "\r",
      " 21%|██████▉                          | 21/100 [00:00<00:02, 34.56%/s]"
     ]
    },
    {
     "name": "stdout",
     "output_type": "stream",
     "text": [
      "\r",
      " 27%|████████▉                        | 27/100 [00:00<00:02, 29.61%/s]"
     ]
    },
    {
     "name": "stdout",
     "output_type": "stream",
     "text": [
      "\r",
      " 31%|██████████▏                      | 31/100 [00:00<00:02, 29.80%/s]"
     ]
    },
    {
     "name": "stdout",
     "output_type": "stream",
     "text": [
      "\r",
      " 35%|███████████▌                     | 35/100 [00:01<00:02, 28.72%/s]"
     ]
    },
    {
     "name": "stdout",
     "output_type": "stream",
     "text": [
      "\r",
      " 39%|████████████▊                    | 39/100 [00:01<00:02, 25.14%/s]"
     ]
    },
    {
     "name": "stdout",
     "output_type": "stream",
     "text": [
      "\r",
      " 43%|██████████████▏                  | 43/100 [00:01<00:02, 25.63%/s]"
     ]
    },
    {
     "name": "stdout",
     "output_type": "stream",
     "text": [
      "\r",
      " 46%|███████████████▏                 | 46/100 [00:01<00:02, 26.01%/s]"
     ]
    },
    {
     "name": "stdout",
     "output_type": "stream",
     "text": [
      "\r",
      " 51%|████████████████▊                | 51/100 [00:01<00:01, 29.75%/s]"
     ]
    },
    {
     "name": "stdout",
     "output_type": "stream",
     "text": [
      "\r",
      " 55%|██████████████████▏              | 55/100 [00:01<00:01, 30.82%/s]"
     ]
    },
    {
     "name": "stdout",
     "output_type": "stream",
     "text": [
      "\r",
      " 60%|███████████████████▊             | 60/100 [00:01<00:01, 34.02%/s]"
     ]
    },
    {
     "name": "stdout",
     "output_type": "stream",
     "text": [
      "\r",
      " 64%|█████████████████████            | 64/100 [00:02<00:01, 32.10%/s]"
     ]
    },
    {
     "name": "stdout",
     "output_type": "stream",
     "text": [
      "\r",
      " 70%|███████████████████████          | 70/100 [00:02<00:00, 38.03%/s]"
     ]
    },
    {
     "name": "stdout",
     "output_type": "stream",
     "text": [
      "\r",
      " 76%|█████████████████████████        | 76/100 [00:02<00:00, 42.53%/s]"
     ]
    },
    {
     "name": "stdout",
     "output_type": "stream",
     "text": [
      "\r",
      " 81%|██████████████████████████▋      | 81/100 [00:02<00:00, 43.74%/s]"
     ]
    },
    {
     "name": "stdout",
     "output_type": "stream",
     "text": [
      "\r",
      " 86%|████████████████████████████▍    | 86/100 [00:02<00:00, 45.15%/s]"
     ]
    },
    {
     "name": "stdout",
     "output_type": "stream",
     "text": [
      "\r",
      " 92%|██████████████████████████████▎  | 92/100 [00:02<00:00, 48.49%/s]"
     ]
    },
    {
     "name": "stdout",
     "output_type": "stream",
     "text": [
      "\r",
      " 97%|████████████████████████████████ | 97/100 [00:02<00:00, 44.49%/s]"
     ]
    },
    {
     "name": "stdout",
     "output_type": "stream",
     "text": [
      "\r",
      "100%|████████████████████████████████| 100/100 [00:02<00:00, 35.25%/s]"
     ]
    },
    {
     "name": "stderr",
     "output_type": "stream",
     "text": [
      "Simulation completed in 2.8383 seconds.\n"
     ]
    },
    {
     "name": "stdout",
     "output_type": "stream",
     "text": [
      "\n"
     ]
    }
   ],
   "source": [
    "%lprun -f ss.TDS.itm_step ss.TDS.run()"
   ]
  },
  {
   "cell_type": "markdown",
   "metadata": {},
   "source": [
    "## Cleanup"
   ]
  },
  {
   "cell_type": "code",
   "execution_count": 9,
   "metadata": {
    "ExecuteTime": {
     "end_time": "2021-03-18T00:45:10.807143Z",
     "start_time": "2021-03-18T00:45:09.448316Z"
    },
    "execution": {
     "iopub.execute_input": "2021-09-26T22:41:59.791386Z",
     "iopub.status.busy": "2021-09-26T22:41:59.790444Z",
     "iopub.status.idle": "2021-09-26T22:42:00.549283Z",
     "shell.execute_reply": "2021-09-26T22:42:00.549530Z"
    }
   },
   "outputs": [
    {
     "name": "stdout",
     "output_type": "stream",
     "text": [
      "\r\n",
      "    _           _         | Version 1.4.2.post116.dev0+g832274a7\r\n",
      "   /_\\  _ _  __| |___ ___ | Python 3.9.6 on Linux, 09/26/2021 05:42:00 PM\r\n",
      "  / _ \\| ' \\/ _` / -_|_-< | \r\n",
      " /_/ \\_\\_||_\\__,_\\___/__/ | This program comes with ABSOLUTELY NO WARRANTY.\r\n",
      "\r\n",
      "\"/home/hcui7/repos/andes/examples/ieee14_out.lst\" removed.\r\n",
      "\"/home/hcui7/repos/andes/examples/ieee14_out.txt\" removed.\r\n",
      "\"/home/hcui7/repos/andes/examples/kundur_full_out.txt\" removed.\r\n",
      "\"/home/hcui7/repos/andes/examples/kundur_full_out.npz\" removed.\r\n",
      "\"/home/hcui7/repos/andes/examples/ieee14_out.npz\" removed.\r\n",
      "\"/home/hcui7/repos/andes/examples/kundur_full_out.lst\" removed.\r\n"
     ]
    }
   ],
   "source": [
    "!andes misc -C"
   ]
  }
 ],
 "metadata": {
  "interpreter": {
   "hash": "4c42303ec617988e96980582546035234a0dbb343f6614254a1d5bddbb9babb9"
  },
  "kernelspec": {
   "display_name": "Python 3.9.6 64-bit ('a': conda)",
   "name": "python3"
  },
  "language_info": {
   "codemirror_mode": {
    "name": "ipython",
    "version": 3
   },
   "file_extension": ".py",
   "mimetype": "text/x-python",
   "name": "python",
   "nbconvert_exporter": "python",
   "pygments_lexer": "ipython3",
   "version": "3.9.6"
  },
  "varInspector": {
   "cols": {
    "lenName": 16,
    "lenType": 16,
    "lenVar": 40
   },
   "kernels_config": {
    "python": {
     "delete_cmd_postfix": "",
     "delete_cmd_prefix": "del ",
     "library": "var_list.py",
     "varRefreshCmd": "print(var_dic_list())"
    },
    "r": {
     "delete_cmd_postfix": ") ",
     "delete_cmd_prefix": "rm(",
     "library": "var_list.r",
     "varRefreshCmd": "cat(var_dic_list()) "
    }
   },
   "types_to_exclude": [
    "module",
    "function",
    "builtin_function_or_method",
    "instance",
    "_Feature"
   ],
   "window_display": false
  }
 },
 "nbformat": 4,
 "nbformat_minor": 4
}
