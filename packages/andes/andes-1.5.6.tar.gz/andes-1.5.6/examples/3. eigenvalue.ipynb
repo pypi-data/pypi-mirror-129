{
 "cells": [
  {
   "cell_type": "markdown",
   "metadata": {},
   "source": [
    "# Eigenvalue Analysis"
   ]
  },
  {
   "cell_type": "markdown",
   "metadata": {},
   "source": [
    "## Run Eigenvalue Analysis"
   ]
  },
  {
   "cell_type": "code",
   "execution_count": 1,
   "metadata": {
    "execution": {
     "iopub.execute_input": "2021-09-26T22:41:51.305680Z",
     "iopub.status.busy": "2021-09-26T22:41:51.305313Z",
     "iopub.status.idle": "2021-09-26T22:41:51.838406Z",
     "shell.execute_reply": "2021-09-26T22:41:51.838711Z"
    }
   },
   "outputs": [],
   "source": [
    "import andes\n",
    "from andes.utils.paths import list_cases, get_case"
   ]
  },
  {
   "cell_type": "code",
   "execution_count": 2,
   "metadata": {
    "execution": {
     "iopub.execute_input": "2021-09-26T22:41:51.841517Z",
     "iopub.status.busy": "2021-09-26T22:41:51.840878Z",
     "iopub.status.idle": "2021-09-26T22:41:51.844084Z",
     "shell.execute_reply": "2021-09-26T22:41:51.844562Z"
    }
   },
   "outputs": [],
   "source": [
    "case_path = get_case('kundur/kundur_full.xlsx')"
   ]
  },
  {
   "cell_type": "markdown",
   "metadata": {},
   "source": [
    "Pass the routine name `EIG` or `eig` to `andes.run`."
   ]
  },
  {
   "cell_type": "code",
   "execution_count": 3,
   "metadata": {
    "execution": {
     "iopub.execute_input": "2021-09-26T22:41:51.846712Z",
     "iopub.status.busy": "2021-09-26T22:41:51.846110Z",
     "iopub.status.idle": "2021-09-26T22:41:52.746189Z",
     "shell.execute_reply": "2021-09-26T22:41:52.746774Z"
    }
   },
   "outputs": [
    {
     "name": "stderr",
     "output_type": "stream",
     "text": [
      "Working directory: \"/home/hcui7/repos/andes/examples\"\n"
     ]
    },
    {
     "name": "stderr",
     "output_type": "stream",
     "text": [
      "Loaded config from file \"/home/hcui7/.andes/andes.rc\"\n"
     ]
    },
    {
     "name": "stderr",
     "output_type": "stream",
     "text": [
      "Loaded generated Python code in \"~/.andes/pycode\".\n"
     ]
    },
    {
     "name": "stderr",
     "output_type": "stream",
     "text": [
      "Parsing input file \"/home/hcui7/repos/andes/andes/cases/kundur/kundur_full.xlsx\"...\n"
     ]
    },
    {
     "name": "stderr",
     "output_type": "stream",
     "text": [
      "Input file parsed in 0.3769 seconds.\n"
     ]
    },
    {
     "name": "stderr",
     "output_type": "stream",
     "text": [
      "System internal structure set up in 0.0370 seconds.\n"
     ]
    },
    {
     "name": "stderr",
     "output_type": "stream",
     "text": [
      "-> System connectivity check results:\n"
     ]
    },
    {
     "name": "stderr",
     "output_type": "stream",
     "text": [
      "  No islanded bus detected.\n"
     ]
    },
    {
     "name": "stderr",
     "output_type": "stream",
     "text": [
      "  A total of 1 island(s) detected.\n"
     ]
    },
    {
     "name": "stderr",
     "output_type": "stream",
     "text": [
      "  Each island has a slack bus correctly defined and enabled.\n"
     ]
    },
    {
     "name": "stderr",
     "output_type": "stream",
     "text": [
      "\n",
      "-> Power flow calculation\n",
      "   Sparse solver: KLU\n",
      " Solution method: NR method\n",
      " Sparse addition: Fast in-place (kvxopt)\n"
     ]
    },
    {
     "name": "stderr",
     "output_type": "stream",
     "text": [
      "Power flow initialized.\n"
     ]
    },
    {
     "name": "stderr",
     "output_type": "stream",
     "text": [
      "0: |F(x)| = 14.9282832\n"
     ]
    },
    {
     "name": "stderr",
     "output_type": "stream",
     "text": [
      "1: |F(x)| = 3.608627841\n"
     ]
    },
    {
     "name": "stderr",
     "output_type": "stream",
     "text": [
      "2: |F(x)| = 0.1701107882\n"
     ]
    },
    {
     "name": "stderr",
     "output_type": "stream",
     "text": [
      "3: |F(x)| = 0.002038626956\n"
     ]
    },
    {
     "name": "stderr",
     "output_type": "stream",
     "text": [
      "4: |F(x)| = 3.745103977e-07\n"
     ]
    },
    {
     "name": "stderr",
     "output_type": "stream",
     "text": [
      "Converged in 5 iterations in 0.0101 seconds.\n"
     ]
    },
    {
     "name": "stderr",
     "output_type": "stream",
     "text": [
      "Report saved to \"kundur_full_out.txt\" in 0.0022 seconds.\n"
     ]
    },
    {
     "name": "stderr",
     "output_type": "stream",
     "text": [
      "Initialization for dynamics was successful in 0.0153 seconds.\n"
     ]
    },
    {
     "name": "stderr",
     "output_type": "stream",
     "text": [
      "\n",
      "-> Eigenvalue Analysis:\n"
     ]
    },
    {
     "name": "stderr",
     "output_type": "stream",
     "text": [
      "  Positive       0\n"
     ]
    },
    {
     "name": "stderr",
     "output_type": "stream",
     "text": [
      "  Zeros          1\n"
     ]
    },
    {
     "name": "stderr",
     "output_type": "stream",
     "text": [
      "  Negative      52\n"
     ]
    },
    {
     "name": "stderr",
     "output_type": "stream",
     "text": [
      "Eigenvalue analysis finished in 0.1786 seconds.\n"
     ]
    },
    {
     "name": "stderr",
     "output_type": "stream",
     "text": [
      "Report saved to \"kundur_full_eig.txt\".\n"
     ]
    },
    {
     "name": "stdout",
     "output_type": "stream",
     "text": [
      "-> Single process finished in 0.8897 seconds.\n"
     ]
    }
   ],
   "source": [
    "ss = andes.run(case_path, routine='eig')"
   ]
  },
  {
   "cell_type": "markdown",
   "metadata": {},
   "source": [
    "## Plotting in Z-Domain"
   ]
  },
  {
   "cell_type": "code",
   "execution_count": 4,
   "metadata": {
    "execution": {
     "iopub.execute_input": "2021-09-26T22:41:52.768563Z",
     "iopub.status.busy": "2021-09-26T22:41:52.768058Z",
     "iopub.status.idle": "2021-09-26T22:41:53.540092Z",
     "shell.execute_reply": "2021-09-26T22:41:53.540496Z"
    }
   },
   "outputs": [
    {
     "data": {
      "image/png": "[encoded data removed]",
      "text/plain": [
       "<Figure size 600x400 with 1 Axes>"
      ]
     },
     "metadata": {
      "needs_background": "light"
     },
     "output_type": "display_data"
    },
    {
     "data": {
      "text/plain": [
       "(<Figure size 600x400 with 1 Axes>,\n",
       " <AxesSubplot:xlabel='Real', ylabel='Imaginary'>)"
      ]
     },
     "execution_count": 4,
     "metadata": {},
     "output_type": "execute_result"
    }
   ],
   "source": [
    "ss.EIG.plot()"
   ]
  },
  {
   "cell_type": "markdown",
   "metadata": {},
   "source": [
    "## Report\n",
    "\n",
    "Report is saved to the file and can be loaded into the notebook."
   ]
  },
  {
   "cell_type": "code",
   "execution_count": 5,
   "metadata": {
    "execution": {
     "iopub.execute_input": "2021-09-26T22:41:53.546062Z",
     "iopub.status.busy": "2021-09-26T22:41:53.545595Z",
     "iopub.status.idle": "2021-09-26T22:41:53.548872Z",
     "shell.execute_reply": "2021-09-26T22:41:53.548508Z"
    },
    "scrolled": true
   },
   "outputs": [
    {
     "name": "stdout",
     "output_type": "stream",
     "text": [
      "ANDES 1.4.2.post116.dev0+g832274a7\n",
      "Copyright (C) 2015-2021 Hantao Cui\n",
      "\n",
      "ANDES comes with ABSOLUTELY NO WARRANTY\n",
      "Case file: /home/hcui7/repos/andes/andes/cases/kundur/kundur_full.xlsx\n",
      "Report time: 09/26/2021 05:41:52 PM\n",
      "\n",
      "Power flow converged in 5 iterations.\n",
      "Flat-start: No\n",
      "\n",
      "\n",
      "EIGENVALUE ANALYSIS REPORT                            \n",
      "\n",
      "Positives                  0\n",
      "Zeros                      1\n",
      "Negatives                 52\n",
      "\n",
      "STATISTICS\n",
      "              Most Associated          Real         Imag.  Damped Freq.     Frequency   Damping [%]\n",
      "\n",
      "#1              LL_x EXDC2 1            -1             0             0             0             0\n",
      "#2              LL_x EXDC2 2            -1             0             0             0             0\n",
      "#3              LL_x EXDC2 3            -1             0             0             0             0\n",
      "#4              LL_x EXDC2 4            -1             0             0             0             0\n",
      "#5              LS_y EXDC2 3       -49.191       0.64233       0.10223        7.8296        99.991\n",
      "#6              LS_y EXDC2 3       -49.191      -0.64233       0.10223        7.8296        99.991\n",
      "#7              LS_y EXDC2 1       -49.535             0             0             0             0\n",
      "#8              LS_y EXDC2 4       -49.515             0             0             0             0\n",
      "#9              LA_y EXDC2 2       -49.202       0.39349      0.062627         7.831        99.997\n",
      "#10             LA_y EXDC2 2       -49.202      -0.39349      0.062627         7.831        99.997\n",
      "#11             LA_y EXDC2 1       -48.885             0             0             0             0\n",
      "#12             LA_y EXDC2 4       -48.905             0             0             0             0\n",
      "#13             e2d GENROU 2       -36.896             0             0             0             0\n",
      "#14             e2d GENROU 4        -36.75             0             0             0             0\n",
      "#15             e2d GENROU 1       -34.732             0             0             0             0\n",
      "#16             e2q GENROU 3        -33.89             0             0             0             0\n",
      "#17             e2q GENROU 2       -33.526             0             0             0             0\n",
      "#18             e2d GENROU 3       -31.242             0             0             0             0\n",
      "#19             e2q GENROU 4       -27.613             0             0             0             0\n",
      "#20             e2q GENROU 1       -24.954             0             0             0             0\n",
      "#21           delta GENROU 3       -0.6564         7.086        1.1278        1.1326         9.224\n",
      "#22           delta GENROU 3       -0.6564        -7.086        1.1278        1.1326         9.224\n",
      "#23           delta GENROU 2      -0.65252        6.8343        1.0877        1.0927        9.5046\n",
      "#24           delta GENROU 2      -0.65252       -6.8343        1.0877        1.0927        9.5046\n",
      "#25           delta GENROU 1      -0.19177        4.2247       0.67239       0.67308        4.5346\n",
      "#26           delta GENROU 1      -0.19177       -4.2247       0.67239       0.67308        4.5346\n",
      "#27             e1d GENROU 2       -5.4189             0             0             0             0\n",
      "#28             e1d GENROU 3       -5.3729             0             0             0             0\n",
      "#29             e1d GENROU 4       -4.1119             0             0             0             0\n",
      "#30             e1d GENROU 2       -3.6722             0             0             0             0\n",
      "#31               vp EXDC2 2      -0.48245         1.628       0.25911       0.27025        28.413\n",
      "#32               vp EXDC2 2      -0.48245        -1.628       0.25911       0.27025        28.413\n",
      "#33               vp EXDC2 4       -3.0736             0             0             0             0\n",
      "#34               vp EXDC2 1       -3.0635             0             0             0             0\n",
      "#35               vp EXDC2 1       -2.3787             0             0             0             0\n",
      "#36            LAG_y TGOV1 1       -1.5702             0             0             0             0\n",
      "#37            LAG_y TGOV1 4       -1.9922             0             0             0             0\n",
      "#38            LAG_y TGOV1 2       -2.0109             0             0             0             0\n",
      "#39            LAG_y TGOV1 3       -2.0194             0             0             0             0\n",
      "#40              W_x EXDC2 2       -1.1816             0             0             0             0\n",
      "#41              W_x EXDC2 4      -0.53573       0.73459       0.11691        0.1447        58.924\n",
      "#42              W_x EXDC2 4      -0.53573      -0.73459       0.11691        0.1447        58.924\n",
      "#43           delta GENROU 3    -6.635e-14             0             0             0             0\n",
      "#44             LL_x TGOV1 2      -0.30739       0.44664      0.071085      0.086293        56.693\n",
      "#45             LL_x TGOV1 2      -0.30739      -0.44664      0.071085      0.086293        56.693\n",
      "#46              W_x EXDC2 1      -0.36003       0.38874      0.061869      0.084328         67.95\n",
      "#47              W_x EXDC2 1      -0.36003      -0.38874      0.061869      0.084328         67.95\n",
      "#48              W_x EXDC2 3      -0.35993       0.37956      0.060409      0.083251         68.81\n",
      "#49              W_x EXDC2 3      -0.35993      -0.37956      0.060409      0.083251         68.81\n",
      "#50             LL_x TGOV1 1      -0.14157             0             0             0             0\n",
      "#51             LL_x TGOV1 2      -0.14203             0             0             0             0\n",
      "#52             LL_x TGOV1 3      -0.14202             0             0             0             0\n",
      "\n",
      "EIGENVALUE DATA\n",
      "                          #1            #2            #3            #4            #5            #6            #7\n",
      "\n",
      "delta GENROU 1             0             0             0             0             0             0         4e-05\n",
      "delta GENROU 2             0             0             0             0             0             0         6e-05\n",
      "delta GENROU 3             0             0             0             0             0             0         2e-05\n",
      "delta GENROU 4             0             0             0             0             0             0         1e-05\n",
      "omega GENROU 1             0             0             0             0             0             0         2e-05\n",
      "omega GENROU 2             0             0             0             0             0             0         3e-05\n",
      "omega GENROU 3             0             0             0             0             0             0         1e-05\n",
      "omega GENROU 4             0             0             0             0             0             0             0\n",
      "e1q GENROU 1               0             0             0             0       0.00084       0.00084       0.00306\n",
      "e1q GENROU 2               0             0             0             0        0.0019        0.0019       0.00224\n",
      "e1q GENROU 3               0             0             0             0        0.0026        0.0026       0.00069\n",
      "e1q GENROU 4               0             0             0             0       0.00118       0.00118       0.00063\n",
      "e1d GENROU 1               0             0             0             0             0             0             0\n",
      "e1d GENROU 2               0             0             0             0             0             0             0\n",
      "e1d GENROU 3               0             0             0             0             0             0             0\n",
      "e1d GENROU 4               0             0             0             0             0             0             0\n",
      "e2d GENROU 1               0             0             0             0       0.00839       0.00839       0.02012\n",
      "e2d GENROU 2               0             0             0             0       0.01824       0.01824       0.01364\n",
      "e2d GENROU 3               0             0             0             0       0.02784       0.02784       0.00467\n",
      "e2d GENROU 4               0             0             0             0       0.01361       0.01361       0.00474\n",
      "e2q GENROU 1               0             0             0             0       0.00096       0.00096       0.00036\n",
      "e2q GENROU 2               0             0             0             0       0.00026       0.00026       0.00114\n",
      "e2q GENROU 3               0             0             0             0         3e-05         3e-05       0.00031\n",
      "e2q GENROU 4               0             0             0             0       0.00118       0.00118         9e-05\n",
      "LAG_y TGOV1 1              0             0             0             0             0             0             0\n",
      "LAG_y TGOV1 2              0             0             0             0             0             0             0\n",
      "LAG_y TGOV1 3              0             0             0             0             0             0             0\n",
      "LAG_y TGOV1 4              0             0             0             0             0             0             0\n",
      "LL_x TGOV1 1               0             0             0             0             0             0             0\n",
      "LL_x TGOV1 2               0             0             0             0             0             0             0\n",
      "LL_x TGOV1 3               0             0             0             0             0             0             0\n",
      "LL_x TGOV1 4               0             0             0             0             0             0             0\n",
      "vp EXDC2 1                 0             0             0             0       0.00157       0.00157       0.00231\n",
      "vp EXDC2 2                 0             0             0             0       0.00352       0.00352       0.00168\n",
      "vp EXDC2 3                 0             0             0             0       0.00346       0.00346       0.00037\n",
      "vp EXDC2 4                 0             0             0             0       0.00202       0.00202       0.00043\n",
      "LS_y EXDC2 1               0             0             0             0       0.06526       0.06526       0.53032\n",
      "LS_y EXDC2 2               0             0             0             0       0.14386       0.14386       0.37893\n",
      "LS_y EXDC2 3               0             0             0             0       0.30715       0.30715       0.18162\n",
      "LS_y EXDC2 4               0             0             0             0       0.08575       0.08575       0.10168\n",
      "LL_x EXDC2 1         0.66046             0             0             0             0             0             0\n",
      "LL_x EXDC2 2               0       0.66046             0             0             0             0             0\n",
      "LL_x EXDC2 3               0             0             1             0             0             0             0\n",
      "LL_x EXDC2 4               0             0             0       0.65832             0             0             0\n",
      "LA_y EXDC2 1               0             0             0             0       0.06704       0.06704       0.22072\n",
      "LA_y EXDC2 2               0             0             0             0       0.20271       0.20271       0.21636\n",
      "LA_y EXDC2 3               0             0             0             0       0.30051       0.30051         0.072\n",
      "LA_y EXDC2 4               0             0             0             0        0.1453        0.1453       0.06982\n",
      "W_x EXDC2 1                0             0             0             0         5e-05         5e-05       0.00015\n",
      "W_x EXDC2 2                0             0             0             0       0.00012       0.00012       0.00013\n",
      "W_x EXDC2 3                0             0             0             0       0.00017       0.00017         4e-05\n",
      "W_x EXDC2 4                0             0             0             0         8e-05         8e-05         4e-05\n",
      "\n",
      "PARTICIPATION FACTORS [1/8]\n",
      "                          #8            #9           #10           #11           #12           #13           #14\n",
      "\n",
      "delta GENROU 1         2e-05         1e-05         1e-05         5e-05         2e-05       0.00044       0.00047\n",
      "delta GENROU 2         1e-05             0             0         6e-05         1e-05       0.00078       0.00049\n",
      "delta GENROU 3         5e-05             0             0         2e-05         6e-05       0.00062       0.00061\n",
      "delta GENROU 4         5e-05         1e-05         1e-05         1e-05         6e-05       0.00032       0.00067\n",
      "omega GENROU 1         1e-05         1e-05         1e-05         3e-05         1e-05       0.00025       0.00027\n",
      "omega GENROU 2         1e-05             0             0         4e-05         1e-05       0.00045       0.00028\n",
      "omega GENROU 3         2e-05             0             0         1e-05         2e-05       0.00025       0.00024\n",
      "omega GENROU 4         2e-05             0             0             0         2e-05       0.00012       0.00025\n",
      "e1q GENROU 1         0.00117       0.00225       0.00225        0.0031       0.00115        0.0003       0.00033\n",
      "e1q GENROU 2         0.00043       0.00285       0.00285       0.00224       0.00041       0.00042       0.00021\n",
      "e1q GENROU 3         0.00184       0.00167       0.00167       0.00067       0.00185       0.00028       0.00027\n",
      "e1q GENROU 4         0.00329       0.00134       0.00134       0.00061       0.00333       0.00019       0.00041\n",
      "e1d GENROU 1               0             0             0             0             0         2e-05         1e-05\n",
      "e1d GENROU 2               0             0             0             0             0         7e-05         2e-05\n",
      "e1d GENROU 3               0             0             0             0             0         5e-05         5e-05\n",
      "e1d GENROU 4               0             0             0             0             0         2e-05         1e-05\n",
      "e2d GENROU 1         0.00784       0.01923       0.01923       0.02323       0.00867       0.23812       0.24595\n",
      "e2d GENROU 2         0.00261       0.02337       0.02337       0.01559       0.00284       0.33371       0.16432\n",
      "e2d GENROU 3         0.01258       0.01507       0.01507       0.00518       0.01432        0.2465       0.23261\n",
      "e2d GENROU 4         0.02533       0.01309       0.01309       0.00526       0.02886       0.17228       0.34779\n",
      "e2q GENROU 1         0.00015        0.0011        0.0011       0.00039       0.00016       0.00111       0.00037\n",
      "e2q GENROU 2         0.00038       0.00045       0.00045       0.00121       0.00039        0.0033       0.00106\n",
      "e2q GENROU 3         0.00116         7e-05         7e-05       0.00032       0.00123       0.00241       0.00234\n",
      "e2q GENROU 4         0.00041       0.00079       0.00079         9e-05       0.00044       0.00069       0.00043\n",
      "LAG_y TGOV1 1              0             0             0             0             0             0             0\n",
      "LAG_y TGOV1 2              0             0             0             0             0             0             0\n",
      "LAG_y TGOV1 3              0             0             0             0             0             0             0\n",
      "LAG_y TGOV1 4              0             0             0             0             0             0             0\n",
      "LL_x TGOV1 1               0             0             0             0             0             0             0\n",
      "LL_x TGOV1 2               0             0             0             0             0             0             0\n",
      "LL_x TGOV1 3               0             0             0             0             0             0             0\n",
      "LL_x TGOV1 4               0             0             0             0             0             0             0\n",
      "vp EXDC2 1           0.00094       0.00415       0.00415       0.01364       0.00476       0.00032       0.00034\n",
      "vp EXDC2 2           0.00034       0.00522       0.00522       0.00979       0.00169       0.00042        0.0002\n",
      "vp EXDC2 3           0.00105        0.0022        0.0022        0.0021       0.00546        0.0002       0.00019\n",
      "vp EXDC2 4           0.00242       0.00226       0.00226       0.00246       0.01263       0.00018       0.00038\n",
      "LS_y EXDC2 1         0.19482         0.203         0.203       0.22143       0.08347       0.00069       0.00074\n",
      "LS_y EXDC2 2         0.06924       0.25052       0.25052       0.15607       0.02909        0.0009       0.00042\n",
      "LS_y EXDC2 3         0.46474       0.22878       0.22878       0.07262        0.2043       0.00092       0.00088\n",
      "LS_y EXDC2 4         0.51255       0.11281       0.11281       0.04075       0.22639       0.00041       0.00085\n",
      "LL_x EXDC2 1               0             0             0             0             0             0             0\n",
      "LL_x EXDC2 2               0             0             0             0             0             0             0\n",
      "LL_x EXDC2 3               0             0             0             0             0             0             0\n",
      "LL_x EXDC2 4               0             0             0             0             0             0             0\n",
      "LA_y EXDC2 1         0.08621        0.2062        0.2062       0.53692       0.19058       0.00079       0.00084\n",
      "LA_y EXDC2 2         0.04203       0.34908       0.34908       0.51915       0.09112       0.00141       0.00066\n",
      "LA_y EXDC2 3         0.19588       0.22134       0.22134       0.16772       0.44428         0.001       0.00095\n",
      "LA_y EXDC2 4         0.37416       0.18904       0.18904       0.16302       0.85269       0.00077        0.0016\n",
      "W_x EXDC2 1            6e-05       0.00014       0.00014       0.00038       0.00014             0             0\n",
      "W_x EXDC2 2            2e-05       0.00021       0.00021       0.00031         5e-05             0             0\n",
      "W_x EXDC2 3          0.00011       0.00013       0.00013        0.0001       0.00026             0             0\n",
      "W_x EXDC2 4          0.00021       0.00011       0.00011        0.0001        0.0005             0             0\n",
      "\n",
      "PARTICIPATION FACTORS [2/8]\n",
      "                         #15           #16           #17           #18           #19           #20           #21\n",
      "\n",
      "delta GENROU 1        0.0013       0.00058       0.00086         4e-05         1e-05       0.00014       0.04024\n",
      "delta GENROU 2       0.00034       0.00024       0.00268         6e-05         7e-05         2e-05       0.08541\n",
      "delta GENROU 3       0.00011       0.00276       0.00076         5e-05         5e-05        0.0002       0.23816\n",
      "delta GENROU 4       0.00079       0.00199         1e-05       0.00011         1e-05         1e-05       0.16086\n",
      "omega GENROU 1       0.00075       0.00034        0.0005         3e-05             0         8e-05       0.02377\n",
      "omega GENROU 2        0.0002       0.00014       0.00155         3e-05         4e-05         1e-05       0.05045\n",
      "omega GENROU 3         4e-05       0.00109        0.0003         2e-05         2e-05         8e-05        0.0965\n",
      "omega GENROU 4       0.00029       0.00074         1e-05         4e-05             0             0       0.06107\n",
      "e1q GENROU 1         0.00054         6e-05       0.00042       0.00094         4e-05        0.0003       0.00067\n",
      "e1q GENROU 2         0.00065       0.00022         2e-05       0.00115       0.00016       0.00097       0.00141\n",
      "e1q GENROU 3         0.00038       0.00019       0.00019       0.00144       0.00011       0.00123       0.00194\n",
      "e1q GENROU 4         0.00034         1e-05        0.0003       0.00112         2e-05       0.00045        0.0034\n",
      "e1d GENROU 1         0.00197       0.00266       0.00808         1e-05       0.02906       0.04674       0.00263\n",
      "e1d GENROU 2          0.0033       0.00186       0.01412       0.00441       0.01327       0.03129       0.00637\n",
      "e1d GENROU 3         0.00138       0.01461       0.00314       0.00479        0.0177       0.02276       0.02746\n",
      "e1d GENROU 4         0.00094       0.01041       0.00046         5e-05       0.03673       0.03898       0.00549\n",
      "e2d GENROU 1         0.25874       0.03867       0.05142       0.14321       0.00031        0.0033       0.00066\n",
      "e2d GENROU 2         0.16397       0.03747        0.0468       0.20085       0.00352       0.02285       0.00139\n",
      "e2d GENROU 3         0.11321        0.0137       0.07851       0.27348       0.00187       0.03733       0.00213\n",
      "e2d GENROU 4         0.18053       0.00845       0.08023       0.18763       0.00026       0.00906       0.00371\n",
      "e2q GENROU 1         0.05939       0.06822       0.19355       0.00017       0.23112       0.22378       0.00134\n",
      "e2q GENROU 2         0.09922       0.04763        0.3366       0.06848       0.10503        0.1491       0.00325\n",
      "e2q GENROU 3         0.04116       0.36911       0.07409       0.07356       0.13858       0.10724       0.01383\n",
      "e2q GENROU 4           0.028       0.26219        0.0109       0.00082       0.28669       0.18311       0.00276\n",
      "LAG_y TGOV1 1              0             0             0             0             0             0       0.00067\n",
      "LAG_y TGOV1 2              0             0             0             0             0             0       0.00142\n",
      "LAG_y TGOV1 3              0             0             0             0             0             0       0.00355\n",
      "LAG_y TGOV1 4              0             0             0             0             0             0       0.00239\n",
      "LL_x TGOV1 1               0             0             0             0             0             0         3e-05\n",
      "LL_x TGOV1 2               0             0             0             0             0             0         7e-05\n",
      "LL_x TGOV1 3               0             0             0             0             0             0       0.00014\n",
      "LL_x TGOV1 4               0             0             0             0             0             0         9e-05\n",
      "vp EXDC2 1           0.00033         3e-05       0.00062       0.00077         9e-05       0.00049         6e-05\n",
      "vp EXDC2 2           0.00084        0.0003       0.00017       0.00073       0.00025       0.00122       0.00018\n",
      "vp EXDC2 3           0.00034       0.00023         6e-05       0.00069       0.00014       0.00101       0.00069\n",
      "vp EXDC2 4           0.00022         4e-05       0.00029        0.0009         3e-05       0.00061       0.00083\n",
      "LS_y EXDC2 1          0.0006         5e-05       0.00101       0.00103         9e-05       0.00039         1e-05\n",
      "LS_y EXDC2 2         0.00149       0.00049       0.00026       0.00095       0.00024       0.00095         3e-05\n",
      "LS_y EXDC2 3         0.00129       0.00084        0.0002       0.00197        0.0003       0.00172       0.00021\n",
      "LS_y EXDC2 4         0.00041         6e-05       0.00048       0.00123         3e-05       0.00049       0.00012\n",
      "LL_x EXDC2 1               0             0             0             0             0             0             0\n",
      "LL_x EXDC2 2               0             0             0             0             0             0             0\n",
      "LL_x EXDC2 3               0             0             0             0             0             0             0\n",
      "LL_x EXDC2 4               0             0             0             0             0             0             0\n",
      "LA_y EXDC2 1         0.00067         6e-05       0.00113       0.00114        0.0001       0.00042         1e-05\n",
      "LA_y EXDC2 2         0.00229       0.00074        0.0004       0.00144       0.00037       0.00143         3e-05\n",
      "LA_y EXDC2 3         0.00137       0.00089       0.00021       0.00207       0.00031       0.00179       0.00018\n",
      "LA_y EXDC2 4         0.00076       0.00011       0.00089       0.00224         6e-05       0.00089       0.00018\n",
      "W_x EXDC2 1                0             0             0             0             0             0             0\n",
      "W_x EXDC2 2                0             0             0             0             0         1e-05         1e-05\n",
      "W_x EXDC2 3                0             0             0             0             0         1e-05         3e-05\n",
      "W_x EXDC2 4                0             0             0         1e-05             0             0         3e-05\n",
      "\n",
      "PARTICIPATION FACTORS [3/8]\n",
      "                         #22           #23           #24           #25           #26           #27           #28\n",
      "\n",
      "delta GENROU 1       0.04024       0.17926       0.17926       0.17245       0.17245       0.01877       0.00547\n",
      "delta GENROU 2       0.08541       0.21636       0.21636       0.08005       0.08005       0.02617       0.00332\n",
      "delta GENROU 3       0.23816       0.04918       0.04918       0.09817       0.09817       0.00681       0.02482\n",
      "delta GENROU 4       0.16086       0.08069       0.08069       0.14333       0.14333       0.00315       0.02115\n",
      "omega GENROU 1       0.02377       0.10604       0.10604       0.10491       0.10491       0.01037       0.00302\n",
      "omega GENROU 2       0.05045       0.12794       0.12794       0.04872       0.04872       0.01445       0.00183\n",
      "omega GENROU 3        0.0965       0.01995       0.01995       0.04102       0.04102       0.00257       0.00936\n",
      "omega GENROU 4       0.06107       0.03068       0.03068       0.05611       0.05611       0.00111       0.00747\n",
      "e1q GENROU 1         0.00067       0.00511       0.00511       0.00596       0.00596       0.00153       0.00043\n",
      "e1q GENROU 2         0.00141       0.00145       0.00145       0.00491       0.00491       0.00172       0.00027\n",
      "e1q GENROU 3         0.00194       0.00018       0.00018       0.00041       0.00041       0.00039        0.0016\n",
      "e1q GENROU 4          0.0034       0.00215       0.00215       0.00091       0.00091       0.00022       0.00155\n",
      "e1d GENROU 1         0.00263       0.00462       0.00462       0.00044       0.00044       0.36152       0.09703\n",
      "e1d GENROU 2         0.00637       0.02796       0.02796       0.00049       0.00049       0.49924       0.07963\n",
      "e1d GENROU 3         0.02746       0.00894       0.00894       0.00335       0.00335       0.12193       0.48105\n",
      "e1d GENROU 4         0.00549       0.00157       0.00157       0.00281       0.00281       0.05818       0.38742\n",
      "e2d GENROU 1         0.00066        0.0043        0.0043       0.00204       0.00204       0.00033         8e-05\n",
      "e2d GENROU 2         0.00139       0.00146       0.00146       0.00158       0.00158       0.00074       0.00013\n",
      "e2d GENROU 3         0.00213       0.00012       0.00012       0.00027       0.00027       0.00018       0.00073\n",
      "e2d GENROU 4         0.00371       0.00209       0.00209       0.00056       0.00056         6e-05        0.0004\n",
      "e2q GENROU 1         0.00134       0.00229       0.00229       0.00017       0.00017       0.01819       0.00503\n",
      "e2q GENROU 2         0.00325       0.01381       0.01381       0.00019       0.00019       0.02501       0.00411\n",
      "e2q GENROU 3         0.01383       0.00437       0.00437       0.00129       0.00129       0.00604       0.02453\n",
      "e2q GENROU 4         0.00276       0.00076       0.00076       0.00109       0.00109       0.00287       0.01969\n",
      "LAG_y TGOV1 1        0.00067        0.0032        0.0032       0.00728       0.00728       0.00125       0.00038\n",
      "LAG_y TGOV1 2        0.00142       0.00386       0.00386       0.00338       0.00338       0.00175       0.00023\n",
      "LAG_y TGOV1 3        0.00355       0.00079       0.00079       0.00371       0.00371       0.00041       0.00152\n",
      "LAG_y TGOV1 4        0.00239       0.00129       0.00129        0.0054        0.0054       0.00019       0.00129\n",
      "LL_x TGOV1 1           3e-05       0.00016       0.00016       0.00064       0.00064         6e-05         2e-05\n",
      "LL_x TGOV1 2           7e-05        0.0002        0.0002       0.00031       0.00031         8e-05         1e-05\n",
      "LL_x TGOV1 3         0.00014         3e-05         3e-05       0.00026       0.00026         1e-05         5e-05\n",
      "LL_x TGOV1 4           9e-05         5e-05         5e-05       0.00038       0.00038         1e-05         5e-05\n",
      "vp EXDC2 1             6e-05       0.00162       0.00162       0.00482       0.00482       0.00739         0.002\n",
      "vp EXDC2 2           0.00018       0.00133       0.00133       0.00482       0.00482       0.01079       0.00183\n",
      "vp EXDC2 3           0.00069       0.00024       0.00024       0.00056       0.00056       0.00174       0.00719\n",
      "vp EXDC2 4           0.00083       0.00076       0.00076       0.00082       0.00082       0.00101       0.00706\n",
      "LS_y EXDC2 1           1e-05       0.00022       0.00022       0.00047       0.00047       0.00037        0.0001\n",
      "LS_y EXDC2 2           3e-05       0.00018       0.00018       0.00046       0.00046       0.00052         9e-05\n",
      "LS_y EXDC2 3         0.00021         7e-05         7e-05       0.00012       0.00012       0.00018       0.00074\n",
      "LS_y EXDC2 4         0.00012       0.00011       0.00011         8e-05         8e-05         5e-05       0.00035\n",
      "LL_x EXDC2 1               0             0             0             0             0             0             0\n",
      "LL_x EXDC2 2               0             0             0             0             0             0             0\n",
      "LL_x EXDC2 3               0             0             0             0             0             0             0\n",
      "LL_x EXDC2 4               0             0             0             0             0             0             0\n",
      "LA_y EXDC2 1           1e-05       0.00021       0.00021       0.00039       0.00039       0.00064       0.00017\n",
      "LA_y EXDC2 2           3e-05       0.00023       0.00023       0.00052       0.00052       0.00126       0.00021\n",
      "LA_y EXDC2 3         0.00018         6e-05         6e-05         9e-05         9e-05       0.00031       0.00125\n",
      "LA_y EXDC2 4         0.00018       0.00016       0.00016       0.00011       0.00011       0.00015       0.00102\n",
      "W_x EXDC2 1                0         5e-05         5e-05       0.00038       0.00038       0.00056       0.00015\n",
      "W_x EXDC2 2            1e-05         5e-05         5e-05       0.00044       0.00044       0.00093       0.00016\n",
      "W_x EXDC2 3            3e-05         1e-05         1e-05         7e-05         7e-05       0.00022       0.00094\n",
      "W_x EXDC2 4            3e-05         3e-05         3e-05         9e-05         9e-05       0.00011       0.00076\n",
      "\n",
      "PARTICIPATION FACTORS [4/8]\n",
      "                         #29           #30           #31           #32           #33           #34           #35\n",
      "\n",
      "delta GENROU 1       0.00184       0.00076        0.0105        0.0105       0.00211       0.00572       0.00175\n",
      "delta GENROU 2       0.00619       0.00021         8e-05         8e-05        0.0019       0.00509       0.00601\n",
      "delta GENROU 3       0.00524       0.00086       0.00348       0.00348       0.00522       0.00212       0.00608\n",
      "delta GENROU 4       0.00254             0       0.00062       0.00062       0.00562       0.00191       0.00119\n",
      "omega GENROU 1       0.00097       0.00039       0.00811       0.00811       0.00097       0.00262       0.00049\n",
      "omega GENROU 2       0.00326       0.00011       0.00024       0.00024       0.00087       0.00234       0.00176\n",
      "omega GENROU 3       0.00188        0.0003       0.00176       0.00176       0.00163       0.00066       0.00119\n",
      "omega GENROU 4       0.00086             0       0.00023       0.00023       0.00164       0.00056        0.0002\n",
      "e1q GENROU 1         0.00024       0.00202       0.07076       0.07076       0.00382       0.01402       0.05544\n",
      "e1q GENROU 2          0.0016        0.0052        0.0874        0.0874       0.00481       0.01018       0.04937\n",
      "e1q GENROU 3         0.00126       0.00534       0.07194       0.07194       0.01035       0.00282       0.04397\n",
      "e1q GENROU 4         0.00048       0.00212        0.0524        0.0524       0.01026       0.00535       0.04396\n",
      "e1d GENROU 1         0.22346       0.14687       0.02655       0.02655        0.0065       0.02563       0.01032\n",
      "e1d GENROU 2         0.16265       0.15839       0.02676       0.02676       0.00999       0.01879       0.00058\n",
      "e1d GENROU 3          0.1893       0.12278       0.02515       0.02515       0.02218       0.00485       0.00021\n",
      "e1d GENROU 4         0.28887       0.12266       0.02446       0.02446       0.02447        0.0144       0.00922\n",
      "e2d GENROU 1           1e-05       0.00011       0.00296       0.00296       0.00013        0.0005       0.00144\n",
      "e2d GENROU 2           9e-05       0.00027       0.00367       0.00367       0.00016       0.00032       0.00127\n",
      "e2d GENROU 3           8e-05        0.0003       0.00331       0.00331       0.00037        0.0001       0.00124\n",
      "e2d GENROU 4           4e-05       0.00013        0.0025        0.0025       0.00042       0.00022       0.00131\n",
      "e2q GENROU 1         0.02215        0.0174       0.00812       0.00812       0.00095       0.00378       0.00189\n",
      "e2q GENROU 2         0.01605       0.01868       0.00815       0.00815       0.00146       0.00276       0.00011\n",
      "e2q GENROU 3         0.01847       0.01432       0.00757       0.00757       0.00321        0.0007         4e-05\n",
      "e2q GENROU 4          0.0281       0.01426       0.00734       0.00734       0.00353       0.00208       0.00165\n",
      "LAG_y TGOV1 1         0.0003       0.00019        0.0023        0.0023       0.00118       0.00327       0.00534\n",
      "LAG_y TGOV1 2        0.00103         5e-05         7e-05         7e-05       0.00107       0.00292        0.0193\n",
      "LAG_y TGOV1 3        0.00077        0.0002       0.00065       0.00065        0.0026       0.00108       0.01706\n",
      "LAG_y TGOV1 4        0.00037             0         9e-05         9e-05       0.00279       0.00096       0.00309\n",
      "LL_x TGOV1 1           1e-05         1e-05       0.00065       0.00065         5e-05       0.00015       0.00014\n",
      "LL_x TGOV1 2           5e-05             0         2e-05         2e-05         5e-05       0.00014       0.00054\n",
      "LL_x TGOV1 3           3e-05         1e-05       0.00015       0.00015        0.0001         4e-05       0.00037\n",
      "LL_x TGOV1 4           1e-05             0         2e-05         2e-05        0.0001         4e-05         7e-05\n",
      "vp EXDC2 1            0.0018       0.02792        0.0755        0.0755       0.08166       0.28549       0.19372\n",
      "vp EXDC2 2           0.01151       0.07037       0.09369       0.09369       0.10072       0.20041       0.17109\n",
      "vp EXDC2 3           0.00659       0.05154       0.05539       0.05539       0.15513       0.03978       0.10881\n",
      "vp EXDC2 4           0.00328       0.02678       0.05123       0.05123       0.20162       0.10006        0.1402\n",
      "LS_y EXDC2 1           4e-05       0.00026       0.00452       0.00452       0.00039       0.00144       0.00445\n",
      "LS_y EXDC2 2         0.00022       0.00065       0.00551       0.00551       0.00047       0.00099       0.00386\n",
      "LS_y EXDC2 3         0.00027       0.00103       0.00707       0.00707       0.00158       0.00043       0.00532\n",
      "LS_y EXDC2 4           7e-05       0.00026       0.00313       0.00313       0.00099       0.00052       0.00329\n",
      "LL_x EXDC2 1               0             0             0             0             0             0             0\n",
      "LL_x EXDC2 2               0             0             0             0             0             0             0\n",
      "LL_x EXDC2 3               0             0             0             0             0             0             0\n",
      "LL_x EXDC2 4               0             0             0             0             0             0             0\n",
      "LA_y EXDC2 1          0.0001       0.00137        0.0025        0.0025       0.00299        0.0104       0.00439\n",
      "LA_y EXDC2 2          0.0009       0.00465       0.00418       0.00418       0.00497       0.00984       0.00523\n",
      "LA_y EXDC2 3         0.00078       0.00513       0.00372       0.00372       0.01154       0.00294       0.00501\n",
      "LA_y EXDC2 4         0.00032       0.00221       0.00285       0.00285       0.01245       0.00614       0.00536\n",
      "W_x EXDC2 1          0.00026       0.00528       0.03995       0.03995       0.02435       0.08588       0.11819\n",
      "W_x EXDC2 2          0.00188       0.01518       0.05653       0.05653       0.03424       0.06873         0.119\n",
      "W_x EXDC2 3          0.00159       0.01641       0.04933       0.04933       0.07785       0.02014       0.11172\n",
      "W_x EXDC2 4          0.00065       0.00702       0.03754       0.03754       0.08326       0.04168       0.11845\n",
      "\n",
      "PARTICIPATION FACTORS [5/8]\n",
      "                         #36           #37           #38           #39           #40           #41           #42\n",
      "\n",
      "delta GENROU 1       0.00239       0.01045       0.00051       0.00201       0.00333       0.00065       0.00065\n",
      "delta GENROU 2       0.00236       0.00093       0.00922       0.00128       0.00055       0.00047       0.00047\n",
      "delta GENROU 3       0.00232       0.00157       0.00622       0.00373       0.00374       0.00048       0.00048\n",
      "delta GENROU 4       0.00245        0.0139       0.00281       0.00283         8e-05       0.00065       0.00065\n",
      "omega GENROU 1       0.05646       0.00087         2e-05         7e-05       0.00453       0.00107       0.00107\n",
      "omega GENROU 2       0.05461         8e-05       0.00045         4e-05       0.00192       0.00065       0.00065\n",
      "omega GENROU 3       0.03522         8e-05        0.0002         8e-05       0.00528        0.0005        0.0005\n",
      "omega GENROU 4       0.03404        0.0007         8e-05         6e-05       0.00043       0.00073       0.00073\n",
      "e1q GENROU 1         0.00021       0.01108       0.00476       0.00142       0.03388       0.08211       0.08211\n",
      "e1q GENROU 2         0.00026       0.00532       0.00231       0.00021       0.04408       0.06594       0.06594\n",
      "e1q GENROU 3          0.0001       0.00154       0.00122        0.0004       0.03867       0.06805       0.06805\n",
      "e1q GENROU 4           7e-05       0.00458       0.00375        0.0018       0.02724       0.07576       0.07576\n",
      "e1d GENROU 1         0.00019       0.00414       0.00056       0.00018       0.02258       0.00026       0.00026\n",
      "e1d GENROU 2          0.0002       0.00398        0.0024       0.00016       0.02473       0.00126       0.00126\n",
      "e1d GENROU 3          0.0001       0.00324       0.00173       0.00029       0.02321       0.00142       0.00142\n",
      "e1d GENROU 4          0.0001        0.0042       0.00103       0.00044       0.02112       0.00043       0.00043\n",
      "e2d GENROU 1               0       0.00015       0.00011         2e-05       0.00025       0.00119       0.00119\n",
      "e2d GENROU 2               0         6e-05         2e-05         2e-05       0.00035       0.00092       0.00092\n",
      "e2d GENROU 3               0         2e-05         1e-05         6e-05       0.00034       0.00105       0.00105\n",
      "e2d GENROU 4               0         2e-05         7e-05         2e-05       0.00024       0.00127       0.00127\n",
      "e2q GENROU 1           4e-05       0.00084       0.00011         4e-05       0.00566         8e-05         8e-05\n",
      "e2q GENROU 2           4e-05       0.00081       0.00049         3e-05       0.00617       0.00037       0.00037\n",
      "e2q GENROU 3           2e-05       0.00065       0.00034         6e-05       0.00573       0.00041       0.00041\n",
      "e2q GENROU 4           2e-05       0.00084       0.00021         9e-05        0.0052       0.00012       0.00012\n",
      "LAG_y TGOV1 1        0.28771       0.44443       0.03358       0.18229       0.00614        0.0005        0.0005\n",
      "LAG_y TGOV1 2        0.27828       0.03862       0.60969       0.11639        0.0026        0.0003        0.0003\n",
      "LAG_y TGOV1 3        0.23415       0.05545       0.34788       0.28645       0.00933        0.0003        0.0003\n",
      "LAG_y TGOV1 4        0.24068       0.49682       0.15655       0.21672        0.0008       0.00047       0.00047\n",
      "LL_x TGOV1 1         0.02949       0.00262       0.00012       0.00046       0.00245       0.00046       0.00046\n",
      "LL_x TGOV1 2         0.02951       0.00024       0.00224        0.0003       0.00107       0.00029       0.00029\n",
      "LL_x TGOV1 3         0.01928       0.00026       0.00099       0.00058       0.00299       0.00022       0.00022\n",
      "LL_x TGOV1 4          0.0199       0.00236       0.00045       0.00044       0.00026       0.00035       0.00035\n",
      "vp EXDC2 1           0.00028       0.01851       0.01021       0.00225       0.02054       0.04771       0.04771\n",
      "vp EXDC2 2           0.00034       0.00805       0.00341       0.00124       0.02771       0.03765       0.03765\n",
      "vp EXDC2 3           0.00019        0.0005       0.00126       0.00202       0.01745       0.02788       0.02788\n",
      "vp EXDC2 4           0.00016       0.00385       0.00608       0.00268       0.01504        0.0403        0.0403\n",
      "LS_y EXDC2 1           2e-05       0.00065       0.00035         8e-05       0.00189       0.00251       0.00251\n",
      "LS_y EXDC2 2           2e-05       0.00028       0.00012         4e-05       0.00251       0.00194       0.00194\n",
      "LS_y EXDC2 3           2e-05         4e-05         9e-05       0.00015       0.00343       0.00312       0.00312\n",
      "LS_y EXDC2 4           1e-05       0.00014       0.00021         9e-05       0.00142       0.00216       0.00216\n",
      "LL_x EXDC2 1               0             0             0             0             0             0             0\n",
      "LL_x EXDC2 2               0             0             0             0             0             0             0\n",
      "LL_x EXDC2 3               0             0             0             0             0             0             0\n",
      "LL_x EXDC2 4               0             0             0             0             0             0             0\n",
      "LA_y EXDC2 1               0       0.00028       0.00016         4e-05         1e-05       0.00088       0.00088\n",
      "LA_y EXDC2 2               0       0.00016         7e-05         3e-05         2e-05       0.00094       0.00094\n",
      "LA_y EXDC2 3               0         2e-05         4e-05         6e-05         2e-05       0.00105       0.00105\n",
      "LA_y EXDC2 4               0        0.0001       0.00016         7e-05         1e-05       0.00125       0.00125\n",
      "W_x EXDC2 1           0.0007       0.01967       0.01051       0.00229        0.2114       0.11396       0.11396\n",
      "W_x EXDC2 2          0.00099       0.00975         0.004       0.00144       0.32512       0.10252       0.10252\n",
      "W_x EXDC2 3           0.0008       0.00089       0.00219       0.00345       0.30227       0.11206       0.11206\n",
      "W_x EXDC2 4          0.00057       0.00566       0.00867       0.00377       0.21431       0.13329       0.13329\n",
      "\n",
      "PARTICIPATION FACTORS [6/8]\n",
      "                         #43           #44           #45           #46           #47           #48           #49\n",
      "\n",
      "delta GENROU 1       0.23884       0.00446       0.00446         5e-05         5e-05         4e-05         4e-05\n",
      "delta GENROU 2       0.24952       0.00469       0.00469         2e-05         2e-05         3e-05         3e-05\n",
      "delta GENROU 3       0.26107       0.00465       0.00465         2e-05         2e-05         7e-05         7e-05\n",
      "delta GENROU 4       0.25057       0.00449       0.00449         7e-05         7e-05         5e-05         5e-05\n",
      "omega GENROU 1             0       0.10227       0.10227       0.00063       0.00063       0.00032       0.00032\n",
      "omega GENROU 2             0       0.10619       0.10619       0.00022       0.00022       0.00028       0.00028\n",
      "omega GENROU 3             0       0.07177       0.07177       0.00013       0.00013       0.00029       0.00029\n",
      "omega GENROU 4             0       0.06484       0.06484       0.00031       0.00031        0.0002        0.0002\n",
      "e1q GENROU 1               0         2e-05         2e-05       0.07049       0.07049       0.04381       0.04381\n",
      "e1q GENROU 2               0         2e-05         2e-05       0.05619       0.05619       0.05594       0.05594\n",
      "e1q GENROU 3               0         3e-05         3e-05        0.0392        0.0392       0.06379       0.06379\n",
      "e1q GENROU 4               0         4e-05         4e-05       0.04984       0.04984       0.04973       0.04973\n",
      "e1d GENROU 1               0             0             0       0.00451       0.00451       0.00282       0.00282\n",
      "e1d GENROU 2               0             0             0       0.00354       0.00354       0.00354       0.00354\n",
      "e1d GENROU 3               0             0             0       0.00267       0.00267       0.00435       0.00435\n",
      "e1d GENROU 4               0         1e-05         1e-05       0.00388       0.00388        0.0039        0.0039\n",
      "e2d GENROU 1               0             0             0       0.00069       0.00069       0.00042       0.00042\n",
      "e2d GENROU 2               0             0             0       0.00051       0.00051        0.0005        0.0005\n",
      "e2d GENROU 3               0             0             0       0.00039       0.00039       0.00063       0.00063\n",
      "e2d GENROU 4               0             0             0       0.00056       0.00056       0.00055       0.00055\n",
      "e2q GENROU 1               0             0             0       0.00136       0.00136       0.00085       0.00085\n",
      "e2q GENROU 2               0             0             0       0.00106       0.00106       0.00106       0.00106\n",
      "e2q GENROU 3               0             0             0       0.00079       0.00079       0.00129       0.00129\n",
      "e2q GENROU 4               0             0             0       0.00115       0.00115       0.00116       0.00116\n",
      "LAG_y TGOV1 1              0       0.04715       0.04715       0.00028       0.00028       0.00015       0.00015\n",
      "LAG_y TGOV1 2              0       0.04895       0.04895        0.0001        0.0001       0.00013       0.00013\n",
      "LAG_y TGOV1 3              0       0.04317       0.04317         7e-05         7e-05       0.00017       0.00017\n",
      "LAG_y TGOV1 4              0       0.04147       0.04147        0.0002        0.0002       0.00012       0.00012\n",
      "LL_x TGOV1 1               0       0.12629       0.12629       0.00092       0.00092       0.00049       0.00049\n",
      "LL_x TGOV1 2               0       0.13567       0.13567       0.00033       0.00033       0.00045       0.00045\n",
      "LL_x TGOV1 3               0        0.0929        0.0929       0.00019       0.00019       0.00047       0.00047\n",
      "LL_x TGOV1 4               0       0.08958       0.08958       0.00052       0.00052       0.00034       0.00034\n",
      "vp EXDC2 1                 0         8e-05         8e-05       0.02856       0.02856       0.01757       0.01757\n",
      "vp EXDC2 2                 0         7e-05         7e-05       0.02194       0.02194       0.02157       0.02157\n",
      "vp EXDC2 3                 0         6e-05         6e-05       0.01098       0.01098       0.01765       0.01765\n",
      "vp EXDC2 4                 0         8e-05         8e-05       0.01848       0.01848       0.01825       0.01825\n",
      "LS_y EXDC2 1               0             0             0       0.00105       0.00105       0.00064       0.00064\n",
      "LS_y EXDC2 2               0             0             0       0.00079       0.00079       0.00077       0.00077\n",
      "LS_y EXDC2 3               0             0             0       0.00086       0.00086       0.00136       0.00136\n",
      "LS_y EXDC2 4               0             0             0       0.00069       0.00069       0.00068       0.00068\n",
      "LL_x EXDC2 1               0             0             0             0             0             0             0\n",
      "LL_x EXDC2 2               0             0             0             0             0             0             0\n",
      "LL_x EXDC2 3               0             0             0             0             0             0             0\n",
      "LL_x EXDC2 4               0             0             0             0             0             0             0\n",
      "LA_y EXDC2 1               0             0             0       0.00049       0.00049        0.0003        0.0003\n",
      "LA_y EXDC2 2               0             0             0       0.00051       0.00051        0.0005        0.0005\n",
      "LA_y EXDC2 3               0             0             0       0.00038       0.00038       0.00061       0.00061\n",
      "LA_y EXDC2 4               0             0             0       0.00054       0.00054       0.00053       0.00053\n",
      "W_x EXDC2 1                0       0.00025       0.00025       0.11968       0.11968       0.07515       0.07515\n",
      "W_x EXDC2 2                0       0.00028       0.00028       0.10481       0.10481       0.10518       0.10518\n",
      "W_x EXDC2 3                0       0.00032       0.00032       0.07742       0.07742       0.12701       0.12701\n",
      "W_x EXDC2 4                0       0.00035       0.00035       0.10724       0.10724        0.1081        0.1081\n",
      "\n",
      "PARTICIPATION FACTORS [7/8]\n",
      "                         #50           #51           #52\n",
      "\n",
      "delta GENROU 1       0.00304       0.00244         4e-05\n",
      "delta GENROU 2       0.00157       0.00344         8e-05\n",
      "delta GENROU 3       0.00179         6e-05       0.00325\n",
      "delta GENROU 4       0.00266             0       0.00268\n",
      "omega GENROU 1             0             0             0\n",
      "omega GENROU 2             0             0             0\n",
      "omega GENROU 3             0             0             0\n",
      "omega GENROU 4             0             0             0\n",
      "e1q GENROU 1               0         3e-05             0\n",
      "e1q GENROU 2           2e-05         7e-05             0\n",
      "e1q GENROU 3               0             0         6e-05\n",
      "e1q GENROU 4               0             0         3e-05\n",
      "e1d GENROU 1           1e-05         2e-05             0\n",
      "e1d GENROU 2               0         5e-05             0\n",
      "e1d GENROU 3           1e-05             0         4e-05\n",
      "e1d GENROU 4           1e-05             0         3e-05\n",
      "e2d GENROU 1               0             0             0\n",
      "e2d GENROU 2               0             0             0\n",
      "e2d GENROU 3               0             0             0\n",
      "e2d GENROU 4               0             0             0\n",
      "e2q GENROU 1               0         1e-05             0\n",
      "e2q GENROU 2               0         1e-05             0\n",
      "e2q GENROU 3               0             0         1e-05\n",
      "e2q GENROU 4               0             0         1e-05\n",
      "LAG_y TGOV1 1        0.00021       0.00017             0\n",
      "LAG_y TGOV1 2        0.00011       0.00023         1e-05\n",
      "LAG_y TGOV1 3         0.0001             0       0.00019\n",
      "LAG_y TGOV1 4        0.00015             0       0.00015\n",
      "LL_x TGOV1 1         0.30765       0.38484        0.0055\n",
      "LL_x TGOV1 2         0.16372       0.56187       0.01273\n",
      "LL_x TGOV1 3         0.12342       0.00631       0.34609\n",
      "LL_x TGOV1 4          0.1836       0.00014       0.28568\n",
      "vp EXDC2 1             3e-05         8e-05             0\n",
      "vp EXDC2 2             2e-05         6e-05             0\n",
      "vp EXDC2 3             1e-05             0         4e-05\n",
      "vp EXDC2 4             2e-05             0         6e-05\n",
      "LS_y EXDC2 1               0             0             0\n",
      "LS_y EXDC2 2               0             0             0\n",
      "LS_y EXDC2 3               0             0             0\n",
      "LS_y EXDC2 4               0             0             0\n",
      "LL_x EXDC2 1               0             0             0\n",
      "LL_x EXDC2 2               0             0             0\n",
      "LL_x EXDC2 3               0             0             0\n",
      "LL_x EXDC2 4               0             0             0\n",
      "LA_y EXDC2 1               0             0             0\n",
      "LA_y EXDC2 2               0             0             0\n",
      "LA_y EXDC2 3               0             0             0\n",
      "LA_y EXDC2 4               0             0             0\n",
      "W_x EXDC2 1            9e-05       0.00026             0\n",
      "W_x EXDC2 2            9e-05       0.00023         1e-05\n",
      "W_x EXDC2 3            5e-05             0       0.00021\n",
      "W_x EXDC2 4            7e-05             0       0.00029\n",
      "\n",
      "\n"
     ]
    }
   ],
   "source": [
    "with open('kundur_full_eig.txt', 'r') as f:\n",
    "    print(f.read())"
   ]
  },
  {
   "cell_type": "markdown",
   "metadata": {},
   "source": [
    "## Cleanup"
   ]
  },
  {
   "cell_type": "code",
   "execution_count": 6,
   "metadata": {
    "execution": {
     "iopub.execute_input": "2021-09-26T22:41:53.557089Z",
     "iopub.status.busy": "2021-09-26T22:41:53.556654Z",
     "iopub.status.idle": "2021-09-26T22:41:54.650792Z",
     "shell.execute_reply": "2021-09-26T22:41:54.650033Z"
    }
   },
   "outputs": [
    {
     "name": "stdout",
     "output_type": "stream",
     "text": [
      "\r\n",
      "    _           _         | Version 1.4.2.post116.dev0+g832274a7\r\n",
      "   /_\\  _ _  __| |___ ___ | Python 3.9.6 on Linux, 09/26/2021 05:41:54 PM\r\n",
      "  / _ \\| ' \\/ _` / -_|_-< | \r\n",
      " /_/ \\_\\_||_\\__,_\\___/__/ | This program comes with ABSOLUTELY NO WARRANTY.\r\n",
      "\r\n",
      "\"/home/hcui7/repos/andes/examples/kundur_out.lst\" removed.\r\n",
      "\"/home/hcui7/repos/andes/examples/ieee14_out.lst\" removed.\r\n",
      "\"/home/hcui7/repos/andes/examples/kundur_out.txt\" removed.\r\n",
      "\"/home/hcui7/repos/andes/examples/ieee14_out.txt\" removed.\r\n",
      "\"/home/hcui7/repos/andes/examples/kundur_full_out.txt\" removed.\r\n",
      "\"/home/hcui7/repos/andes/examples/kundur_full_out.npz\" removed.\r\n",
      "\"/home/hcui7/repos/andes/examples/kundur_out.npz\" removed.\r\n",
      "\"/home/hcui7/repos/andes/examples/kundur_full_eig.txt\" removed.\r\n",
      "\"/home/hcui7/repos/andes/examples/kundur_full_out.csv\" removed.\r\n",
      "\"/home/hcui7/repos/andes/examples/ieee14_out.npz\" removed.\r\n",
      "\"/home/hcui7/repos/andes/examples/kundur_full_out.lst\" removed.\r\n"
     ]
    }
   ],
   "source": [
    "!andes misc -C"
   ]
  }
 ],
 "metadata": {
  "kernelspec": {
   "display_name": "Python 3",
   "language": "python",
   "name": "python3"
  },
  "language_info": {
   "codemirror_mode": {
    "name": "ipython",
    "version": 3
   },
   "file_extension": ".py",
   "mimetype": "text/x-python",
   "name": "python",
   "nbconvert_exporter": "python",
   "pygments_lexer": "ipython3",
   "version": "3.9.6"
  }
 },
 "nbformat": 4,
 "nbformat_minor": 4
}
