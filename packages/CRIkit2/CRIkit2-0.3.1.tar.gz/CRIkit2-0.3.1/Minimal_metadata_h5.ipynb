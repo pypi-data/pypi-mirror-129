{
 "cells": [
  {
   "cell_type": "code",
   "execution_count": 1,
   "id": "e798200b-7822-4fd4-8678-76c0a3bf08b3",
   "metadata": {},
   "outputs": [],
   "source": [
    "from crikit.io.hdf5 import hdf_import_data\n",
    "from crikit.io.macros import import_hdf_nist_special\n",
    "from crikit.data.hsi import Hsi\n",
    "\n",
    "import lazy5\n",
    "import h5py"
   ]
  },
  {
   "cell_type": "code",
   "execution_count": 2,
   "id": "1e7011ea-1d94-4afc-883e-4932261f37cd",
   "metadata": {},
   "outputs": [],
   "source": [
    "pth = './'\n",
    "fname_1 = './glycerol1_test_attrs-10-15-21_spec.h5'\n",
    "dset_1 = '/Glycerol/hsi'\n",
    "\n",
    "fname_2 = './dmso_10-21-21_all_times_image_20x11.h5'\n",
    "dset_2 = '/dmso'"
   ]
  },
  {
   "cell_type": "code",
   "execution_count": 14,
   "id": "0c1d56d9-d266-44b6-853a-809514cb116f",
   "metadata": {},
   "outputs": [
    {
     "name": "stdout",
     "output_type": "stream",
     "text": [
      "<HDF5 dataset \"dmso\": shape (20, 11, 2304), type \"<f8\">\n"
     ]
    }
   ],
   "source": [
    "fid = h5py.File(fname_2, 'r')\n",
    "print(fid[dset_2])\n",
    "# fid.close()"
   ]
  },
  {
   "cell_type": "code",
   "execution_count": 24,
   "id": "6c078bb9-6650-460f-8871-001fae87c321",
   "metadata": {},
   "outputs": [
    {
     "data": {
      "text/plain": [
       "(20, 11, 2304)"
      ]
     },
     "execution_count": 24,
     "metadata": {},
     "output_type": "execute_result"
    }
   ],
   "source": [
    "fid[dset_2][...]"
   ]
  },
  {
   "cell_type": "code",
   "execution_count": 9,
   "id": "062cf48c-25bc-4c3c-b2c0-2e6ef1706e10",
   "metadata": {},
   "outputs": [
    {
     "name": "stdout",
     "output_type": "stream",
     "text": [
      "\n",
      "\n",
      "././dmso_10-21-21_all_times_image_20x11.h5 is a valid file.\n",
      "././dmso_10-21-21_all_times_image_20x11.h5 is a valid file.\n",
      "/dmso : VALID\n",
      "Type Hsi\n",
      "Processing Meta Data\n",
      "------------------------------\n",
      "[-1.65955456e-01  8.37512837e+02] from Spectro.Avec\n",
      "Using default meta_configs value for: ColorChannels\n",
      "1600 from ColorChannels\n",
      "700.998 from Spectro.CurrentWavelength\n",
      "699.951 from Spectro.CalibWavelength\n",
      "771.461 from Spectro.ProbeWavelength\n",
      "Using default meta_configs value for: ColorUnits\n",
      "nm from ColorUnits\n",
      "Using default meta_configs value for: ColorWnMode\n",
      "Use wavenumber: True\n",
      "Original calibration not found.\n",
      "Type Hsi\n",
      "Using default meta_configs value for: XUnits\n",
      "Start: 100.0, Stop: 100.0, Steps: 10\n",
      "Using default meta_configs value for: YUnits\n",
      "Something failed in meta_process: HSI-spatial calib: data must be 1D ndarray\n"
     ]
    },
    {
     "name": "stderr",
     "output_type": "stream",
     "text": [
      "Traceback (most recent call last):\n",
      "  File \"C:\\Users\\chc\\OneDrive - NIST\\Documents\\Python\\Repos\\CRIkit2\\crikit\\io\\meta_process.py\", line 209, in meta_process\n",
      "    output_cls_instance.y_rep.data = _np.squeeze(_np.linspace(start, stop, steps))\n",
      "TypeError: data must be 1D ndarray\n"
     ]
    },
    {
     "data": {
      "text/plain": [
       "True"
      ]
     },
     "execution_count": 9,
     "metadata": {},
     "output_type": "execute_result"
    }
   ],
   "source": [
    "hsi_2 = Hsi()\n",
    "import_hdf_nist_special(pth, fname_2, dset_2, hsi_2)"
   ]
  },
  {
   "cell_type": "code",
   "execution_count": 3,
   "id": "389341c3-629d-432f-8c5d-9c9cf71c682f",
   "metadata": {},
   "outputs": [
    {
     "data": {
      "text/plain": [
       "['/Glycerol/NRB_hsi',\n",
       " '/Glycerol/NRB_spectrum',\n",
       " '/Glycerol/hsi',\n",
       " '/Glycerol/spectrum']"
      ]
     },
     "execution_count": 3,
     "metadata": {},
     "output_type": "execute_result"
    }
   ],
   "source": [
    "lazy5.inspect.get_datasets(fname_1)"
   ]
  },
  {
   "cell_type": "code",
   "execution_count": 5,
   "id": "70ae9271-0991-4458-8b83-51feebf9e4d2",
   "metadata": {},
   "outputs": [
    {
     "name": "stdout",
     "output_type": "stream",
     "text": [
      "./glycerol1_test_attrs-10-15-21_spec.h5 is a valid file.\n",
      "/Glycerol/hsi : VALID\n",
      "All datasets are valid\n"
     ]
    },
    {
     "data": {
      "text/plain": [
       "True"
      ]
     },
     "execution_count": 5,
     "metadata": {},
     "output_type": "execute_result"
    }
   ],
   "source": [
    "lazy5.inspect.valid_dsets(fname_1, ['/Glycerol/hsi'], verbose=True)"
   ]
  },
  {
   "cell_type": "code",
   "execution_count": 23,
   "id": "ccf1a9a0-7703-4faa-a606-42433d4fd703",
   "metadata": {},
   "outputs": [
    {
     "data": {
      "text/plain": [
       "['/Glycerol/NRB_hsi',\n",
       " '/Glycerol/NRB_spectrum',\n",
       " '/Glycerol/hsi',\n",
       " '/Glycerol/spectrum']"
      ]
     },
     "execution_count": 23,
     "metadata": {},
     "output_type": "execute_result"
    }
   ],
   "source": [
    "lazy5.inspect.get_datasets(fname_1)"
   ]
  },
  {
   "cell_type": "code",
   "execution_count": 7,
   "id": "be09e3f5-70d0-451a-998a-35e3560ac84e",
   "metadata": {},
   "outputs": [
    {
     "data": {
      "text/plain": [
       "OrderedDict([('/', []),\n",
       "             ('/Glycerol', ['NRB_hsi', 'NRB_spectrum', 'hsi', 'spectrum'])])"
      ]
     },
     "execution_count": 7,
     "metadata": {},
     "output_type": "execute_result"
    }
   ],
   "source": [
    "lazy5.inspect.get_hierarchy(fname_1)"
   ]
  },
  {
   "cell_type": "code",
   "execution_count": 5,
   "id": "5dff3c37-d508-4a7b-92e8-98d33f10109e",
   "metadata": {},
   "outputs": [
    {
     "name": "stdout",
     "output_type": "stream",
     "text": [
      "\n",
      "\n",
      "././glycerol1_test_attrs-10-15-21_spec.h5 is a valid file.\n",
      "././glycerol1_test_attrs-10-15-21_spec.h5 is a valid file.\n",
      "/Glycerol/hsi : VALID\n",
      "Type Hsi\n",
      "Processing Meta Data\n",
      "------------------------------\n",
      "[-1.65955456e-01  8.37512837e+02] from Spectro.Avec\n",
      "Using default meta_configs value for: ColorChannels\n",
      "1600 from ColorChannels\n",
      "700.998 from Spectro.CurrentWavelength\n",
      "699.951 from Spectro.CalibWavelength\n",
      "771.461 from Spectro.ProbeWavelength\n",
      "Using default meta_configs value for: ColorUnits\n",
      "nm from ColorUnits\n",
      "Using default meta_configs value for: ColorWnMode\n",
      "Use wavenumber: True\n",
      "Original calibration not found.\n",
      "Type Hsi\n",
      "Using default meta_configs value for: XUnits\n",
      "Start: 100.0, Stop: 100.0, Steps: 10\n",
      "Using default meta_configs value for: YUnits\n",
      "Something failed in meta_process: HSI-spatial calib: data must be 1D ndarray\n"
     ]
    },
    {
     "name": "stderr",
     "output_type": "stream",
     "text": [
      "Traceback (most recent call last):\n",
      "  File \"C:\\Users\\chc\\OneDrive - NIST\\Documents\\Python\\Repos\\CRIkit2\\crikit\\io\\meta_process.py\", line 209, in meta_process\n",
      "    output_cls_instance.y_rep.data = _np.squeeze(_np.linspace(start, stop, steps))\n",
      "TypeError: data must be 1D ndarray\n"
     ]
    },
    {
     "data": {
      "text/plain": [
       "True"
      ]
     },
     "execution_count": 5,
     "metadata": {},
     "output_type": "execute_result"
    }
   ],
   "source": [
    "hsi_1 = Hsi()\n",
    "\n",
    "import_hdf_nist_special(pth, fname_1, dset_1, hsi_1)"
   ]
  },
  {
   "cell_type": "code",
   "execution_count": 6,
   "id": "6523e759-4351-46fe-8131-9936e8360612",
   "metadata": {},
   "outputs": [
    {
     "name": "stdout",
     "output_type": "stream",
     "text": [
      "\n",
      "\n",
      "././dmso_10-21-21_all_times_image_20x11.h5 is a valid file.\n",
      "././dmso_10-21-21_all_times_image_20x11.h5 is a valid file.\n",
      "/dmso : VALID\n",
      "Type Hsi\n",
      "Processing Meta Data\n",
      "------------------------------\n",
      "[-1.65955456e-01  8.37512837e+02] from Spectro.Avec\n",
      "Using default meta_configs value for: ColorChannels\n",
      "1600 from ColorChannels\n",
      "700.998 from Spectro.CurrentWavelength\n",
      "699.951 from Spectro.CalibWavelength\n",
      "771.461 from Spectro.ProbeWavelength\n",
      "Using default meta_configs value for: ColorUnits\n",
      "nm from ColorUnits\n",
      "Using default meta_configs value for: ColorWnMode\n",
      "Use wavenumber: True\n",
      "Original calibration not found.\n",
      "Type Hsi\n",
      "Using default meta_configs value for: XUnits\n",
      "Start: 100.0, Stop: 100.0, Steps: 10\n",
      "Using default meta_configs value for: YUnits\n",
      "Something failed in meta_process: HSI-spatial calib: data must be 1D ndarray\n"
     ]
    },
    {
     "name": "stderr",
     "output_type": "stream",
     "text": [
      "Traceback (most recent call last):\n",
      "  File \"C:\\Users\\chc\\OneDrive - NIST\\Documents\\Python\\Repos\\CRIkit2\\crikit\\io\\meta_process.py\", line 209, in meta_process\n",
      "    output_cls_instance.y_rep.data = _np.squeeze(_np.linspace(start, stop, steps))\n",
      "TypeError: data must be 1D ndarray\n"
     ]
    },
    {
     "data": {
      "text/plain": [
       "True"
      ]
     },
     "execution_count": 6,
     "metadata": {},
     "output_type": "execute_result"
    }
   ],
   "source": [
    "hsi_2 = Hsi()\n",
    "\n",
    "import_hdf_nist_special(pth, fname_2, dset_2, hsi_2)"
   ]
  },
  {
   "cell_type": "code",
   "execution_count": 11,
   "id": "1d0a6ce7-8071-41eb-b0b4-39b0fbe4008e",
   "metadata": {},
   "outputs": [
    {
     "data": {
      "text/plain": [
       "['', 'dmso']"
      ]
     },
     "execution_count": 11,
     "metadata": {},
     "output_type": "execute_result"
    }
   ],
   "source": [
    "'/dmso'.rsplit('/',maxsplit=1)"
   ]
  }
 ],
 "metadata": {
  "kernelspec": {
   "display_name": "Python 3",
   "language": "python",
   "name": "python3"
  },
  "language_info": {
   "codemirror_mode": {
    "name": "ipython",
    "version": 3
   },
   "file_extension": ".py",
   "mimetype": "text/x-python",
   "name": "python",
   "nbconvert_exporter": "python",
   "pygments_lexer": "ipython3",
   "version": "3.9.5"
  }
 },
 "nbformat": 4,
 "nbformat_minor": 5
}
